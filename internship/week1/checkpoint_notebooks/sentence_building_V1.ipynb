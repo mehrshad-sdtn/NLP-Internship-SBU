{
 "cells": [
  {
   "cell_type": "code",
   "execution_count": 30,
   "metadata": {
    "id": "uPK2QfZkXcUv"
   },
   "outputs": [],
   "source": [
    "import numpy as np\n",
    "import tensorflow\n",
    "import random\n",
    "import pandas as pd\n",
    "import numpy as np\n",
    "import tensorflow as tf\n",
    "from tensorflow import keras\n",
    "import math"
   ]
  },
  {
   "cell_type": "code",
   "execution_count": 31,
   "metadata": {
    "colab": {
     "base_uri": "https://localhost:8080/"
    },
    "id": "om4bi94uXz6W",
    "outputId": "2bdc5b8a-0e11-4ded-9eef-3a5595551a73"
   },
   "outputs": [
    {
     "name": "stdout",
     "output_type": "stream",
     "text": [
      "Drive already mounted at /content/drive; to attempt to forcibly remount, call drive.mount(\"/content/drive\", force_remount=True).\n"
     ]
    }
   ],
   "source": [
    "from google.colab import drive\n",
    "drive.mount('/content/drive')"
   ]
  },
  {
   "cell_type": "code",
   "execution_count": 32,
   "metadata": {
    "colab": {
     "base_uri": "https://localhost:8080/"
    },
    "id": "eSoDE3KJX9bu",
    "outputId": "21b1066e-5ed3-4593-9626-dd143877c90a"
   },
   "outputs": [
    {
     "name": "stdout",
     "output_type": "stream",
     "text": [
      "/content/drive/MyDrive\n"
     ]
    }
   ],
   "source": [
    "%cd /content/drive/MyDrive/"
   ]
  },
  {
   "cell_type": "code",
   "execution_count": 33,
   "metadata": {
    "id": "jrRw5TNCYQDV"
   },
   "outputs": [],
   "source": [
    "MODEL_PATH = '/models/nlp_models'"
   ]
  },
  {
   "cell_type": "code",
   "execution_count": 34,
   "metadata": {
    "colab": {
     "base_uri": "https://localhost:8080/"
    },
    "id": "FrBcoMhTY5jO",
    "outputId": "72528333-038e-47f1-f8ed-e2458b5ed350"
   },
   "outputs": [
    {
     "name": "stdout",
     "output_type": "stream",
     "text": [
      "Looking in indexes: https://pypi.org/simple, https://us-python.pkg.dev/colab-wheels/public/simple/\n",
      "Requirement already satisfied: hazm in /usr/local/lib/python3.7/dist-packages (0.7.0)\n",
      "Requirement already satisfied: nltk==3.3 in /usr/local/lib/python3.7/dist-packages (from hazm) (3.3)\n",
      "Requirement already satisfied: libwapiti>=0.2.1 in /usr/local/lib/python3.7/dist-packages (from hazm) (0.2.1)\n",
      "Requirement already satisfied: six in /usr/local/lib/python3.7/dist-packages (from nltk==3.3->hazm) (1.15.0)\n"
     ]
    }
   ],
   "source": [
    "!pip install hazm"
   ]
  },
  {
   "cell_type": "markdown",
   "metadata": {
    "id": "0P7WzGkNeJz0"
   },
   "source": [
    "###**Text preprocessing functions**"
   ]
  },
  {
   "cell_type": "code",
   "execution_count": 35,
   "metadata": {
    "id": "DgLYXfMbY7r9"
   },
   "outputs": [],
   "source": [
    "from __future__ import unicode_literals\n",
    "from hazm import *\n",
    "import re\n",
    "import random\n",
    "from string import punctuation\n",
    "\n",
    "def text_preprocess(text):\n",
    "  normalizer = Normalizer()\n",
    "  text = normalizer.normalize(text)\n",
    "  text = re.sub(f'[{punctuation}؟،٪×÷»«]+', '', text)\n",
    "  return text\n",
    "\n",
    "def text_scramble(text):\n",
    "  words = text.split()\n",
    "  random.shuffle(words)\n",
    "  return ' '.join(words)\n"
   ]
  },
  {
   "cell_type": "markdown",
   "metadata": {
    "id": "fOZLJB5ieOSs"
   },
   "source": [
    "###**Loading and processing Corpus 1**\n",
    "(VOA FARSI 2003-08)"
   ]
  },
  {
   "cell_type": "code",
   "execution_count": 36,
   "metadata": {
    "id": "JBWO5KxPeITs"
   },
   "outputs": [],
   "source": [
    "path = 'data/voa_fa_2003-2008_orig.txt'\n",
    "with open(path, 'r', encoding='utf-8') as f:\n",
    "  text = ' '.join([line.strip() for line in f.readlines() if not line.startswith('#')])\n",
    "  text = text.split('.')\n",
    "  sents = random.sample(text, 20000)"
   ]
  },
  {
   "cell_type": "code",
   "execution_count": 37,
   "metadata": {
    "id": "jXPJ0lLqeueE"
   },
   "outputs": [],
   "source": [
    "MAX_LEN = 160\n",
    "sents_cleaned = [text_preprocess(s) for s in sents]\n",
    "sents_ready = filter(lambda s: len(s) < MAX_LEN, sents_cleaned)\n",
    "sents_data = list(sents_ready)\n",
    "random.shuffle(sents_data)\n",
    "sents_data = sents_data[:15000]  # make dataset size 15000 for ease of computation"
   ]
  },
  {
   "cell_type": "code",
   "execution_count": 38,
   "metadata": {
    "id": "aZu1i3fZ4jaF"
   },
   "outputs": [],
   "source": [
    "tokenizer = keras.preprocessing.text.Tokenizer(oov_token='<UNK>')\n",
    "tokenizer.fit_on_texts(sents_data)\n",
    "tokenizer.word_index['<PAD>'] = 0\n",
    "last_idx = len(tokenizer.word_index) + 1\n",
    "tokenizer.word_index['<SOS>'] = last_idx"
   ]
  },
  {
   "cell_type": "code",
   "execution_count": 39,
   "metadata": {
    "colab": {
     "base_uri": "https://localhost:8080/"
    },
    "id": "8S8uD4Lp_GGF",
    "outputId": "6e51dbd7-5aef-471c-ec57-1dfa934b110a"
   },
   "outputs": [
    {
     "data": {
      "text/plain": [
       "36"
      ]
     },
     "execution_count": 39,
     "metadata": {},
     "output_type": "execute_result"
    }
   ],
   "source": [
    "temp = [len(each.split()) for each in sents_data]\n",
    "sorted(temp)[-1]"
   ]
  },
  {
   "cell_type": "markdown",
   "metadata": {
    "id": "4hjb7_snihFC"
   },
   "source": [
    "### **building the dataset**"
   ]
  },
  {
   "cell_type": "code",
   "execution_count": 40,
   "metadata": {
    "id": "vw9NSMqyiDDL"
   },
   "outputs": [],
   "source": [
    "def create_shuffles(sent_list, m):\n",
    "  \"\"\"\n",
    "  this function creates m random shuffles of the sentence\n",
    "  \"\"\"\n",
    "  all_combs = []\n",
    "  for sent in sent_list:\n",
    "    comb_set = set([])\n",
    "    for i in range(0, m + 1):\n",
    "      comb_set.add(text_scramble(sent))\n",
    "    all_combs.append((sent, comb_set))\n",
    "  return all_combs"
   ]
  },
  {
   "cell_type": "code",
   "execution_count": 41,
   "metadata": {
    "id": "tIM26pJyjBDr"
   },
   "outputs": [],
   "source": [
    "shuffle_pairs = create_shuffles(sents_data, 5)"
   ]
  },
  {
   "cell_type": "code",
   "execution_count": 42,
   "metadata": {
    "colab": {
     "base_uri": "https://localhost:8080/"
    },
    "id": "kh5Bf4KHjh1e",
    "outputId": "79d1aa65-7999-418f-f85b-b50aa38122d1"
   },
   "outputs": [
    {
     "data": {
      "text/plain": [
       "(' ایالات متحده روسیه را به قطع همکاریهای آن کشور در پروژه توسعه اتمی ایران تشویق کرد',\n",
       " {'ایالات اتمی در متحده پروژه همکاریهای به کشور قطع کرد تشویق را توسعه ایران روسیه آن',\n",
       "  'ایالات قطع روسیه در را آن متحده به همکاریهای ایران کرد اتمی کشور توسعه تشویق پروژه',\n",
       "  'را کشور آن اتمی در پروژه توسعه ایران ایالات تشویق متحده قطع روسیه همکاریهای به کرد',\n",
       "  'قطع پروژه روسیه اتمی تشویق متحده کشور آن ایران کرد به در ایالات توسعه را همکاریهای',\n",
       "  'همکاریهای ایالات در آن به توسعه ایران کشور کرد را پروژه متحده قطع تشویق اتمی روسیه',\n",
       "  'کشور ایالات اتمی آن پروژه را کرد همکاریهای توسعه روسیه در متحده تشویق ایران به قطع'})"
      ]
     },
     "execution_count": 42,
     "metadata": {},
     "output_type": "execute_result"
    }
   ],
   "source": [
    "shuffle_pairs[0][0], shuffle_pairs[0][1]"
   ]
  },
  {
   "cell_type": "code",
   "execution_count": 43,
   "metadata": {
    "id": "wnoA5xmDjrBU"
   },
   "outputs": [],
   "source": [
    "def create_dataframe(pairs):\n",
    "  \"\"\"\n",
    "  creates a dataframe with two columns of original sentence and it's shuffles\n",
    "  \"\"\"\n",
    "  original = []\n",
    "  shuffled = []\n",
    "  for pair in pairs:\n",
    "    for p in pair[1]:\n",
    "      original.append(pair[0])\n",
    "      shuffled.append(p)\n",
    "\n",
    "  df_dict = { 'Shuffled': shuffled, 'Original': original}\n",
    "  df = pd.DataFrame(df_dict)\n",
    "  return df\n"
   ]
  },
  {
   "cell_type": "code",
   "execution_count": 44,
   "metadata": {
    "colab": {
     "base_uri": "https://localhost:8080/",
     "height": 424
    },
    "id": "jTZJ1mSbkXuy",
    "outputId": "472bfa96-777e-45b5-e05a-95905a67500d"
   },
   "outputs": [
    {
     "data": {
      "text/html": [
       "\n",
       "  <div id=\"df-ea840963-836e-4dac-967c-5d7f0b9f3ad2\">\n",
       "    <div class=\"colab-df-container\">\n",
       "      <div>\n",
       "<style scoped>\n",
       "    .dataframe tbody tr th:only-of-type {\n",
       "        vertical-align: middle;\n",
       "    }\n",
       "\n",
       "    .dataframe tbody tr th {\n",
       "        vertical-align: top;\n",
       "    }\n",
       "\n",
       "    .dataframe thead th {\n",
       "        text-align: right;\n",
       "    }\n",
       "</style>\n",
       "<table border=\"1\" class=\"dataframe\">\n",
       "  <thead>\n",
       "    <tr style=\"text-align: right;\">\n",
       "      <th></th>\n",
       "      <th>Shuffled</th>\n",
       "      <th>Original</th>\n",
       "    </tr>\n",
       "  </thead>\n",
       "  <tbody>\n",
       "    <tr>\n",
       "      <th>0</th>\n",
       "      <td>را کشور آن اتمی در پروژه توسعه ایران ایالات تش...</td>\n",
       "      <td>ایالات متحده روسیه را به قطع همکاریهای آن کشو...</td>\n",
       "    </tr>\n",
       "    <tr>\n",
       "      <th>1</th>\n",
       "      <td>ایالات اتمی در متحده پروژه همکاریهای به کشور ق...</td>\n",
       "      <td>ایالات متحده روسیه را به قطع همکاریهای آن کشو...</td>\n",
       "    </tr>\n",
       "    <tr>\n",
       "      <th>2</th>\n",
       "      <td>قطع پروژه روسیه اتمی تشویق متحده کشور آن ایران...</td>\n",
       "      <td>ایالات متحده روسیه را به قطع همکاریهای آن کشو...</td>\n",
       "    </tr>\n",
       "    <tr>\n",
       "      <th>3</th>\n",
       "      <td>همکاریهای ایالات در آن به توسعه ایران کشور کرد...</td>\n",
       "      <td>ایالات متحده روسیه را به قطع همکاریهای آن کشو...</td>\n",
       "    </tr>\n",
       "    <tr>\n",
       "      <th>4</th>\n",
       "      <td>کشور ایالات اتمی آن پروژه را کرد همکاریهای توس...</td>\n",
       "      <td>ایالات متحده روسیه را به قطع همکاریهای آن کشو...</td>\n",
       "    </tr>\n",
       "    <tr>\n",
       "      <th>...</th>\n",
       "      <td>...</td>\n",
       "      <td>...</td>\n",
       "    </tr>\n",
       "    <tr>\n",
       "      <th>88887</th>\n",
       "      <td>اتیوپی وزیراطلاعات درمصاحبه‌ای شوند اظهارداشت ...</td>\n",
       "      <td>وزیراطلاعات اتیوپی روزچهارشنبه درمصاحبه‌ای با...</td>\n",
       "    </tr>\n",
       "    <tr>\n",
       "      <th>88888</th>\n",
       "      <td>وارد درمصاحبه‌ای روزچهارشنبه با ندارند اتیوپی ...</td>\n",
       "      <td>وزیراطلاعات اتیوپی روزچهارشنبه درمصاحبه‌ای با...</td>\n",
       "    </tr>\n",
       "    <tr>\n",
       "      <th>88889</th>\n",
       "      <td>وزیراطلاعات درمصاحبه‌ای موگادیشو صدای ندارند ا...</td>\n",
       "      <td>وزیراطلاعات اتیوپی روزچهارشنبه درمصاحبه‌ای با...</td>\n",
       "    </tr>\n",
       "    <tr>\n",
       "      <th>88890</th>\n",
       "      <td>روزچهارشنبه وارد با صدای ندارند شوند اظهارداشت...</td>\n",
       "      <td>وزیراطلاعات اتیوپی روزچهارشنبه درمصاحبه‌ای با...</td>\n",
       "    </tr>\n",
       "    <tr>\n",
       "      <th>88891</th>\n",
       "      <td>اتیوپی اتیوپی با روزچهارشنبه نیروهای اظهارداشت...</td>\n",
       "      <td>وزیراطلاعات اتیوپی روزچهارشنبه درمصاحبه‌ای با...</td>\n",
       "    </tr>\n",
       "  </tbody>\n",
       "</table>\n",
       "<p>88892 rows × 2 columns</p>\n",
       "</div>\n",
       "      <button class=\"colab-df-convert\" onclick=\"convertToInteractive('df-ea840963-836e-4dac-967c-5d7f0b9f3ad2')\"\n",
       "              title=\"Convert this dataframe to an interactive table.\"\n",
       "              style=\"display:none;\">\n",
       "        \n",
       "  <svg xmlns=\"http://www.w3.org/2000/svg\" height=\"24px\"viewBox=\"0 0 24 24\"\n",
       "       width=\"24px\">\n",
       "    <path d=\"M0 0h24v24H0V0z\" fill=\"none\"/>\n",
       "    <path d=\"M18.56 5.44l.94 2.06.94-2.06 2.06-.94-2.06-.94-.94-2.06-.94 2.06-2.06.94zm-11 1L8.5 8.5l.94-2.06 2.06-.94-2.06-.94L8.5 2.5l-.94 2.06-2.06.94zm10 10l.94 2.06.94-2.06 2.06-.94-2.06-.94-.94-2.06-.94 2.06-2.06.94z\"/><path d=\"M17.41 7.96l-1.37-1.37c-.4-.4-.92-.59-1.43-.59-.52 0-1.04.2-1.43.59L10.3 9.45l-7.72 7.72c-.78.78-.78 2.05 0 2.83L4 21.41c.39.39.9.59 1.41.59.51 0 1.02-.2 1.41-.59l7.78-7.78 2.81-2.81c.8-.78.8-2.07 0-2.86zM5.41 20L4 18.59l7.72-7.72 1.47 1.35L5.41 20z\"/>\n",
       "  </svg>\n",
       "      </button>\n",
       "      \n",
       "  <style>\n",
       "    .colab-df-container {\n",
       "      display:flex;\n",
       "      flex-wrap:wrap;\n",
       "      gap: 12px;\n",
       "    }\n",
       "\n",
       "    .colab-df-convert {\n",
       "      background-color: #E8F0FE;\n",
       "      border: none;\n",
       "      border-radius: 50%;\n",
       "      cursor: pointer;\n",
       "      display: none;\n",
       "      fill: #1967D2;\n",
       "      height: 32px;\n",
       "      padding: 0 0 0 0;\n",
       "      width: 32px;\n",
       "    }\n",
       "\n",
       "    .colab-df-convert:hover {\n",
       "      background-color: #E2EBFA;\n",
       "      box-shadow: 0px 1px 2px rgba(60, 64, 67, 0.3), 0px 1px 3px 1px rgba(60, 64, 67, 0.15);\n",
       "      fill: #174EA6;\n",
       "    }\n",
       "\n",
       "    [theme=dark] .colab-df-convert {\n",
       "      background-color: #3B4455;\n",
       "      fill: #D2E3FC;\n",
       "    }\n",
       "\n",
       "    [theme=dark] .colab-df-convert:hover {\n",
       "      background-color: #434B5C;\n",
       "      box-shadow: 0px 1px 3px 1px rgba(0, 0, 0, 0.15);\n",
       "      filter: drop-shadow(0px 1px 2px rgba(0, 0, 0, 0.3));\n",
       "      fill: #FFFFFF;\n",
       "    }\n",
       "  </style>\n",
       "\n",
       "      <script>\n",
       "        const buttonEl =\n",
       "          document.querySelector('#df-ea840963-836e-4dac-967c-5d7f0b9f3ad2 button.colab-df-convert');\n",
       "        buttonEl.style.display =\n",
       "          google.colab.kernel.accessAllowed ? 'block' : 'none';\n",
       "\n",
       "        async function convertToInteractive(key) {\n",
       "          const element = document.querySelector('#df-ea840963-836e-4dac-967c-5d7f0b9f3ad2');\n",
       "          const dataTable =\n",
       "            await google.colab.kernel.invokeFunction('convertToInteractive',\n",
       "                                                     [key], {});\n",
       "          if (!dataTable) return;\n",
       "\n",
       "          const docLinkHtml = 'Like what you see? Visit the ' +\n",
       "            '<a target=\"_blank\" href=https://colab.research.google.com/notebooks/data_table.ipynb>data table notebook</a>'\n",
       "            + ' to learn more about interactive tables.';\n",
       "          element.innerHTML = '';\n",
       "          dataTable['output_type'] = 'display_data';\n",
       "          await google.colab.output.renderOutput(dataTable, element);\n",
       "          const docLink = document.createElement('div');\n",
       "          docLink.innerHTML = docLinkHtml;\n",
       "          element.appendChild(docLink);\n",
       "        }\n",
       "      </script>\n",
       "    </div>\n",
       "  </div>\n",
       "  "
      ],
      "text/plain": [
       "                                                Shuffled  \\\n",
       "0      را کشور آن اتمی در پروژه توسعه ایران ایالات تش...   \n",
       "1      ایالات اتمی در متحده پروژه همکاریهای به کشور ق...   \n",
       "2      قطع پروژه روسیه اتمی تشویق متحده کشور آن ایران...   \n",
       "3      همکاریهای ایالات در آن به توسعه ایران کشور کرد...   \n",
       "4      کشور ایالات اتمی آن پروژه را کرد همکاریهای توس...   \n",
       "...                                                  ...   \n",
       "88887  اتیوپی وزیراطلاعات درمصاحبه‌ای شوند اظهارداشت ...   \n",
       "88888  وارد درمصاحبه‌ای روزچهارشنبه با ندارند اتیوپی ...   \n",
       "88889  وزیراطلاعات درمصاحبه‌ای موگادیشو صدای ندارند ا...   \n",
       "88890  روزچهارشنبه وارد با صدای ندارند شوند اظهارداشت...   \n",
       "88891  اتیوپی اتیوپی با روزچهارشنبه نیروهای اظهارداشت...   \n",
       "\n",
       "                                                Original  \n",
       "0       ایالات متحده روسیه را به قطع همکاریهای آن کشو...  \n",
       "1       ایالات متحده روسیه را به قطع همکاریهای آن کشو...  \n",
       "2       ایالات متحده روسیه را به قطع همکاریهای آن کشو...  \n",
       "3       ایالات متحده روسیه را به قطع همکاریهای آن کشو...  \n",
       "4       ایالات متحده روسیه را به قطع همکاریهای آن کشو...  \n",
       "...                                                  ...  \n",
       "88887   وزیراطلاعات اتیوپی روزچهارشنبه درمصاحبه‌ای با...  \n",
       "88888   وزیراطلاعات اتیوپی روزچهارشنبه درمصاحبه‌ای با...  \n",
       "88889   وزیراطلاعات اتیوپی روزچهارشنبه درمصاحبه‌ای با...  \n",
       "88890   وزیراطلاعات اتیوپی روزچهارشنبه درمصاحبه‌ای با...  \n",
       "88891   وزیراطلاعات اتیوپی روزچهارشنبه درمصاحبه‌ای با...  \n",
       "\n",
       "[88892 rows x 2 columns]"
      ]
     },
     "execution_count": 44,
     "metadata": {},
     "output_type": "execute_result"
    }
   ],
   "source": [
    "df = create_dataframe(shuffle_pairs)\n",
    "df"
   ]
  },
  {
   "cell_type": "code",
   "execution_count": 45,
   "metadata": {
    "id": "HRkeMJafwY7_"
   },
   "outputs": [],
   "source": [
    "def create_dataset(df, train_percent=80):\n",
    "  data_size = df.shape[0]\n",
    "  count = math.floor(data_size * (train_percent/100))\n",
    "\n",
    "  dataset = df['Shuffled'].values\n",
    "  labels  = df['Original'].values\n",
    "\n",
    "  train_data   = dataset[:count]\n",
    "  train_labels = labels[:count]\n",
    "  test_data   = dataset[count:]\n",
    "  test_labels = labels[count:]\n",
    "\n",
    "  return ((train_data, train_labels), (test_data, test_labels))\n",
    "\n",
    "\n"
   ]
  },
  {
   "cell_type": "code",
   "execution_count": 54,
   "metadata": {
    "id": "Dh3otPKB0GrV"
   },
   "outputs": [],
   "source": [
    "train_set, test_set = create_dataset(df)\n",
    "X_train_text, Y_train_text = train_set\n",
    "X_test_text, Y_test_text = test_set"
   ]
  },
  {
   "cell_type": "markdown",
   "metadata": {
    "id": "9vq7ch6G1jX1"
   },
   "source": [
    "###**making dataset ready for training**"
   ]
  },
  {
   "cell_type": "code",
   "execution_count": 55,
   "metadata": {
    "id": "y9Y7Kqc4w1XV"
   },
   "outputs": [],
   "source": [
    "sos_index = last_idx\n",
    "def shift_output_sequence(seq_list):\n",
    "  for seq in seq_list:\n",
    "    seq.insert(0, sos_index)\n",
    "  return seq_list\n"
   ]
  },
  {
   "cell_type": "code",
   "execution_count": 56,
   "metadata": {
    "id": "ZPoeo0sYwWPO"
   },
   "outputs": [],
   "source": [
    "X_train_seq = tokenizer.texts_to_sequences(X_train_text)\n",
    "Y_train_seq = tokenizer.texts_to_sequences(Y_train_text)\n",
    "X_test_seq  = tokenizer.texts_to_sequences(X_test_text)\n",
    "Y_test_seq  = tokenizer.texts_to_sequences(Y_test_text)"
   ]
  },
  {
   "cell_type": "code",
   "execution_count": 57,
   "metadata": {
    "id": "UkcJ_sWk1rKF"
   },
   "outputs": [],
   "source": [
    "MAX_SEQ_LEN = 40  \n",
    "X_train = keras.preprocessing.sequence.pad_sequences(X_train_seq, maxlen=MAX_SEQ_LEN)\n",
    "Y_train = keras.preprocessing.sequence.pad_sequences(Y_train_seq, maxlen=MAX_SEQ_LEN)\n",
    "\n",
    "X_test  = keras.preprocessing.sequence.pad_sequences(X_test_seq, maxlen=MAX_SEQ_LEN)\n",
    "Y_test  = keras.preprocessing.sequence.pad_sequences(Y_test_seq, maxlen=MAX_SEQ_LEN)\n",
    "\n",
    "X_train_decoder = keras.preprocessing.sequence.pad_sequences(shift_output_sequence(Y_train_seq), maxlen=MAX_SEQ_LEN)\n",
    "X_test_decoder  = keras.preprocessing.sequence.pad_sequences(shift_output_sequence(Y_test_seq),  maxlen=MAX_SEQ_LEN)"
   ]
  },
  {
   "cell_type": "code",
   "execution_count": 58,
   "metadata": {
    "colab": {
     "base_uri": "https://localhost:8080/"
    },
    "id": "8MsYgFws1eJE",
    "outputId": "b64ce39f-1b37-4425-ed19-67d0458c6360"
   },
   "outputs": [
    {
     "data": {
      "text/plain": [
       "(array([[    0,     0,     0,     0,     0,     0,     0,     0,     0,\n",
       "             0,     0,     0,     0,     0,     0,     0,     0,     0,\n",
       "             0,     0,     0,     0,     0, 20482,   205,   190,    88,\n",
       "             6,     3,   771,  3119,    23,    30,     2,  2601,  1009,\n",
       "            57,    20,  1408,    14],\n",
       "        [    0,     0,     0,     0,     0,     0,     0,     0,     0,\n",
       "             0,     0,     0,     0,     0,     0,     0,     0,     0,\n",
       "             0,     0,     0,     0,     0, 20482,   205,   190,    88,\n",
       "             6,     3,   771,  3119,    23,    30,     2,  2601,  1009,\n",
       "            57,    20,  1408,    14]], dtype=int32),\n",
       " array([[    0,     0,     0,     0,     0,     0,     0,     0, 20482,\n",
       "             2,   700,    32,   919,   221,   285,     7,  2486,  5685,\n",
       "           241,  7604, 18358,   470, 18359,    43, 18360,     2,  4429,\n",
       "             6,     2,  1101,  9242,  5685,   241,     9,    41,    45,\n",
       "            50,  3282,  1455,    18],\n",
       "        [    0,     0,     0,     0,     0,     0,     0,     0, 20482,\n",
       "             2,   700,    32,   919,   221,   285,     7,  2486,  5685,\n",
       "           241,  7604, 18358,   470, 18359,    43, 18360,     2,  4429,\n",
       "             6,     2,  1101,  9242,  5685,   241,     9,    41,    45,\n",
       "            50,  3282,  1455,    18]], dtype=int32))"
      ]
     },
     "execution_count": 58,
     "metadata": {},
     "output_type": "execute_result"
    }
   ],
   "source": [
    "X_train_decoder[:2], X_test_decoder[:2]"
   ]
  },
  {
   "cell_type": "code",
   "execution_count": 59,
   "metadata": {
    "colab": {
     "base_uri": "https://localhost:8080/"
    },
    "id": "jR3JqKVK96iy",
    "outputId": "181b60ae-1669-4bfa-eab8-f56ef98da813"
   },
   "outputs": [
    {
     "data": {
      "text/plain": [
       "(array([   0,    0,    0,    0,    0,    0,    0,    0,    0,    0,    0,\n",
       "           0,    0,    0,    0,    0,    0,    0,    0,    0,    0,    0,\n",
       "           0,    0,    6,   30,   23,   57,    2, 2601, 1009,   20,  205,\n",
       "        1408,  190,  771,   88, 3119,    3,   14], dtype=int32),\n",
       " array([   0,    0,    0,    0,    0,    0,    0,    0,    0,    0,    0,\n",
       "           0,    0,    0,    0,    0,    0,    0,    0,    0,    0,    0,\n",
       "           0,    0,  205,  190,   88,    6,    3,  771, 3119,   23,   30,\n",
       "           2, 2601, 1009,   57,   20, 1408,   14], dtype=int32))"
      ]
     },
     "execution_count": 59,
     "metadata": {},
     "output_type": "execute_result"
    }
   ],
   "source": [
    "X_train[0], Y_train[0]"
   ]
  },
  {
   "cell_type": "code",
   "execution_count": 60,
   "metadata": {
    "colab": {
     "base_uri": "https://localhost:8080/"
    },
    "id": "5trFrkKtX8JD",
    "outputId": "6f58671d-46dc-4e09-aa48-c47aa2f0c8ef"
   },
   "outputs": [
    {
     "data": {
      "text/plain": [
       "20482"
      ]
     },
     "execution_count": 60,
     "metadata": {},
     "output_type": "execute_result"
    }
   ],
   "source": [
    "VOCAB_SIZE = len(tokenizer.word_index)\n",
    "VOCAB_SIZE"
   ]
  },
  {
   "cell_type": "markdown",
   "metadata": {
    "id": "F3F9foXMQ7BK"
   },
   "source": [
    "###**Encoder-Decoder network**"
   ]
  },
  {
   "cell_type": "code",
   "execution_count": 74,
   "metadata": {
    "colab": {
     "base_uri": "https://localhost:8080/"
    },
    "id": "jHYgCVUBWhXl",
    "outputId": "a9fe9323-0499-421e-c269-1ee85dbcad1e"
   },
   "outputs": [
    {
     "name": "stdout",
     "output_type": "stream",
     "text": [
      "Model: \"model_5\"\n",
      "__________________________________________________________________________________________________\n",
      " Layer (type)                   Output Shape         Param #     Connected to                     \n",
      "==================================================================================================\n",
      " input_11 (InputLayer)          [(None, None)]       0           []                               \n",
      "                                                                                                  \n",
      " input_12 (InputLayer)          [(None, None)]       0           []                               \n",
      "                                                                                                  \n",
      " embedding_10 (Embedding)       (None, None, 32)     655456      ['input_11[0][0]']               \n",
      "                                                                                                  \n",
      " embedding_11 (Embedding)       (None, None, 32)     655488      ['input_12[0][0]']               \n",
      "                                                                                                  \n",
      " lstm_10 (LSTM)                 [(None, 128),        82432       ['embedding_10[0][0]']           \n",
      "                                 (None, 128),                                                     \n",
      "                                 (None, 128)]                                                     \n",
      "                                                                                                  \n",
      " lstm_11 (LSTM)                 (None, None, 128)    82432       ['embedding_11[0][0]',           \n",
      "                                                                  'lstm_10[0][1]',                \n",
      "                                                                  'lstm_10[0][2]']                \n",
      "                                                                                                  \n",
      " dense_5 (Dense)                (None, None, 20483)  2642307     ['lstm_11[0][0]']                \n",
      "                                                                                                  \n",
      "==================================================================================================\n",
      "Total params: 4,118,115\n",
      "Trainable params: 4,118,115\n",
      "Non-trainable params: 0\n",
      "__________________________________________________________________________________________________\n"
     ]
    }
   ],
   "source": [
    "encoder_embedding_size = 32\n",
    "decoder_embedding_size = 32\n",
    "lstm_units = 128\n",
    "\n",
    "np.random.seed(42)\n",
    "tf.random.set_seed(42)\n",
    "\n",
    "encoder_input = keras.layers.Input(shape=[None], dtype=tf.int32)\n",
    "\n",
    "encoder_embedding = keras.layers.Embedding(input_dim=VOCAB_SIZE + 1,output_dim=encoder_embedding_size, input_length=MAX_SEQ_LEN, mask_zero=True)(encoder_input)\n",
    "\n",
    "_, encoder_state_h, encoder_state_c = keras.layers.LSTM(lstm_units, return_state=True)(encoder_embedding)\n",
    "\n",
    "encoder_state = [encoder_state_h, encoder_state_c]\n",
    "\n",
    "decoder_input = keras.layers.Input(shape=[None], dtype=tf.int32)\n",
    "\n",
    "decoder_embedding = keras.layers.Embedding(input_dim=VOCAB_SIZE + 2, output_dim=decoder_embedding_size, mask_zero=True)(decoder_input)\n",
    "\n",
    "decoder_lstm_output = keras.layers.LSTM(lstm_units, return_sequences=True)(decoder_embedding, initial_state=encoder_state)\n",
    "\n",
    "decoder_output = keras.layers.Dense(VOCAB_SIZE + 1, activation=\"softmax\")(decoder_lstm_output)\n",
    "\n",
    "model = keras.models.Model(inputs=[encoder_input, decoder_input], outputs=[decoder_output])\n",
    "\n",
    "optimizer = keras.optimizers.Nadam()\n",
    "model.compile(loss=\"sparse_categorical_crossentropy\", optimizer=optimizer, metrics=[\"accuracy\"])\n",
    "model.summary()\n"
   ]
  },
  {
   "cell_type": "code",
   "execution_count": 75,
   "metadata": {
    "colab": {
     "base_uri": "https://localhost:8080/"
    },
    "id": "UbRGiGpaW_-R",
    "outputId": "8d3dd6cd-650d-4e1b-b5de-ecb15f203bc4"
   },
   "outputs": [
    {
     "name": "stdout",
     "output_type": "stream",
     "text": [
      "Epoch 1/30\n",
      "126/126 [==============================] - 80s 578ms/step - loss: 3.8690 - accuracy: 0.0767 - val_loss: 3.7260 - val_accuracy: 0.0833\n",
      "Epoch 2/30\n",
      "126/126 [==============================] - 69s 548ms/step - loss: 3.4215 - accuracy: 0.0842 - val_loss: 3.3601 - val_accuracy: 0.0733\n",
      "Epoch 3/30\n",
      "126/126 [==============================] - 70s 553ms/step - loss: 3.1799 - accuracy: 0.0898 - val_loss: 3.2058 - val_accuracy: 0.0943\n",
      "Epoch 4/30\n",
      "126/126 [==============================] - 69s 547ms/step - loss: 2.9945 - accuracy: 0.1040 - val_loss: 2.9774 - val_accuracy: 0.1040\n",
      "Epoch 5/30\n",
      "126/126 [==============================] - 69s 546ms/step - loss: 2.6838 - accuracy: 0.1765 - val_loss: 2.6139 - val_accuracy: 0.1938\n",
      "Epoch 6/30\n",
      "126/126 [==============================] - 68s 544ms/step - loss: 2.2660 - accuracy: 0.3509 - val_loss: 2.1630 - val_accuracy: 0.4339\n",
      "Epoch 7/30\n",
      "126/126 [==============================] - 68s 539ms/step - loss: 1.8144 - accuracy: 0.5442 - val_loss: 1.7421 - val_accuracy: 0.6145\n",
      "Epoch 8/30\n",
      "126/126 [==============================] - 67s 529ms/step - loss: 1.4543 - accuracy: 0.6643 - val_loss: 1.4689 - val_accuracy: 0.6962\n",
      "Epoch 9/30\n",
      "126/126 [==============================] - 68s 542ms/step - loss: 1.2064 - accuracy: 0.7257 - val_loss: 1.2697 - val_accuracy: 0.7476\n",
      "Epoch 10/30\n",
      "126/126 [==============================] - 68s 541ms/step - loss: 1.0287 - accuracy: 0.7662 - val_loss: 1.1349 - val_accuracy: 0.7799\n",
      "Epoch 11/30\n",
      "126/126 [==============================] - 69s 545ms/step - loss: 0.8939 - accuracy: 0.7938 - val_loss: 1.0418 - val_accuracy: 0.7992\n",
      "Epoch 12/30\n",
      "126/126 [==============================] - 68s 542ms/step - loss: 0.7864 - accuracy: 0.8152 - val_loss: 0.9587 - val_accuracy: 0.8191\n",
      "Epoch 13/30\n",
      "126/126 [==============================] - 69s 546ms/step - loss: 0.6961 - accuracy: 0.8342 - val_loss: 0.8924 - val_accuracy: 0.8312\n",
      "Epoch 14/30\n",
      "126/126 [==============================] - 69s 545ms/step - loss: 0.6183 - accuracy: 0.8510 - val_loss: 0.8445 - val_accuracy: 0.8415\n",
      "Epoch 15/30\n",
      "126/126 [==============================] - 69s 546ms/step - loss: 0.5508 - accuracy: 0.8664 - val_loss: 0.7958 - val_accuracy: 0.8534\n",
      "Epoch 16/30\n",
      "126/126 [==============================] - 68s 542ms/step - loss: 0.4904 - accuracy: 0.8812 - val_loss: 0.7551 - val_accuracy: 0.8625\n",
      "Epoch 17/30\n",
      "126/126 [==============================] - 72s 574ms/step - loss: 0.4357 - accuracy: 0.8963 - val_loss: 0.7240 - val_accuracy: 0.8695\n",
      "Epoch 18/30\n",
      "126/126 [==============================] - 69s 549ms/step - loss: 0.3859 - accuracy: 0.9105 - val_loss: 0.6909 - val_accuracy: 0.8780\n",
      "Epoch 19/30\n",
      "126/126 [==============================] - 69s 551ms/step - loss: 0.3405 - accuracy: 0.9259 - val_loss: 0.6636 - val_accuracy: 0.8848\n",
      "Epoch 20/30\n",
      "126/126 [==============================] - 69s 551ms/step - loss: 0.2989 - accuracy: 0.9418 - val_loss: 0.6391 - val_accuracy: 0.8927\n",
      "Epoch 21/30\n",
      "126/126 [==============================] - 70s 557ms/step - loss: 0.2606 - accuracy: 0.9561 - val_loss: 0.6185 - val_accuracy: 0.8977\n",
      "Epoch 22/30\n",
      "126/126 [==============================] - 70s 553ms/step - loss: 0.2257 - accuracy: 0.9687 - val_loss: 0.5971 - val_accuracy: 0.9028\n",
      "Epoch 23/30\n",
      "126/126 [==============================] - 70s 556ms/step - loss: 0.1936 - accuracy: 0.9783 - val_loss: 0.5773 - val_accuracy: 0.9070\n",
      "Epoch 24/30\n",
      "126/126 [==============================] - 69s 549ms/step - loss: 0.1643 - accuracy: 0.9850 - val_loss: 0.5603 - val_accuracy: 0.9111\n",
      "Epoch 25/30\n",
      "126/126 [==============================] - 69s 548ms/step - loss: 0.1382 - accuracy: 0.9899 - val_loss: 0.5419 - val_accuracy: 0.9151\n",
      "Epoch 26/30\n",
      "126/126 [==============================] - 70s 554ms/step - loss: 0.1150 - accuracy: 0.9934 - val_loss: 0.5306 - val_accuracy: 0.9166\n",
      "Epoch 27/30\n",
      "126/126 [==============================] - 70s 553ms/step - loss: 0.0957 - accuracy: 0.9955 - val_loss: 0.5131 - val_accuracy: 0.9214\n",
      "Epoch 28/30\n",
      "126/126 [==============================] - 69s 549ms/step - loss: 0.0786 - accuracy: 0.9970 - val_loss: 0.5017 - val_accuracy: 0.9234\n",
      "Epoch 29/30\n",
      "126/126 [==============================] - 70s 552ms/step - loss: 0.0645 - accuracy: 0.9981 - val_loss: 0.4914 - val_accuracy: 0.9247\n",
      "Epoch 30/30\n",
      "126/126 [==============================] - 69s 549ms/step - loss: 0.0528 - accuracy: 0.9988 - val_loss: 0.4813 - val_accuracy: 0.9263\n"
     ]
    }
   ],
   "source": [
    "history = model.fit([X_train, X_train_decoder], Y_train, epochs=30, validation_split=0.1, batch_size=512)"
   ]
  },
  {
   "cell_type": "code",
   "execution_count": 81,
   "metadata": {
    "colab": {
     "base_uri": "https://localhost:8080/"
    },
    "id": "6DoDJCpmJ9T3",
    "outputId": "5850be42-12f3-4761-a841-4c862b13c440"
   },
   "outputs": [
    {
     "name": "stdout",
     "output_type": "stream",
     "text": [
      "Epoch 1/10\n",
      "126/126 [==============================] - 71s 567ms/step - loss: 0.0436 - accuracy: 0.9992 - val_loss: 0.4731 - val_accuracy: 0.9261\n",
      "Epoch 2/10\n",
      "126/126 [==============================] - 70s 553ms/step - loss: 0.0365 - accuracy: 0.9995 - val_loss: 0.4650 - val_accuracy: 0.9281\n",
      "Epoch 3/10\n",
      "126/126 [==============================] - 70s 553ms/step - loss: 0.0300 - accuracy: 0.9997 - val_loss: 0.4567 - val_accuracy: 0.9296\n",
      "Epoch 4/10\n",
      "126/126 [==============================] - 69s 546ms/step - loss: 0.0251 - accuracy: 0.9998 - val_loss: 0.4516 - val_accuracy: 0.9302\n",
      "Epoch 5/10\n",
      "126/126 [==============================] - 69s 549ms/step - loss: 0.0213 - accuracy: 0.9998 - val_loss: 0.4465 - val_accuracy: 0.9311\n",
      "Epoch 6/10\n",
      "126/126 [==============================] - 70s 555ms/step - loss: 0.0181 - accuracy: 0.9999 - val_loss: 0.4418 - val_accuracy: 0.9319\n",
      "Epoch 7/10\n",
      "126/126 [==============================] - 69s 552ms/step - loss: 0.0156 - accuracy: 0.9999 - val_loss: 0.4380 - val_accuracy: 0.9323\n",
      "Epoch 8/10\n",
      "126/126 [==============================] - 70s 554ms/step - loss: 0.0136 - accuracy: 0.9999 - val_loss: 0.4333 - val_accuracy: 0.9328\n",
      "Epoch 9/10\n",
      "126/126 [==============================] - 69s 549ms/step - loss: 0.0118 - accuracy: 0.9999 - val_loss: 0.4284 - val_accuracy: 0.9336\n",
      "Epoch 10/10\n",
      "126/126 [==============================] - 69s 546ms/step - loss: 0.0103 - accuracy: 0.9999 - val_loss: 0.4270 - val_accuracy: 0.9341\n"
     ]
    }
   ],
   "source": [
    "#lets train a little more to improve test accuracy\n",
    "history = model.fit([X_train, X_train_decoder], Y_train, epochs=10, validation_split=0.1, batch_size=512)"
   ]
  },
  {
   "cell_type": "markdown",
   "metadata": {
    "id": "KafwsaNYH7wx"
   },
   "source": [
    "**almost 100% accuracy on training data after 30 epochs**"
   ]
  },
  {
   "cell_type": "code",
   "execution_count": 82,
   "metadata": {
    "colab": {
     "base_uri": "https://localhost:8080/"
    },
    "id": "YcZe294WJs2u",
    "outputId": "31f8ebba-d47c-4e9f-8879-18e3aec3c3fe"
   },
   "outputs": [
    {
     "name": "stderr",
     "output_type": "stream",
     "text": [
      "WARNING:absl:Found untraced functions such as lstm_cell_10_layer_call_fn, lstm_cell_10_layer_call_and_return_conditional_losses, lstm_cell_11_layer_call_fn, lstm_cell_11_layer_call_and_return_conditional_losses while saving (showing 4 of 4). These functions will not be directly callable after loading.\n"
     ]
    },
    {
     "name": "stdout",
     "output_type": "stream",
     "text": [
      "INFO:tensorflow:Assets written to: /models/nlp_models/assets\n"
     ]
    },
    {
     "name": "stderr",
     "output_type": "stream",
     "text": [
      "INFO:tensorflow:Assets written to: /models/nlp_models/assets\n",
      "WARNING:absl:<keras.layers.recurrent.LSTMCell object at 0x7fd2b5081d10> has the same name 'LSTMCell' as a built-in Keras object. Consider renaming <class 'keras.layers.recurrent.LSTMCell'> to avoid naming conflicts when loading with `tf.keras.models.load_model`. If renaming is not possible, pass the object in the `custom_objects` parameter of the load function.\n",
      "WARNING:absl:<keras.layers.recurrent.LSTMCell object at 0x7fd2b44ad0d0> has the same name 'LSTMCell' as a built-in Keras object. Consider renaming <class 'keras.layers.recurrent.LSTMCell'> to avoid naming conflicts when loading with `tf.keras.models.load_model`. If renaming is not possible, pass the object in the `custom_objects` parameter of the load function.\n"
     ]
    }
   ],
   "source": [
    "model.save(MODEL_PATH)"
   ]
  },
  {
   "cell_type": "markdown",
   "metadata": {
    "id": "rdvpqp9WRAqC"
   },
   "source": [
    "###**Simple seq2seq network**"
   ]
  },
  {
   "cell_type": "markdown",
   "metadata": {
    "id": "vtOseVVsIx8W"
   },
   "source": [
    "**model evaluation on test data**"
   ]
  },
  {
   "cell_type": "code",
   "execution_count": 83,
   "metadata": {
    "id": "n8H6DWLiNMPM"
   },
   "outputs": [],
   "source": [
    "model = keras.models.load_model(MODEL_PATH)"
   ]
  },
  {
   "cell_type": "code",
   "execution_count": 93,
   "metadata": {
    "colab": {
     "base_uri": "https://localhost:8080/"
    },
    "id": "-91S1Qjfxjoh",
    "outputId": "025c8658-4431-4011-f42f-15ae11bc12cb"
   },
   "outputs": [
    {
     "data": {
      "text/plain": [
       "(array([[ 1065,  1065,  1065,  1065,  1065,  1065,  1065,  1065,     0,\n",
       "             2,   700,    32,   919,   221,   285,     7,  2486,  3909,\n",
       "           241, 17219, 17056,   470, 17056,    43,  9330,     2,  4429,\n",
       "             6,     2,  1101, 10902,  9330,   241,     9,    41,    45,\n",
       "            50,  3282,  1455,    18]]),\n",
       " array([[    0,     0,     0,     0,     0,     0,     0,     0,     0,\n",
       "             2,   700,    32,   919,   221,   285,     7,  2486,  5685,\n",
       "           241,  7604, 18358,   470, 18359,    43, 18360,     2,  4429,\n",
       "             6,     2,  1101,  9242,  5685,   241,     9,    41,    45,\n",
       "            50,  3282,  1455,    18]], dtype=int32))"
      ]
     },
     "execution_count": 93,
     "metadata": {},
     "output_type": "execute_result"
    }
   ],
   "source": [
    "ids = np.argmax(model.predict([X_test[:1], X_test_decoder[:1]]), axis=-1)\n",
    "ids, Y_test[:1]"
   ]
  },
  {
   "cell_type": "code",
   "execution_count": 85,
   "metadata": {
    "colab": {
     "base_uri": "https://localhost:8080/"
    },
    "id": "MJb6gcXWI5Vn",
    "outputId": "b600f217-ccfb-497e-f74c-08c9f0137c1d"
   },
   "outputs": [
    {
     "name": "stdout",
     "output_type": "stream",
     "text": [
      "Evaluate on test data\n",
      "35/35 [==============================] - 9s 207ms/step - loss: 0.4519 - accuracy: 0.9304\n",
      "test loss, test acc: [0.45188069343566895, 0.9303902983665466]\n"
     ]
    }
   ],
   "source": [
    "print(\"Evaluate on test data\")\n",
    "results = model.evaluate([X_test, X_test_decoder], Y_test, batch_size=512)\n",
    "print(\"test loss, test acc:\", results)"
   ]
  },
  {
   "cell_type": "markdown",
   "metadata": {
    "id": "p7YoZLmqOKpN"
   },
   "source": [
    "###**Rebuild sentences**"
   ]
  },
  {
   "cell_type": "code",
   "execution_count": 104,
   "metadata": {
    "colab": {
     "base_uri": "https://localhost:8080/"
    },
    "id": "_wRouJWAOOLV",
    "outputId": "b3c59036-be70-401c-8f01-665ba6a19b2a"
   },
   "outputs": [
    {
     "data": {
      "text/plain": [
       "['خواند خواند خواند خواند خواند خواند خواند خواند <UNK> در اوایل سال میلادی جاری زمانی که بنیاد شاخص\\u200cهای جهانی شستشوی انفجارشدید ساله انفجارشدید وی هیمالیا در کامبوج را در فهرست کیفی هیمالیا جهانی این سازمان قرار داد مناقشات تشدید شد',\n",
       " 'خواند خواند خواند خواند خواند خواند خواند خواند <UNK> در اوایل سال میلادی جاری زمانی که بنیاد پزشک جهانی جزئیاتی آث ساله انفجارشدید وی هیمالیا در کامبوج را در فهرست کیفی هیمالیا جهانی این سازمان قرار داد مناقشات تشدید شد',\n",
       " 'خواند خواند خواند خواند خواند خواند خواند خواند <UNK> در اوایل سال میلادی جاری زمانی که بنیاد پزشک جهانی تکلیف انفجارشدید ساله انفجارشدید وی هیمالیا در کامبوج را در فهرست کیفی هیمالیا جهانی این سازمان قرار داد مناقشات تشدید شد',\n",
       " 'خواند خواند خواند خواند خواند خواند خواند خواند <UNK> در اوایل سال میلادی جاری زمانی که بنیاد پزشک جهانی تکلیف انفجارشدید ساله انفجارشدید وی هیمالیا در کامبوج را در فهرست کیفی هیمالیا جهانی این سازمان قرار داد مناقشات تشدید شد',\n",
       " 'خواند خواند خواند خواند خواند خواند خواند خواند <UNK> در اوایل سال میلادی جاری زمانی که بنیاد پزشک جهانی جزئیاتی آث ساله انفجارشدید وی هیمالیا در کامبوج را در فهرست کیفی هیمالیا جهانی این سازمان قرار داد مناقشات تشدید شد',\n",
       " 'خواند خواند خواند خواند خواند خواند خواند خواند <UNK> در اوایل سال میلادی جاری زمانی که بنیاد پزشک جهانی تکلیف آث ساله انفجارشدید وی هیمالیا در کامبوج را در فهرست کیفی هیمالیا جهانی این سازمان قرار داد مناقشات تشدید شد',\n",
       " 'خواند خواند خواند خواند خواند خواند خواند خواند خواند خواند خواند خواند خواند خواند <UNK> نیروهای اسرائیل دو هیمالیا جوان فلسطینی را که به مجتمع نوار غزه و اسرائیل نزدیک می\\u200cشدند هدف آتش خود کمکی و از پای در آوردند',\n",
       " 'خواند خواند خواند خواند خواند خواند خواند خواند خواند خواند خواند خواند خواند خواند <UNK> نیروهای اسرائیل دو هیمالیا جوان فلسطینی را که به مجتمع نوار غزه و اسرائیل نزدیک می\\u200cشدند هدف آتش خود کمکی و از پای در آوردند',\n",
       " 'خواند خواند خواند خواند خواند خواند خواند خواند خواند خواند خواند خواند خواند خواند <UNK> نیروهای اسرائیل دو متفرق جوان فلسطینی را که به مجتمع نوار غزه و اسرائیل نزدیک می\\u200cشدند هدف آتش خود کمکی و از پای در آوردند',\n",
       " 'خواند خواند خواند خواند خواند خواند خواند خواند خواند خواند خواند خواند خواند خواند <UNK> نیروهای اسرائیل دو متفرق جوان فلسطینی را که به مجتمع نوار غزه و اسرائیل نزدیک می\\u200cشدند هدف آتش خود کمکی و از پای در آوردند']"
      ]
     },
     "execution_count": 104,
     "metadata": {},
     "output_type": "execute_result"
    }
   ],
   "source": [
    "def rebuild_test_sentences():\n",
    "  Y_preds = model.predict([X_test[:10], X_test_decoder[:10]])\n",
    "  encoded_argmax  = np.argmax(Y_preds, axis=-1)\n",
    "  preds = tokenizer.sequences_to_texts(encoded_argmax[:10])\n",
    "  return preds\n",
    " \n",
    "\n",
    "rebuild_test_sentences()"
   ]
  }
 ],
 "metadata": {
  "accelerator": "GPU",
  "colab": {
   "collapsed_sections": [],
   "name": "sentence_building.ipynb",
   "provenance": []
  },
  "gpuClass": "standard",
  "kernelspec": {
   "display_name": "Python 3 (ipykernel)",
   "language": "python",
   "name": "python3"
  },
  "language_info": {
   "codemirror_mode": {
    "name": "ipython",
    "version": 3
   },
   "file_extension": ".py",
   "mimetype": "text/x-python",
   "name": "python",
   "nbconvert_exporter": "python",
   "pygments_lexer": "ipython3",
   "version": "3.9.6"
  }
 },
 "nbformat": 4,
 "nbformat_minor": 1
}
