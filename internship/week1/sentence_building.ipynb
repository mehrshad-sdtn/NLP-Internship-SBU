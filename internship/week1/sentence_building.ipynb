{
  "cells": [
    {
      "cell_type": "code",
      "execution_count": 4,
      "metadata": {
        "id": "uPK2QfZkXcUv"
      },
      "outputs": [],
      "source": [
        "import numpy as np\n",
        "import tensorflow\n",
        "import random\n",
        "import pandas as pd\n",
        "import numpy as np\n",
        "import tensorflow as tf\n",
        "from tensorflow import keras\n",
        "import math"
      ]
    },
    {
      "cell_type": "code",
      "execution_count": 5,
      "metadata": {
        "colab": {
          "base_uri": "https://localhost:8080/"
        },
        "id": "om4bi94uXz6W",
        "outputId": "2bb8ab49-ae88-46bb-8319-813c6916d3f1"
      },
      "outputs": [
        {
          "output_type": "stream",
          "name": "stdout",
          "text": [
            "Drive already mounted at /content/drive; to attempt to forcibly remount, call drive.mount(\"/content/drive\", force_remount=True).\n"
          ]
        }
      ],
      "source": [
        "from google.colab import drive\n",
        "drive.mount('/content/drive')"
      ]
    },
    {
      "cell_type": "code",
      "execution_count": 6,
      "metadata": {
        "colab": {
          "base_uri": "https://localhost:8080/"
        },
        "id": "eSoDE3KJX9bu",
        "outputId": "f6da26f2-8116-4cc1-fd00-6acb2bdc52b0"
      },
      "outputs": [
        {
          "output_type": "stream",
          "name": "stdout",
          "text": [
            "/content/drive/MyDrive\n"
          ]
        }
      ],
      "source": [
        "%cd /content/drive/MyDrive/"
      ]
    },
    {
      "cell_type": "code",
      "execution_count": 7,
      "metadata": {
        "id": "jrRw5TNCYQDV"
      },
      "outputs": [],
      "source": [
        "MODEL_PATH = '/saved_models/nlp_models'"
      ]
    },
    {
      "cell_type": "code",
      "execution_count": 8,
      "metadata": {
        "colab": {
          "base_uri": "https://localhost:8080/"
        },
        "id": "FrBcoMhTY5jO",
        "outputId": "7380172f-2245-4fd6-8d02-182e2896e30e"
      },
      "outputs": [
        {
          "output_type": "stream",
          "name": "stdout",
          "text": [
            "Looking in indexes: https://pypi.org/simple, https://us-python.pkg.dev/colab-wheels/public/simple/\n",
            "Collecting hazm\n",
            "  Downloading hazm-0.7.0-py3-none-any.whl (316 kB)\n",
            "\u001b[K     |████████████████████████████████| 316 kB 26.9 MB/s \n",
            "\u001b[?25hCollecting nltk==3.3\n",
            "  Downloading nltk-3.3.0.zip (1.4 MB)\n",
            "\u001b[K     |████████████████████████████████| 1.4 MB 57.0 MB/s \n",
            "\u001b[?25hCollecting libwapiti>=0.2.1\n",
            "  Downloading libwapiti-0.2.1.tar.gz (233 kB)\n",
            "\u001b[K     |████████████████████████████████| 233 kB 67.1 MB/s \n",
            "\u001b[?25hRequirement already satisfied: six in /usr/local/lib/python3.7/dist-packages (from nltk==3.3->hazm) (1.15.0)\n",
            "Building wheels for collected packages: nltk, libwapiti\n",
            "  Building wheel for nltk (setup.py) ... \u001b[?25l\u001b[?25hdone\n",
            "  Created wheel for nltk: filename=nltk-3.3-py3-none-any.whl size=1394485 sha256=d08d9a80a0a8baf35ed8acc26cb85ec22a98257058a9ff69d6948f7a4fa16765\n",
            "  Stored in directory: /root/.cache/pip/wheels/9b/fd/0c/d92302c876e5de87ebd7fc0979d82edb93e2d8d768bf71fac4\n",
            "  Building wheel for libwapiti (setup.py) ... \u001b[?25l\u001b[?25hdone\n",
            "  Created wheel for libwapiti: filename=libwapiti-0.2.1-cp37-cp37m-linux_x86_64.whl size=153884 sha256=12f73ce22a9ecb65d8e1cfbc100d9a1dea91c0c22cd49a660204becda71de928\n",
            "  Stored in directory: /root/.cache/pip/wheels/ab/b2/5b/0fe4b8f5c0e65341e8ea7bb3f4a6ebabfe8b1ac31322392dbf\n",
            "Successfully built nltk libwapiti\n",
            "Installing collected packages: nltk, libwapiti, hazm\n",
            "  Attempting uninstall: nltk\n",
            "    Found existing installation: nltk 3.7\n",
            "    Uninstalling nltk-3.7:\n",
            "      Successfully uninstalled nltk-3.7\n",
            "Successfully installed hazm-0.7.0 libwapiti-0.2.1 nltk-3.3\n"
          ]
        }
      ],
      "source": [
        "!pip install hazm"
      ]
    },
    {
      "cell_type": "markdown",
      "metadata": {
        "id": "0P7WzGkNeJz0"
      },
      "source": [
        "###**Text preprocessing functions**"
      ]
    },
    {
      "cell_type": "code",
      "execution_count": 9,
      "metadata": {
        "id": "DgLYXfMbY7r9"
      },
      "outputs": [],
      "source": [
        "from __future__ import unicode_literals\n",
        "from hazm import *\n",
        "import re\n",
        "import random\n",
        "from string import punctuation\n",
        "\n",
        "def text_preprocess(text):\n",
        "  normalizer = Normalizer()\n",
        "  text = normalizer.normalize(text)\n",
        "  text = re.sub(f'[{punctuation}؟،٪×÷»«]+', '', text)\n",
        "  return text\n",
        "\n",
        "def text_scramble(text):\n",
        "  words = text.split()\n",
        "  random.shuffle(words)\n",
        "  return ' '.join(words)\n"
      ]
    },
    {
      "cell_type": "markdown",
      "metadata": {
        "id": "fOZLJB5ieOSs"
      },
      "source": [
        "###**Loading and processing Corpus 1**\n",
        "(VOA FARSI 2003-08)"
      ]
    },
    {
      "cell_type": "code",
      "execution_count": 10,
      "metadata": {
        "id": "JBWO5KxPeITs"
      },
      "outputs": [],
      "source": [
        "path = 'data/voa_fa_2003-2008_orig.txt'\n",
        "with open(path, 'r', encoding='utf-8') as f:\n",
        "  text = ' '.join([line.strip() for line in f.readlines() if not line.startswith('#')])\n",
        "  text = text.split('.')\n",
        "  sents = random.sample(text, 25000)"
      ]
    },
    {
      "cell_type": "code",
      "execution_count": 11,
      "metadata": {
        "id": "jXPJ0lLqeueE"
      },
      "outputs": [],
      "source": [
        "MAX_LEN = 170\n",
        "sents_cleaned = [text_preprocess(s) for s in sents]\n",
        "sents_ready = filter(lambda s: len(s) < MAX_LEN, sents_cleaned)\n",
        "sents_data = list(sents_ready)\n",
        "random.shuffle(sents_data)\n",
        "sents_data = sents_data[:20000]  # make dataset size 20000 for ease of computation"
      ]
    },
    {
      "cell_type": "code",
      "execution_count": 12,
      "metadata": {
        "id": "aZu1i3fZ4jaF"
      },
      "outputs": [],
      "source": [
        "tokenizer = keras.preprocessing.text.Tokenizer(oov_token='<UNK>')\n",
        "tokenizer.fit_on_texts(sents_data)\n",
        "tokenizer.word_index['<PAD>'] = 0\n",
        "last_idx = len(tokenizer.word_index) + 1\n",
        "tokenizer.word_index['<SOS>'] = last_idx"
      ]
    },
    {
      "cell_type": "code",
      "execution_count": 13,
      "metadata": {
        "colab": {
          "base_uri": "https://localhost:8080/"
        },
        "id": "8S8uD4Lp_GGF",
        "outputId": "d2e9a4e5-59a0-4f00-d346-82e3e8430ad3"
      },
      "outputs": [
        {
          "output_type": "stream",
          "name": "stdout",
          "text": [
            "maximum sentence length: 39\n"
          ]
        }
      ],
      "source": [
        "temp = [len(each.split()) for each in sents_data]\n",
        "print('maximum sentence length:', sorted(temp)[-1])"
      ]
    },
    {
      "cell_type": "markdown",
      "metadata": {
        "id": "4hjb7_snihFC"
      },
      "source": [
        "### **building the dataset**"
      ]
    },
    {
      "cell_type": "code",
      "execution_count": 14,
      "metadata": {
        "id": "vw9NSMqyiDDL"
      },
      "outputs": [],
      "source": [
        "def create_shuffles(sent_list, m):\n",
        "  \"\"\"\n",
        "  this function creates m random shuffles of the sentence\n",
        "  \"\"\"\n",
        "  all_combs = []\n",
        "  for sent in sent_list:\n",
        "    comb_set = set([])\n",
        "    for i in range(0, m + 1):\n",
        "      comb_set.add(text_scramble(sent))\n",
        "    all_combs.append((sent, comb_set))\n",
        "  return all_combs"
      ]
    },
    {
      "cell_type": "code",
      "execution_count": 15,
      "metadata": {
        "id": "tIM26pJyjBDr"
      },
      "outputs": [],
      "source": [
        "shuffle_pairs = create_shuffles(sents_data, 8)"
      ]
    },
    {
      "cell_type": "code",
      "execution_count": 16,
      "metadata": {
        "colab": {
          "base_uri": "https://localhost:8080/"
        },
        "id": "kh5Bf4KHjh1e",
        "outputId": "6e529271-8e62-484c-aef1-e6fb85fd09b9"
      },
      "outputs": [
        {
          "output_type": "execute_result",
          "data": {
            "text/plain": [
              "(' شاهدان گفتند گلوله خانه را به آتش کشید',\n",
              " {'آتش خانه را به گفتند گلوله شاهدان کشید',\n",
              "  'به آتش شاهدان گفتند کشید خانه را گلوله',\n",
              "  'به را گلوله آتش خانه کشید گفتند شاهدان',\n",
              "  'به گلوله آتش گفتند خانه را کشید شاهدان',\n",
              "  'را شاهدان گفتند کشید گلوله آتش به خانه',\n",
              "  'را گفتند خانه شاهدان آتش کشید گلوله به',\n",
              "  'را گلوله به شاهدان آتش کشید خانه گفتند',\n",
              "  'گلوله به خانه را کشید شاهدان آتش گفتند',\n",
              "  'گلوله کشید آتش به را گفتند شاهدان خانه'})"
            ]
          },
          "metadata": {},
          "execution_count": 16
        }
      ],
      "source": [
        "shuffle_pairs[1][0], shuffle_pairs[1][1]"
      ]
    },
    {
      "cell_type": "code",
      "execution_count": 17,
      "metadata": {
        "id": "wnoA5xmDjrBU"
      },
      "outputs": [],
      "source": [
        "def create_dataframe(pairs):\n",
        "  \"\"\"\n",
        "  creates a dataframe with two columns of original sentence and it's shuffles\n",
        "  \"\"\"\n",
        "  original = []\n",
        "  shuffled = []\n",
        "  for pair in pairs:\n",
        "    for p in pair[1]:\n",
        "      original.append(pair[0])\n",
        "      shuffled.append(p)\n",
        "\n",
        "  df_dict = { 'Shuffled': shuffled, 'Original': original}\n",
        "  df = pd.DataFrame(df_dict)\n",
        "  return df\n"
      ]
    },
    {
      "cell_type": "code",
      "execution_count": 18,
      "metadata": {
        "colab": {
          "base_uri": "https://localhost:8080/",
          "height": 424
        },
        "id": "jTZJ1mSbkXuy",
        "outputId": "8e4907cf-c3ce-470f-e090-01c86d726f71"
      },
      "outputs": [
        {
          "output_type": "execute_result",
          "data": {
            "text/plain": [
              "                                                 Shuffled  \\\n",
              "0       از شده شرکت هیأت تاریخ برای کره نخستین در رقاب...   \n",
              "1       سازند کاهش توافق برای موشکی ویژه پیشاپیش هستند...   \n",
              "2       پیدا کرده عراق در بجای که در گذاشت امروز از مذ...   \n",
              "3       اتمی آژانس تهران شورای کرده را ایران دیپلوماته...   \n",
              "4       شد کیفیت سازند تلفن ما روی ممنون که را می‌کنند...   \n",
              "...                                                   ...   \n",
              "177832  ازشورشیان درآوردند امنیتی توپدار کم بلوچستان ح...   \n",
              "177833  میانجیگیری این پیشنهاد نخست قطرمطرح با گردیده ...   \n",
              "177834  به عملیات کشته موسوم مجروح و مقامات آمریکا دو ...   \n",
              "177835  تا به از ۶۱ کنون نظامی گفته در جریان کشته تن س...   \n",
              "177836  رده سایت شد دوره آسیا ۱۸ روز برگزار ماه مسابقا...   \n",
              "\n",
              "                                                 Original  \n",
              "0        یک هیأت مشت زنی از کشور کره جنوبی وارد خاک کر...  \n",
              "1        مقامات می‌گویند دو طرف امیدوار هستند متن تواف...  \n",
              "2        خشونت مذهبی در عراق که در روزهای اخیر بیش از ...  \n",
              "3        دیپلوماتها میگویند آژانس اتمی سازمان ملل متحد...  \n",
              "4        ضمنا ممنون خواهیم شد اگر دوستانی که اخبار ما ...  \n",
              "...                                                   ...  \n",
              "177832   نیروهای امنیتی پاکستان با حمایت هلیکوپترهای ت...  \n",
              "177833   این پیشنهاد با میانجیگیری نخست وزیر قطرمطرح گ...  \n",
              "177834   مقامات آمریکا می‌گویند درجریان عملیات موسوم ب...  \n",
              "177835   به گفته مقامات نظامی در جریان این حملات تا کن...  \n",
              "177836   طبق اعلام سایت کنفدراسیون فوتبال آسیا دیدارها...  \n",
              "\n",
              "[177837 rows x 2 columns]"
            ],
            "text/html": [
              "\n",
              "  <div id=\"df-c7d62d50-a46d-401b-99ec-00b77070253b\">\n",
              "    <div class=\"colab-df-container\">\n",
              "      <div>\n",
              "<style scoped>\n",
              "    .dataframe tbody tr th:only-of-type {\n",
              "        vertical-align: middle;\n",
              "    }\n",
              "\n",
              "    .dataframe tbody tr th {\n",
              "        vertical-align: top;\n",
              "    }\n",
              "\n",
              "    .dataframe thead th {\n",
              "        text-align: right;\n",
              "    }\n",
              "</style>\n",
              "<table border=\"1\" class=\"dataframe\">\n",
              "  <thead>\n",
              "    <tr style=\"text-align: right;\">\n",
              "      <th></th>\n",
              "      <th>Shuffled</th>\n",
              "      <th>Original</th>\n",
              "    </tr>\n",
              "  </thead>\n",
              "  <tbody>\n",
              "    <tr>\n",
              "      <th>0</th>\n",
              "      <td>از شده شرکت هیأت تاریخ برای کره نخستین در رقاب...</td>\n",
              "      <td>یک هیأت مشت زنی از کشور کره جنوبی وارد خاک کر...</td>\n",
              "    </tr>\n",
              "    <tr>\n",
              "      <th>1</th>\n",
              "      <td>سازند کاهش توافق برای موشکی ویژه پیشاپیش هستند...</td>\n",
              "      <td>مقامات می‌گویند دو طرف امیدوار هستند متن تواف...</td>\n",
              "    </tr>\n",
              "    <tr>\n",
              "      <th>2</th>\n",
              "      <td>پیدا کرده عراق در بجای که در گذاشت امروز از مذ...</td>\n",
              "      <td>خشونت مذهبی در عراق که در روزهای اخیر بیش از ...</td>\n",
              "    </tr>\n",
              "    <tr>\n",
              "      <th>3</th>\n",
              "      <td>اتمی آژانس تهران شورای کرده را ایران دیپلوماته...</td>\n",
              "      <td>دیپلوماتها میگویند آژانس اتمی سازمان ملل متحد...</td>\n",
              "    </tr>\n",
              "    <tr>\n",
              "      <th>4</th>\n",
              "      <td>شد کیفیت سازند تلفن ما روی ممنون که را می‌کنند...</td>\n",
              "      <td>ضمنا ممنون خواهیم شد اگر دوستانی که اخبار ما ...</td>\n",
              "    </tr>\n",
              "    <tr>\n",
              "      <th>...</th>\n",
              "      <td>...</td>\n",
              "      <td>...</td>\n",
              "    </tr>\n",
              "    <tr>\n",
              "      <th>177832</th>\n",
              "      <td>ازشورشیان درآوردند امنیتی توپدار کم بلوچستان ح...</td>\n",
              "      <td>نیروهای امنیتی پاکستان با حمایت هلیکوپترهای ت...</td>\n",
              "    </tr>\n",
              "    <tr>\n",
              "      <th>177833</th>\n",
              "      <td>میانجیگیری این پیشنهاد نخست قطرمطرح با گردیده ...</td>\n",
              "      <td>این پیشنهاد با میانجیگیری نخست وزیر قطرمطرح گ...</td>\n",
              "    </tr>\n",
              "    <tr>\n",
              "      <th>177834</th>\n",
              "      <td>به عملیات کشته موسوم مجروح و مقامات آمریکا دو ...</td>\n",
              "      <td>مقامات آمریکا می‌گویند درجریان عملیات موسوم ب...</td>\n",
              "    </tr>\n",
              "    <tr>\n",
              "      <th>177835</th>\n",
              "      <td>تا به از ۶۱ کنون نظامی گفته در جریان کشته تن س...</td>\n",
              "      <td>به گفته مقامات نظامی در جریان این حملات تا کن...</td>\n",
              "    </tr>\n",
              "    <tr>\n",
              "      <th>177836</th>\n",
              "      <td>رده سایت شد دوره آسیا ۱۸ روز برگزار ماه مسابقا...</td>\n",
              "      <td>طبق اعلام سایت کنفدراسیون فوتبال آسیا دیدارها...</td>\n",
              "    </tr>\n",
              "  </tbody>\n",
              "</table>\n",
              "<p>177837 rows × 2 columns</p>\n",
              "</div>\n",
              "      <button class=\"colab-df-convert\" onclick=\"convertToInteractive('df-c7d62d50-a46d-401b-99ec-00b77070253b')\"\n",
              "              title=\"Convert this dataframe to an interactive table.\"\n",
              "              style=\"display:none;\">\n",
              "        \n",
              "  <svg xmlns=\"http://www.w3.org/2000/svg\" height=\"24px\"viewBox=\"0 0 24 24\"\n",
              "       width=\"24px\">\n",
              "    <path d=\"M0 0h24v24H0V0z\" fill=\"none\"/>\n",
              "    <path d=\"M18.56 5.44l.94 2.06.94-2.06 2.06-.94-2.06-.94-.94-2.06-.94 2.06-2.06.94zm-11 1L8.5 8.5l.94-2.06 2.06-.94-2.06-.94L8.5 2.5l-.94 2.06-2.06.94zm10 10l.94 2.06.94-2.06 2.06-.94-2.06-.94-.94-2.06-.94 2.06-2.06.94z\"/><path d=\"M17.41 7.96l-1.37-1.37c-.4-.4-.92-.59-1.43-.59-.52 0-1.04.2-1.43.59L10.3 9.45l-7.72 7.72c-.78.78-.78 2.05 0 2.83L4 21.41c.39.39.9.59 1.41.59.51 0 1.02-.2 1.41-.59l7.78-7.78 2.81-2.81c.8-.78.8-2.07 0-2.86zM5.41 20L4 18.59l7.72-7.72 1.47 1.35L5.41 20z\"/>\n",
              "  </svg>\n",
              "      </button>\n",
              "      \n",
              "  <style>\n",
              "    .colab-df-container {\n",
              "      display:flex;\n",
              "      flex-wrap:wrap;\n",
              "      gap: 12px;\n",
              "    }\n",
              "\n",
              "    .colab-df-convert {\n",
              "      background-color: #E8F0FE;\n",
              "      border: none;\n",
              "      border-radius: 50%;\n",
              "      cursor: pointer;\n",
              "      display: none;\n",
              "      fill: #1967D2;\n",
              "      height: 32px;\n",
              "      padding: 0 0 0 0;\n",
              "      width: 32px;\n",
              "    }\n",
              "\n",
              "    .colab-df-convert:hover {\n",
              "      background-color: #E2EBFA;\n",
              "      box-shadow: 0px 1px 2px rgba(60, 64, 67, 0.3), 0px 1px 3px 1px rgba(60, 64, 67, 0.15);\n",
              "      fill: #174EA6;\n",
              "    }\n",
              "\n",
              "    [theme=dark] .colab-df-convert {\n",
              "      background-color: #3B4455;\n",
              "      fill: #D2E3FC;\n",
              "    }\n",
              "\n",
              "    [theme=dark] .colab-df-convert:hover {\n",
              "      background-color: #434B5C;\n",
              "      box-shadow: 0px 1px 3px 1px rgba(0, 0, 0, 0.15);\n",
              "      filter: drop-shadow(0px 1px 2px rgba(0, 0, 0, 0.3));\n",
              "      fill: #FFFFFF;\n",
              "    }\n",
              "  </style>\n",
              "\n",
              "      <script>\n",
              "        const buttonEl =\n",
              "          document.querySelector('#df-c7d62d50-a46d-401b-99ec-00b77070253b button.colab-df-convert');\n",
              "        buttonEl.style.display =\n",
              "          google.colab.kernel.accessAllowed ? 'block' : 'none';\n",
              "\n",
              "        async function convertToInteractive(key) {\n",
              "          const element = document.querySelector('#df-c7d62d50-a46d-401b-99ec-00b77070253b');\n",
              "          const dataTable =\n",
              "            await google.colab.kernel.invokeFunction('convertToInteractive',\n",
              "                                                     [key], {});\n",
              "          if (!dataTable) return;\n",
              "\n",
              "          const docLinkHtml = 'Like what you see? Visit the ' +\n",
              "            '<a target=\"_blank\" href=https://colab.research.google.com/notebooks/data_table.ipynb>data table notebook</a>'\n",
              "            + ' to learn more about interactive tables.';\n",
              "          element.innerHTML = '';\n",
              "          dataTable['output_type'] = 'display_data';\n",
              "          await google.colab.output.renderOutput(dataTable, element);\n",
              "          const docLink = document.createElement('div');\n",
              "          docLink.innerHTML = docLinkHtml;\n",
              "          element.appendChild(docLink);\n",
              "        }\n",
              "      </script>\n",
              "    </div>\n",
              "  </div>\n",
              "  "
            ]
          },
          "metadata": {},
          "execution_count": 18
        }
      ],
      "source": [
        "df = create_dataframe(shuffle_pairs)\n",
        "df = df.sample(frac=1).reset_index(drop=True)\n",
        "df"
      ]
    },
    {
      "cell_type": "code",
      "execution_count": 19,
      "metadata": {
        "id": "HRkeMJafwY7_"
      },
      "outputs": [],
      "source": [
        "def create_dataset(df, train_percent=80):\n",
        "  data_size = df.shape[0]\n",
        "  count = math.floor(data_size * (train_percent/100))\n",
        "\n",
        "  dataset = df['Shuffled'].values\n",
        "  labels  = df['Original'].values\n",
        "\n",
        "  train_data   = dataset[:count]\n",
        "  train_labels = labels[:count]\n",
        "  test_data   = dataset[count:]\n",
        "  test_labels = labels[count:]\n",
        "\n",
        "  return ((train_data, train_labels), (test_data, test_labels))\n",
        "\n",
        "\n"
      ]
    },
    {
      "cell_type": "code",
      "execution_count": 20,
      "metadata": {
        "id": "Dh3otPKB0GrV"
      },
      "outputs": [],
      "source": [
        "train_set, test_set = create_dataset(df)\n",
        "X_train_text, Y_train_text = train_set\n",
        "X_test_text, Y_test_text = test_set"
      ]
    },
    {
      "cell_type": "markdown",
      "metadata": {
        "id": "9vq7ch6G1jX1"
      },
      "source": [
        "###**making dataset ready for training**"
      ]
    },
    {
      "cell_type": "code",
      "source": [
        "sos_index = last_idx\n",
        "def shift_output_sequence(seq_list):\n",
        "  for seq in seq_list:\n",
        "    seq.insert(0, sos_index)\n",
        "  return seq_list\n"
      ],
      "metadata": {
        "id": "y9Y7Kqc4w1XV"
      },
      "execution_count": 21,
      "outputs": []
    },
    {
      "cell_type": "code",
      "source": [
        "X_train_seq = tokenizer.texts_to_sequences(X_train_text)\n",
        "Y_train_seq = tokenizer.texts_to_sequences(Y_train_text)\n",
        "X_test_seq  = tokenizer.texts_to_sequences(X_test_text)\n",
        "Y_test_seq  = tokenizer.texts_to_sequences(Y_test_text)"
      ],
      "metadata": {
        "id": "ZPoeo0sYwWPO"
      },
      "execution_count": 22,
      "outputs": []
    },
    {
      "cell_type": "code",
      "execution_count": 23,
      "metadata": {
        "id": "UkcJ_sWk1rKF"
      },
      "outputs": [],
      "source": [
        "MAX_SEQ_LEN = 45  \n",
        "X_train = keras.preprocessing.sequence.pad_sequences(X_train_seq, maxlen=MAX_SEQ_LEN, padding='post')\n",
        "Y_train = keras.preprocessing.sequence.pad_sequences(Y_train_seq, maxlen=MAX_SEQ_LEN, padding='post')\n",
        "\n",
        "X_test  = keras.preprocessing.sequence.pad_sequences(X_test_seq, maxlen=MAX_SEQ_LEN, padding='post')\n",
        "Y_test  = keras.preprocessing.sequence.pad_sequences(Y_test_seq, maxlen=MAX_SEQ_LEN, padding='post')\n",
        "\n",
        "X_train_decoder = keras.preprocessing.sequence.pad_sequences(shift_output_sequence(Y_train_seq), maxlen=MAX_SEQ_LEN, padding='post')\n",
        "X_test_decoder  = keras.preprocessing.sequence.pad_sequences(shift_output_sequence(Y_test_seq),  maxlen=MAX_SEQ_LEN, padding='post')"
      ]
    },
    {
      "cell_type": "code",
      "source": [
        "X_train_decoder[:2], Y_train[:2]"
      ],
      "metadata": {
        "colab": {
          "base_uri": "https://localhost:8080/"
        },
        "id": "8MsYgFws1eJE",
        "outputId": "98857a80-109a-4c8f-f534-71b3d5567cb8"
      },
      "execution_count": 24,
      "outputs": [
        {
          "output_type": "execute_result",
          "data": {
            "text/plain": [
              "(array([[24240,    11,  3791,  7906,  2027,     5,    28,    89,   183,\n",
              "           165,   779,    89,   111,    24,     8,    57,    12,   218,\n",
              "           220,     2,   618,     2,    11,  1146,    53, 15572,   430,\n",
              "             5,    27,    28,    99,    43,     0,     0,     0,     0,\n",
              "             0,     0,     0,     0,     0,     0,     0,     0,     0],\n",
              "        [24240,    23,    81,    27,   545,  1014,    94,  1897,   275,\n",
              "          1618,   209,  1488,   600,     5,  2949,   821,     4,    34,\n",
              "           686,    11,   885,  1470,   753,    12,   313,   954,  2184,\n",
              "            52,     6,  2230,  1744,     0,     0,     0,     0,     0,\n",
              "             0,     0,     0,     0,     0,     0,     0,     0,     0]],\n",
              "       dtype=int32),\n",
              " array([[   11,  3791,  7906,  2027,     5,    28,    89,   183,   165,\n",
              "           779,    89,   111,    24,     8,    57,    12,   218,   220,\n",
              "             2,   618,     2,    11,  1146,    53, 15572,   430,     5,\n",
              "            27,    28,    99,    43,     0,     0,     0,     0,     0,\n",
              "             0,     0,     0,     0,     0,     0,     0,     0,     0],\n",
              "        [   23,    81,    27,   545,  1014,    94,  1897,   275,  1618,\n",
              "           209,  1488,   600,     5,  2949,   821,     4,    34,   686,\n",
              "            11,   885,  1470,   753,    12,   313,   954,  2184,    52,\n",
              "             6,  2230,  1744,     0,     0,     0,     0,     0,     0,\n",
              "             0,     0,     0,     0,     0,     0,     0,     0,     0]],\n",
              "       dtype=int32))"
            ]
          },
          "metadata": {},
          "execution_count": 24
        }
      ]
    },
    {
      "cell_type": "code",
      "execution_count": 25,
      "metadata": {
        "colab": {
          "base_uri": "https://localhost:8080/"
        },
        "id": "jR3JqKVK96iy",
        "outputId": "f99ef858-690d-425b-d216-3c6acbc81d00"
      },
      "outputs": [
        {
          "output_type": "execute_result",
          "data": {
            "text/plain": [
              "(array([[    5,    24,    99,  3791,   618,    12,    89,   218,     2,\n",
              "          1146,    28,   183,    53,     2,     8,    57,    11,  2027,\n",
              "           111,   430,    43,    28,   220,    27,    89,   165,  7906,\n",
              "           779,     5, 15572,    11,     0,     0,     0,     0,     0,\n",
              "             0,     0,     0,     0,     0,     0,     0,     0,     0]],\n",
              "       dtype=int32),\n",
              " array([[   11,  3791,  7906,  2027,     5,    28,    89,   183,   165,\n",
              "           779,    89,   111,    24,     8,    57,    12,   218,   220,\n",
              "             2,   618,     2,    11,  1146,    53, 15572,   430,     5,\n",
              "            27,    28,    99,    43,     0,     0,     0,     0,     0,\n",
              "             0,     0,     0,     0,     0,     0,     0,     0,     0]],\n",
              "       dtype=int32))"
            ]
          },
          "metadata": {},
          "execution_count": 25
        }
      ],
      "source": [
        "X_train[:1],Y_train[:1]"
      ]
    },
    {
      "cell_type": "code",
      "source": [
        "VOCAB_SIZE = len(tokenizer.word_index)\n",
        "VOCAB_SIZE"
      ],
      "metadata": {
        "colab": {
          "base_uri": "https://localhost:8080/"
        },
        "id": "5trFrkKtX8JD",
        "outputId": "034ecd40-94be-4598-ffa4-00d62bbf0e07"
      },
      "execution_count": 27,
      "outputs": [
        {
          "output_type": "execute_result",
          "data": {
            "text/plain": [
              "24240"
            ]
          },
          "metadata": {},
          "execution_count": 27
        }
      ]
    },
    {
      "cell_type": "markdown",
      "source": [
        "###**Encoder-Decoder network**"
      ],
      "metadata": {
        "id": "F3F9foXMQ7BK"
      }
    },
    {
      "cell_type": "code",
      "source": [
        "encoder_embedding_size = 64\n",
        "decoder_embedding_size = 64\n",
        "lstm_units = 256\n",
        "\n",
        "np.random.seed(42)\n",
        "tf.random.set_seed(42)\n",
        "\n",
        "encoder_input = keras.layers.Input(shape=[None], dtype=tf.int32)\n",
        "\n",
        "encoder_embedding = keras.layers.Embedding(input_dim=VOCAB_SIZE + 1,output_dim=encoder_embedding_size, input_length=MAX_SEQ_LEN, mask_zero=True)(encoder_input)\n",
        "\n",
        "_, encoder_state_h, encoder_state_c = keras.layers.LSTM(lstm_units, return_state=True)(encoder_embedding)\n",
        "\n",
        "encoder_state = [encoder_state_h, encoder_state_c]\n",
        "\n",
        "decoder_input = keras.layers.Input(shape=[None], dtype=tf.int32)\n",
        "\n",
        "decoder_embedding = keras.layers.Embedding(input_dim=VOCAB_SIZE + 2, output_dim=decoder_embedding_size, mask_zero=True)(decoder_input)\n",
        "\n",
        "decoder_lstm_output = keras.layers.LSTM(lstm_units, return_sequences=True)(decoder_embedding, initial_state=encoder_state)\n",
        "\n",
        "middle_dense_1 = keras.layers.Dense(lstm_units, activation=\"relu\")(decoder_lstm_output)\n",
        "\n",
        "decoder_output = keras.layers.Dense(VOCAB_SIZE + 1, activation=\"softmax\")(middle_dense_1)\n",
        "\n",
        "model = keras.models.Model(inputs=[encoder_input, decoder_input], outputs=[decoder_output])\n",
        "\n",
        "optimizer = keras.optimizers.Nadam(learning_rate=0.008)\n",
        "model.compile(loss=\"sparse_categorical_crossentropy\", optimizer=optimizer, metrics=[\"accuracy\"])\n",
        "model.summary()\n",
        "\n"
      ],
      "metadata": {
        "colab": {
          "base_uri": "https://localhost:8080/"
        },
        "id": "jHYgCVUBWhXl",
        "outputId": "f36902bd-afaf-429e-cc21-ee0bf5221488"
      },
      "execution_count": 32,
      "outputs": [
        {
          "output_type": "stream",
          "name": "stdout",
          "text": [
            "Model: \"model_1\"\n",
            "__________________________________________________________________________________________________\n",
            " Layer (type)                   Output Shape         Param #     Connected to                     \n",
            "==================================================================================================\n",
            " input_3 (InputLayer)           [(None, None)]       0           []                               \n",
            "                                                                                                  \n",
            " input_4 (InputLayer)           [(None, None)]       0           []                               \n",
            "                                                                                                  \n",
            " embedding_2 (Embedding)        (None, None, 64)     1551424     ['input_3[0][0]']                \n",
            "                                                                                                  \n",
            " embedding_3 (Embedding)        (None, None, 64)     1551488     ['input_4[0][0]']                \n",
            "                                                                                                  \n",
            " lstm_2 (LSTM)                  [(None, 256),        328704      ['embedding_2[0][0]']            \n",
            "                                 (None, 256),                                                     \n",
            "                                 (None, 256)]                                                     \n",
            "                                                                                                  \n",
            " lstm_3 (LSTM)                  (None, None, 256)    328704      ['embedding_3[0][0]',            \n",
            "                                                                  'lstm_2[0][1]',                 \n",
            "                                                                  'lstm_2[0][2]']                 \n",
            "                                                                                                  \n",
            " dense_2 (Dense)                (None, None, 256)    65792       ['lstm_3[0][0]']                 \n",
            "                                                                                                  \n",
            " dense_3 (Dense)                (None, None, 24241)  6229937     ['dense_2[0][0]']                \n",
            "                                                                                                  \n",
            "==================================================================================================\n",
            "Total params: 10,056,049\n",
            "Trainable params: 10,056,049\n",
            "Non-trainable params: 0\n",
            "__________________________________________________________________________________________________\n"
          ]
        }
      ]
    },
    {
      "cell_type": "code",
      "source": [
        "history = model.fit([X_train, X_train_decoder], Y_train, epochs=20, validation_split=0.1, batch_size=512)"
      ],
      "metadata": {
        "colab": {
          "base_uri": "https://localhost:8080/"
        },
        "id": "UbRGiGpaW_-R",
        "outputId": "fee9fc70-ccde-484e-ecb2-28d32f97683c"
      },
      "execution_count": 33,
      "outputs": [
        {
          "output_type": "stream",
          "name": "stdout",
          "text": [
            "Epoch 1/20\n",
            "251/251 [==============================] - 160s 586ms/step - loss: 2.8982 - accuracy: 0.1475 - val_loss: 2.4079 - val_accuracy: 0.2027\n",
            "Epoch 2/20\n",
            "251/251 [==============================] - 146s 581ms/step - loss: 1.9488 - accuracy: 0.2869 - val_loss: 1.9004 - val_accuracy: 0.2709\n",
            "Epoch 3/20\n",
            "251/251 [==============================] - 145s 579ms/step - loss: 1.3970 - accuracy: 0.4225 - val_loss: 1.5309 - val_accuracy: 0.3622\n",
            "Epoch 4/20\n",
            "251/251 [==============================] - 144s 575ms/step - loss: 1.0736 - accuracy: 0.5303 - val_loss: 1.2364 - val_accuracy: 0.4568\n",
            "Epoch 5/20\n",
            "251/251 [==============================] - 145s 577ms/step - loss: 0.8564 - accuracy: 0.6113 - val_loss: 1.0505 - val_accuracy: 0.5195\n",
            "Epoch 6/20\n",
            "251/251 [==============================] - 145s 577ms/step - loss: 0.7002 - accuracy: 0.6701 - val_loss: 0.9580 - val_accuracy: 0.5494\n",
            "Epoch 7/20\n",
            "251/251 [==============================] - 144s 575ms/step - loss: 0.5814 - accuracy: 0.7149 - val_loss: 0.9087 - val_accuracy: 0.5656\n",
            "Epoch 8/20\n",
            "251/251 [==============================] - 145s 580ms/step - loss: 0.4918 - accuracy: 0.7509 - val_loss: 0.7968 - val_accuracy: 0.6124\n",
            "Epoch 9/20\n",
            "251/251 [==============================] - 145s 577ms/step - loss: 0.4194 - accuracy: 0.7815 - val_loss: 0.6971 - val_accuracy: 0.6510\n",
            "Epoch 10/20\n",
            "251/251 [==============================] - 145s 578ms/step - loss: 0.3613 - accuracy: 0.8075 - val_loss: 0.6321 - val_accuracy: 0.6764\n",
            "Epoch 11/20\n",
            "251/251 [==============================] - 145s 577ms/step - loss: 0.3200 - accuracy: 0.8262 - val_loss: 0.5667 - val_accuracy: 0.7062\n",
            "Epoch 12/20\n",
            "251/251 [==============================] - 145s 576ms/step - loss: 0.2850 - accuracy: 0.8428 - val_loss: 0.5329 - val_accuracy: 0.7195\n",
            "Epoch 13/20\n",
            "251/251 [==============================] - 144s 575ms/step - loss: 0.2559 - accuracy: 0.8571 - val_loss: 0.4644 - val_accuracy: 0.7522\n",
            "Epoch 14/20\n",
            "251/251 [==============================] - 144s 576ms/step - loss: 0.2343 - accuracy: 0.8674 - val_loss: 0.4229 - val_accuracy: 0.7708\n",
            "Epoch 15/20\n",
            "251/251 [==============================] - 145s 578ms/step - loss: 0.2188 - accuracy: 0.8749 - val_loss: 0.3680 - val_accuracy: 0.7977\n",
            "Epoch 16/20\n",
            "251/251 [==============================] - 144s 575ms/step - loss: 0.1983 - accuracy: 0.8857 - val_loss: 0.3873 - val_accuracy: 0.7884\n",
            "Epoch 17/20\n",
            "251/251 [==============================] - 144s 572ms/step - loss: 0.1933 - accuracy: 0.8877 - val_loss: 0.3994 - val_accuracy: 0.7873\n",
            "Epoch 18/20\n",
            "251/251 [==============================] - 144s 574ms/step - loss: 0.1883 - accuracy: 0.8901 - val_loss: 0.3186 - val_accuracy: 0.8214\n",
            "Epoch 19/20\n",
            "251/251 [==============================] - 144s 574ms/step - loss: 0.1624 - accuracy: 0.9047 - val_loss: 0.2901 - val_accuracy: 0.8369\n",
            "Epoch 20/20\n",
            "251/251 [==============================] - 143s 571ms/step - loss: 0.1623 - accuracy: 0.9039 - val_loss: 0.3939 - val_accuracy: 0.7932\n"
          ]
        }
      ]
    },
    {
      "cell_type": "code",
      "source": [
        "history = model.fit([X_train, X_train_decoder], Y_train, epochs=5, validation_split=0.1, batch_size=512)"
      ],
      "metadata": {
        "colab": {
          "base_uri": "https://localhost:8080/"
        },
        "id": "FCDrBT7TVfXN",
        "outputId": "8921b3ec-af8b-404c-e0df-5a952965b0dc"
      },
      "execution_count": 41,
      "outputs": [
        {
          "output_type": "stream",
          "name": "stdout",
          "text": [
            "Epoch 1/5\n",
            "251/251 [==============================] - 145s 578ms/step - loss: 0.1703 - accuracy: 0.8996 - val_loss: 0.2775 - val_accuracy: 0.8424\n",
            "Epoch 2/5\n",
            "251/251 [==============================] - 144s 573ms/step - loss: 0.1419 - accuracy: 0.9155 - val_loss: 0.2942 - val_accuracy: 0.8364\n",
            "Epoch 3/5\n",
            "251/251 [==============================] - 144s 573ms/step - loss: 0.1531 - accuracy: 0.9090 - val_loss: 0.2358 - val_accuracy: 0.8664\n",
            "Epoch 4/5\n",
            "251/251 [==============================] - 144s 573ms/step - loss: 0.1342 - accuracy: 0.9195 - val_loss: 0.2454 - val_accuracy: 0.8607\n",
            "Epoch 5/5\n",
            "251/251 [==============================] - 143s 572ms/step - loss: 0.1450 - accuracy: 0.9135 - val_loss: 0.2602 - val_accuracy: 0.8556\n"
          ]
        }
      ]
    },
    {
      "cell_type": "code",
      "source": [
        "history = model.fit([X_train, X_train_decoder], Y_train, epochs=5, validation_split=0.1, batch_size=512)"
      ],
      "metadata": {
        "colab": {
          "base_uri": "https://localhost:8080/"
        },
        "id": "qCIEWmA9bKsF",
        "outputId": "802af1c3-88c3-4d0b-ccc9-e91cee380ab3"
      },
      "execution_count": 50,
      "outputs": [
        {
          "output_type": "stream",
          "name": "stdout",
          "text": [
            "Epoch 1/5\n",
            "251/251 [==============================] - 147s 585ms/step - loss: 0.1454 - accuracy: 0.9136 - val_loss: 0.2294 - val_accuracy: 0.8698\n",
            "Epoch 2/5\n",
            "251/251 [==============================] - 144s 573ms/step - loss: 0.1227 - accuracy: 0.9263 - val_loss: 0.2260 - val_accuracy: 0.8730\n",
            "Epoch 3/5\n",
            "251/251 [==============================] - 144s 572ms/step - loss: 0.1334 - accuracy: 0.9202 - val_loss: 0.2092 - val_accuracy: 0.8802\n",
            "Epoch 4/5\n",
            "251/251 [==============================] - 143s 569ms/step - loss: 0.1281 - accuracy: 0.9230 - val_loss: 0.2150 - val_accuracy: 0.8782\n",
            "Epoch 5/5\n",
            "251/251 [==============================] - 143s 570ms/step - loss: 0.1280 - accuracy: 0.9231 - val_loss: 0.2343 - val_accuracy: 0.8692\n"
          ]
        }
      ]
    },
    {
      "cell_type": "code",
      "source": [
        "history = model.fit([X_train, X_train_decoder], Y_train, epochs=10, validation_split=0.1, batch_size=512)"
      ],
      "metadata": {
        "colab": {
          "base_uri": "https://localhost:8080/"
        },
        "id": "oKVFAAo0fHSj",
        "outputId": "2cc52e0f-4dfe-4801-f025-7e21bfcf44c4"
      },
      "execution_count": 58,
      "outputs": [
        {
          "output_type": "stream",
          "name": "stdout",
          "text": [
            "Epoch 1/10\n",
            "251/251 [==============================] - 146s 580ms/step - loss: 0.1369 - accuracy: 0.9186 - val_loss: 0.2236 - val_accuracy: 0.8756\n",
            "Epoch 2/10\n",
            "251/251 [==============================] - 143s 572ms/step - loss: 0.1227 - accuracy: 0.9263 - val_loss: 0.1614 - val_accuracy: 0.9068\n",
            "Epoch 3/10\n",
            "251/251 [==============================] - 143s 569ms/step - loss: 0.1015 - accuracy: 0.9385 - val_loss: 0.1690 - val_accuracy: 0.9029\n",
            "Epoch 4/10\n",
            "251/251 [==============================] - 143s 569ms/step - loss: 0.1199 - accuracy: 0.9281 - val_loss: 0.2076 - val_accuracy: 0.8838\n",
            "Epoch 5/10\n",
            "251/251 [==============================] - 142s 568ms/step - loss: 0.1377 - accuracy: 0.9187 - val_loss: 0.1990 - val_accuracy: 0.8879\n",
            "Epoch 6/10\n",
            "251/251 [==============================] - 143s 569ms/step - loss: 0.1207 - accuracy: 0.9281 - val_loss: 0.1811 - val_accuracy: 0.8971\n",
            "Epoch 7/10\n",
            "251/251 [==============================] - 142s 567ms/step - loss: 0.1146 - accuracy: 0.9315 - val_loss: 0.1931 - val_accuracy: 0.8909\n",
            "Epoch 8/10\n",
            "251/251 [==============================] - 143s 569ms/step - loss: 0.1183 - accuracy: 0.9296 - val_loss: 0.2191 - val_accuracy: 0.8801\n",
            "Epoch 9/10\n",
            "251/251 [==============================] - 143s 569ms/step - loss: 0.1192 - accuracy: 0.9292 - val_loss: 0.1625 - val_accuracy: 0.9075\n",
            "Epoch 10/10\n",
            "251/251 [==============================] - 143s 569ms/step - loss: 0.1015 - accuracy: 0.9387 - val_loss: 0.1556 - val_accuracy: 0.9113\n"
          ]
        }
      ]
    },
    {
      "cell_type": "code",
      "source": [
        "history = model.fit([X_train, X_train_decoder], Y_train, epochs=10, validation_split=0.1, batch_size=512)"
      ],
      "metadata": {
        "colab": {
          "base_uri": "https://localhost:8080/"
        },
        "id": "6YO4KNgqlGmF",
        "outputId": "71bc0e48-b009-4009-816d-114f7d6e0ca6"
      },
      "execution_count": 64,
      "outputs": [
        {
          "output_type": "stream",
          "name": "stdout",
          "text": [
            "Epoch 1/10\n",
            "251/251 [==============================] - 144s 574ms/step - loss: 0.1090 - accuracy: 0.9349 - val_loss: 0.1859 - val_accuracy: 0.8960\n",
            "Epoch 2/10\n",
            "251/251 [==============================] - 143s 569ms/step - loss: 0.1262 - accuracy: 0.9257 - val_loss: 0.1984 - val_accuracy: 0.8913\n",
            "Epoch 3/10\n",
            "251/251 [==============================] - 143s 568ms/step - loss: 0.1265 - accuracy: 0.9259 - val_loss: 0.1493 - val_accuracy: 0.9149\n",
            "Epoch 4/10\n",
            "251/251 [==============================] - 143s 568ms/step - loss: 0.0926 - accuracy: 0.9440 - val_loss: 0.1166 - val_accuracy: 0.9318\n",
            "Epoch 5/10\n",
            "251/251 [==============================] - 143s 569ms/step - loss: 0.0808 - accuracy: 0.9509 - val_loss: 0.1570 - val_accuracy: 0.9109\n",
            "Epoch 6/10\n",
            "251/251 [==============================] - 143s 569ms/step - loss: 0.1421 - accuracy: 0.9184 - val_loss: 0.2582 - val_accuracy: 0.8661\n",
            "Epoch 7/10\n",
            "251/251 [==============================] - 142s 567ms/step - loss: 0.1545 - accuracy: 0.9127 - val_loss: 0.1778 - val_accuracy: 0.9001\n",
            "Epoch 8/10\n",
            "251/251 [==============================] - 142s 566ms/step - loss: 0.0948 - accuracy: 0.9434 - val_loss: 0.1041 - val_accuracy: 0.9388\n",
            "Epoch 9/10\n",
            "251/251 [==============================] - 142s 566ms/step - loss: 0.0609 - accuracy: 0.9629 - val_loss: 0.0969 - val_accuracy: 0.9433\n",
            "Epoch 10/10\n",
            "251/251 [==============================] - 143s 569ms/step - loss: 0.0798 - accuracy: 0.9518 - val_loss: 0.1901 - val_accuracy: 0.8962\n"
          ]
        }
      ]
    },
    {
      "cell_type": "code",
      "source": [
        "history = model.fit([X_train, X_train_decoder], Y_train, epochs=5, validation_split=0.1, batch_size=512)"
      ],
      "metadata": {
        "colab": {
          "base_uri": "https://localhost:8080/"
        },
        "id": "-gxo2L9Kquhs",
        "outputId": "102c585c-211e-49be-a6e5-6f6b762de18b"
      },
      "execution_count": 66,
      "outputs": [
        {
          "output_type": "stream",
          "name": "stdout",
          "text": [
            "Epoch 1/5\n",
            "251/251 [==============================] - 144s 572ms/step - loss: 0.1856 - accuracy: 0.8992 - val_loss: 0.2774 - val_accuracy: 0.8590\n",
            "Epoch 2/5\n",
            "251/251 [==============================] - 143s 568ms/step - loss: 0.1512 - accuracy: 0.9149 - val_loss: 0.1407 - val_accuracy: 0.9194\n",
            "Epoch 3/5\n",
            "251/251 [==============================] - 142s 566ms/step - loss: 0.0739 - accuracy: 0.9554 - val_loss: 0.0726 - val_accuracy: 0.9578\n",
            "Epoch 4/5\n",
            "251/251 [==============================] - 142s 564ms/step - loss: 0.0423 - accuracy: 0.9745 - val_loss: 0.0598 - val_accuracy: 0.9661\n",
            "Epoch 5/5\n",
            "251/251 [==============================] - 142s 566ms/step - loss: 0.0632 - accuracy: 0.9617 - val_loss: 0.2486 - val_accuracy: 0.8745\n"
          ]
        }
      ]
    },
    {
      "cell_type": "code",
      "source": [
        "history = model.fit([X_train, X_train_decoder], Y_train, epochs=5, validation_split=0.1, batch_size=512)"
      ],
      "metadata": {
        "colab": {
          "base_uri": "https://localhost:8080/"
        },
        "id": "lMOV74G0t6lE",
        "outputId": "76dd8c37-705b-4367-fa00-a96e27ced970"
      },
      "execution_count": 72,
      "outputs": [
        {
          "output_type": "stream",
          "name": "stdout",
          "text": [
            "Epoch 1/5\n",
            "251/251 [==============================] - 144s 573ms/step - loss: 0.2615 - accuracy: 0.8685 - val_loss: 0.2872 - val_accuracy: 0.8535\n",
            "Epoch 2/5\n",
            "251/251 [==============================] - 143s 571ms/step - loss: 0.1347 - accuracy: 0.9233 - val_loss: 0.1010 - val_accuracy: 0.9409\n",
            "Epoch 3/5\n",
            "251/251 [==============================] - 142s 566ms/step - loss: 0.0469 - accuracy: 0.9721 - val_loss: 0.0489 - val_accuracy: 0.9734\n",
            "Epoch 4/5\n",
            "251/251 [==============================] - 142s 564ms/step - loss: 0.0268 - accuracy: 0.9849 - val_loss: 0.0382 - val_accuracy: 0.9798\n",
            "Epoch 5/5\n",
            "251/251 [==============================] - 142s 566ms/step - loss: 0.0359 - accuracy: 0.9785 - val_loss: 0.1474 - val_accuracy: 0.9177\n"
          ]
        }
      ]
    },
    {
      "cell_type": "code",
      "source": [
        "history = model.fit([X_train, X_train_decoder], Y_train, epochs=4, validation_split=0.1, batch_size=512)"
      ],
      "metadata": {
        "colab": {
          "base_uri": "https://localhost:8080/"
        },
        "id": "9rBkE9pcwyrq",
        "outputId": "557e0926-b8c9-4211-8bda-81f706e3143a"
      },
      "execution_count": 74,
      "outputs": [
        {
          "output_type": "stream",
          "name": "stdout",
          "text": [
            "Epoch 1/4\n",
            "251/251 [==============================] - 144s 572ms/step - loss: 0.3131 - accuracy: 0.8510 - val_loss: 0.3870 - val_accuracy: 0.8170\n",
            "Epoch 2/4\n",
            "251/251 [==============================] - 142s 568ms/step - loss: 0.1712 - accuracy: 0.9059 - val_loss: 0.1049 - val_accuracy: 0.9379\n",
            "Epoch 3/4\n",
            "251/251 [==============================] - 143s 568ms/step - loss: 0.0435 - accuracy: 0.9745 - val_loss: 0.0399 - val_accuracy: 0.9793\n",
            "Epoch 4/4\n",
            "251/251 [==============================] - 142s 566ms/step - loss: 0.0160 - accuracy: 0.9928 - val_loss: 0.0202 - val_accuracy: 0.9927\n"
          ]
        }
      ]
    },
    {
      "cell_type": "markdown",
      "source": [
        "**almost 99% accuracy**"
      ],
      "metadata": {
        "id": "KafwsaNYH7wx"
      }
    },
    {
      "cell_type": "code",
      "source": [
        "model.save(\"sentence_model_best.h5\")"
      ],
      "metadata": {
        "id": "YcZe294WJs2u"
      },
      "execution_count": 82,
      "outputs": []
    },
    {
      "cell_type": "markdown",
      "source": [
        "###**Simple seq2seq network**"
      ],
      "metadata": {
        "id": "rdvpqp9WRAqC"
      }
    },
    {
      "cell_type": "markdown",
      "source": [
        "**model evaluation on test data**"
      ],
      "metadata": {
        "id": "vtOseVVsIx8W"
      }
    },
    {
      "cell_type": "code",
      "source": [
        "model = keras.models.load_model(\"sentence_model_best.h5\")"
      ],
      "metadata": {
        "id": "n8H6DWLiNMPM"
      },
      "execution_count": 84,
      "outputs": []
    },
    {
      "cell_type": "code",
      "source": [
        "ids = np.argmax(model.predict([X_test[:1], X_test_decoder[:1]]), axis=-1)\n",
        "ids, Y_test[:1]"
      ],
      "metadata": {
        "colab": {
          "base_uri": "https://localhost:8080/"
        },
        "id": "-91S1Qjfxjoh",
        "outputId": "6417769e-3789-4eac-e59e-debc55b79499"
      },
      "execution_count": 77,
      "outputs": [
        {
          "output_type": "execute_result",
          "data": {
            "text/plain": [
              "(array([[20958,     7,     2,  1220,   110,     2, 10594,   548,    20,\n",
              "            28,   216,    17,   113,     5,  1631,   124,    33,     6,\n",
              "           199,  3183,    14,     0,   101,   101,   101,   101,   101,\n",
              "           101,   101,   101,   101,   101,   101,   101,   101,   101,\n",
              "           101,   101,   101,   101,   101,   101,   101,   101,   101]]),\n",
              " array([[20958,     7,     2,  1220,   110,     2, 10594,   548,    20,\n",
              "            28,   216,    17,   113,     5,  1631,   124,    33,     6,\n",
              "           199,  3183,    14,     0,     0,     0,     0,     0,     0,\n",
              "             0,     0,     0,     0,     0,     0,     0,     0,     0,\n",
              "             0,     0,     0,     0,     0,     0,     0,     0,     0]],\n",
              "       dtype=int32))"
            ]
          },
          "metadata": {},
          "execution_count": 77
        }
      ]
    },
    {
      "cell_type": "code",
      "source": [
        "print(\"Evaluate on test data\")\n",
        "results = model.evaluate([X_test, X_test_decoder], Y_test, batch_size=512)\n",
        "print(\"test loss, test acc:\", results)"
      ],
      "metadata": {
        "colab": {
          "base_uri": "https://localhost:8080/"
        },
        "id": "MJb6gcXWI5Vn",
        "outputId": "5fd4e181-4a2e-40ff-d256-1e2735202524"
      },
      "execution_count": 85,
      "outputs": [
        {
          "output_type": "stream",
          "name": "stdout",
          "text": [
            "Evaluate on test data\n",
            "70/70 [==============================] - 22s 289ms/step - loss: 0.0198 - accuracy: 0.9925\n",
            "test loss, test acc: [0.01978108659386635, 0.9924798011779785]\n"
          ]
        }
      ]
    },
    {
      "cell_type": "markdown",
      "source": [
        "###**Rebuild sentences**"
      ],
      "metadata": {
        "id": "p7YoZLmqOKpN"
      }
    },
    {
      "cell_type": "code",
      "source": [
        "reverse_word_map = dict(map(reversed, tokenizer.word_index.items()))\n",
        "def sequence_to_text(list_of_indices):\n",
        "    # Looking up words in dictionary\n",
        "    words = [reverse_word_map.get(letter) for letter in list_of_indices]\n",
        "    return(words)\n",
        "\n",
        "def remove_padding_and_join(texts):\n",
        "  for i in range(len(texts)):\n",
        "    no_padding = filter(lambda a: a != '<PAD>', texts[i])\n",
        "    texts[i] = ' '.join(list(no_padding))\n",
        "  return texts\n",
        "    \n",
        "\n",
        "def reconstruct_predicted_list(texts):\n",
        "  for i in range(len(texts)):\n",
        "    pad_start = texts[i].index('<PAD>')\n",
        "    texts[i] = texts[i][:pad_start]\n",
        "    no_padding = filter(lambda a: a != '<PAD>', texts[i])\n",
        "    texts[i] = ' '.join(list(no_padding))\n",
        "  return texts\n",
        "\n",
        "def get_predictions_on_test(count):\n",
        "    Y_preds = model.predict([X_test[:count], X_test_decoder[:count]])\n",
        "    encoded_argmax  = np.argmax(Y_preds, axis=-1)\n",
        "    return encoded_argmax, Y_test[:count]\n",
        "\n",
        "def get_predicted_sentences(predicted):\n",
        "  predicted_word_list = list(map(sequence_to_text, predicted))\n",
        "  predicted_sent_list = reconstruct_predicted_list(predicted_word_list)\n",
        "  return predicted_sent_list\n",
        "\n",
        "def get_original_sentences(original):\n",
        "  original_word_list  = list(map(sequence_to_text, original))\n",
        "  original_sent_list = remove_padding_and_join(original_word_list)\n",
        "  return original_sent_list \n",
        "\n",
        "\n",
        "def rebuild_sentence_from_sequence(count=20):\n",
        "  predicted, original = get_predictions_on_test(count)\n",
        "  predicted_sent_list = get_predicted_sentences(predicted)\n",
        "  original_sent_list  = get_original_sentences(original)\n",
        "  return predicted_sent_list, original_sent_list\n",
        "  \n"
      ],
      "metadata": {
        "id": "qPrbtyI2yRg4"
      },
      "execution_count": 37,
      "outputs": []
    },
    {
      "cell_type": "code",
      "source": [
        "preds, origs = rebuild_sentence_from_sequence(10)\n",
        "preds, origs"
      ],
      "metadata": {
        "colab": {
          "base_uri": "https://localhost:8080/"
        },
        "id": "_wRouJWAOOLV",
        "outputId": "4a7bec3f-01a8-4b88-9c7d-5965c2d65ac9"
      },
      "execution_count": 79,
      "outputs": [
        {
          "output_type": "execute_result",
          "data": {
            "text/plain": [
              "(['سیلی که در اوائل هفته در منطقهء مرکزی آن کشور جاری شد بیش از ۱۴ هزار نفر را بی خانمان کرد',\n",
              "  'آنها بزرگراه\\u200cها و یک گذرگاه مرزی با فرانسه را بسته بودند',\n",
              "  'مقامات ارتش فیلیپین می\\u200cگویند در نبردی که بین نیروهای نظامی و شورشیان کمونیست در شمال کشور درگرفت سه سرباز جانسپردند و سه نفر مجروح شدند',\n",
              "  'ارتش فیلیپین می\\u200cگوید در حمله نیروهای دولتی به یک موضع شورشیان در جنوب کشور دست کم ۱۳ شورشی مسلمان از پای در آمدند و ۳۰ نفر دیگر مجروح شدند',\n",
              "  'پرزیدنت بوش گفت قانونگزاران باید از اشتباهاتی که موجب شکست در اصلاحات قبلی شد درس و عبرت بگیرند',\n",
              "  'مقامات صنعت نفت عراق اظهارداشتند صادرات نفت خام عراق به علت حملات تروریستی وشرایط نامساعد جوی از زمان آغازجنگ تاکنون به پائین\\u200cترین سطح خود تنزل کرده است',\n",
              "  'خبرنگارانی که شاهد اعلام حکم دادگاه بودند میگویند بنظر میرسید صدام پس از شنیدن حکم می\\u200cلرزید',\n",
              "  'شوکت عزیز نخست وزیر پاکستان میگوید کشورش با بمب گذاریهای اخیر لندن و شرم الشیخ در مصر هیچگونه ارتباطی ندارد',\n",
              "  'یک آتش نشان در این قسمت کشته شد و مجموعا ۲۰ نفر طی این آتش سوزی کشته شدند',\n",
              "  'تصویب لایحه مشابهی درمجلس سنای آمریکا روزدوشنبه متوقف گردید چرا که سناتورهای جمهوری خواه تقریبا به اتفاق آرا مانع ازتصویت لایحه شدند'],\n",
              " ['سیلی که در اوائل هفته در منطقهء مرکزی آن کشور جاری شد بیش از ۱۴ هزار نفر را بی خانمان کرد',\n",
              "  'آنها بزرگراه\\u200cها و یک گذرگاه مرزی با فرانسه را بسته بودند',\n",
              "  'مقامات ارتش فیلیپین می\\u200cگویند در نبردی که بین نیروهای نظامی و شورشیان کمونیست در شمال کشور درگرفت سه سرباز جانسپردند و سه نفر مجروح شدند',\n",
              "  'ارتش فیلیپین می\\u200cگوید در حمله نیروهای دولتی به یک موضع شورشیان در جنوب کشور دست کم ۱۳ شورشی مسلمان از پای در آمدند و ۳۰ نفر دیگر مجروح شدند',\n",
              "  'پرزیدنت بوش گفت قانونگزاران باید از اشتباهاتی که موجب شکست در اصلاحات قبلی شد درس و عبرت بگیرند',\n",
              "  'مقامات صنعت نفت عراق اظهارداشتند صادرات نفت خام عراق به علت حملات تروریستی وشرایط نامساعد جوی از زمان آغازجنگ تاکنون به پائین\\u200cترین سطح خود تنزل کرده است',\n",
              "  'خبرنگارانی که شاهد اعلام حکم دادگاه بودند میگویند بنظر میرسید صدام پس از شنیدن حکم می\\u200cلرزید',\n",
              "  'شوکت عزیز نخست وزیر پاکستان میگوید کشورش با بمب گذاریهای اخیر لندن و شرم الشیخ در مصر هیچگونه ارتباطی ندارد',\n",
              "  'یک آتش نشان در این قسمت کشته شد و مجموعا ۲۰ نفر طی این آتش سوزی کشته شدند',\n",
              "  'تصویب لایحه مشابهی درمجلس سنای آمریکا روزدوشنبه متوقف گردید چرا که سناتورهای جمهوری خواه تقریبا به اتفاق آرا مانع ازتصویت لایحه شدند'])"
            ]
          },
          "metadata": {},
          "execution_count": 79
        }
      ]
    },
    {
      "cell_type": "code",
      "source": [
        "def log(args):\n",
        "  for arg in args:\n",
        "    print(arg, '\\n')\n",
        "    print('-----\\n')"
      ],
      "metadata": {
        "id": "1f9Rhh_mz120"
      },
      "execution_count": 80,
      "outputs": []
    },
    {
      "cell_type": "code",
      "source": [
        "sos_id = last_idx\n",
        "def infere_sentence(sentence):\n",
        "  X_text = np.asarray([sentence], dtype=object)\n",
        "  X_seq = tokenizer.texts_to_sequences(X_text)\n",
        "  X = keras.preprocessing.sequence.pad_sequences(X_seq, maxlen=MAX_SEQ_LEN, padding='post')\n",
        "  Y_pred = np.full((X.shape[0], 1), sos_id)\n",
        "  for index in range(MAX_SEQ_LEN):\n",
        "    X_decoder = keras.preprocessing.sequence.pad_sequences(Y_pred, maxlen=MAX_SEQ_LEN, padding='post')\n",
        "    Y_pred_next = tf.argmax(model.predict([X, X_decoder]), axis=-1)[:, index:index+1]\n",
        "    #log([X, Y_pred, X_decoder, Y_pred_next])\n",
        "    Y_pred = np.concatenate([Y_pred, Y_pred_next], axis=1)\n",
        "  return Y_pred\n",
        "\n",
        "def predict_a_sentence(sentence):\n",
        "  Y_pred = infere_sentence(sentence)\n",
        "  output = np.delete(Y_pred, np.where(Y_pred==sos_id), axis=1)\n",
        "  return get_predicted_sentences(output)\n",
        "\n",
        "\n",
        "test_str = 'شوکت عزیز نخست وزیر پاکستان میگوید کشورش با بمب گذاریهای اخیر لندن و شرم الشیخ در مصر هیچگونه ارتباطی ندارد'\n",
        "shuffled_str = text_scramble(test_str)\n",
        "print(shuffled_str)\n",
        "print(predict_a_sentence(shuffled_str))\n",
        "test_str = 'ایران وطن من است'\n",
        "shuffled_str = text_scramble(test_str)\n",
        "print(shuffled_str)\n",
        "print(predict_a_sentence(shuffled_str))"
      ],
      "metadata": {
        "id": "AOwmSY_go1F_",
        "colab": {
          "base_uri": "https://localhost:8080/"
        },
        "outputId": "483f4528-b5a7-4f70-f583-3b90a153eea1"
      },
      "execution_count": 89,
      "outputs": [
        {
          "output_type": "stream",
          "name": "stdout",
          "text": [
            "بمب کشورش شوکت میگوید اخیر و لندن وزیر مصر الشیخ گذاریهای با ندارد هیچگونه شرم نخست در عزیز پاکستان ارتباطی\n",
            "['شوکت عزیز نخست وزیر پاکستان میگوید کشورش با بمب گذاریهای اخیر لندن و شرم الشیخ در مصر هیچگونه ارتباطی ندارد']\n",
            "من ایران وطن است\n",
            "['این چیز تازه\\u200cای شد']\n"
          ]
        }
      ]
    },
    {
      "cell_type": "code",
      "source": [
        "path = 'data/test_sents.txt'\n",
        "with open(path, 'r', encoding='utf-8') as f:\n",
        "  test_sents = [line.strip() for line in f.readlines()]\n",
        "\n",
        "MAX_LEN = 170\n",
        "test_sents_cleaned = [text_preprocess(s) for s in test_sents]\n",
        "len(test_sents_cleaned)"
      ],
      "metadata": {
        "colab": {
          "base_uri": "https://localhost:8080/"
        },
        "id": "c3BZ3JLLPsA0",
        "outputId": "4eef5b75-23c9-4ab4-c075-74c83860bd4a"
      },
      "execution_count": 90,
      "outputs": [
        {
          "output_type": "execute_result",
          "data": {
            "text/plain": [
              "50"
            ]
          },
          "metadata": {},
          "execution_count": 90
        }
      ]
    },
    {
      "cell_type": "code",
      "source": [
        "test_df = create_dataframe(create_shuffles(test_sents_cleaned, 1))\n",
        "test_df"
      ],
      "metadata": {
        "colab": {
          "base_uri": "https://localhost:8080/",
          "height": 424
        },
        "id": "OjTbmta-Pz-z",
        "outputId": "134bc934-f19a-4807-e13a-10c695aaa592"
      },
      "execution_count": 91,
      "outputs": [
        {
          "output_type": "execute_result",
          "data": {
            "text/plain": [
              "                                             Shuffled  \\\n",
              "0   امروزه سفر کنیم که اپلیکیشن آسوده‌تر باعث سفر ...   \n",
              "1   سفر شده کنیم سفر اپلیکیشن آسوده‌تر است امروزه ...   \n",
              "2   فناوری است مصادیق حال شکل‌گیری افراد حال جاه‌ط...   \n",
              "3   دنیای این معنی است فناوری در به آینده‌نگر مصاد...   \n",
              "4   کودکان بیشتر وقت فضای می‌گذرانند در خود امروزه...   \n",
              "..                                                ...   \n",
              "95  قضائی را کنید رفع خبرنگاران بازداشتی و مشکل محکوم   \n",
              "96  روز ویدیویی اخبار و تازه‌ترین شماست رایگان فور...   \n",
              "97  و به‌صورت و اخبار رایگان در خبرهای ویدیویی دست...   \n",
              "98  که آنها همه کسی چه کنترل رسانه‌هایی را می‌کند ...   \n",
              "99  همه می‌دانید می‌کند کنترل آنها رسانه‌هایی کسی ...   \n",
              "\n",
              "                                             Original  \n",
              "0   اپلیکیشن سفر باعث شده است که امروزه آسوده‌تر س...  \n",
              "1   اپلیکیشن سفر باعث شده است که امروزه آسوده‌تر س...  \n",
              "2   معنی و مصادیق این واژه در حال حاضر در دنیای فن...  \n",
              "3   معنی و مصادیق این واژه در حال حاضر در دنیای فن...  \n",
              "4   امروزه کودکان بیشتر وقت خود را در فضای مجازی م...  \n",
              "..                                                ...  \n",
              "95  مشکل قضائی خبرنگاران محکوم و بازداشتی را رفع کنید  \n",
              "96  تازه‌ترین خبرهای روز و اخبار فوری به‌صورت ویدی...  \n",
              "97  تازه‌ترین خبرهای روز و اخبار فوری به‌صورت ویدی...  \n",
              "98  رسانه‌هایی که همه می‌دانید چه کسی آنها را کنتر...  \n",
              "99  رسانه‌هایی که همه می‌دانید چه کسی آنها را کنتر...  \n",
              "\n",
              "[100 rows x 2 columns]"
            ],
            "text/html": [
              "\n",
              "  <div id=\"df-fc6ba588-374a-4a92-ab92-0a5725601729\">\n",
              "    <div class=\"colab-df-container\">\n",
              "      <div>\n",
              "<style scoped>\n",
              "    .dataframe tbody tr th:only-of-type {\n",
              "        vertical-align: middle;\n",
              "    }\n",
              "\n",
              "    .dataframe tbody tr th {\n",
              "        vertical-align: top;\n",
              "    }\n",
              "\n",
              "    .dataframe thead th {\n",
              "        text-align: right;\n",
              "    }\n",
              "</style>\n",
              "<table border=\"1\" class=\"dataframe\">\n",
              "  <thead>\n",
              "    <tr style=\"text-align: right;\">\n",
              "      <th></th>\n",
              "      <th>Shuffled</th>\n",
              "      <th>Original</th>\n",
              "    </tr>\n",
              "  </thead>\n",
              "  <tbody>\n",
              "    <tr>\n",
              "      <th>0</th>\n",
              "      <td>امروزه سفر کنیم که اپلیکیشن آسوده‌تر باعث سفر ...</td>\n",
              "      <td>اپلیکیشن سفر باعث شده است که امروزه آسوده‌تر س...</td>\n",
              "    </tr>\n",
              "    <tr>\n",
              "      <th>1</th>\n",
              "      <td>سفر شده کنیم سفر اپلیکیشن آسوده‌تر است امروزه ...</td>\n",
              "      <td>اپلیکیشن سفر باعث شده است که امروزه آسوده‌تر س...</td>\n",
              "    </tr>\n",
              "    <tr>\n",
              "      <th>2</th>\n",
              "      <td>فناوری است مصادیق حال شکل‌گیری افراد حال جاه‌ط...</td>\n",
              "      <td>معنی و مصادیق این واژه در حال حاضر در دنیای فن...</td>\n",
              "    </tr>\n",
              "    <tr>\n",
              "      <th>3</th>\n",
              "      <td>دنیای این معنی است فناوری در به آینده‌نگر مصاد...</td>\n",
              "      <td>معنی و مصادیق این واژه در حال حاضر در دنیای فن...</td>\n",
              "    </tr>\n",
              "    <tr>\n",
              "      <th>4</th>\n",
              "      <td>کودکان بیشتر وقت فضای می‌گذرانند در خود امروزه...</td>\n",
              "      <td>امروزه کودکان بیشتر وقت خود را در فضای مجازی م...</td>\n",
              "    </tr>\n",
              "    <tr>\n",
              "      <th>...</th>\n",
              "      <td>...</td>\n",
              "      <td>...</td>\n",
              "    </tr>\n",
              "    <tr>\n",
              "      <th>95</th>\n",
              "      <td>قضائی را کنید رفع خبرنگاران بازداشتی و مشکل محکوم</td>\n",
              "      <td>مشکل قضائی خبرنگاران محکوم و بازداشتی را رفع کنید</td>\n",
              "    </tr>\n",
              "    <tr>\n",
              "      <th>96</th>\n",
              "      <td>روز ویدیویی اخبار و تازه‌ترین شماست رایگان فور...</td>\n",
              "      <td>تازه‌ترین خبرهای روز و اخبار فوری به‌صورت ویدی...</td>\n",
              "    </tr>\n",
              "    <tr>\n",
              "      <th>97</th>\n",
              "      <td>و به‌صورت و اخبار رایگان در خبرهای ویدیویی دست...</td>\n",
              "      <td>تازه‌ترین خبرهای روز و اخبار فوری به‌صورت ویدی...</td>\n",
              "    </tr>\n",
              "    <tr>\n",
              "      <th>98</th>\n",
              "      <td>که آنها همه کسی چه کنترل رسانه‌هایی را می‌کند ...</td>\n",
              "      <td>رسانه‌هایی که همه می‌دانید چه کسی آنها را کنتر...</td>\n",
              "    </tr>\n",
              "    <tr>\n",
              "      <th>99</th>\n",
              "      <td>همه می‌دانید می‌کند کنترل آنها رسانه‌هایی کسی ...</td>\n",
              "      <td>رسانه‌هایی که همه می‌دانید چه کسی آنها را کنتر...</td>\n",
              "    </tr>\n",
              "  </tbody>\n",
              "</table>\n",
              "<p>100 rows × 2 columns</p>\n",
              "</div>\n",
              "      <button class=\"colab-df-convert\" onclick=\"convertToInteractive('df-fc6ba588-374a-4a92-ab92-0a5725601729')\"\n",
              "              title=\"Convert this dataframe to an interactive table.\"\n",
              "              style=\"display:none;\">\n",
              "        \n",
              "  <svg xmlns=\"http://www.w3.org/2000/svg\" height=\"24px\"viewBox=\"0 0 24 24\"\n",
              "       width=\"24px\">\n",
              "    <path d=\"M0 0h24v24H0V0z\" fill=\"none\"/>\n",
              "    <path d=\"M18.56 5.44l.94 2.06.94-2.06 2.06-.94-2.06-.94-.94-2.06-.94 2.06-2.06.94zm-11 1L8.5 8.5l.94-2.06 2.06-.94-2.06-.94L8.5 2.5l-.94 2.06-2.06.94zm10 10l.94 2.06.94-2.06 2.06-.94-2.06-.94-.94-2.06-.94 2.06-2.06.94z\"/><path d=\"M17.41 7.96l-1.37-1.37c-.4-.4-.92-.59-1.43-.59-.52 0-1.04.2-1.43.59L10.3 9.45l-7.72 7.72c-.78.78-.78 2.05 0 2.83L4 21.41c.39.39.9.59 1.41.59.51 0 1.02-.2 1.41-.59l7.78-7.78 2.81-2.81c.8-.78.8-2.07 0-2.86zM5.41 20L4 18.59l7.72-7.72 1.47 1.35L5.41 20z\"/>\n",
              "  </svg>\n",
              "      </button>\n",
              "      \n",
              "  <style>\n",
              "    .colab-df-container {\n",
              "      display:flex;\n",
              "      flex-wrap:wrap;\n",
              "      gap: 12px;\n",
              "    }\n",
              "\n",
              "    .colab-df-convert {\n",
              "      background-color: #E8F0FE;\n",
              "      border: none;\n",
              "      border-radius: 50%;\n",
              "      cursor: pointer;\n",
              "      display: none;\n",
              "      fill: #1967D2;\n",
              "      height: 32px;\n",
              "      padding: 0 0 0 0;\n",
              "      width: 32px;\n",
              "    }\n",
              "\n",
              "    .colab-df-convert:hover {\n",
              "      background-color: #E2EBFA;\n",
              "      box-shadow: 0px 1px 2px rgba(60, 64, 67, 0.3), 0px 1px 3px 1px rgba(60, 64, 67, 0.15);\n",
              "      fill: #174EA6;\n",
              "    }\n",
              "\n",
              "    [theme=dark] .colab-df-convert {\n",
              "      background-color: #3B4455;\n",
              "      fill: #D2E3FC;\n",
              "    }\n",
              "\n",
              "    [theme=dark] .colab-df-convert:hover {\n",
              "      background-color: #434B5C;\n",
              "      box-shadow: 0px 1px 3px 1px rgba(0, 0, 0, 0.15);\n",
              "      filter: drop-shadow(0px 1px 2px rgba(0, 0, 0, 0.3));\n",
              "      fill: #FFFFFF;\n",
              "    }\n",
              "  </style>\n",
              "\n",
              "      <script>\n",
              "        const buttonEl =\n",
              "          document.querySelector('#df-fc6ba588-374a-4a92-ab92-0a5725601729 button.colab-df-convert');\n",
              "        buttonEl.style.display =\n",
              "          google.colab.kernel.accessAllowed ? 'block' : 'none';\n",
              "\n",
              "        async function convertToInteractive(key) {\n",
              "          const element = document.querySelector('#df-fc6ba588-374a-4a92-ab92-0a5725601729');\n",
              "          const dataTable =\n",
              "            await google.colab.kernel.invokeFunction('convertToInteractive',\n",
              "                                                     [key], {});\n",
              "          if (!dataTable) return;\n",
              "\n",
              "          const docLinkHtml = 'Like what you see? Visit the ' +\n",
              "            '<a target=\"_blank\" href=https://colab.research.google.com/notebooks/data_table.ipynb>data table notebook</a>'\n",
              "            + ' to learn more about interactive tables.';\n",
              "          element.innerHTML = '';\n",
              "          dataTable['output_type'] = 'display_data';\n",
              "          await google.colab.output.renderOutput(dataTable, element);\n",
              "          const docLink = document.createElement('div');\n",
              "          docLink.innerHTML = docLinkHtml;\n",
              "          element.appendChild(docLink);\n",
              "        }\n",
              "      </script>\n",
              "    </div>\n",
              "  </div>\n",
              "  "
            ]
          },
          "metadata": {},
          "execution_count": 91
        }
      ]
    },
    {
      "cell_type": "code",
      "source": [
        "def build_predictions_dataframe(df):\n",
        "  preds = []\n",
        "  original = []\n",
        "  for index, row in df.iterrows():\n",
        "    ordered = predict_a_sentence(row['Shuffled'])\n",
        "    print(row['Shuffled'])\n",
        "    preds.append(ordered[0])\n",
        "    original.append(row['Original'])\n",
        "  new_df_dict = { 'Predicted': preds, 'Original': original}\n",
        "  #print(new_df_dict)\n",
        "  new_df = pd.DataFrame(new_df_dict)\n",
        "  return new_df"
      ],
      "metadata": {
        "id": "yiy9CnuqP6E9"
      },
      "execution_count": 92,
      "outputs": []
    },
    {
      "cell_type": "code",
      "source": [
        "result_df = build_predictions_dataframe(test_df)"
      ],
      "metadata": {
        "colab": {
          "base_uri": "https://localhost:8080/"
        },
        "id": "xdQyTx2fQAhM",
        "outputId": "e5f80663-1d3b-4735-be49-7adf4561c3c4"
      },
      "execution_count": 93,
      "outputs": [
        {
          "output_type": "stream",
          "name": "stdout",
          "text": [
            "امروزه سفر کنیم که اپلیکیشن آسوده‌تر باعث سفر است شده\n",
            "سفر شده کنیم سفر اپلیکیشن آسوده‌تر است امروزه که باعث\n",
            "فناوری است مصادیق حال شکل‌گیری افراد حال جاه‌طلب واژه در حاضر به این دنیای و دست در و آینده‌نگر در معنی\n",
            "دنیای این معنی است فناوری در به آینده‌نگر مصادیق دست و در واژه در حال شکل‌گیری جاه‌طلب حال و افراد حاضر\n",
            "کودکان بیشتر وقت فضای می‌گذرانند در خود امروزه مجازی را\n",
            "در مجازی را بیشتر وقت می‌گذرانند فضای امروزه کودکان خود\n",
            "ساده‌تر از امضای استفاده کارها می‌کند ایمیل را\n",
            "امضای را ایمیل استفاده از ساده‌تر می‌کند کارها\n",
            "تکاپوی در سال است از و پایانی جدید روزهای و خیلی نوشتن سال آرزوهای اهداف ما هستیم\n",
            "پایانی آرزوهای جدید سال در و هستیم سال اهداف ما نوشتن خیلی است روزهای از تکاپوی و\n",
            "است که فروید چند انسان شخصیت می‌گوید دارد ماندگارترین روان‌شناس ایده بزرگ جنبه شخصیت نظریه این\n",
            "روان‌شناس دارد ایده نظریه انسان که چند است شخصیت شخصیت بزرگ این ماندگارترین می‌گوید فروید جنبه\n",
            "مادر رقابت با تصاحب جلب می‌کند دختر رقابت مادرش احساس می‌کند پسر پدرش توجه با و پدر به‌شوق می‌کند برای و محبت\n",
            "محبت دختر می‌کند رقابت برای احساس با پدرش می‌کند تصاحب رقابت مادرش مادر و پسر و به‌شوق توجه پدر می‌کند جلب با\n",
            "زندگی‌اش در بگوید تقریبا که صادقانه هیچ‌کس دوران کرده رفتار نمی‌تواند تمام\n",
            "تقریبا که زندگی‌اش هیچ‌کس کرده نمی‌تواند تمام بگوید دوران در صادقانه رفتار\n",
            "است درمانی که انسان‌ها روشی ارتباط با دارد طبیعت ذات مستقیم\n",
            "درمانی دارد روشی طبیعت مستقیم انسان‌ها است که با ارتباط ذات\n",
            "احتمالا شما خورده روانشناسی هم مثبت به گوش گرا اصطلاح است\n",
            "گرا هم روانشناسی به خورده است شما احتمالا اصطلاح گوش مثبت\n",
            "می‌کنند همدلانه از احساسی نه هیچ نه به می‌گیرند می‌دهند شاید نمی‌دهند که پشیمانی دیگران و کرده انگار عذاب‌وجدان باشید افرادی برخورد به شما و با رفتار وقتی هم ندارند طوری خود احساس را آزار نشان می‌رسند نظر دیگران\n",
            "می‌کنند نظر پشیمانی شما طوری با به نه باشید آزار برخورد از هم نمی‌دهند وقتی افرادی احساسی به دیگران رفتار و دیگران انگار را خود نشان که می‌دهند کرده شاید می‌رسند همدلانه عذاب‌وجدان ندارند هیچ می‌گیرند احساس و نه\n",
            "هوش‌های هوش چندگانه آی‌کیو و انواع هوش هوش‌های تعریف‌شده هیجانی منطقی یا هستند\n",
            "و هستند هیجانی منطقی آی‌کیو هوش یا چندگانه هوش‌های هوش‌های انواع هوش تعریف‌شده\n",
            "از مواد آنتی‌اکسیدان ما اطلاع همه بی‌نظیر بدن ما و سلامت تضمین هستند و داریم فیبر سرشار سبزیجات از معدنی را سبزیجات می‌کنند فواید\n",
            "آنتی‌اکسیدان اطلاع فیبر سرشار و از معدنی و از هستند داریم سلامت را بی‌نظیر بدن سبزیجات فواید همه ما ما سبزیجات تضمین می‌کنند مواد\n",
            "و ببینید روز تازگی خراب کاملا پس تازه‌خریداری‌شده لحظه شوند برایتان کنید خرید که باشد وقتی چند شاید جان می‌خواهید دیگر را میوه‌ها پیش‌ آمده یا سبزیجات از را ندارند نوش\n",
            "میوه‌ها شوند تازه‌خریداری‌شده جان و شاید خرید پیش‌ پس کنید لحظه کاملا دیگر یا نوش آمده روز چند برایتان را سبزیجات می‌خواهید وقتی از را که باشد ندارند تازگی ببینید خراب\n",
            "کرونا شد ویروس باعث شویم خانه‌نشین همه‌گیری خیلی\n",
            "خانه‌نشین کرونا باعث همه‌گیری خیلی ویروس شویم شد\n",
            "ایران نماد و ندارد کم نشانه خاص\n",
            "ندارد کم و نماد نشانه ایران خاص\n",
            "آنها غذاهای و دارند بالاست انواع برای دریایی ارزش اقسام بدن و غذایی سلامت مفیدند\n",
            "آنها دریایی و مفیدند و ارزش غذایی بالاست غذاهای انواع اقسام بدن سلامت برای دارند\n",
            "تغذیه موضوعات اشباع در چربی سلامت بر است بحث‌برانگیزترین یکی از تأثیر\n",
            "سلامت بر بحث‌برانگیزترین تأثیر در موضوعات تغذیه چربی است اشباع از یکی\n",
            "ارائه خود به مذاکره‌کننده است هیأت ایران نظرات کرده جمهوری پیشبرد طرف هدف اسلامی سازنده مذاکرات را با مقابل\n",
            "ایران با به را سازنده مقابل کرده هیأت هدف طرف خود مذاکره‌کننده نظرات پیشبرد اسلامی جمهوری مذاکرات ارائه است\n",
            "سرعت جمع‌بندی مرحله در قرار کرد این به اما نداریم هنوز را می‌توان مذاکرات\n",
            "اما سرعت این را مذاکرات جمع‌بندی در مرحله نداریم هنوز به قرار می‌توان کرد\n",
            "بندرامیرآباد استراتژیک اندازی شمال از دولت جهت یکی کریدور راه برنامه‌های\n",
            "استراتژیک بندرامیرآباد کریدور راه شمال از برنامه‌های دولت اندازی یکی جهت\n",
            "و که قرنطینه‌های ثروتمندی دولت چینی‌های خفقان هستند سیاسی پی از پی به در برای دنبال خلاصی فرار از\n",
            "از دنبال به برای از دولت پی خفقان در هستند سیاسی و چینی‌های که خلاصی قرنطینه‌های ثروتمندی فرار پی\n",
            "کوبا یک در در آتش‌سوزی مخزن پی شده تاسیسات جمعه صاعقه با که آغاز گسترده ذخیره برخورد در روز سوخت\n",
            "شده با ذخیره در آغاز برخورد سوخت جمعه تاسیسات مخزن آتش‌سوزی پی در صاعقه روز گسترده در که یک کوبا\n",
            "دیگر اتحادیه تحریم‌های دلیل اعلام قبرس که علیه کرده را کرد لغو میلیاردر اروپا است مسکو تابعیت به روس چهار\n",
            "لغو دیگر اعلام قبرس است اروپا چهار مسکو روس میلیاردر تحریم‌های کرده به اتحادیه دلیل تابعیت کرد که علیه را\n",
            "دفاع دیگر اسلامی را امارت پیشین دولت خواست طالبان وزارت افغانستان بار ازبکستان از تاجیکستان برگردانند چرخبال به و هلی‌کوپترهای تا\n",
            "ازبکستان را خواست و چرخبال از تا بار افغانستان دفاع برگردانند دیگر پیشین طالبان دولت اسلامی وزارت امارت هلی‌کوپترهای به تاجیکستان\n",
            "رزم دارند آویزه را تعالیم حاکمان استراتژیست تزو خود سون چین چینی در هنر گوش کتاب\n",
            "دارند سون رزم خود گوش در تزو تعالیم را چینی چین کتاب حاکمان آویزه استراتژیست هنر\n",
            "برای از به خارجی کشورشان از استفاده که ورزشکاران تورنمنت‌های می‌کنند سفر مدت‌ها سریلانکایی فرار است\n",
            "تورنمنت‌های از ورزشکاران که استفاده فرار است برای سفر مدت‌ها سریلانکایی کشورشان به خارجی از می‌کنند\n",
            "استرس ممکن دورکارند با اینکه توجه بیشتر کار خانه این‌روزها افراد و دست‌وپنجه به از بیشتر خانه در کنند نرم در با می‌کنند گذشته است\n",
            "توجه با بیشتر کنند از و دورکارند در در این‌روزها به افراد خانه ممکن کار بیشتر نرم استرس گذشته می‌کنند است با خانه اینکه دست‌وپنجه\n",
            "بسیاری که دارد است ادویه‌ای گرام طرف‌داران ماسالا\n",
            "دارد ماسالا طرف‌داران گرام است بسیاری ادویه‌ای که\n",
            "رفتار در به‌طور مختلف اقتصاد به انواع توجه مردم کلی می‌شود\n",
            "اقتصاد رفتار مختلف به می‌شود کلی توجه انواع مردم در به‌طور\n",
            "مناسب خیلی از کم‌خرج برگزاری است مطمئنا یکی عروسی جشن جوان این و زوج‌های از روزها مشکلات\n",
            "جوان مطمئنا است جشن روزها عروسی مناسب از مشکلات یکی برگزاری کم‌خرج از زوج‌های خیلی و این\n",
            "هم پس بسیار در است این کردن دشوار اقتصادی آن شرایط انداز\n",
            "دشوار آن شرایط بسیار این هم است کردن پس در انداز اقتصادی\n",
            "مالی مهم‌ترین دوره‌ی است آموزش آموزشی\n",
            "آموزشی مالی دوره‌ی است آموزش مهم‌ترین\n",
            "سخنرانی یک‌سویه است سوی پیامی مخاطبان که بیشتر ما سخنران می‌پنداریم به از\n",
            "است که به از یک‌سویه می‌پنداریم سوی سخنرانی بیشتر سخنران پیامی ما مخاطبان\n",
            "گشت گفتگوها با تهران ساعاتی ایران دور بازخواهد از پایان جمهوری مذاکره‌کننده اسلامی هیأت دیگر این به\n",
            "هیأت مذاکره‌کننده تهران دور پایان اسلامی از بازخواهد با به گشت گفتگوها دیگر ایران جمهوری ساعاتی این\n",
            "خبرنگاران در قوه کنند در گفت کنشگری می‌توانند و روشنگری فعالانه و قضاییه تبیین حق‌طلبانه پیامی جهاد رئیس جبهه\n",
            "جهاد و حق‌طلبانه کنند خبرنگاران و می‌توانند در تبیین قضاییه کنشگری رئیس روشنگری فعالانه در گفت جبهه قوه پیامی\n",
            "کشور کرونایی بیمار فوت در روز شبانه ۵۴ شدند گذشته در\n",
            "کرونایی شدند در گذشته بیمار ۵۴ فوت شبانه روز کشور در\n",
            "هندی تصویر هنرمندان به توسط ناشناس کشیده شده این تابلوها است\n",
            "ناشناس هندی توسط هنرمندان این تابلوها کشیده تصویر است شده به\n",
            "صمیمی است همراه نعمت دوستان و داشتن\n",
            "است و همراه دوستان صمیمی داشتن نعمت\n",
            "آداب و دارد در قوانینی باشگاه ورزشی حضور\n",
            "قوانینی ورزشی در دارد حضور باشگاه آداب و\n",
            "احساساتشان به افراد دلایل پنهان را مختلف می‌کنند گاهی\n",
            "مختلف را پنهان می‌کنند افراد احساساتشان دلایل گاهی به\n",
            "آمده ساده برای یا ناخواسته کرده شما سؤال هم که حتما حرف را پیش ناراحت باشید یک کسی با\n",
            "سؤال حتما ناراحت کسی با هم باشید که پیش آمده شما حرف یک کرده را ساده یا برای ناخواسته\n",
            "فعالیت‌های زنان انکارناپذیری تولید ملی و اقتصادی سهم داشته‌اند از امروز تا گذشته در\n",
            "و ملی تولید اقتصادی انکارناپذیری از گذشته سهم فعالیت‌های امروز در داشته‌اند تا زنان\n",
            "رایانه و نرم‌افزار سخت‌افزار است یک شامل\n",
            "رایانه و سخت‌افزار است شامل یک نرم‌افزار\n",
            "شد ۱۹۵۶ مصنوعی میلادی شاخه‌ای هوش آکادمیک در تبدیل به\n",
            "آکادمیک شاخه‌ای هوش در میلادی تبدیل به مصنوعی ۱۹۵۶ شد\n",
            "تعریف این برای مورد ارائه دانشمندان نشده‌است توافق هنوز هوش علم که مصنوعی دقیقی باشد\n",
            "باشد برای توافق مورد هنوز تعریف مصنوعی دقیقی ارائه هوش که نشده‌است دانشمندان علم این\n",
            "است آن نرسیده‌اند تاکنون دانشمندان به یک تعریف جامع مبحثی در که\n",
            "تاکنون تعریف نرسیده‌اند آن که یک به است دانشمندان مبحثی در جامع\n",
            "بازداشتی رفع خبرنگاران قضائی کنید مشکل را محکوم و\n",
            "قضائی را کنید رفع خبرنگاران بازداشتی و مشکل محکوم\n",
            "روز ویدیویی اخبار و تازه‌ترین شماست رایگان فوری در دسترس به‌صورت و خبرهای\n",
            "و به‌صورت و اخبار رایگان در خبرهای ویدیویی دسترس شماست فوری روز تازه‌ترین\n",
            "که آنها همه کسی چه کنترل رسانه‌هایی را می‌کند می‌دانید\n",
            "همه می‌دانید می‌کند کنترل آنها رسانه‌هایی کسی که را چه\n"
          ]
        }
      ]
    },
    {
      "cell_type": "code",
      "source": [
        "pd.set_option('display.max_colwidth', None)\n",
        "pd.set_option('display.max_rows', None)\n",
        "result_df"
      ],
      "metadata": {
        "colab": {
          "base_uri": "https://localhost:8080/",
          "height": 1000
        },
        "id": "iqQhzrPiRYSs",
        "outputId": "736653dd-c5a9-4bfa-e9f7-1894fd403e84"
      },
      "execution_count": null,
      "outputs": [
        {
          "output_type": "execute_result",
          "data": {
            "text/plain": [
              "                                                                                                                                                                                                                             Predicted  \\\n",
              "0                                                                                                                                                                                      شانزده روز پیش آمده است بار دیگر جزو بقتل رساند   \n",
              "1                                                                                                                                                                                        شانزده بار از مردی که روز دوشنبه شده بود بدان   \n",
              "2                                                                                                                        در همین حال طی آن اعلام منابع نفت برچیده شده است اما نگفته‌اند بعضی از زخمی شدن جمعیت جهان را یافته‌اند بودند   \n",
              "3                                                                                                                                        در همین حال به این ترتیب توسط یک حقوق بشر می‌گوید بیش از ۱۴۰۰ نفر زودتر سال گذشته نیز کسی است   \n",
              "4                                                                                                                                                                              ماموران امنیتی عراق از فاجعه حکم دادگاه نیاز دارد دارند   \n",
              "5                                                                                                                                                                       ماموران امنیتی عراق به نیویورک معیارهای را مورد درمان قراردهند   \n",
              "6                                                                                                                                                                                                      این کار در پی هم شدت خوبی هستند   \n",
              "7                                                                                                                                                                                                 این کار که همزمان با سقوط حضور دارند   \n",
              "8                                                                                                                                                         ما و دختر مک روحیه تغییر بر این است که باید پدر این برنامه را بر عهده نمیکند   \n",
              "9                                                                                                                                                          ما و دختر مک روحیه تغییر بر این است که باید پدر این برنامه را بر عهده میکند   \n",
              "10                                                                                                                                 وزارت امورخارجه آمریکا افزود که سربازان اسرائیل در جریان عملیات نظامی در سرتاسر عراق ارائه داده‌اند   \n",
              "11                                                                                                                                             وزارت امورخارجه آمریکا نیز مراتب جدی را در یافتن پانصد موشک حامل باریکه غزه متمرکز باشد   \n",
              "12                                                                                                                    سخنان و دختر مک کین که امروز پنجشنبه گذشته برای مبارزات انتخاباتی رهبری زن و ۴ سال در مراسم انتقال بازداشت کردند   \n",
              "13                                                                                                                         سخنان به گزارش این گزارش راههای آقای احمدی نژاد هفته پیش در آستانه سفر او به پایان می‌رسد و واشنگتن پای بند   \n",
              "14                                                                                                                                                                     زهرا کاظمی احساس می‌کند کماکان برای او نقض حقوق بشر توصیف میکند   \n",
              "15                                                                                                                                                              انتظار میرود فصل هواپیمائی ملی صحنه بیشتری در این بیمارستان ابراز داشت   \n",
              "16                                                                                                                                                                          کشورهای خوب ضمن جمع کردن روابط کامل دیپلماتیک را بهبود دهد   \n",
              "17                                                                                                                                                                           کشورهای خوب ضمن جمع کردن با یکدیگر در مورد استقلال بازگشت   \n",
              "18                                                                                                                                                                                             بر اساس یک سال گذشته در مصر و یا هم بود   \n",
              "19                                                                                                                                                                       گزارش دیگری دیگر نیز در کانون وقوع بیماری آنفلوآنزای مرغی است   \n",
              "20  بر اساس قوانین آمریکا دستور داده است درهفته گذشته می‌تواند می‌توانست بیماری مسالمت آمیز آشکار کمک‌های بیشتری برای فراهم آوردن بازی‌های مختلف که در زمان شرایط رفتار بین آنفلوآنزای مرغی در نوار غزه را منعکس خواهیم بود اعدام شاید   \n",
              "21                                                     بر اساس گزارش معتقد شدن تاریخ دیگری از ۳ متر المپیک با کارت بیمار دیگر برای پیدا کردن نه به طور غیر قانونی مرزی در واقع است که از ایده خیر خانه به زبان پشتو قرن گذشته ارائه شد   \n",
              "22                                                                                                                                                            چشمان آنها تمامی آدم ربائی میشوند که زنان مورد شکنجه قرارمی سازی می‌کنند   \n",
              "23                                                                                                                                                                چشمان آنها تمامی آدم ربائی و ناپدید شدند گزارشی به شکنجه قرارمی گیرد   \n",
              "24                                                                                              عفو بین المللی نشان داده است که تاسیسات ضد ادبی را نشان داده است برای اقداماتی برای برچیدن تاسیسات هسته‌ای ما کماکان همکاری درست بدهند   \n",
              "25                                                                                                                  با گزارشی از بستگان شدید پیش بینی می‌کند که از این معامله شد این اولین از این جشنواره بطور متوسط بشود یعنی از ایده   \n",
              "26                                                                         پس از مشاهده اینکه آیا پلیس به معنای اینکه بهتر است اسراییل به پشت بخوابانند و اشیاء نرم کروز چه فیلم را برای سالها دوباره دامن مردم وارد بیرون مهاجرت شوند   \n",
              "27                                                                                       پس از مشاهده اینکه بر این پرسش گفته است ما از طریق تاسیس دانشگاهی هایی که اول من احساس رضایت مورد روابط توصیف به فرهنگ به رم پاسخ آدرس ما کند   \n",
              "28                                                                                                                                                                                          میگوید زیر فشار شدید پاره شده‌اند شرکت کرد   \n",
              "29                                                                                                                                                                                             برای کمک مجازات اطراف عمل آورده شده است   \n",
              "30                                                                                                                                                                                                      در آینده در تهران به وجود برسد   \n",
              "31                                                                                                                                                                                              در باره مساله یازدهم سپتامبر آینده است   \n",
              "32                                                                                                                                                 برای چاپ دین نگران از صفحه تلویزیون‌ها برنداشته‌اند و ذخیره و یک پزشک فلسطینی بسازد   \n",
              "33                                                                                                                                              حتی می‌توان کماکان بهترین آنکه با روش مشکلاتی ارسال داشت فرهنگ هیچ کشتار معیارهای باشد   \n",
              "34                                                                                                                                                                                   آمریکائیان از مردی که پشت اثر یک تا در نیمه شب شد   \n",
              "35                                                                                                                                                                               آمریکائیان از مردی که پشت اثر یک تا در اردن گرد آمدند   \n",
              "36                                                                                                                                           یک مقام ایران امروز سه شنبه در تهران به خبرنگاران گفت مشکل اتمی را پیگیری کند رد کرده است   \n",
              "37                                                                                                                                           یک مقام ایران امروز سه شنبه در تهران به خبرنگاران گفت مشکل اتمی را پیگیری کند رد کرده است   \n",
              "38                                                                                                                                                                          اما اینکار هرگز از پذیرش جمهوری چک و جز دروغ و ما را بدهند   \n",
              "39                                                                                                                                                           اما ویتنام زمان من احساس شده مانند جوانان از سلامت بعدی اسلام آینده ندارد   \n",
              "40                                                                                                                                                                          ایرانی بریتانیا یکی از آنها را به عنوان غذا اعتراض میکردند   \n",
              "41                                                                                                                                                                             دولت آمریکا در یک حمله مرزی به لبنان اعزام می‌شوند نیست   \n",
              "42                                                                                                                                       برای بستن راه‌ها تا این دانشمند و خشم مسلمانان و ایجاد اراده مناسب به دنیا و احترام به پیشرفت   \n",
              "43                                                                                                                                     برای بستن راه‌ها تا این دانشمند و خشم مسلمانان و ایجاد اراده انسان است که در تاریکی حاضر نیستند   \n",
              "44                                                                                                                      میگوید هواپیمای آمریکائیان می‌افزاید که در داخل وزارت بهداشت داخلی برمه شده بر لزوم آرام قرار تقسیم و زمین است   \n",
              "45                                                                                                                    میگوید هواپیمای آمریکائیان می‌افزاید آدم داستان خانواده را که در عراق به همراه داد و ارزیابی توازن جوان لازم است   \n",
              "46                                                                                                                   مخالفان مخالف و ترکیه در موگادیشو پایتخت سومالی با حمایت بولیوی آرام ساختن موافقتنامه مشابهی روبرو تصویب کرده است   \n",
              "47                                                                                                                                   اکثریت آرا در نیویورک که در مانیل به نمایندگان سازمان ملل متحد و خطر گرفته شده بود لغو خواهند کرد   \n",
              "48                                                                                                                                 آنها روز پنجشنبه ۹۰ یورش داد را درک کنند که دو حمله در عراق در اسارت یک امنیت فرماندهی آمریکا هستند   \n",
              "49                                                                                                        آنها روز پنجشنبه مائوئیست صحبت کردند و کوشش‌های پیشین اورا متقاعد می‌سازد در باره راه‌های مشکل در مقابله با شورشیان در بگیرد   \n",
              "50                                                                                                                                                        حکم استرداد کشوری که برای وی کردن سال ۱۹۵۹ این وضعیت خود را به دست آورده‌اند   \n",
              "51                                                                                                                                                فصل جراحی ملی مسابقات بسکتبال حرفه‌ای مردان در کانادا را نیز به ثمر باید آوار می‌شود   \n",
              "52                                                                                                                                                       گزارشهای رسیده از بی اعتبار ضبط کردن او تا تعدادی از مردم نیز مشغول کار هستند   \n",
              "53                                                                                                                                               ماموران اطلاعاتی روسیه که ماموران اطلاعاتی را از آن واقعه بتوان قیام خود را نابود کرد   \n",
              "54                                                                                                              در حال حاضر لندن برای ایجاد وضعیت اقتصادی توسط پاپ در واتیکان گفت که از این حصار در شهرهای مکه و مدینه فرمانی صادر کرد   \n",
              "55                                                                                                                          در حال حاضر لندن برای جمع آوری و کارگردان نقل از مک کین در آمد و نیز ۳۱ دقیقه به بعد هیچکس مسئولیت بر دارد   \n",
              "56                                                                                                                                                                                             اینک پس از شروع این رابطه عنوان شده‌اند   \n",
              "57                                                                                                                                                                                              بد زندگی را دشوار ویروس در زندگی دارند   \n",
              "58                                                                                                                                                                         این ارزیابی درست خاطر دریافت آزادی یا این اقدامات را بپذیرد   \n",
              "59                                                                                                                                                                                این ارزیابی درست خاطر توجه به این گزارش را به پذیرند   \n",
              "60                                                                                                                                             مرور توسط هوگو چاوز رئیس جمهور دانشگاه و تعدادی از نقاط زمان باشد براى یافتن ترتیب دارد   \n",
              "61                                                                                                                                مرور مایه حسن بازیکنان قابل پیشتاز بود خانم زهرا بهنودی رهبر حزب دمکرات طرفدار دموکراتها میشل اوباما   \n",
              "62                                                                                                                                                                        این پیام روز جمعه در بوستون دلیل کننده چشم پذیرش گفت اطمینان   \n",
              "63                                                                                                                                                                           این پیام روز جمعه در بوستون دلیل می‌شود که وی تصمیم بگیرد   \n",
              "64                                                                                                                                                                                               میگوید حدود ٤٠٠ میلیون دلار هزینه شود   \n",
              "65                                                                                                                                                                                            میگوید سربازان آمریکائی هنوز واکنشی نداد   \n",
              "66                                                                                                                                                                   میگوید جامعه بین المللی در آنجا و یا اینکه مؤتلفین همراه است دارد   \n",
              "67                                                                                                                                                                  میگوید اول تهاجم بین المللی که از جمله ایالات متحده را صادر میکنند   \n",
              "68                                                                                                                                           پیش بینی می‌شود خود را به جمهوری جمهوری اسلامی ایران برای مقاصد صلح آمیز باشد ادامه میدهد   \n",
              "69                                                                                                                                    کارلوس گونزالس لیوا ازایران شد که این پروژه را سال گذشته برنامه اتمی ایران به جلسه منوچهر اوباما   \n",
              "70                                                                                                                                             عفو روز جمعه دستگیر شد میگوید زندانیان را در جریان ماموریت خود با کمک به عراق ادامه دهد   \n",
              "71                                                                                                                                        عفو روز جمعه دستگیر شد خواستند به جاسوسی خود از تحقیقات نشان شده در باره جنگ افزار اتمی باشد   \n",
              "72                                                                                                                                                                        گزارش می‌رسد که اغلب روی زمین از کارکنان واحدهای اسرائیل کشت   \n",
              "73                                                                                                                                                                          گزارش سالانه رسمی به این میان تعدادی مسئولیت این طرف میشود   \n",
              "74                                                                                                                                                                     این گزارش قرار بود مراحل مربوط به فعالیت‌های اسرائیل داشته باشد   \n",
              "75                                                                                                                                                                       این گزارش به خبرنگاران حاضر در راولپندی صورت می‌گیرد شرکت کند   \n",
              "76                                                                                                                                                                                                آنها همواره هستند ولی در بقیه آنهاست   \n",
              "77                                                                                                                                                                                             آنها میگوید داشتن و اطلاعاتی ایران نیست   \n",
              "78                                                                                                                                                                                                او روز جمعه در بازی را در نظرسنجی‌ها   \n",
              "79                                                                                                                                                                                                       او روز جمعه در بازی را در آمد   \n",
              "80                                                                                                                                                                                       اسرائیل و دیگر اعضای این اتهام را برعهده گرفت   \n",
              "81                                                                                                                                                                                        اسرائیل و دیگر عمده طرح دارند به اجرا بگذارد   \n",
              "82                                                                                                                                              ی خواننده براون است که بخاطر دخالت در این نتیجه نیست من هرگز به یاد علمی بسیار یا گردد   \n",
              "83                                                                                                                                         آنها یکی از این اطلاعات امکان مرگ و چشم اندازهای راننده یا دیگران خود را بکار داشت کرده است   \n",
              "84                                                                                                                                                         تاکنون بیش از جلسات سال جاری برای انجام تسلیحات در فرهنگی وب استقبال می‌کند   \n",
              "85                                                                                                                                                                تاکنون بیش از جلسات سال جاری برای انجام و اقتصاد آمریکا در لبنان بود   \n",
              "86                                                                                                                                                                                       هواپیمای شدن دیگر ماموران امنیتی به یافته‌اند   \n",
              "87                                                                                                                                                                                                ترن برخورد ادبی به فضا نفوذ می‌کردند   \n",
              "88                                                                                                                                                                             ولی این طرف اظهارات رییس شورا هنوز خصومت زیادی کرده‌اند   \n",
              "89                                                                                                                                                                                  ولی این طرف وزیر دفاع هنوز کاملا باید مشخص می‌سازد   \n",
              "90                                                                                                                                                              وی گفت که سنا مذاکره با انتخابات را مورد حمله قرار دهند متوسل خواهد شد   \n",
              "91                                                                                                                                                                   وی گفت که سنا زمانی کوتاه مدت چه هرچه کسانی را تحقق نسل کشی دانست   \n",
              "92                                                                                                                                                                         یکی از معروف‌ترین مشکلاتی که به او روی میشود هنوز زنده باشد   \n",
              "93                                                                                                                                                                         رئیس جمهوری پاکستان مشغول کار را به دلیل انجام شدن به رسمیت   \n",
              "94                                                                                                                                                                                             سه ساعت چهل و ۱۵ صفحه وارد بستگان بودند   \n",
              "95                                                                                                                                                                                               سه ساعت چهل و ۱۵ صدم ثانیه نشان دادند   \n",
              "96                                                                                                                                                            از سوی شبکه تلویزیونی گارد آمریکا میگوید پرونده در باره برنامه اتمی خویش   \n",
              "97                                                                                                                                                     از سوی شبکه تلویزیونی گارد آمریکا ده مرد سوری آمریکا را برعهده گرفت بزرگ می‌رود   \n",
              "98                                                                                                                                                                                  رادیو اسرائیل ادعا کرده‌اند که همه آنها نشان دارند   \n",
              "99                                                                                                                                                                              افیون غریب و ۲ کاندیدای قابل ملاحظه‌ای ساختمان را نیست   \n",
              "\n",
              "                                                                                                                                                                                                               Original  \n",
              "0                                                                                                                                                                 اپلیکیشن سفر باعث شده است که امروزه آسوده‌تر سفر کنیم  \n",
              "1                                                                                                                                                                 اپلیکیشن سفر باعث شده است که امروزه آسوده‌تر سفر کنیم  \n",
              "2                                                                                                               معنی و مصادیق این واژه در حال حاضر در دنیای فناوری به دست افراد جاه‌طلب و آینده‌نگر در حال شکل‌گیری است  \n",
              "3                                                                                                               معنی و مصادیق این واژه در حال حاضر در دنیای فناوری به دست افراد جاه‌طلب و آینده‌نگر در حال شکل‌گیری است  \n",
              "4                                                                                                                                                               امروزه کودکان بیشتر وقت خود را در فضای مجازی می‌گذرانند  \n",
              "5                                                                                                                                                               امروزه کودکان بیشتر وقت خود را در فضای مجازی می‌گذرانند  \n",
              "6                                                                                                                                                                        استفاده از امضای ایمیل کارها را ساده‌تر می‌کند  \n",
              "7                                                                                                                                                                        استفاده از امضای ایمیل کارها را ساده‌تر می‌کند  \n",
              "8                                                                                                                                     روزهای پایانی سال است و خیلی از ما در تکاپوی نوشتن اهداف و آرزوهای سال جدید هستیم  \n",
              "9                                                                                                                                     روزهای پایانی سال است و خیلی از ما در تکاپوی نوشتن اهداف و آرزوهای سال جدید هستیم  \n",
              "10                                                                                                                       نظریه شخصیت فروید ماندگارترین ایده این روان‌شناس بزرگ است که می‌گوید شخصیت انسان چند جنبه دارد  \n",
              "11                                                                                                                       نظریه شخصیت فروید ماندگارترین ایده این روان‌شناس بزرگ است که می‌گوید شخصیت انسان چند جنبه دارد  \n",
              "12                                                                                                        پسر احساس می‌کند برای تصاحب مادرش با پدرش رقابت می‌کند و دختر به‌شوق جلب توجه و محبت پدر با مادر رقابت می‌کند  \n",
              "13                                                                                                        پسر احساس می‌کند برای تصاحب مادرش با پدرش رقابت می‌کند و دختر به‌شوق جلب توجه و محبت پدر با مادر رقابت می‌کند  \n",
              "14                                                                                                                                           تقریبا هیچ‌کس نمی‌تواند بگوید که در تمام دوران زندگی‌اش صادقانه رفتار کرده  \n",
              "15                                                                                                                                           تقریبا هیچ‌کس نمی‌تواند بگوید که در تمام دوران زندگی‌اش صادقانه رفتار کرده  \n",
              "16                                                                                                                                                          طبیعت درمانی روشی است که با ذات انسان‌ها ارتباط مستقیم دارد  \n",
              "17                                                                                                                                                          طبیعت درمانی روشی است که با ذات انسان‌ها ارتباط مستقیم دارد  \n",
              "18                                                                                                                                                            احتمالا اصطلاح روانشناسی مثبت گرا به گوش شما هم خورده است  \n",
              "19                                                                                                                                                            احتمالا اصطلاح روانشناسی مثبت گرا به گوش شما هم خورده است  \n",
              "20  شاید شما هم با افرادی برخورد کرده باشید که طوری به نظر می‌رسند انگار هیچ احساسی به دیگران ندارند رفتار همدلانه از خود نشان نمی‌دهند و وقتی دیگران را آزار می‌دهند نه عذاب‌وجدان می‌گیرند و نه احساس پشیمانی می‌کنند  \n",
              "21  شاید شما هم با افرادی برخورد کرده باشید که طوری به نظر می‌رسند انگار هیچ احساسی به دیگران ندارند رفتار همدلانه از خود نشان نمی‌دهند و وقتی دیگران را آزار می‌دهند نه عذاب‌وجدان می‌گیرند و نه احساس پشیمانی می‌کنند  \n",
              "22                                                                                                                                       هوش منطقی یا آی‌کیو هوش هیجانی و هوش‌های چندگانه انواع هوش‌های تعریف‌شده هستند  \n",
              "23                                                                                                                                       هوش منطقی یا آی‌کیو هوش هیجانی و هوش‌های چندگانه انواع هوش‌های تعریف‌شده هستند  \n",
              "24                                                                                    همه ما از فواید بی‌نظیر سبزیجات اطلاع داریم سبزیجات سرشار از فیبر آنتی‌اکسیدان و مواد معدنی هستند و سلامت بدن ما را تضمین می‌کنند  \n",
              "25                                                                                    همه ما از فواید بی‌نظیر سبزیجات اطلاع داریم سبزیجات سرشار از فیبر آنتی‌اکسیدان و مواد معدنی هستند و سلامت بدن ما را تضمین می‌کنند  \n",
              "26                                              شاید برایتان پیش‌ آمده باشد که وقتی می‌خواهید میوه‌ها و سبزیجات تازه‌خریداری‌شده را نوش جان کنید ببینید دیگر تازگی لحظه خرید را ندارند یا پس از چند روز کاملا خراب شوند  \n",
              "27                                              شاید برایتان پیش‌ آمده باشد که وقتی می‌خواهید میوه‌ها و سبزیجات تازه‌خریداری‌شده را نوش جان کنید ببینید دیگر تازگی لحظه خرید را ندارند یا پس از چند روز کاملا خراب شوند  \n",
              "28                                                                                                                                                                     همه‌گیری ویروس کرونا باعث شد خیلی خانه‌نشین شویم  \n",
              "29                                                                                                                                                                     همه‌گیری ویروس کرونا باعث شد خیلی خانه‌نشین شویم  \n",
              "30                                                                                                                                                                                      ایران نماد و نشانه خاص کم ندارد  \n",
              "31                                                                                                                                                                                      ایران نماد و نشانه خاص کم ندارد  \n",
              "32                                                                                                                                     غذاهای دریایی انواع و اقسام دارند ارزش غذایی آنها بالاست و برای سلامت بدن مفیدند  \n",
              "33                                                                                                                                     غذاهای دریایی انواع و اقسام دارند ارزش غذایی آنها بالاست و برای سلامت بدن مفیدند  \n",
              "34                                                                                                                                                تأثیر چربی اشباع بر سلامت یکی از بحث‌برانگیزترین موضوعات در تغذیه است  \n",
              "35                                                                                                                                                تأثیر چربی اشباع بر سلامت یکی از بحث‌برانگیزترین موضوعات در تغذیه است  \n",
              "36                                                                                                          هیأت مذاکره‌کننده جمهوری اسلامی ایران نظرات سازنده خود را با هدف پیشبرد مذاکرات به طرف مقابل ارائه کرده است  \n",
              "37                                                                                                          هیأت مذاکره‌کننده جمهوری اسلامی ایران نظرات سازنده خود را با هدف پیشبرد مذاکرات به طرف مقابل ارائه کرده است  \n",
              "38                                                                                                                                            می‌توان به سرعت مذاکرات را جمع‌بندی کرد اما هنوز در این مرحله قرار نداریم  \n",
              "39                                                                                                                                            می‌توان به سرعت مذاکرات را جمع‌بندی کرد اما هنوز در این مرحله قرار نداریم  \n",
              "40                                                                                                                                             بندرامیرآباد یکی از برنامه‌های استراتژیک دولت جهت راه اندازی کریدور شمال  \n",
              "41                                                                                                                                             بندرامیرآباد یکی از برنامه‌های استراتژیک دولت جهت راه اندازی کریدور شمال  \n",
              "42                                                                                                                    برای چینی‌های ثروتمندی که به دنبال فرار از قرنطینه‌های پی در پی دولت و خلاصی از خفقان سیاسی هستند  \n",
              "43                                                                                                                    برای چینی‌های ثروتمندی که به دنبال فرار از قرنطینه‌های پی در پی دولت و خلاصی از خفقان سیاسی هستند  \n",
              "44                                                                                                                     آتش‌سوزی گسترده در تاسیسات کوبا که در پی برخورد صاعقه با یک مخزن ذخیره سوخت در روز جمعه آغاز شده  \n",
              "45                                                                                                                     آتش‌سوزی گسترده در تاسیسات کوبا که در پی برخورد صاعقه با یک مخزن ذخیره سوخت در روز جمعه آغاز شده  \n",
              "46                                                                                                            قبرس اعلام کرد که تابعیت چهار میلیاردر دیگر روس را به دلیل تحریم‌های اتحادیه اروپا علیه مسکو لغو کرده است  \n",
              "47                                                                                                            قبرس اعلام کرد که تابعیت چهار میلیاردر دیگر روس را به دلیل تحریم‌های اتحادیه اروپا علیه مسکو لغو کرده است  \n",
              "48                                                                                    وزارت دفاع طالبان از تاجیکستان و ازبکستان بار دیگر خواست تا هلی‌کوپترهای چرخبال دولت پیشین را به امارت اسلامی افغانستان برگردانند  \n",
              "49                                                                                    وزارت دفاع طالبان از تاجیکستان و ازبکستان بار دیگر خواست تا هلی‌کوپترهای چرخبال دولت پیشین را به امارت اسلامی افغانستان برگردانند  \n",
              "50                                                                                                                                     حاکمان چین تعالیم استراتژیست چینی سون تزو در کتاب هنر رزم را آویزه گوش خود دارند  \n",
              "51                                                                                                                                     حاکمان چین تعالیم استراتژیست چینی سون تزو در کتاب هنر رزم را آویزه گوش خود دارند  \n",
              "52                                                                                                                  ورزشکاران سریلانکایی مدت‌ها است که از سفر به تورنمنت‌های خارجی برای فرار از کشورشان استفاده می‌کنند  \n",
              "53                                                                                                                  ورزشکاران سریلانکایی مدت‌ها است که از سفر به تورنمنت‌های خارجی برای فرار از کشورشان استفاده می‌کنند  \n",
              "54                                                                                    با توجه به اینکه این‌روزها بیشتر افراد دورکارند و در خانه کار می‌کنند ممکن است بیشتر از گذشته در خانه با استرس دست‌وپنجه نرم کنند  \n",
              "55                                                                                    با توجه به اینکه این‌روزها بیشتر افراد دورکارند و در خانه کار می‌کنند ممکن است بیشتر از گذشته در خانه با استرس دست‌وپنجه نرم کنند  \n",
              "56                                                                                                                                                                    گرام ماسالا ادویه‌ای است که طرف‌داران بسیاری دارد  \n",
              "57                                                                                                                                                                    گرام ماسالا ادویه‌ای است که طرف‌داران بسیاری دارد  \n",
              "58                                                                                                                                                           به‌طور کلی در انواع مختلف اقتصاد به رفتار مردم توجه می‌شود  \n",
              "59                                                                                                                                                           به‌طور کلی در انواع مختلف اقتصاد به رفتار مردم توجه می‌شود  \n",
              "60                                                                                                                             مطمئنا این روزها یکی از مشکلات خیلی از زوج‌های جوان برگزاری جشن عروسی مناسب و کم‌خرج است  \n",
              "61                                                                                                                             مطمئنا این روزها یکی از مشکلات خیلی از زوج‌های جوان برگزاری جشن عروسی مناسب و کم‌خرج است  \n",
              "62                                                                                                                                                             پس انداز کردن آن هم در این شرایط اقتصادی بسیار دشوار است  \n",
              "63                                                                                                                                                             پس انداز کردن آن هم در این شرایط اقتصادی بسیار دشوار است  \n",
              "64                                                                                                                                                                                آموزش مالی مهم‌ترین دوره‌ی آموزشی است  \n",
              "65                                                                                                                                                                                آموزش مالی مهم‌ترین دوره‌ی آموزشی است  \n",
              "66                                                                                                                                            بیشتر ما می‌پنداریم که سخنرانی پیامی یک‌سویه از سوی سخنران به مخاطبان است  \n",
              "67                                                                                                                                            بیشتر ما می‌پنداریم که سخنرانی پیامی یک‌سویه از سوی سخنران به مخاطبان است  \n",
              "68                                                                                                                  با پایان این دور از گفتگوها هیأت مذاکره‌کننده جمهوری اسلامی ایران ساعاتی دیگر به تهران بازخواهد گشت  \n",
              "69                                                                                                                  با پایان این دور از گفتگوها هیأت مذاکره‌کننده جمهوری اسلامی ایران ساعاتی دیگر به تهران بازخواهد گشت  \n",
              "70                                                                                                        رئیس قوه قضاییه در پیامی گفت خبرنگاران می‌توانند در جبهه جهاد تبیین و روشنگری فعالانه و حق‌طلبانه کنشگری کنند  \n",
              "71                                                                                                        رئیس قوه قضاییه در پیامی گفت خبرنگاران می‌توانند در جبهه جهاد تبیین و روشنگری فعالانه و حق‌طلبانه کنشگری کنند  \n",
              "72                                                                                                                                                                 در شبانه روز گذشته ۵۴ بیمار کرونایی در کشور فوت شدند  \n",
              "73                                                                                                                                                                 در شبانه روز گذشته ۵۴ بیمار کرونایی در کشور فوت شدند  \n",
              "74                                                                                                                                                         این تابلوها توسط هنرمندان ناشناس هندی به تصویر کشیده شده است  \n",
              "75                                                                                                                                                         این تابلوها توسط هنرمندان ناشناس هندی به تصویر کشیده شده است  \n",
              "76                                                                                                                                                                                  داشتن دوستان همراه و صمیمی نعمت است  \n",
              "77                                                                                                                                                                                  داشتن دوستان همراه و صمیمی نعمت است  \n",
              "78                                                                                                                                                                             حضور در باشگاه ورزشی آداب و قوانینی دارد  \n",
              "79                                                                                                                                                                             حضور در باشگاه ورزشی آداب و قوانینی دارد  \n",
              "80                                                                                                                                                                گاهی افراد به دلایل مختلف احساساتشان را پنهان می‌کنند  \n",
              "81                                                                                                                                                                گاهی افراد به دلایل مختلف احساساتشان را پنهان می‌کنند  \n",
              "82                                                                                                                                حتما برای شما هم پیش آمده که با یک سؤال یا حرف ساده ناخواسته کسی را ناراحت کرده باشید  \n",
              "83                                                                                                                                حتما برای شما هم پیش آمده که با یک سؤال یا حرف ساده ناخواسته کسی را ناراحت کرده باشید  \n",
              "84                                                                                                                                  از گذشته تا امروز زنان سهم انکارناپذیری در فعالیت‌های اقتصادی و تولید ملی داشته‌اند  \n",
              "85                                                                                                                                  از گذشته تا امروز زنان سهم انکارناپذیری در فعالیت‌های اقتصادی و تولید ملی داشته‌اند  \n",
              "86                                                                                                                                                                             یک رایانه شامل سخت‌افزار و نرم‌افزار است  \n",
              "87                                                                                                                                                                             یک رایانه شامل سخت‌افزار و نرم‌افزار است  \n",
              "88                                                                                                                                                                هوش مصنوعی در ۱۹۵۶ میلادی تبدیل به شاخه‌ای آکادمیک شد  \n",
              "89                                                                                                                                                                هوش مصنوعی در ۱۹۵۶ میلادی تبدیل به شاخه‌ای آکادمیک شد  \n",
              "90                                                                                                                                 هنوز تعریف دقیقی برای هوش مصنوعی که مورد توافق دانشمندان این علم باشد ارائه نشده‌است  \n",
              "91                                                                                                                                 هنوز تعریف دقیقی برای هوش مصنوعی که مورد توافق دانشمندان این علم باشد ارائه نشده‌است  \n",
              "92                                                                                                                                                      مبحثی است که تاکنون دانشمندان به یک تعریف جامع در آن نرسیده‌اند  \n",
              "93                                                                                                                                                      مبحثی است که تاکنون دانشمندان به یک تعریف جامع در آن نرسیده‌اند  \n",
              "94                                                                                                                                                                    مشکل قضائی خبرنگاران محکوم و بازداشتی را رفع کنید  \n",
              "95                                                                                                                                                                    مشکل قضائی خبرنگاران محکوم و بازداشتی را رفع کنید  \n",
              "96                                                                                                                                            تازه‌ترین خبرهای روز و اخبار فوری به‌صورت ویدیویی و رایگان در دسترس شماست  \n",
              "97                                                                                                                                            تازه‌ترین خبرهای روز و اخبار فوری به‌صورت ویدیویی و رایگان در دسترس شماست  \n",
              "98                                                                                                                                                               رسانه‌هایی که همه می‌دانید چه کسی آنها را کنترل می‌کند  \n",
              "99                                                                                                                                                               رسانه‌هایی که همه می‌دانید چه کسی آنها را کنترل می‌کند  "
            ],
            "text/html": [
              "\n",
              "  <div id=\"df-f6a1d466-278f-440a-8ad3-af1135dec1ed\">\n",
              "    <div class=\"colab-df-container\">\n",
              "      <div>\n",
              "<style scoped>\n",
              "    .dataframe tbody tr th:only-of-type {\n",
              "        vertical-align: middle;\n",
              "    }\n",
              "\n",
              "    .dataframe tbody tr th {\n",
              "        vertical-align: top;\n",
              "    }\n",
              "\n",
              "    .dataframe thead th {\n",
              "        text-align: right;\n",
              "    }\n",
              "</style>\n",
              "<table border=\"1\" class=\"dataframe\">\n",
              "  <thead>\n",
              "    <tr style=\"text-align: right;\">\n",
              "      <th></th>\n",
              "      <th>Predicted</th>\n",
              "      <th>Original</th>\n",
              "    </tr>\n",
              "  </thead>\n",
              "  <tbody>\n",
              "    <tr>\n",
              "      <th>0</th>\n",
              "      <td>شانزده روز پیش آمده است بار دیگر جزو بقتل رساند</td>\n",
              "      <td>اپلیکیشن سفر باعث شده است که امروزه آسوده‌تر سفر کنیم</td>\n",
              "    </tr>\n",
              "    <tr>\n",
              "      <th>1</th>\n",
              "      <td>شانزده بار از مردی که روز دوشنبه شده بود بدان</td>\n",
              "      <td>اپلیکیشن سفر باعث شده است که امروزه آسوده‌تر سفر کنیم</td>\n",
              "    </tr>\n",
              "    <tr>\n",
              "      <th>2</th>\n",
              "      <td>در همین حال طی آن اعلام منابع نفت برچیده شده است اما نگفته‌اند بعضی از زخمی شدن جمعیت جهان را یافته‌اند بودند</td>\n",
              "      <td>معنی و مصادیق این واژه در حال حاضر در دنیای فناوری به دست افراد جاه‌طلب و آینده‌نگر در حال شکل‌گیری است</td>\n",
              "    </tr>\n",
              "    <tr>\n",
              "      <th>3</th>\n",
              "      <td>در همین حال به این ترتیب توسط یک حقوق بشر می‌گوید بیش از ۱۴۰۰ نفر زودتر سال گذشته نیز کسی است</td>\n",
              "      <td>معنی و مصادیق این واژه در حال حاضر در دنیای فناوری به دست افراد جاه‌طلب و آینده‌نگر در حال شکل‌گیری است</td>\n",
              "    </tr>\n",
              "    <tr>\n",
              "      <th>4</th>\n",
              "      <td>ماموران امنیتی عراق از فاجعه حکم دادگاه نیاز دارد دارند</td>\n",
              "      <td>امروزه کودکان بیشتر وقت خود را در فضای مجازی می‌گذرانند</td>\n",
              "    </tr>\n",
              "    <tr>\n",
              "      <th>5</th>\n",
              "      <td>ماموران امنیتی عراق به نیویورک معیارهای را مورد درمان قراردهند</td>\n",
              "      <td>امروزه کودکان بیشتر وقت خود را در فضای مجازی می‌گذرانند</td>\n",
              "    </tr>\n",
              "    <tr>\n",
              "      <th>6</th>\n",
              "      <td>این کار در پی هم شدت خوبی هستند</td>\n",
              "      <td>استفاده از امضای ایمیل کارها را ساده‌تر می‌کند</td>\n",
              "    </tr>\n",
              "    <tr>\n",
              "      <th>7</th>\n",
              "      <td>این کار که همزمان با سقوط حضور دارند</td>\n",
              "      <td>استفاده از امضای ایمیل کارها را ساده‌تر می‌کند</td>\n",
              "    </tr>\n",
              "    <tr>\n",
              "      <th>8</th>\n",
              "      <td>ما و دختر مک روحیه تغییر بر این است که باید پدر این برنامه را بر عهده نمیکند</td>\n",
              "      <td>روزهای پایانی سال است و خیلی از ما در تکاپوی نوشتن اهداف و آرزوهای سال جدید هستیم</td>\n",
              "    </tr>\n",
              "    <tr>\n",
              "      <th>9</th>\n",
              "      <td>ما و دختر مک روحیه تغییر بر این است که باید پدر این برنامه را بر عهده میکند</td>\n",
              "      <td>روزهای پایانی سال است و خیلی از ما در تکاپوی نوشتن اهداف و آرزوهای سال جدید هستیم</td>\n",
              "    </tr>\n",
              "    <tr>\n",
              "      <th>10</th>\n",
              "      <td>وزارت امورخارجه آمریکا افزود که سربازان اسرائیل در جریان عملیات نظامی در سرتاسر عراق ارائه داده‌اند</td>\n",
              "      <td>نظریه شخصیت فروید ماندگارترین ایده این روان‌شناس بزرگ است که می‌گوید شخصیت انسان چند جنبه دارد</td>\n",
              "    </tr>\n",
              "    <tr>\n",
              "      <th>11</th>\n",
              "      <td>وزارت امورخارجه آمریکا نیز مراتب جدی را در یافتن پانصد موشک حامل باریکه غزه متمرکز باشد</td>\n",
              "      <td>نظریه شخصیت فروید ماندگارترین ایده این روان‌شناس بزرگ است که می‌گوید شخصیت انسان چند جنبه دارد</td>\n",
              "    </tr>\n",
              "    <tr>\n",
              "      <th>12</th>\n",
              "      <td>سخنان و دختر مک کین که امروز پنجشنبه گذشته برای مبارزات انتخاباتی رهبری زن و ۴ سال در مراسم انتقال بازداشت کردند</td>\n",
              "      <td>پسر احساس می‌کند برای تصاحب مادرش با پدرش رقابت می‌کند و دختر به‌شوق جلب توجه و محبت پدر با مادر رقابت می‌کند</td>\n",
              "    </tr>\n",
              "    <tr>\n",
              "      <th>13</th>\n",
              "      <td>سخنان به گزارش این گزارش راههای آقای احمدی نژاد هفته پیش در آستانه سفر او به پایان می‌رسد و واشنگتن پای بند</td>\n",
              "      <td>پسر احساس می‌کند برای تصاحب مادرش با پدرش رقابت می‌کند و دختر به‌شوق جلب توجه و محبت پدر با مادر رقابت می‌کند</td>\n",
              "    </tr>\n",
              "    <tr>\n",
              "      <th>14</th>\n",
              "      <td>زهرا کاظمی احساس می‌کند کماکان برای او نقض حقوق بشر توصیف میکند</td>\n",
              "      <td>تقریبا هیچ‌کس نمی‌تواند بگوید که در تمام دوران زندگی‌اش صادقانه رفتار کرده</td>\n",
              "    </tr>\n",
              "    <tr>\n",
              "      <th>15</th>\n",
              "      <td>انتظار میرود فصل هواپیمائی ملی صحنه بیشتری در این بیمارستان ابراز داشت</td>\n",
              "      <td>تقریبا هیچ‌کس نمی‌تواند بگوید که در تمام دوران زندگی‌اش صادقانه رفتار کرده</td>\n",
              "    </tr>\n",
              "    <tr>\n",
              "      <th>16</th>\n",
              "      <td>کشورهای خوب ضمن جمع کردن روابط کامل دیپلماتیک را بهبود دهد</td>\n",
              "      <td>طبیعت درمانی روشی است که با ذات انسان‌ها ارتباط مستقیم دارد</td>\n",
              "    </tr>\n",
              "    <tr>\n",
              "      <th>17</th>\n",
              "      <td>کشورهای خوب ضمن جمع کردن با یکدیگر در مورد استقلال بازگشت</td>\n",
              "      <td>طبیعت درمانی روشی است که با ذات انسان‌ها ارتباط مستقیم دارد</td>\n",
              "    </tr>\n",
              "    <tr>\n",
              "      <th>18</th>\n",
              "      <td>بر اساس یک سال گذشته در مصر و یا هم بود</td>\n",
              "      <td>احتمالا اصطلاح روانشناسی مثبت گرا به گوش شما هم خورده است</td>\n",
              "    </tr>\n",
              "    <tr>\n",
              "      <th>19</th>\n",
              "      <td>گزارش دیگری دیگر نیز در کانون وقوع بیماری آنفلوآنزای مرغی است</td>\n",
              "      <td>احتمالا اصطلاح روانشناسی مثبت گرا به گوش شما هم خورده است</td>\n",
              "    </tr>\n",
              "    <tr>\n",
              "      <th>20</th>\n",
              "      <td>بر اساس قوانین آمریکا دستور داده است درهفته گذشته می‌تواند می‌توانست بیماری مسالمت آمیز آشکار کمک‌های بیشتری برای فراهم آوردن بازی‌های مختلف که در زمان شرایط رفتار بین آنفلوآنزای مرغی در نوار غزه را منعکس خواهیم بود اعدام شاید</td>\n",
              "      <td>شاید شما هم با افرادی برخورد کرده باشید که طوری به نظر می‌رسند انگار هیچ احساسی به دیگران ندارند رفتار همدلانه از خود نشان نمی‌دهند و وقتی دیگران را آزار می‌دهند نه عذاب‌وجدان می‌گیرند و نه احساس پشیمانی می‌کنند</td>\n",
              "    </tr>\n",
              "    <tr>\n",
              "      <th>21</th>\n",
              "      <td>بر اساس گزارش معتقد شدن تاریخ دیگری از ۳ متر المپیک با کارت بیمار دیگر برای پیدا کردن نه به طور غیر قانونی مرزی در واقع است که از ایده خیر خانه به زبان پشتو قرن گذشته ارائه شد</td>\n",
              "      <td>شاید شما هم با افرادی برخورد کرده باشید که طوری به نظر می‌رسند انگار هیچ احساسی به دیگران ندارند رفتار همدلانه از خود نشان نمی‌دهند و وقتی دیگران را آزار می‌دهند نه عذاب‌وجدان می‌گیرند و نه احساس پشیمانی می‌کنند</td>\n",
              "    </tr>\n",
              "    <tr>\n",
              "      <th>22</th>\n",
              "      <td>چشمان آنها تمامی آدم ربائی میشوند که زنان مورد شکنجه قرارمی سازی می‌کنند</td>\n",
              "      <td>هوش منطقی یا آی‌کیو هوش هیجانی و هوش‌های چندگانه انواع هوش‌های تعریف‌شده هستند</td>\n",
              "    </tr>\n",
              "    <tr>\n",
              "      <th>23</th>\n",
              "      <td>چشمان آنها تمامی آدم ربائی و ناپدید شدند گزارشی به شکنجه قرارمی گیرد</td>\n",
              "      <td>هوش منطقی یا آی‌کیو هوش هیجانی و هوش‌های چندگانه انواع هوش‌های تعریف‌شده هستند</td>\n",
              "    </tr>\n",
              "    <tr>\n",
              "      <th>24</th>\n",
              "      <td>عفو بین المللی نشان داده است که تاسیسات ضد ادبی را نشان داده است برای اقداماتی برای برچیدن تاسیسات هسته‌ای ما کماکان همکاری درست بدهند</td>\n",
              "      <td>همه ما از فواید بی‌نظیر سبزیجات اطلاع داریم سبزیجات سرشار از فیبر آنتی‌اکسیدان و مواد معدنی هستند و سلامت بدن ما را تضمین می‌کنند</td>\n",
              "    </tr>\n",
              "    <tr>\n",
              "      <th>25</th>\n",
              "      <td>با گزارشی از بستگان شدید پیش بینی می‌کند که از این معامله شد این اولین از این جشنواره بطور متوسط بشود یعنی از ایده</td>\n",
              "      <td>همه ما از فواید بی‌نظیر سبزیجات اطلاع داریم سبزیجات سرشار از فیبر آنتی‌اکسیدان و مواد معدنی هستند و سلامت بدن ما را تضمین می‌کنند</td>\n",
              "    </tr>\n",
              "    <tr>\n",
              "      <th>26</th>\n",
              "      <td>پس از مشاهده اینکه آیا پلیس به معنای اینکه بهتر است اسراییل به پشت بخوابانند و اشیاء نرم کروز چه فیلم را برای سالها دوباره دامن مردم وارد بیرون مهاجرت شوند</td>\n",
              "      <td>شاید برایتان پیش‌ آمده باشد که وقتی می‌خواهید میوه‌ها و سبزیجات تازه‌خریداری‌شده را نوش جان کنید ببینید دیگر تازگی لحظه خرید را ندارند یا پس از چند روز کاملا خراب شوند</td>\n",
              "    </tr>\n",
              "    <tr>\n",
              "      <th>27</th>\n",
              "      <td>پس از مشاهده اینکه بر این پرسش گفته است ما از طریق تاسیس دانشگاهی هایی که اول من احساس رضایت مورد روابط توصیف به فرهنگ به رم پاسخ آدرس ما کند</td>\n",
              "      <td>شاید برایتان پیش‌ آمده باشد که وقتی می‌خواهید میوه‌ها و سبزیجات تازه‌خریداری‌شده را نوش جان کنید ببینید دیگر تازگی لحظه خرید را ندارند یا پس از چند روز کاملا خراب شوند</td>\n",
              "    </tr>\n",
              "    <tr>\n",
              "      <th>28</th>\n",
              "      <td>میگوید زیر فشار شدید پاره شده‌اند شرکت کرد</td>\n",
              "      <td>همه‌گیری ویروس کرونا باعث شد خیلی خانه‌نشین شویم</td>\n",
              "    </tr>\n",
              "    <tr>\n",
              "      <th>29</th>\n",
              "      <td>برای کمک مجازات اطراف عمل آورده شده است</td>\n",
              "      <td>همه‌گیری ویروس کرونا باعث شد خیلی خانه‌نشین شویم</td>\n",
              "    </tr>\n",
              "    <tr>\n",
              "      <th>30</th>\n",
              "      <td>در آینده در تهران به وجود برسد</td>\n",
              "      <td>ایران نماد و نشانه خاص کم ندارد</td>\n",
              "    </tr>\n",
              "    <tr>\n",
              "      <th>31</th>\n",
              "      <td>در باره مساله یازدهم سپتامبر آینده است</td>\n",
              "      <td>ایران نماد و نشانه خاص کم ندارد</td>\n",
              "    </tr>\n",
              "    <tr>\n",
              "      <th>32</th>\n",
              "      <td>برای چاپ دین نگران از صفحه تلویزیون‌ها برنداشته‌اند و ذخیره و یک پزشک فلسطینی بسازد</td>\n",
              "      <td>غذاهای دریایی انواع و اقسام دارند ارزش غذایی آنها بالاست و برای سلامت بدن مفیدند</td>\n",
              "    </tr>\n",
              "    <tr>\n",
              "      <th>33</th>\n",
              "      <td>حتی می‌توان کماکان بهترین آنکه با روش مشکلاتی ارسال داشت فرهنگ هیچ کشتار معیارهای باشد</td>\n",
              "      <td>غذاهای دریایی انواع و اقسام دارند ارزش غذایی آنها بالاست و برای سلامت بدن مفیدند</td>\n",
              "    </tr>\n",
              "    <tr>\n",
              "      <th>34</th>\n",
              "      <td>آمریکائیان از مردی که پشت اثر یک تا در نیمه شب شد</td>\n",
              "      <td>تأثیر چربی اشباع بر سلامت یکی از بحث‌برانگیزترین موضوعات در تغذیه است</td>\n",
              "    </tr>\n",
              "    <tr>\n",
              "      <th>35</th>\n",
              "      <td>آمریکائیان از مردی که پشت اثر یک تا در اردن گرد آمدند</td>\n",
              "      <td>تأثیر چربی اشباع بر سلامت یکی از بحث‌برانگیزترین موضوعات در تغذیه است</td>\n",
              "    </tr>\n",
              "    <tr>\n",
              "      <th>36</th>\n",
              "      <td>یک مقام ایران امروز سه شنبه در تهران به خبرنگاران گفت مشکل اتمی را پیگیری کند رد کرده است</td>\n",
              "      <td>هیأت مذاکره‌کننده جمهوری اسلامی ایران نظرات سازنده خود را با هدف پیشبرد مذاکرات به طرف مقابل ارائه کرده است</td>\n",
              "    </tr>\n",
              "    <tr>\n",
              "      <th>37</th>\n",
              "      <td>یک مقام ایران امروز سه شنبه در تهران به خبرنگاران گفت مشکل اتمی را پیگیری کند رد کرده است</td>\n",
              "      <td>هیأت مذاکره‌کننده جمهوری اسلامی ایران نظرات سازنده خود را با هدف پیشبرد مذاکرات به طرف مقابل ارائه کرده است</td>\n",
              "    </tr>\n",
              "    <tr>\n",
              "      <th>38</th>\n",
              "      <td>اما اینکار هرگز از پذیرش جمهوری چک و جز دروغ و ما را بدهند</td>\n",
              "      <td>می‌توان به سرعت مذاکرات را جمع‌بندی کرد اما هنوز در این مرحله قرار نداریم</td>\n",
              "    </tr>\n",
              "    <tr>\n",
              "      <th>39</th>\n",
              "      <td>اما ویتنام زمان من احساس شده مانند جوانان از سلامت بعدی اسلام آینده ندارد</td>\n",
              "      <td>می‌توان به سرعت مذاکرات را جمع‌بندی کرد اما هنوز در این مرحله قرار نداریم</td>\n",
              "    </tr>\n",
              "    <tr>\n",
              "      <th>40</th>\n",
              "      <td>ایرانی بریتانیا یکی از آنها را به عنوان غذا اعتراض میکردند</td>\n",
              "      <td>بندرامیرآباد یکی از برنامه‌های استراتژیک دولت جهت راه اندازی کریدور شمال</td>\n",
              "    </tr>\n",
              "    <tr>\n",
              "      <th>41</th>\n",
              "      <td>دولت آمریکا در یک حمله مرزی به لبنان اعزام می‌شوند نیست</td>\n",
              "      <td>بندرامیرآباد یکی از برنامه‌های استراتژیک دولت جهت راه اندازی کریدور شمال</td>\n",
              "    </tr>\n",
              "    <tr>\n",
              "      <th>42</th>\n",
              "      <td>برای بستن راه‌ها تا این دانشمند و خشم مسلمانان و ایجاد اراده مناسب به دنیا و احترام به پیشرفت</td>\n",
              "      <td>برای چینی‌های ثروتمندی که به دنبال فرار از قرنطینه‌های پی در پی دولت و خلاصی از خفقان سیاسی هستند</td>\n",
              "    </tr>\n",
              "    <tr>\n",
              "      <th>43</th>\n",
              "      <td>برای بستن راه‌ها تا این دانشمند و خشم مسلمانان و ایجاد اراده انسان است که در تاریکی حاضر نیستند</td>\n",
              "      <td>برای چینی‌های ثروتمندی که به دنبال فرار از قرنطینه‌های پی در پی دولت و خلاصی از خفقان سیاسی هستند</td>\n",
              "    </tr>\n",
              "    <tr>\n",
              "      <th>44</th>\n",
              "      <td>میگوید هواپیمای آمریکائیان می‌افزاید که در داخل وزارت بهداشت داخلی برمه شده بر لزوم آرام قرار تقسیم و زمین است</td>\n",
              "      <td>آتش‌سوزی گسترده در تاسیسات کوبا که در پی برخورد صاعقه با یک مخزن ذخیره سوخت در روز جمعه آغاز شده</td>\n",
              "    </tr>\n",
              "    <tr>\n",
              "      <th>45</th>\n",
              "      <td>میگوید هواپیمای آمریکائیان می‌افزاید آدم داستان خانواده را که در عراق به همراه داد و ارزیابی توازن جوان لازم است</td>\n",
              "      <td>آتش‌سوزی گسترده در تاسیسات کوبا که در پی برخورد صاعقه با یک مخزن ذخیره سوخت در روز جمعه آغاز شده</td>\n",
              "    </tr>\n",
              "    <tr>\n",
              "      <th>46</th>\n",
              "      <td>مخالفان مخالف و ترکیه در موگادیشو پایتخت سومالی با حمایت بولیوی آرام ساختن موافقتنامه مشابهی روبرو تصویب کرده است</td>\n",
              "      <td>قبرس اعلام کرد که تابعیت چهار میلیاردر دیگر روس را به دلیل تحریم‌های اتحادیه اروپا علیه مسکو لغو کرده است</td>\n",
              "    </tr>\n",
              "    <tr>\n",
              "      <th>47</th>\n",
              "      <td>اکثریت آرا در نیویورک که در مانیل به نمایندگان سازمان ملل متحد و خطر گرفته شده بود لغو خواهند کرد</td>\n",
              "      <td>قبرس اعلام کرد که تابعیت چهار میلیاردر دیگر روس را به دلیل تحریم‌های اتحادیه اروپا علیه مسکو لغو کرده است</td>\n",
              "    </tr>\n",
              "    <tr>\n",
              "      <th>48</th>\n",
              "      <td>آنها روز پنجشنبه ۹۰ یورش داد را درک کنند که دو حمله در عراق در اسارت یک امنیت فرماندهی آمریکا هستند</td>\n",
              "      <td>وزارت دفاع طالبان از تاجیکستان و ازبکستان بار دیگر خواست تا هلی‌کوپترهای چرخبال دولت پیشین را به امارت اسلامی افغانستان برگردانند</td>\n",
              "    </tr>\n",
              "    <tr>\n",
              "      <th>49</th>\n",
              "      <td>آنها روز پنجشنبه مائوئیست صحبت کردند و کوشش‌های پیشین اورا متقاعد می‌سازد در باره راه‌های مشکل در مقابله با شورشیان در بگیرد</td>\n",
              "      <td>وزارت دفاع طالبان از تاجیکستان و ازبکستان بار دیگر خواست تا هلی‌کوپترهای چرخبال دولت پیشین را به امارت اسلامی افغانستان برگردانند</td>\n",
              "    </tr>\n",
              "    <tr>\n",
              "      <th>50</th>\n",
              "      <td>حکم استرداد کشوری که برای وی کردن سال ۱۹۵۹ این وضعیت خود را به دست آورده‌اند</td>\n",
              "      <td>حاکمان چین تعالیم استراتژیست چینی سون تزو در کتاب هنر رزم را آویزه گوش خود دارند</td>\n",
              "    </tr>\n",
              "    <tr>\n",
              "      <th>51</th>\n",
              "      <td>فصل جراحی ملی مسابقات بسکتبال حرفه‌ای مردان در کانادا را نیز به ثمر باید آوار می‌شود</td>\n",
              "      <td>حاکمان چین تعالیم استراتژیست چینی سون تزو در کتاب هنر رزم را آویزه گوش خود دارند</td>\n",
              "    </tr>\n",
              "    <tr>\n",
              "      <th>52</th>\n",
              "      <td>گزارشهای رسیده از بی اعتبار ضبط کردن او تا تعدادی از مردم نیز مشغول کار هستند</td>\n",
              "      <td>ورزشکاران سریلانکایی مدت‌ها است که از سفر به تورنمنت‌های خارجی برای فرار از کشورشان استفاده می‌کنند</td>\n",
              "    </tr>\n",
              "    <tr>\n",
              "      <th>53</th>\n",
              "      <td>ماموران اطلاعاتی روسیه که ماموران اطلاعاتی را از آن واقعه بتوان قیام خود را نابود کرد</td>\n",
              "      <td>ورزشکاران سریلانکایی مدت‌ها است که از سفر به تورنمنت‌های خارجی برای فرار از کشورشان استفاده می‌کنند</td>\n",
              "    </tr>\n",
              "    <tr>\n",
              "      <th>54</th>\n",
              "      <td>در حال حاضر لندن برای ایجاد وضعیت اقتصادی توسط پاپ در واتیکان گفت که از این حصار در شهرهای مکه و مدینه فرمانی صادر کرد</td>\n",
              "      <td>با توجه به اینکه این‌روزها بیشتر افراد دورکارند و در خانه کار می‌کنند ممکن است بیشتر از گذشته در خانه با استرس دست‌وپنجه نرم کنند</td>\n",
              "    </tr>\n",
              "    <tr>\n",
              "      <th>55</th>\n",
              "      <td>در حال حاضر لندن برای جمع آوری و کارگردان نقل از مک کین در آمد و نیز ۳۱ دقیقه به بعد هیچکس مسئولیت بر دارد</td>\n",
              "      <td>با توجه به اینکه این‌روزها بیشتر افراد دورکارند و در خانه کار می‌کنند ممکن است بیشتر از گذشته در خانه با استرس دست‌وپنجه نرم کنند</td>\n",
              "    </tr>\n",
              "    <tr>\n",
              "      <th>56</th>\n",
              "      <td>اینک پس از شروع این رابطه عنوان شده‌اند</td>\n",
              "      <td>گرام ماسالا ادویه‌ای است که طرف‌داران بسیاری دارد</td>\n",
              "    </tr>\n",
              "    <tr>\n",
              "      <th>57</th>\n",
              "      <td>بد زندگی را دشوار ویروس در زندگی دارند</td>\n",
              "      <td>گرام ماسالا ادویه‌ای است که طرف‌داران بسیاری دارد</td>\n",
              "    </tr>\n",
              "    <tr>\n",
              "      <th>58</th>\n",
              "      <td>این ارزیابی درست خاطر دریافت آزادی یا این اقدامات را بپذیرد</td>\n",
              "      <td>به‌طور کلی در انواع مختلف اقتصاد به رفتار مردم توجه می‌شود</td>\n",
              "    </tr>\n",
              "    <tr>\n",
              "      <th>59</th>\n",
              "      <td>این ارزیابی درست خاطر توجه به این گزارش را به پذیرند</td>\n",
              "      <td>به‌طور کلی در انواع مختلف اقتصاد به رفتار مردم توجه می‌شود</td>\n",
              "    </tr>\n",
              "    <tr>\n",
              "      <th>60</th>\n",
              "      <td>مرور توسط هوگو چاوز رئیس جمهور دانشگاه و تعدادی از نقاط زمان باشد براى یافتن ترتیب دارد</td>\n",
              "      <td>مطمئنا این روزها یکی از مشکلات خیلی از زوج‌های جوان برگزاری جشن عروسی مناسب و کم‌خرج است</td>\n",
              "    </tr>\n",
              "    <tr>\n",
              "      <th>61</th>\n",
              "      <td>مرور مایه حسن بازیکنان قابل پیشتاز بود خانم زهرا بهنودی رهبر حزب دمکرات طرفدار دموکراتها میشل اوباما</td>\n",
              "      <td>مطمئنا این روزها یکی از مشکلات خیلی از زوج‌های جوان برگزاری جشن عروسی مناسب و کم‌خرج است</td>\n",
              "    </tr>\n",
              "    <tr>\n",
              "      <th>62</th>\n",
              "      <td>این پیام روز جمعه در بوستون دلیل کننده چشم پذیرش گفت اطمینان</td>\n",
              "      <td>پس انداز کردن آن هم در این شرایط اقتصادی بسیار دشوار است</td>\n",
              "    </tr>\n",
              "    <tr>\n",
              "      <th>63</th>\n",
              "      <td>این پیام روز جمعه در بوستون دلیل می‌شود که وی تصمیم بگیرد</td>\n",
              "      <td>پس انداز کردن آن هم در این شرایط اقتصادی بسیار دشوار است</td>\n",
              "    </tr>\n",
              "    <tr>\n",
              "      <th>64</th>\n",
              "      <td>میگوید حدود ٤٠٠ میلیون دلار هزینه شود</td>\n",
              "      <td>آموزش مالی مهم‌ترین دوره‌ی آموزشی است</td>\n",
              "    </tr>\n",
              "    <tr>\n",
              "      <th>65</th>\n",
              "      <td>میگوید سربازان آمریکائی هنوز واکنشی نداد</td>\n",
              "      <td>آموزش مالی مهم‌ترین دوره‌ی آموزشی است</td>\n",
              "    </tr>\n",
              "    <tr>\n",
              "      <th>66</th>\n",
              "      <td>میگوید جامعه بین المللی در آنجا و یا اینکه مؤتلفین همراه است دارد</td>\n",
              "      <td>بیشتر ما می‌پنداریم که سخنرانی پیامی یک‌سویه از سوی سخنران به مخاطبان است</td>\n",
              "    </tr>\n",
              "    <tr>\n",
              "      <th>67</th>\n",
              "      <td>میگوید اول تهاجم بین المللی که از جمله ایالات متحده را صادر میکنند</td>\n",
              "      <td>بیشتر ما می‌پنداریم که سخنرانی پیامی یک‌سویه از سوی سخنران به مخاطبان است</td>\n",
              "    </tr>\n",
              "    <tr>\n",
              "      <th>68</th>\n",
              "      <td>پیش بینی می‌شود خود را به جمهوری جمهوری اسلامی ایران برای مقاصد صلح آمیز باشد ادامه میدهد</td>\n",
              "      <td>با پایان این دور از گفتگوها هیأت مذاکره‌کننده جمهوری اسلامی ایران ساعاتی دیگر به تهران بازخواهد گشت</td>\n",
              "    </tr>\n",
              "    <tr>\n",
              "      <th>69</th>\n",
              "      <td>کارلوس گونزالس لیوا ازایران شد که این پروژه را سال گذشته برنامه اتمی ایران به جلسه منوچهر اوباما</td>\n",
              "      <td>با پایان این دور از گفتگوها هیأت مذاکره‌کننده جمهوری اسلامی ایران ساعاتی دیگر به تهران بازخواهد گشت</td>\n",
              "    </tr>\n",
              "    <tr>\n",
              "      <th>70</th>\n",
              "      <td>عفو روز جمعه دستگیر شد میگوید زندانیان را در جریان ماموریت خود با کمک به عراق ادامه دهد</td>\n",
              "      <td>رئیس قوه قضاییه در پیامی گفت خبرنگاران می‌توانند در جبهه جهاد تبیین و روشنگری فعالانه و حق‌طلبانه کنشگری کنند</td>\n",
              "    </tr>\n",
              "    <tr>\n",
              "      <th>71</th>\n",
              "      <td>عفو روز جمعه دستگیر شد خواستند به جاسوسی خود از تحقیقات نشان شده در باره جنگ افزار اتمی باشد</td>\n",
              "      <td>رئیس قوه قضاییه در پیامی گفت خبرنگاران می‌توانند در جبهه جهاد تبیین و روشنگری فعالانه و حق‌طلبانه کنشگری کنند</td>\n",
              "    </tr>\n",
              "    <tr>\n",
              "      <th>72</th>\n",
              "      <td>گزارش می‌رسد که اغلب روی زمین از کارکنان واحدهای اسرائیل کشت</td>\n",
              "      <td>در شبانه روز گذشته ۵۴ بیمار کرونایی در کشور فوت شدند</td>\n",
              "    </tr>\n",
              "    <tr>\n",
              "      <th>73</th>\n",
              "      <td>گزارش سالانه رسمی به این میان تعدادی مسئولیت این طرف میشود</td>\n",
              "      <td>در شبانه روز گذشته ۵۴ بیمار کرونایی در کشور فوت شدند</td>\n",
              "    </tr>\n",
              "    <tr>\n",
              "      <th>74</th>\n",
              "      <td>این گزارش قرار بود مراحل مربوط به فعالیت‌های اسرائیل داشته باشد</td>\n",
              "      <td>این تابلوها توسط هنرمندان ناشناس هندی به تصویر کشیده شده است</td>\n",
              "    </tr>\n",
              "    <tr>\n",
              "      <th>75</th>\n",
              "      <td>این گزارش به خبرنگاران حاضر در راولپندی صورت می‌گیرد شرکت کند</td>\n",
              "      <td>این تابلوها توسط هنرمندان ناشناس هندی به تصویر کشیده شده است</td>\n",
              "    </tr>\n",
              "    <tr>\n",
              "      <th>76</th>\n",
              "      <td>آنها همواره هستند ولی در بقیه آنهاست</td>\n",
              "      <td>داشتن دوستان همراه و صمیمی نعمت است</td>\n",
              "    </tr>\n",
              "    <tr>\n",
              "      <th>77</th>\n",
              "      <td>آنها میگوید داشتن و اطلاعاتی ایران نیست</td>\n",
              "      <td>داشتن دوستان همراه و صمیمی نعمت است</td>\n",
              "    </tr>\n",
              "    <tr>\n",
              "      <th>78</th>\n",
              "      <td>او روز جمعه در بازی را در نظرسنجی‌ها</td>\n",
              "      <td>حضور در باشگاه ورزشی آداب و قوانینی دارد</td>\n",
              "    </tr>\n",
              "    <tr>\n",
              "      <th>79</th>\n",
              "      <td>او روز جمعه در بازی را در آمد</td>\n",
              "      <td>حضور در باشگاه ورزشی آداب و قوانینی دارد</td>\n",
              "    </tr>\n",
              "    <tr>\n",
              "      <th>80</th>\n",
              "      <td>اسرائیل و دیگر اعضای این اتهام را برعهده گرفت</td>\n",
              "      <td>گاهی افراد به دلایل مختلف احساساتشان را پنهان می‌کنند</td>\n",
              "    </tr>\n",
              "    <tr>\n",
              "      <th>81</th>\n",
              "      <td>اسرائیل و دیگر عمده طرح دارند به اجرا بگذارد</td>\n",
              "      <td>گاهی افراد به دلایل مختلف احساساتشان را پنهان می‌کنند</td>\n",
              "    </tr>\n",
              "    <tr>\n",
              "      <th>82</th>\n",
              "      <td>ی خواننده براون است که بخاطر دخالت در این نتیجه نیست من هرگز به یاد علمی بسیار یا گردد</td>\n",
              "      <td>حتما برای شما هم پیش آمده که با یک سؤال یا حرف ساده ناخواسته کسی را ناراحت کرده باشید</td>\n",
              "    </tr>\n",
              "    <tr>\n",
              "      <th>83</th>\n",
              "      <td>آنها یکی از این اطلاعات امکان مرگ و چشم اندازهای راننده یا دیگران خود را بکار داشت کرده است</td>\n",
              "      <td>حتما برای شما هم پیش آمده که با یک سؤال یا حرف ساده ناخواسته کسی را ناراحت کرده باشید</td>\n",
              "    </tr>\n",
              "    <tr>\n",
              "      <th>84</th>\n",
              "      <td>تاکنون بیش از جلسات سال جاری برای انجام تسلیحات در فرهنگی وب استقبال می‌کند</td>\n",
              "      <td>از گذشته تا امروز زنان سهم انکارناپذیری در فعالیت‌های اقتصادی و تولید ملی داشته‌اند</td>\n",
              "    </tr>\n",
              "    <tr>\n",
              "      <th>85</th>\n",
              "      <td>تاکنون بیش از جلسات سال جاری برای انجام و اقتصاد آمریکا در لبنان بود</td>\n",
              "      <td>از گذشته تا امروز زنان سهم انکارناپذیری در فعالیت‌های اقتصادی و تولید ملی داشته‌اند</td>\n",
              "    </tr>\n",
              "    <tr>\n",
              "      <th>86</th>\n",
              "      <td>هواپیمای شدن دیگر ماموران امنیتی به یافته‌اند</td>\n",
              "      <td>یک رایانه شامل سخت‌افزار و نرم‌افزار است</td>\n",
              "    </tr>\n",
              "    <tr>\n",
              "      <th>87</th>\n",
              "      <td>ترن برخورد ادبی به فضا نفوذ می‌کردند</td>\n",
              "      <td>یک رایانه شامل سخت‌افزار و نرم‌افزار است</td>\n",
              "    </tr>\n",
              "    <tr>\n",
              "      <th>88</th>\n",
              "      <td>ولی این طرف اظهارات رییس شورا هنوز خصومت زیادی کرده‌اند</td>\n",
              "      <td>هوش مصنوعی در ۱۹۵۶ میلادی تبدیل به شاخه‌ای آکادمیک شد</td>\n",
              "    </tr>\n",
              "    <tr>\n",
              "      <th>89</th>\n",
              "      <td>ولی این طرف وزیر دفاع هنوز کاملا باید مشخص می‌سازد</td>\n",
              "      <td>هوش مصنوعی در ۱۹۵۶ میلادی تبدیل به شاخه‌ای آکادمیک شد</td>\n",
              "    </tr>\n",
              "    <tr>\n",
              "      <th>90</th>\n",
              "      <td>وی گفت که سنا مذاکره با انتخابات را مورد حمله قرار دهند متوسل خواهد شد</td>\n",
              "      <td>هنوز تعریف دقیقی برای هوش مصنوعی که مورد توافق دانشمندان این علم باشد ارائه نشده‌است</td>\n",
              "    </tr>\n",
              "    <tr>\n",
              "      <th>91</th>\n",
              "      <td>وی گفت که سنا زمانی کوتاه مدت چه هرچه کسانی را تحقق نسل کشی دانست</td>\n",
              "      <td>هنوز تعریف دقیقی برای هوش مصنوعی که مورد توافق دانشمندان این علم باشد ارائه نشده‌است</td>\n",
              "    </tr>\n",
              "    <tr>\n",
              "      <th>92</th>\n",
              "      <td>یکی از معروف‌ترین مشکلاتی که به او روی میشود هنوز زنده باشد</td>\n",
              "      <td>مبحثی است که تاکنون دانشمندان به یک تعریف جامع در آن نرسیده‌اند</td>\n",
              "    </tr>\n",
              "    <tr>\n",
              "      <th>93</th>\n",
              "      <td>رئیس جمهوری پاکستان مشغول کار را به دلیل انجام شدن به رسمیت</td>\n",
              "      <td>مبحثی است که تاکنون دانشمندان به یک تعریف جامع در آن نرسیده‌اند</td>\n",
              "    </tr>\n",
              "    <tr>\n",
              "      <th>94</th>\n",
              "      <td>سه ساعت چهل و ۱۵ صفحه وارد بستگان بودند</td>\n",
              "      <td>مشکل قضائی خبرنگاران محکوم و بازداشتی را رفع کنید</td>\n",
              "    </tr>\n",
              "    <tr>\n",
              "      <th>95</th>\n",
              "      <td>سه ساعت چهل و ۱۵ صدم ثانیه نشان دادند</td>\n",
              "      <td>مشکل قضائی خبرنگاران محکوم و بازداشتی را رفع کنید</td>\n",
              "    </tr>\n",
              "    <tr>\n",
              "      <th>96</th>\n",
              "      <td>از سوی شبکه تلویزیونی گارد آمریکا میگوید پرونده در باره برنامه اتمی خویش</td>\n",
              "      <td>تازه‌ترین خبرهای روز و اخبار فوری به‌صورت ویدیویی و رایگان در دسترس شماست</td>\n",
              "    </tr>\n",
              "    <tr>\n",
              "      <th>97</th>\n",
              "      <td>از سوی شبکه تلویزیونی گارد آمریکا ده مرد سوری آمریکا را برعهده گرفت بزرگ می‌رود</td>\n",
              "      <td>تازه‌ترین خبرهای روز و اخبار فوری به‌صورت ویدیویی و رایگان در دسترس شماست</td>\n",
              "    </tr>\n",
              "    <tr>\n",
              "      <th>98</th>\n",
              "      <td>رادیو اسرائیل ادعا کرده‌اند که همه آنها نشان دارند</td>\n",
              "      <td>رسانه‌هایی که همه می‌دانید چه کسی آنها را کنترل می‌کند</td>\n",
              "    </tr>\n",
              "    <tr>\n",
              "      <th>99</th>\n",
              "      <td>افیون غریب و ۲ کاندیدای قابل ملاحظه‌ای ساختمان را نیست</td>\n",
              "      <td>رسانه‌هایی که همه می‌دانید چه کسی آنها را کنترل می‌کند</td>\n",
              "    </tr>\n",
              "  </tbody>\n",
              "</table>\n",
              "</div>\n",
              "      <button class=\"colab-df-convert\" onclick=\"convertToInteractive('df-f6a1d466-278f-440a-8ad3-af1135dec1ed')\"\n",
              "              title=\"Convert this dataframe to an interactive table.\"\n",
              "              style=\"display:none;\">\n",
              "        \n",
              "  <svg xmlns=\"http://www.w3.org/2000/svg\" height=\"24px\"viewBox=\"0 0 24 24\"\n",
              "       width=\"24px\">\n",
              "    <path d=\"M0 0h24v24H0V0z\" fill=\"none\"/>\n",
              "    <path d=\"M18.56 5.44l.94 2.06.94-2.06 2.06-.94-2.06-.94-.94-2.06-.94 2.06-2.06.94zm-11 1L8.5 8.5l.94-2.06 2.06-.94-2.06-.94L8.5 2.5l-.94 2.06-2.06.94zm10 10l.94 2.06.94-2.06 2.06-.94-2.06-.94-.94-2.06-.94 2.06-2.06.94z\"/><path d=\"M17.41 7.96l-1.37-1.37c-.4-.4-.92-.59-1.43-.59-.52 0-1.04.2-1.43.59L10.3 9.45l-7.72 7.72c-.78.78-.78 2.05 0 2.83L4 21.41c.39.39.9.59 1.41.59.51 0 1.02-.2 1.41-.59l7.78-7.78 2.81-2.81c.8-.78.8-2.07 0-2.86zM5.41 20L4 18.59l7.72-7.72 1.47 1.35L5.41 20z\"/>\n",
              "  </svg>\n",
              "      </button>\n",
              "      \n",
              "  <style>\n",
              "    .colab-df-container {\n",
              "      display:flex;\n",
              "      flex-wrap:wrap;\n",
              "      gap: 12px;\n",
              "    }\n",
              "\n",
              "    .colab-df-convert {\n",
              "      background-color: #E8F0FE;\n",
              "      border: none;\n",
              "      border-radius: 50%;\n",
              "      cursor: pointer;\n",
              "      display: none;\n",
              "      fill: #1967D2;\n",
              "      height: 32px;\n",
              "      padding: 0 0 0 0;\n",
              "      width: 32px;\n",
              "    }\n",
              "\n",
              "    .colab-df-convert:hover {\n",
              "      background-color: #E2EBFA;\n",
              "      box-shadow: 0px 1px 2px rgba(60, 64, 67, 0.3), 0px 1px 3px 1px rgba(60, 64, 67, 0.15);\n",
              "      fill: #174EA6;\n",
              "    }\n",
              "\n",
              "    [theme=dark] .colab-df-convert {\n",
              "      background-color: #3B4455;\n",
              "      fill: #D2E3FC;\n",
              "    }\n",
              "\n",
              "    [theme=dark] .colab-df-convert:hover {\n",
              "      background-color: #434B5C;\n",
              "      box-shadow: 0px 1px 3px 1px rgba(0, 0, 0, 0.15);\n",
              "      filter: drop-shadow(0px 1px 2px rgba(0, 0, 0, 0.3));\n",
              "      fill: #FFFFFF;\n",
              "    }\n",
              "  </style>\n",
              "\n",
              "      <script>\n",
              "        const buttonEl =\n",
              "          document.querySelector('#df-f6a1d466-278f-440a-8ad3-af1135dec1ed button.colab-df-convert');\n",
              "        buttonEl.style.display =\n",
              "          google.colab.kernel.accessAllowed ? 'block' : 'none';\n",
              "\n",
              "        async function convertToInteractive(key) {\n",
              "          const element = document.querySelector('#df-f6a1d466-278f-440a-8ad3-af1135dec1ed');\n",
              "          const dataTable =\n",
              "            await google.colab.kernel.invokeFunction('convertToInteractive',\n",
              "                                                     [key], {});\n",
              "          if (!dataTable) return;\n",
              "\n",
              "          const docLinkHtml = 'Like what you see? Visit the ' +\n",
              "            '<a target=\"_blank\" href=https://colab.research.google.com/notebooks/data_table.ipynb>data table notebook</a>'\n",
              "            + ' to learn more about interactive tables.';\n",
              "          element.innerHTML = '';\n",
              "          dataTable['output_type'] = 'display_data';\n",
              "          await google.colab.output.renderOutput(dataTable, element);\n",
              "          const docLink = document.createElement('div');\n",
              "          docLink.innerHTML = docLinkHtml;\n",
              "          element.appendChild(docLink);\n",
              "        }\n",
              "      </script>\n",
              "    </div>\n",
              "  </div>\n",
              "  "
            ]
          },
          "metadata": {},
          "execution_count": 86
        }
      ]
    }
  ],
  "metadata": {
    "accelerator": "GPU",
    "colab": {
      "collapsed_sections": [],
      "name": "sentence_building.ipynb",
      "provenance": []
    },
    "gpuClass": "standard",
    "kernelspec": {
      "display_name": "Python 3",
      "name": "python3"
    },
    "language_info": {
      "name": "python"
    }
  },
  "nbformat": 4,
  "nbformat_minor": 0
}