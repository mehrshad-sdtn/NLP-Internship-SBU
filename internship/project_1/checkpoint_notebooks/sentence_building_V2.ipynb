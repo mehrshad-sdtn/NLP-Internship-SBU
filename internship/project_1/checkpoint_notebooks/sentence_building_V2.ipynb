{
  "cells": [
    {
      "cell_type": "code",
      "execution_count": 30,
      "metadata": {
        "id": "uPK2QfZkXcUv"
      },
      "outputs": [],
      "source": [
        "import numpy as np\n",
        "import tensorflow\n",
        "import random\n",
        "import pandas as pd\n",
        "import numpy as np\n",
        "import tensorflow as tf\n",
        "from tensorflow import keras\n",
        "import math"
      ]
    },
    {
      "cell_type": "code",
      "execution_count": 31,
      "metadata": {
        "colab": {
          "base_uri": "https://localhost:8080/"
        },
        "id": "om4bi94uXz6W",
        "outputId": "2bdc5b8a-0e11-4ded-9eef-3a5595551a73"
      },
      "outputs": [
        {
          "output_type": "stream",
          "name": "stdout",
          "text": [
            "Drive already mounted at /content/drive; to attempt to forcibly remount, call drive.mount(\"/content/drive\", force_remount=True).\n"
          ]
        }
      ],
      "source": [
        "from google.colab import drive\n",
        "drive.mount('/content/drive')"
      ]
    },
    {
      "cell_type": "code",
      "execution_count": 32,
      "metadata": {
        "colab": {
          "base_uri": "https://localhost:8080/"
        },
        "id": "eSoDE3KJX9bu",
        "outputId": "21b1066e-5ed3-4593-9626-dd143877c90a"
      },
      "outputs": [
        {
          "output_type": "stream",
          "name": "stdout",
          "text": [
            "/content/drive/MyDrive\n"
          ]
        }
      ],
      "source": [
        "%cd /content/drive/MyDrive/"
      ]
    },
    {
      "cell_type": "code",
      "execution_count": 33,
      "metadata": {
        "id": "jrRw5TNCYQDV"
      },
      "outputs": [],
      "source": [
        "MODEL_PATH = '/models/nlp_models'"
      ]
    },
    {
      "cell_type": "code",
      "execution_count": 34,
      "metadata": {
        "colab": {
          "base_uri": "https://localhost:8080/"
        },
        "id": "FrBcoMhTY5jO",
        "outputId": "72528333-038e-47f1-f8ed-e2458b5ed350"
      },
      "outputs": [
        {
          "output_type": "stream",
          "name": "stdout",
          "text": [
            "Looking in indexes: https://pypi.org/simple, https://us-python.pkg.dev/colab-wheels/public/simple/\n",
            "Requirement already satisfied: hazm in /usr/local/lib/python3.7/dist-packages (0.7.0)\n",
            "Requirement already satisfied: nltk==3.3 in /usr/local/lib/python3.7/dist-packages (from hazm) (3.3)\n",
            "Requirement already satisfied: libwapiti>=0.2.1 in /usr/local/lib/python3.7/dist-packages (from hazm) (0.2.1)\n",
            "Requirement already satisfied: six in /usr/local/lib/python3.7/dist-packages (from nltk==3.3->hazm) (1.15.0)\n"
          ]
        }
      ],
      "source": [
        "!pip install hazm"
      ]
    },
    {
      "cell_type": "markdown",
      "metadata": {
        "id": "0P7WzGkNeJz0"
      },
      "source": [
        "###**Text preprocessing functions**"
      ]
    },
    {
      "cell_type": "code",
      "execution_count": 35,
      "metadata": {
        "id": "DgLYXfMbY7r9"
      },
      "outputs": [],
      "source": [
        "from __future__ import unicode_literals\n",
        "from hazm import *\n",
        "import re\n",
        "import random\n",
        "from string import punctuation\n",
        "\n",
        "def text_preprocess(text):\n",
        "  normalizer = Normalizer()\n",
        "  text = normalizer.normalize(text)\n",
        "  text = re.sub(f'[{punctuation}؟،٪×÷»«]+', '', text)\n",
        "  return text\n",
        "\n",
        "def text_scramble(text):\n",
        "  words = text.split()\n",
        "  random.shuffle(words)\n",
        "  return ' '.join(words)\n"
      ]
    },
    {
      "cell_type": "markdown",
      "metadata": {
        "id": "fOZLJB5ieOSs"
      },
      "source": [
        "###**Loading and processing Corpus 1**\n",
        "(VOA FARSI 2003-08)"
      ]
    },
    {
      "cell_type": "code",
      "execution_count": 105,
      "metadata": {
        "id": "JBWO5KxPeITs"
      },
      "outputs": [],
      "source": [
        "path = 'data/voa_fa_2003-2008_orig.txt'\n",
        "with open(path, 'r', encoding='utf-8') as f:\n",
        "  text = ' '.join([line.strip() for line in f.readlines() if not line.startswith('#')])\n",
        "  text = text.split('.')\n",
        "  sents = random.sample(text, 25000)"
      ]
    },
    {
      "cell_type": "code",
      "execution_count": 112,
      "metadata": {
        "id": "jXPJ0lLqeueE"
      },
      "outputs": [],
      "source": [
        "MAX_LEN = 170\n",
        "sents_cleaned = [text_preprocess(s) for s in sents]\n",
        "sents_ready = filter(lambda s: len(s) < MAX_LEN, sents_cleaned)\n",
        "sents_data = list(sents_ready)\n",
        "random.shuffle(sents_data)\n",
        "sents_data = sents_data[:20000]  # make dataset size 20000 for ease of computation"
      ]
    },
    {
      "cell_type": "code",
      "execution_count": 113,
      "metadata": {
        "id": "aZu1i3fZ4jaF"
      },
      "outputs": [],
      "source": [
        "tokenizer = keras.preprocessing.text.Tokenizer(oov_token='<UNK>')\n",
        "tokenizer.fit_on_texts(sents_data)\n",
        "tokenizer.word_index['<PAD>'] = 0\n",
        "last_idx = len(tokenizer.word_index) + 1\n",
        "tokenizer.word_index['<SOS>'] = last_idx"
      ]
    },
    {
      "cell_type": "code",
      "execution_count": 116,
      "metadata": {
        "colab": {
          "base_uri": "https://localhost:8080/"
        },
        "id": "8S8uD4Lp_GGF",
        "outputId": "40f69204-16ac-45b6-cf0b-d1aef168fe75"
      },
      "outputs": [
        {
          "output_type": "stream",
          "name": "stdout",
          "text": [
            "maximum sentence length: 39\n"
          ]
        }
      ],
      "source": [
        "temp = [len(each.split()) for each in sents_data]\n",
        "print('maximum sentence length:', sorted(temp)[-1])"
      ]
    },
    {
      "cell_type": "markdown",
      "metadata": {
        "id": "4hjb7_snihFC"
      },
      "source": [
        "### **building the dataset**"
      ]
    },
    {
      "cell_type": "code",
      "execution_count": 117,
      "metadata": {
        "id": "vw9NSMqyiDDL"
      },
      "outputs": [],
      "source": [
        "def create_shuffles(sent_list, m):\n",
        "  \"\"\"\n",
        "  this function creates m random shuffles of the sentence\n",
        "  \"\"\"\n",
        "  all_combs = []\n",
        "  for sent in sent_list:\n",
        "    comb_set = set([])\n",
        "    for i in range(0, m + 1):\n",
        "      comb_set.add(text_scramble(sent))\n",
        "    all_combs.append((sent, comb_set))\n",
        "  return all_combs"
      ]
    },
    {
      "cell_type": "code",
      "execution_count": 118,
      "metadata": {
        "id": "tIM26pJyjBDr"
      },
      "outputs": [],
      "source": [
        "shuffle_pairs = create_shuffles(sents_data, 8)"
      ]
    },
    {
      "cell_type": "code",
      "execution_count": 120,
      "metadata": {
        "colab": {
          "base_uri": "https://localhost:8080/"
        },
        "id": "kh5Bf4KHjh1e",
        "outputId": "de337b20-d649-46a5-bc88-5324bda4ab58"
      },
      "outputs": [
        {
          "output_type": "execute_result",
          "data": {
            "text/plain": [
              "(' اوهم اکنون درحالی که جراحات سختی براثر سوختگی برداشته است دریکی ازبیمارستان\\u200cهای اسکاتلند تحت حفاظت قراردارد',\n",
              " {'اسکاتلند است دریکی جراحات قراردارد درحالی حفاظت براثر سختی سوختگی ازبیمارستان\\u200cهای برداشته که اوهم اکنون تحت',\n",
              "  'اسکاتلند دریکی حفاظت برداشته تحت قراردارد است که درحالی براثر ازبیمارستان\\u200cهای سختی سوختگی اکنون اوهم جراحات',\n",
              "  'اسکاتلند دریکی درحالی براثر برداشته قراردارد اکنون حفاظت جراحات که سختی تحت سوختگی است ازبیمارستان\\u200cهای اوهم',\n",
              "  'اوهم جراحات حفاظت درحالی دریکی ازبیمارستان\\u200cهای سوختگی که اکنون است تحت برداشته براثر سختی قراردارد اسکاتلند',\n",
              "  'برداشته دریکی براثر اسکاتلند اکنون تحت جراحات است قراردارد که سوختگی اوهم درحالی سختی حفاظت ازبیمارستان\\u200cهای',\n",
              "  'برداشته که سوختگی براثر حفاظت جراحات ازبیمارستان\\u200cهای دریکی اکنون قراردارد درحالی اسکاتلند است اوهم تحت سختی',\n",
              "  'تحت درحالی دریکی برداشته قراردارد اسکاتلند ازبیمارستان\\u200cهای سوختگی اوهم است سختی براثر جراحات که حفاظت اکنون',\n",
              "  'قراردارد است تحت جراحات سختی که سوختگی اسکاتلند اکنون برداشته اوهم دریکی درحالی براثر ازبیمارستان\\u200cهای حفاظت',\n",
              "  'که سوختگی اسکاتلند دریکی حفاظت برداشته است اکنون اوهم جراحات ازبیمارستان\\u200cهای سختی براثر قراردارد تحت درحالی'})"
            ]
          },
          "metadata": {},
          "execution_count": 120
        }
      ],
      "source": [
        "shuffle_pairs[1][0], shuffle_pairs[1][1]"
      ]
    },
    {
      "cell_type": "code",
      "execution_count": 121,
      "metadata": {
        "id": "wnoA5xmDjrBU"
      },
      "outputs": [],
      "source": [
        "def create_dataframe(pairs):\n",
        "  \"\"\"\n",
        "  creates a dataframe with two columns of original sentence and it's shuffles\n",
        "  \"\"\"\n",
        "  original = []\n",
        "  shuffled = []\n",
        "  for pair in pairs:\n",
        "    for p in pair[1]:\n",
        "      original.append(pair[0])\n",
        "      shuffled.append(p)\n",
        "\n",
        "  df_dict = { 'Shuffled': shuffled, 'Original': original}\n",
        "  df = pd.DataFrame(df_dict)\n",
        "  return df\n"
      ]
    },
    {
      "cell_type": "code",
      "execution_count": 122,
      "metadata": {
        "colab": {
          "base_uri": "https://localhost:8080/",
          "height": 424
        },
        "id": "jTZJ1mSbkXuy",
        "outputId": "98342b57-1338-4974-f156-513b1ee0d159"
      },
      "outputs": [
        {
          "output_type": "execute_result",
          "data": {
            "text/plain": [
              "                                                 Shuffled  \\\n",
              "0       کنند از شو این کار تا طرف‌ها بی بیش همه وزارت ...   \n",
              "1       تا بی طرف‌ها از سه نشود خارجه چین جیان سخنگوی ...   \n",
              "2       کار سه از با خواست منطقه سخنگوی چین حل بیش خار...   \n",
              "3       امور طرف‌ها یکدیگر از منطقه خواست چین خارجه جی...   \n",
              "4       کار این لئو تا بی سه سخنگوی ثبات خواست امور حل...   \n",
              "...                                                   ...   \n",
              "177612  ذره حقوق دایان Dianne گروه مشترک جدید که مامور...   \n",
              "177613  ماموریت این گروه وخیم‌ترین ذره جدید فاینشتاین ...   \n",
              "177614  را گروه بین که Feinstein رئیس قراردهد Dianne ذ...   \n",
              "177615  Feinstein گروه سناتور ماموریت نقض این که مشترک...   \n",
              "177616  مشترک زیر فاینشتاین رئیس Feinstein نقض حقوق وخ...   \n",
              "\n",
              "                                                 Original  \n",
              "0        لئو جیان شو سخنگوی وزارت امور خارجه چین امروز...  \n",
              "1        لئو جیان شو سخنگوی وزارت امور خارجه چین امروز...  \n",
              "2        لئو جیان شو سخنگوی وزارت امور خارجه چین امروز...  \n",
              "3        لئو جیان شو سخنگوی وزارت امور خارجه چین امروز...  \n",
              "4        لئو جیان شو سخنگوی وزارت امور خارجه چین امروز...  \n",
              "...                                                   ...  \n",
              "177612   سناتور دایان فاینشتاین Dianne Feinstein رئیس ...  \n",
              "177613   سناتور دایان فاینشتاین Dianne Feinstein رئیس ...  \n",
              "177614   سناتور دایان فاینشتاین Dianne Feinstein رئیس ...  \n",
              "177615   سناتور دایان فاینشتاین Dianne Feinstein رئیس ...  \n",
              "177616   سناتور دایان فاینشتاین Dianne Feinstein رئیس ...  \n",
              "\n",
              "[177617 rows x 2 columns]"
            ],
            "text/html": [
              "\n",
              "  <div id=\"df-f8a1546e-72f7-40f7-a2f1-86bb9824ba70\">\n",
              "    <div class=\"colab-df-container\">\n",
              "      <div>\n",
              "<style scoped>\n",
              "    .dataframe tbody tr th:only-of-type {\n",
              "        vertical-align: middle;\n",
              "    }\n",
              "\n",
              "    .dataframe tbody tr th {\n",
              "        vertical-align: top;\n",
              "    }\n",
              "\n",
              "    .dataframe thead th {\n",
              "        text-align: right;\n",
              "    }\n",
              "</style>\n",
              "<table border=\"1\" class=\"dataframe\">\n",
              "  <thead>\n",
              "    <tr style=\"text-align: right;\">\n",
              "      <th></th>\n",
              "      <th>Shuffled</th>\n",
              "      <th>Original</th>\n",
              "    </tr>\n",
              "  </thead>\n",
              "  <tbody>\n",
              "    <tr>\n",
              "      <th>0</th>\n",
              "      <td>کنند از شو این کار تا طرف‌ها بی بیش همه وزارت ...</td>\n",
              "      <td>لئو جیان شو سخنگوی وزارت امور خارجه چین امروز...</td>\n",
              "    </tr>\n",
              "    <tr>\n",
              "      <th>1</th>\n",
              "      <td>تا بی طرف‌ها از سه نشود خارجه چین جیان سخنگوی ...</td>\n",
              "      <td>لئو جیان شو سخنگوی وزارت امور خارجه چین امروز...</td>\n",
              "    </tr>\n",
              "    <tr>\n",
              "      <th>2</th>\n",
              "      <td>کار سه از با خواست منطقه سخنگوی چین حل بیش خار...</td>\n",
              "      <td>لئو جیان شو سخنگوی وزارت امور خارجه چین امروز...</td>\n",
              "    </tr>\n",
              "    <tr>\n",
              "      <th>3</th>\n",
              "      <td>امور طرف‌ها یکدیگر از منطقه خواست چین خارجه جی...</td>\n",
              "      <td>لئو جیان شو سخنگوی وزارت امور خارجه چین امروز...</td>\n",
              "    </tr>\n",
              "    <tr>\n",
              "      <th>4</th>\n",
              "      <td>کار این لئو تا بی سه سخنگوی ثبات خواست امور حل...</td>\n",
              "      <td>لئو جیان شو سخنگوی وزارت امور خارجه چین امروز...</td>\n",
              "    </tr>\n",
              "    <tr>\n",
              "      <th>...</th>\n",
              "      <td>...</td>\n",
              "      <td>...</td>\n",
              "    </tr>\n",
              "    <tr>\n",
              "      <th>177612</th>\n",
              "      <td>ذره حقوق دایان Dianne گروه مشترک جدید که مامور...</td>\n",
              "      <td>سناتور دایان فاینشتاین Dianne Feinstein رئیس ...</td>\n",
              "    </tr>\n",
              "    <tr>\n",
              "      <th>177613</th>\n",
              "      <td>ماموریت این گروه وخیم‌ترین ذره جدید فاینشتاین ...</td>\n",
              "      <td>سناتور دایان فاینشتاین Dianne Feinstein رئیس ...</td>\n",
              "    </tr>\n",
              "    <tr>\n",
              "      <th>177614</th>\n",
              "      <td>را گروه بین که Feinstein رئیس قراردهد Dianne ذ...</td>\n",
              "      <td>سناتور دایان فاینشتاین Dianne Feinstein رئیس ...</td>\n",
              "    </tr>\n",
              "    <tr>\n",
              "      <th>177615</th>\n",
              "      <td>Feinstein گروه سناتور ماموریت نقض این که مشترک...</td>\n",
              "      <td>سناتور دایان فاینشتاین Dianne Feinstein رئیس ...</td>\n",
              "    </tr>\n",
              "    <tr>\n",
              "      <th>177616</th>\n",
              "      <td>مشترک زیر فاینشتاین رئیس Feinstein نقض حقوق وخ...</td>\n",
              "      <td>سناتور دایان فاینشتاین Dianne Feinstein رئیس ...</td>\n",
              "    </tr>\n",
              "  </tbody>\n",
              "</table>\n",
              "<p>177617 rows × 2 columns</p>\n",
              "</div>\n",
              "      <button class=\"colab-df-convert\" onclick=\"convertToInteractive('df-f8a1546e-72f7-40f7-a2f1-86bb9824ba70')\"\n",
              "              title=\"Convert this dataframe to an interactive table.\"\n",
              "              style=\"display:none;\">\n",
              "        \n",
              "  <svg xmlns=\"http://www.w3.org/2000/svg\" height=\"24px\"viewBox=\"0 0 24 24\"\n",
              "       width=\"24px\">\n",
              "    <path d=\"M0 0h24v24H0V0z\" fill=\"none\"/>\n",
              "    <path d=\"M18.56 5.44l.94 2.06.94-2.06 2.06-.94-2.06-.94-.94-2.06-.94 2.06-2.06.94zm-11 1L8.5 8.5l.94-2.06 2.06-.94-2.06-.94L8.5 2.5l-.94 2.06-2.06.94zm10 10l.94 2.06.94-2.06 2.06-.94-2.06-.94-.94-2.06-.94 2.06-2.06.94z\"/><path d=\"M17.41 7.96l-1.37-1.37c-.4-.4-.92-.59-1.43-.59-.52 0-1.04.2-1.43.59L10.3 9.45l-7.72 7.72c-.78.78-.78 2.05 0 2.83L4 21.41c.39.39.9.59 1.41.59.51 0 1.02-.2 1.41-.59l7.78-7.78 2.81-2.81c.8-.78.8-2.07 0-2.86zM5.41 20L4 18.59l7.72-7.72 1.47 1.35L5.41 20z\"/>\n",
              "  </svg>\n",
              "      </button>\n",
              "      \n",
              "  <style>\n",
              "    .colab-df-container {\n",
              "      display:flex;\n",
              "      flex-wrap:wrap;\n",
              "      gap: 12px;\n",
              "    }\n",
              "\n",
              "    .colab-df-convert {\n",
              "      background-color: #E8F0FE;\n",
              "      border: none;\n",
              "      border-radius: 50%;\n",
              "      cursor: pointer;\n",
              "      display: none;\n",
              "      fill: #1967D2;\n",
              "      height: 32px;\n",
              "      padding: 0 0 0 0;\n",
              "      width: 32px;\n",
              "    }\n",
              "\n",
              "    .colab-df-convert:hover {\n",
              "      background-color: #E2EBFA;\n",
              "      box-shadow: 0px 1px 2px rgba(60, 64, 67, 0.3), 0px 1px 3px 1px rgba(60, 64, 67, 0.15);\n",
              "      fill: #174EA6;\n",
              "    }\n",
              "\n",
              "    [theme=dark] .colab-df-convert {\n",
              "      background-color: #3B4455;\n",
              "      fill: #D2E3FC;\n",
              "    }\n",
              "\n",
              "    [theme=dark] .colab-df-convert:hover {\n",
              "      background-color: #434B5C;\n",
              "      box-shadow: 0px 1px 3px 1px rgba(0, 0, 0, 0.15);\n",
              "      filter: drop-shadow(0px 1px 2px rgba(0, 0, 0, 0.3));\n",
              "      fill: #FFFFFF;\n",
              "    }\n",
              "  </style>\n",
              "\n",
              "      <script>\n",
              "        const buttonEl =\n",
              "          document.querySelector('#df-f8a1546e-72f7-40f7-a2f1-86bb9824ba70 button.colab-df-convert');\n",
              "        buttonEl.style.display =\n",
              "          google.colab.kernel.accessAllowed ? 'block' : 'none';\n",
              "\n",
              "        async function convertToInteractive(key) {\n",
              "          const element = document.querySelector('#df-f8a1546e-72f7-40f7-a2f1-86bb9824ba70');\n",
              "          const dataTable =\n",
              "            await google.colab.kernel.invokeFunction('convertToInteractive',\n",
              "                                                     [key], {});\n",
              "          if (!dataTable) return;\n",
              "\n",
              "          const docLinkHtml = 'Like what you see? Visit the ' +\n",
              "            '<a target=\"_blank\" href=https://colab.research.google.com/notebooks/data_table.ipynb>data table notebook</a>'\n",
              "            + ' to learn more about interactive tables.';\n",
              "          element.innerHTML = '';\n",
              "          dataTable['output_type'] = 'display_data';\n",
              "          await google.colab.output.renderOutput(dataTable, element);\n",
              "          const docLink = document.createElement('div');\n",
              "          docLink.innerHTML = docLinkHtml;\n",
              "          element.appendChild(docLink);\n",
              "        }\n",
              "      </script>\n",
              "    </div>\n",
              "  </div>\n",
              "  "
            ]
          },
          "metadata": {},
          "execution_count": 122
        }
      ],
      "source": [
        "df = create_dataframe(shuffle_pairs)\n",
        "df"
      ]
    },
    {
      "cell_type": "code",
      "execution_count": 123,
      "metadata": {
        "id": "HRkeMJafwY7_"
      },
      "outputs": [],
      "source": [
        "def create_dataset(df, train_percent=80):\n",
        "  data_size = df.shape[0]\n",
        "  count = math.floor(data_size * (train_percent/100))\n",
        "\n",
        "  dataset = df['Shuffled'].values\n",
        "  labels  = df['Original'].values\n",
        "\n",
        "  train_data   = dataset[:count]\n",
        "  train_labels = labels[:count]\n",
        "  test_data   = dataset[count:]\n",
        "  test_labels = labels[count:]\n",
        "\n",
        "  return ((train_data, train_labels), (test_data, test_labels))\n",
        "\n",
        "\n"
      ]
    },
    {
      "cell_type": "code",
      "execution_count": 124,
      "metadata": {
        "id": "Dh3otPKB0GrV"
      },
      "outputs": [],
      "source": [
        "train_set, test_set = create_dataset(df)\n",
        "X_train_text, Y_train_text = train_set\n",
        "X_test_text, Y_test_text = test_set"
      ]
    },
    {
      "cell_type": "markdown",
      "metadata": {
        "id": "9vq7ch6G1jX1"
      },
      "source": [
        "###**making dataset ready for training**"
      ]
    },
    {
      "cell_type": "code",
      "source": [
        "sos_index = last_idx\n",
        "def shift_output_sequence(seq_list):\n",
        "  for seq in seq_list:\n",
        "    seq.insert(0, sos_index)\n",
        "  return seq_list\n"
      ],
      "metadata": {
        "id": "y9Y7Kqc4w1XV"
      },
      "execution_count": 125,
      "outputs": []
    },
    {
      "cell_type": "code",
      "source": [
        "X_train_seq = tokenizer.texts_to_sequences(X_train_text)\n",
        "Y_train_seq = tokenizer.texts_to_sequences(Y_train_text)\n",
        "X_test_seq  = tokenizer.texts_to_sequences(X_test_text)\n",
        "Y_test_seq  = tokenizer.texts_to_sequences(Y_test_text)"
      ],
      "metadata": {
        "id": "ZPoeo0sYwWPO"
      },
      "execution_count": 126,
      "outputs": []
    },
    {
      "cell_type": "code",
      "execution_count": 127,
      "metadata": {
        "id": "UkcJ_sWk1rKF"
      },
      "outputs": [],
      "source": [
        "MAX_SEQ_LEN = 45  \n",
        "X_train = keras.preprocessing.sequence.pad_sequences(X_train_seq, maxlen=MAX_SEQ_LEN)\n",
        "Y_train = keras.preprocessing.sequence.pad_sequences(Y_train_seq, maxlen=MAX_SEQ_LEN)\n",
        "\n",
        "X_test  = keras.preprocessing.sequence.pad_sequences(X_test_seq, maxlen=MAX_SEQ_LEN)\n",
        "Y_test  = keras.preprocessing.sequence.pad_sequences(Y_test_seq, maxlen=MAX_SEQ_LEN)\n",
        "\n",
        "X_train_decoder = keras.preprocessing.sequence.pad_sequences(shift_output_sequence(Y_train_seq), maxlen=MAX_SEQ_LEN)\n",
        "X_test_decoder  = keras.preprocessing.sequence.pad_sequences(shift_output_sequence(Y_test_seq),  maxlen=MAX_SEQ_LEN)"
      ]
    },
    {
      "cell_type": "code",
      "source": [
        "X_train_decoder[:2], X_test_decoder[:2]"
      ],
      "metadata": {
        "colab": {
          "base_uri": "https://localhost:8080/"
        },
        "id": "8MsYgFws1eJE",
        "outputId": "03b1585b-a055-4afe-a406-2cab5bf7d04e"
      },
      "execution_count": 128,
      "outputs": [
        {
          "output_type": "execute_result",
          "data": {
            "text/plain": [
              "(array([[    0,     0,     0,     0,     0,     0,     0,     0,     0,\n",
              "             0,     0,     0,     0,     0, 24233, 11550,  7018, 11551,\n",
              "           122,   109,   110,   128,   112,    44,    46,    59,     5,\n",
              "           363,  4469,   332,    12,   374,   481,    10,   569,   167,\n",
              "            94,    54,   117,   119,     5,     9,   179,  1317,  1540],\n",
              "        [    0,     0,     0,     0,     0,     0,     0,     0,     0,\n",
              "             0,     0,     0,     0,     0, 24233, 11550,  7018, 11551,\n",
              "           122,   109,   110,   128,   112,    44,    46,    59,     5,\n",
              "           363,  4469,   332,    12,   374,   481,    10,   569,   167,\n",
              "            94,    54,   117,   119,     5,     9,   179,  1317,  1540]],\n",
              "       dtype=int32),\n",
              " array([[    0,     0,     0,     0,     0,     0,     0,     0,     0,\n",
              "             0,     0,     0,     0,     0,     0, 24233,    20,  1882,\n",
              "            27,   164,   259,   123,     5,  1119,    19,     6,   258,\n",
              "            28,     8,     4,    85,    88,   419,    13,     6,     5,\n",
              "           457,     7,    20, 21638,    19,   406,   205,   894,  5517],\n",
              "        [    0,     0,     0,     0,     0,     0,     0,     0,     0,\n",
              "             0,     0,     0,     0,     0,     0, 24233,    20,  1882,\n",
              "            27,   164,   259,   123,     5,  1119,    19,     6,   258,\n",
              "            28,     8,     4,    85,    88,   419,    13,     6,     5,\n",
              "           457,     7,    20, 21638,    19,   406,   205,   894,  5517]],\n",
              "       dtype=int32))"
            ]
          },
          "metadata": {},
          "execution_count": 128
        }
      ]
    },
    {
      "cell_type": "code",
      "execution_count": 129,
      "metadata": {
        "colab": {
          "base_uri": "https://localhost:8080/"
        },
        "id": "jR3JqKVK96iy",
        "outputId": "c9525b5b-0505-4d65-8c4a-cbe0e79ef8fe"
      },
      "outputs": [
        {
          "output_type": "execute_result",
          "data": {
            "text/plain": [
              "(array([    0,     0,     0,     0,     0,     0,     0,     0,     0,\n",
              "            0,     0,     0,     0,     0,     0,    94,     5, 11551,\n",
              "            9,   167,    54,  4469,   179,   119,   363,   109,    12,\n",
              "         1317,   332,  7018,    59,     5, 11550,    10,   569,   128,\n",
              "         1540,   122,    46,   112,   374,   481,   117,    44,   110],\n",
              "       dtype=int32),\n",
              " array([    0,     0,     0,     0,     0,     0,     0,     0,     0,\n",
              "            0,     0,     0,     0,     0,     0, 11550,  7018, 11551,\n",
              "          122,   109,   110,   128,   112,    44,    46,    59,     5,\n",
              "          363,  4469,   332,    12,   374,   481,    10,   569,   167,\n",
              "           94,    54,   117,   119,     5,     9,   179,  1317,  1540],\n",
              "       dtype=int32))"
            ]
          },
          "metadata": {},
          "execution_count": 129
        }
      ],
      "source": [
        "X_train[0], Y_train[0]"
      ]
    },
    {
      "cell_type": "code",
      "source": [
        "VOCAB_SIZE = len(tokenizer.word_index)\n",
        "VOCAB_SIZE"
      ],
      "metadata": {
        "colab": {
          "base_uri": "https://localhost:8080/"
        },
        "id": "5trFrkKtX8JD",
        "outputId": "a8d35191-dfca-4155-8547-ce5c24629c92"
      },
      "execution_count": 130,
      "outputs": [
        {
          "output_type": "execute_result",
          "data": {
            "text/plain": [
              "24233"
            ]
          },
          "metadata": {},
          "execution_count": 130
        }
      ]
    },
    {
      "cell_type": "markdown",
      "source": [
        "###**Encoder-Decoder network**"
      ],
      "metadata": {
        "id": "F3F9foXMQ7BK"
      }
    },
    {
      "cell_type": "code",
      "source": [
        "encoder_embedding_size = 32\n",
        "decoder_embedding_size = 32\n",
        "lstm_units = 128\n",
        "\n",
        "np.random.seed(42)\n",
        "tf.random.set_seed(42)\n",
        "\n",
        "encoder_input = keras.layers.Input(shape=[None], dtype=tf.int32)\n",
        "\n",
        "encoder_embedding = keras.layers.Embedding(input_dim=VOCAB_SIZE + 1,output_dim=encoder_embedding_size, input_length=MAX_SEQ_LEN, mask_zero=True)(encoder_input)\n",
        "\n",
        "_, encoder_state_h, encoder_state_c = keras.layers.LSTM(lstm_units, dropout=0.2, return_state=True)(encoder_embedding)\n",
        "\n",
        "encoder_state = [encoder_state_h, encoder_state_c]\n",
        "\n",
        "decoder_input = keras.layers.Input(shape=[None], dtype=tf.int32)\n",
        "\n",
        "decoder_embedding = keras.layers.Embedding(input_dim=VOCAB_SIZE + 2, output_dim=decoder_embedding_size, mask_zero=True)(decoder_input)\n",
        "\n",
        "decoder_lstm_output = keras.layers.LSTM(lstm_units, dropout=0.2, return_sequences=True)(decoder_embedding, initial_state=encoder_state)\n",
        "\n",
        "decoder_output = keras.layers.Dense(VOCAB_SIZE + 1, activation=\"softmax\")(decoder_lstm_output)\n",
        "\n",
        "model = keras.models.Model(inputs=[encoder_input, decoder_input], outputs=[decoder_output])\n",
        "\n",
        "optimizer = keras.optimizers.Nadam()\n",
        "model.compile(loss=\"sparse_categorical_crossentropy\", optimizer=optimizer, metrics=[\"accuracy\"])\n",
        "model.summary()\n"
      ],
      "metadata": {
        "colab": {
          "base_uri": "https://localhost:8080/"
        },
        "id": "jHYgCVUBWhXl",
        "outputId": "4549c691-08ef-40de-8be2-aec10c2c741f"
      },
      "execution_count": 132,
      "outputs": [
        {
          "output_type": "stream",
          "name": "stdout",
          "text": [
            "Model: \"model_7\"\n",
            "__________________________________________________________________________________________________\n",
            " Layer (type)                   Output Shape         Param #     Connected to                     \n",
            "==================================================================================================\n",
            " input_15 (InputLayer)          [(None, None)]       0           []                               \n",
            "                                                                                                  \n",
            " input_16 (InputLayer)          [(None, None)]       0           []                               \n",
            "                                                                                                  \n",
            " embedding_14 (Embedding)       (None, None, 32)     775488      ['input_15[0][0]']               \n",
            "                                                                                                  \n",
            " embedding_15 (Embedding)       (None, None, 32)     775520      ['input_16[0][0]']               \n",
            "                                                                                                  \n",
            " lstm_14 (LSTM)                 [(None, 128),        82432       ['embedding_14[0][0]']           \n",
            "                                 (None, 128),                                                     \n",
            "                                 (None, 128)]                                                     \n",
            "                                                                                                  \n",
            " lstm_15 (LSTM)                 (None, None, 128)    82432       ['embedding_15[0][0]',           \n",
            "                                                                  'lstm_14[0][1]',                \n",
            "                                                                  'lstm_14[0][2]']                \n",
            "                                                                                                  \n",
            " dense_7 (Dense)                (None, None, 24234)  3126186     ['lstm_15[0][0]']                \n",
            "                                                                                                  \n",
            "==================================================================================================\n",
            "Total params: 4,842,058\n",
            "Trainable params: 4,842,058\n",
            "Non-trainable params: 0\n",
            "__________________________________________________________________________________________________\n"
          ]
        }
      ]
    },
    {
      "cell_type": "code",
      "source": [
        "history = model.fit([X_train, X_train_decoder], Y_train, epochs=30, validation_split=0.1, batch_size=512)"
      ],
      "metadata": {
        "colab": {
          "base_uri": "https://localhost:8080/"
        },
        "id": "UbRGiGpaW_-R",
        "outputId": "50a60fbc-5559-4bf0-8c0c-52d8add43f29"
      },
      "execution_count": 133,
      "outputs": [
        {
          "output_type": "stream",
          "name": "stdout",
          "text": [
            "Epoch 1/30\n",
            "250/250 [==============================] - 193s 741ms/step - loss: 3.3845 - accuracy: 0.0804 - val_loss: 3.0433 - val_accuracy: 0.0845\n",
            "Epoch 2/30\n",
            "250/250 [==============================] - 181s 721ms/step - loss: 2.8460 - accuracy: 0.0972 - val_loss: 2.6607 - val_accuracy: 0.1264\n",
            "Epoch 3/30\n",
            "250/250 [==============================] - 181s 725ms/step - loss: 2.3881 - accuracy: 0.1844 - val_loss: 2.1692 - val_accuracy: 0.2953\n",
            "Epoch 4/30\n",
            "250/250 [==============================] - 180s 720ms/step - loss: 1.8690 - accuracy: 0.3899 - val_loss: 1.6787 - val_accuracy: 0.5359\n",
            "Epoch 5/30\n",
            "250/250 [==============================] - 180s 721ms/step - loss: 1.4353 - accuracy: 0.5807 - val_loss: 1.3427 - val_accuracy: 0.6669\n",
            "Epoch 6/30\n",
            "250/250 [==============================] - 181s 724ms/step - loss: 1.1390 - accuracy: 0.6783 - val_loss: 1.1246 - val_accuracy: 0.7286\n",
            "Epoch 7/30\n",
            "250/250 [==============================] - 181s 725ms/step - loss: 0.9333 - accuracy: 0.7336 - val_loss: 0.9692 - val_accuracy: 0.7712\n",
            "Epoch 8/30\n",
            "250/250 [==============================] - 180s 722ms/step - loss: 0.7763 - accuracy: 0.7738 - val_loss: 0.8490 - val_accuracy: 0.8031\n",
            "Epoch 9/30\n",
            "250/250 [==============================] - 181s 723ms/step - loss: 0.6495 - accuracy: 0.8070 - val_loss: 0.7544 - val_accuracy: 0.8293\n",
            "Epoch 10/30\n",
            "250/250 [==============================] - 181s 722ms/step - loss: 0.5444 - accuracy: 0.8362 - val_loss: 0.6770 - val_accuracy: 0.8515\n",
            "Epoch 11/30\n",
            "250/250 [==============================] - 180s 719ms/step - loss: 0.4538 - accuracy: 0.8628 - val_loss: 0.6107 - val_accuracy: 0.8709\n",
            "Epoch 12/30\n",
            "250/250 [==============================] - 180s 720ms/step - loss: 0.3759 - accuracy: 0.8885 - val_loss: 0.5555 - val_accuracy: 0.8870\n",
            "Epoch 13/30\n",
            "250/250 [==============================] - 180s 721ms/step - loss: 0.3091 - accuracy: 0.9142 - val_loss: 0.5096 - val_accuracy: 0.9013\n",
            "Epoch 14/30\n",
            "250/250 [==============================] - 181s 724ms/step - loss: 0.2510 - accuracy: 0.9394 - val_loss: 0.4707 - val_accuracy: 0.9124\n",
            "Epoch 15/30\n",
            "250/250 [==============================] - 181s 725ms/step - loss: 0.2007 - accuracy: 0.9600 - val_loss: 0.4388 - val_accuracy: 0.9202\n",
            "Epoch 16/30\n",
            "250/250 [==============================] - 181s 725ms/step - loss: 0.1587 - accuracy: 0.9736 - val_loss: 0.4127 - val_accuracy: 0.9261\n",
            "Epoch 17/30\n",
            "250/250 [==============================] - 181s 724ms/step - loss: 0.1243 - accuracy: 0.9822 - val_loss: 0.3910 - val_accuracy: 0.9307\n",
            "Epoch 18/30\n",
            "250/250 [==============================] - 180s 721ms/step - loss: 0.0974 - accuracy: 0.9874 - val_loss: 0.3741 - val_accuracy: 0.9340\n",
            "Epoch 19/30\n",
            "250/250 [==============================] - 181s 725ms/step - loss: 0.0767 - accuracy: 0.9905 - val_loss: 0.3603 - val_accuracy: 0.9359\n",
            "Epoch 20/30\n",
            "250/250 [==============================] - 182s 727ms/step - loss: 0.0611 - accuracy: 0.9926 - val_loss: 0.3484 - val_accuracy: 0.9379\n",
            "Epoch 21/30\n",
            "250/250 [==============================] - 181s 725ms/step - loss: 0.0494 - accuracy: 0.9940 - val_loss: 0.3400 - val_accuracy: 0.9392\n",
            "Epoch 22/30\n",
            "250/250 [==============================] - 183s 730ms/step - loss: 0.0407 - accuracy: 0.9949 - val_loss: 0.3317 - val_accuracy: 0.9405\n",
            "Epoch 23/30\n",
            "250/250 [==============================] - 182s 730ms/step - loss: 0.0338 - accuracy: 0.9957 - val_loss: 0.3252 - val_accuracy: 0.9414\n",
            "Epoch 24/30\n",
            "250/250 [==============================] - 186s 745ms/step - loss: 0.0286 - accuracy: 0.9961 - val_loss: 0.3194 - val_accuracy: 0.9422\n",
            "Epoch 25/30\n",
            "250/250 [==============================] - 183s 732ms/step - loss: 0.0246 - accuracy: 0.9965 - val_loss: 0.3156 - val_accuracy: 0.9429\n",
            "Epoch 26/30\n",
            "250/250 [==============================] - 182s 730ms/step - loss: 0.0214 - accuracy: 0.9968 - val_loss: 0.3118 - val_accuracy: 0.9434\n",
            "Epoch 27/30\n",
            "250/250 [==============================] - 184s 737ms/step - loss: 0.0187 - accuracy: 0.9971 - val_loss: 0.3076 - val_accuracy: 0.9437\n",
            "Epoch 28/30\n",
            "250/250 [==============================] - 185s 738ms/step - loss: 0.0166 - accuracy: 0.9973 - val_loss: 0.3044 - val_accuracy: 0.9447\n",
            "Epoch 29/30\n",
            "250/250 [==============================] - 184s 737ms/step - loss: 0.0147 - accuracy: 0.9976 - val_loss: 0.3017 - val_accuracy: 0.9450\n",
            "Epoch 30/30\n",
            "250/250 [==============================] - 185s 739ms/step - loss: 0.0132 - accuracy: 0.9977 - val_loss: 0.2989 - val_accuracy: 0.9453\n"
          ]
        }
      ]
    },
    {
      "cell_type": "code",
      "source": [
        "history = model.fit([X_train, X_train_decoder], Y_train, epochs=10, validation_split=0.1, batch_size=512)"
      ],
      "metadata": {
        "colab": {
          "base_uri": "https://localhost:8080/"
        },
        "id": "MOTV_Q7ur-jM",
        "outputId": "8ffef46f-278e-4c99-c3ae-50aee881fe17"
      },
      "execution_count": 140,
      "outputs": [
        {
          "output_type": "stream",
          "name": "stdout",
          "text": [
            "Epoch 1/10\n",
            "250/250 [==============================] - 198s 755ms/step - loss: 0.0119 - accuracy: 0.9979 - val_loss: 0.2859 - val_accuracy: 0.9453\n",
            "Epoch 2/10\n",
            "250/250 [==============================] - 184s 737ms/step - loss: 0.0101 - accuracy: 0.9981 - val_loss: 0.2829 - val_accuracy: 0.9457\n",
            "Epoch 3/10\n",
            "250/250 [==============================] - 182s 729ms/step - loss: 0.0087 - accuracy: 0.9983 - val_loss: 0.2789 - val_accuracy: 0.9461\n",
            "Epoch 4/10\n",
            "250/250 [==============================] - 183s 734ms/step - loss: 0.0079 - accuracy: 0.9983 - val_loss: 0.2774 - val_accuracy: 0.9465\n",
            "Epoch 5/10\n",
            "250/250 [==============================] - 183s 733ms/step - loss: 0.0071 - accuracy: 0.9985 - val_loss: 0.2757 - val_accuracy: 0.9468\n",
            "Epoch 6/10\n",
            "250/250 [==============================] - 183s 734ms/step - loss: 0.0064 - accuracy: 0.9986 - val_loss: 0.2740 - val_accuracy: 0.9471\n",
            "Epoch 7/10\n",
            "250/250 [==============================] - 183s 733ms/step - loss: 0.0058 - accuracy: 0.9987 - val_loss: 0.2725 - val_accuracy: 0.9478\n",
            "Epoch 8/10\n",
            "250/250 [==============================] - 184s 737ms/step - loss: 0.0054 - accuracy: 0.9988 - val_loss: 0.2708 - val_accuracy: 0.9476\n",
            "Epoch 9/10\n",
            "250/250 [==============================] - 183s 734ms/step - loss: 0.0051 - accuracy: 0.9988 - val_loss: 0.2697 - val_accuracy: 0.9478\n",
            "Epoch 10/10\n",
            "250/250 [==============================] - 183s 733ms/step - loss: 0.0047 - accuracy: 0.9989 - val_loss: 0.2682 - val_accuracy: 0.9482\n"
          ]
        }
      ]
    },
    {
      "cell_type": "markdown",
      "source": [
        "**almost 100% accuracy on training data after 30 epochs**"
      ],
      "metadata": {
        "id": "KafwsaNYH7wx"
      }
    },
    {
      "cell_type": "code",
      "source": [
        "model.save(MODEL_PATH)"
      ],
      "metadata": {
        "colab": {
          "base_uri": "https://localhost:8080/"
        },
        "id": "YcZe294WJs2u",
        "outputId": "02603eec-0192-462a-8f68-c2d375cbff4d"
      },
      "execution_count": 141,
      "outputs": [
        {
          "output_type": "stream",
          "name": "stderr",
          "text": [
            "WARNING:absl:Found untraced functions such as lstm_cell_18_layer_call_fn, lstm_cell_18_layer_call_and_return_conditional_losses, lstm_cell_19_layer_call_fn, lstm_cell_19_layer_call_and_return_conditional_losses while saving (showing 4 of 4). These functions will not be directly callable after loading.\n"
          ]
        },
        {
          "output_type": "stream",
          "name": "stdout",
          "text": [
            "INFO:tensorflow:Assets written to: /models/nlp_models/assets\n"
          ]
        },
        {
          "output_type": "stream",
          "name": "stderr",
          "text": [
            "INFO:tensorflow:Assets written to: /models/nlp_models/assets\n",
            "WARNING:absl:<keras.layers.recurrent.LSTMCell object at 0x7fd3371b92d0> has the same name 'LSTMCell' as a built-in Keras object. Consider renaming <class 'keras.layers.recurrent.LSTMCell'> to avoid naming conflicts when loading with `tf.keras.models.load_model`. If renaming is not possible, pass the object in the `custom_objects` parameter of the load function.\n",
            "WARNING:absl:<keras.layers.recurrent.LSTMCell object at 0x7fd29e428850> has the same name 'LSTMCell' as a built-in Keras object. Consider renaming <class 'keras.layers.recurrent.LSTMCell'> to avoid naming conflicts when loading with `tf.keras.models.load_model`. If renaming is not possible, pass the object in the `custom_objects` parameter of the load function.\n"
          ]
        }
      ]
    },
    {
      "cell_type": "markdown",
      "source": [
        "###**Simple seq2seq network**"
      ],
      "metadata": {
        "id": "rdvpqp9WRAqC"
      }
    },
    {
      "cell_type": "markdown",
      "source": [
        "**model evaluation on test data**"
      ],
      "metadata": {
        "id": "vtOseVVsIx8W"
      }
    },
    {
      "cell_type": "code",
      "source": [
        "model = keras.models.load_model(MODEL_PATH)"
      ],
      "metadata": {
        "id": "n8H6DWLiNMPM"
      },
      "execution_count": 142,
      "outputs": []
    },
    {
      "cell_type": "code",
      "source": [
        "ids = np.argmax(model.predict([X_test[:1], X_test_decoder[:1]]), axis=-1)\n",
        "ids, Y_test[:1]"
      ],
      "metadata": {
        "colab": {
          "base_uri": "https://localhost:8080/"
        },
        "id": "-91S1Qjfxjoh",
        "outputId": "eb72426a-dc28-41b6-abe5-b41e47bf2768"
      },
      "execution_count": 143,
      "outputs": [
        {
          "output_type": "execute_result",
          "data": {
            "text/plain": [
              "(array([[ 1258,  1258,  1258,  1258,  1258,  1258,  1258,  1258,  1258,\n",
              "          1258,  1258,  1258,  1258,  1258,  1258,     0,    20,  1882,\n",
              "            27,   164,   259,   123,     5,  1119,    19,     6,   258,\n",
              "            28,     8,     4,    85,    88,   419,    13,     6,     5,\n",
              "           457,     7,    20, 20473,    19,   406,   205,   894,  5517]]),\n",
              " array([[    0,     0,     0,     0,     0,     0,     0,     0,     0,\n",
              "             0,     0,     0,     0,     0,     0,     0,    20,  1882,\n",
              "            27,   164,   259,   123,     5,  1119,    19,     6,   258,\n",
              "            28,     8,     4,    85,    88,   419,    13,     6,     5,\n",
              "           457,     7,    20, 21638,    19,   406,   205,   894,  5517]],\n",
              "       dtype=int32))"
            ]
          },
          "metadata": {},
          "execution_count": 143
        }
      ]
    },
    {
      "cell_type": "code",
      "source": [
        "print(\"Evaluate on test data\")\n",
        "results = model.evaluate([X_test, X_test_decoder], Y_test, batch_size=512)\n",
        "print(\"test loss, test acc:\", results)"
      ],
      "metadata": {
        "colab": {
          "base_uri": "https://localhost:8080/"
        },
        "id": "MJb6gcXWI5Vn",
        "outputId": "88cf74cf-4a94-4551-8e90-fc5c1ae546f0"
      },
      "execution_count": 144,
      "outputs": [
        {
          "output_type": "stream",
          "name": "stdout",
          "text": [
            "Evaluate on test data\n",
            "70/70 [==============================] - 24s 308ms/step - loss: 0.2791 - accuracy: 0.9476\n",
            "test loss, test acc: [0.2790781855583191, 0.9475856423377991]\n"
          ]
        }
      ]
    },
    {
      "cell_type": "markdown",
      "source": [
        "###**Rebuild sentences**"
      ],
      "metadata": {
        "id": "p7YoZLmqOKpN"
      }
    },
    {
      "cell_type": "code",
      "source": [
        "def delete_paddings(array):\n",
        "  for i, arr in array:\n",
        "    arr = np.trim_zeros(arr)\n",
        "  return array\n"
      ],
      "metadata": {
        "id": "E_B79z0t9zjX"
      },
      "execution_count": 200,
      "outputs": []
    },
    {
      "cell_type": "code",
      "source": [
        "arr = np.array([[0, 0, 5, 5, 7], [0, 0, 1, 2, 5]])\n",
        "\n",
        "delete_paddings(arr)"
      ],
      "metadata": {
        "colab": {
          "base_uri": "https://localhost:8080/"
        },
        "id": "j3SZqDCu-SDm",
        "outputId": "5112a09f-cbe0-4587-837b-0bdf2c3416cb"
      },
      "execution_count": 201,
      "outputs": [
        {
          "output_type": "execute_result",
          "data": {
            "text/plain": [
              "array([[0, 0, 5, 5, 7],\n",
              "       [0, 0, 1, 2, 5]])"
            ]
          },
          "metadata": {},
          "execution_count": 201
        }
      ]
    },
    {
      "cell_type": "code",
      "source": [
        "def rebuild_test_sentences():\n",
        "  Y_preds = model.predict([X_test[:10], X_test_decoder[:10]])\n",
        "  encoded_argmax  = np.argmax(Y_preds, axis=-1)\n",
        "  print(encoded_argmax.shape)\n",
        "  \n",
        "  original = tokenizer.sequences_to_texts(Y_test[:10])\n",
        "  preds = tokenizer.sequences_to_texts(encoded_argmax[:10])\n",
        "  return preds, original\n",
        " \n",
        "\n",
        "rebuild_test_sentences()"
      ],
      "metadata": {
        "colab": {
          "base_uri": "https://localhost:8080/"
        },
        "id": "_wRouJWAOOLV",
        "outputId": "8f0068be-acef-4a03-993e-923f018d8695"
      },
      "execution_count": 167,
      "outputs": [
        {
          "output_type": "stream",
          "name": "stdout",
          "text": [
            "(10, 45)\n"
          ]
        },
        {
          "output_type": "execute_result",
          "data": {
            "text/plain": [
              "(['پرداختند پرداختند پرداختند پرداختند پرداختند پرداختند پرداختند پرداختند پرداختند پرداختند پرداختند پرداختند پرداختند پرداختند پرداختند <UNK> ایران ارزیابی دو مقام ارشد آمریکائی از اوضاع عراق را رد کرده است و میگوید گزارش آنان آمریکا را از آنچه که ایران ازتعلیق عراق توصیف میکند بیرون نمی\\u200cآورد',\n",
              "  'پرداختند پرداختند پرداختند پرداختند پرداختند پرداختند پرداختند پرداختند پرداختند پرداختند پرداختند پرداختند پرداختند پرداختند پرداختند <UNK> ایران ارزیابی دو مقام ارشد آمریکائی از اوضاع عراق را رد کرده است و میگوید گزارش آنان آمریکا را از آنچه که ایران ازتعلیق عراق توصیف میکند بیرون نمی\\u200cآورد',\n",
              "  'پرداختند پرداختند پرداختند پرداختند پرداختند پرداختند پرداختند پرداختند پرداختند پرداختند پرداختند پرداختند پرداختند پرداختند پرداختند <UNK> ایران ارزیابی دو مقام ارشد آمریکائی از اوضاع عراق را رد کرده است و میگوید گزارش آنان آمریکا را از آنچه که ایران ازتعلیق عراق توصیف میکند بیرون نمی\\u200cآورد',\n",
              "  'پرداختند پرداختند پرداختند پرداختند پرداختند پرداختند پرداختند پرداختند پرداختند پرداختند پرداختند پرداختند پرداختند پرداختند پرداختند <UNK> ایران ارزیابی دو مقام ارشد آمریکائی از اوضاع عراق را رد کرده است و میگوید گزارش آنان آمریکا را از آنچه که ایران ازتعلیق عراق توصیف میکند بیرون نمی\\u200cآورد',\n",
              "  'پرداختند پرداختند پرداختند پرداختند پرداختند پرداختند پرداختند پرداختند پرداختند پرداختند پرداختند پرداختند پرداختند پرداختند پرداختند <UNK> ایران ارزیابی دو مقام ارشد آمریکائی از اوضاع عراق را رد کرده است و میگوید گزارش آنان آمریکا را از آنچه که ایران ازتعلیق عراق توصیف میکند بیرون نمی\\u200cآورد',\n",
              "  'پرداختند پرداختند پرداختند پرداختند پرداختند پرداختند پرداختند پرداختند پرداختند پرداختند پرداختند پرداختند پرداختند پرداختند پرداختند <UNK> ایران ارزیابی دو مقام ارشد آمریکائی از اوضاع عراق را رد کرده است و میگوید گزارش آنان آمریکا را از آنچه که ایران ازتعلیق عراق توصیف میکند بیرون نمی\\u200cآورد',\n",
              "  'پرداختند پرداختند پرداختند پرداختند پرداختند پرداختند پرداختند پرداختند پرداختند پرداختند پرداختند پرداختند پرداختند پرداختند پرداختند پرداختند پرداختند پرداختند پرداختند پرداختند پرداختند پرداختند پرداختند پرداختند پرداختند <UNK> آنها همچنین میگویند در چاچوب حمله مردان مسلح ناشناس در بازار روستای دجیل تجریش به روی مردم آتش گشودند',\n",
              "  'پرداختند پرداختند پرداختند پرداختند پرداختند پرداختند پرداختند پرداختند پرداختند پرداختند پرداختند پرداختند پرداختند پرداختند پرداختند پرداختند پرداختند پرداختند پرداختند پرداختند پرداختند پرداختند پرداختند پرداختند پرداختند <UNK> آنها همچنین میگویند در چاچوب حمله مردان مسلح ناشناس در بازار روستای دجیل تجریش به روی مردم آتش گشودند',\n",
              "  'پرداختند پرداختند پرداختند پرداختند پرداختند پرداختند پرداختند پرداختند پرداختند پرداختند پرداختند پرداختند پرداختند پرداختند پرداختند پرداختند پرداختند پرداختند پرداختند پرداختند پرداختند پرداختند پرداختند پرداختند پرداختند <UNK> آنها همچنین میگویند در چاچوب حمله مردان مسلح ناشناس در بازار روستای دجیل تجریش به روی مردم آتش گشودند',\n",
              "  'پرداختند پرداختند پرداختند پرداختند پرداختند پرداختند پرداختند پرداختند پرداختند پرداختند پرداختند پرداختند پرداختند پرداختند پرداختند پرداختند پرداختند پرداختند پرداختند پرداختند پرداختند پرداختند پرداختند پرداختند پرداختند <UNK> آنها همچنین میگویند در چاچوب حمله مردان مسلح ناشناس در بازار روستای دجیل تجریش به روی مردم آتش گشودند'],\n",
              " ['<UNK> <UNK> <UNK> <UNK> <UNK> <UNK> <UNK> <UNK> <UNK> <UNK> <UNK> <UNK> <UNK> <UNK> <UNK> <UNK> ایران ارزیابی دو مقام ارشد آمریکائی از اوضاع عراق را رد کرده است و میگوید گزارش آنان آمریکا را از آنچه که ایران باتلاق عراق توصیف میکند بیرون نمی\\u200cآورد',\n",
              "  '<UNK> <UNK> <UNK> <UNK> <UNK> <UNK> <UNK> <UNK> <UNK> <UNK> <UNK> <UNK> <UNK> <UNK> <UNK> <UNK> ایران ارزیابی دو مقام ارشد آمریکائی از اوضاع عراق را رد کرده است و میگوید گزارش آنان آمریکا را از آنچه که ایران باتلاق عراق توصیف میکند بیرون نمی\\u200cآورد',\n",
              "  '<UNK> <UNK> <UNK> <UNK> <UNK> <UNK> <UNK> <UNK> <UNK> <UNK> <UNK> <UNK> <UNK> <UNK> <UNK> <UNK> ایران ارزیابی دو مقام ارشد آمریکائی از اوضاع عراق را رد کرده است و میگوید گزارش آنان آمریکا را از آنچه که ایران باتلاق عراق توصیف میکند بیرون نمی\\u200cآورد',\n",
              "  '<UNK> <UNK> <UNK> <UNK> <UNK> <UNK> <UNK> <UNK> <UNK> <UNK> <UNK> <UNK> <UNK> <UNK> <UNK> <UNK> ایران ارزیابی دو مقام ارشد آمریکائی از اوضاع عراق را رد کرده است و میگوید گزارش آنان آمریکا را از آنچه که ایران باتلاق عراق توصیف میکند بیرون نمی\\u200cآورد',\n",
              "  '<UNK> <UNK> <UNK> <UNK> <UNK> <UNK> <UNK> <UNK> <UNK> <UNK> <UNK> <UNK> <UNK> <UNK> <UNK> <UNK> ایران ارزیابی دو مقام ارشد آمریکائی از اوضاع عراق را رد کرده است و میگوید گزارش آنان آمریکا را از آنچه که ایران باتلاق عراق توصیف میکند بیرون نمی\\u200cآورد',\n",
              "  '<UNK> <UNK> <UNK> <UNK> <UNK> <UNK> <UNK> <UNK> <UNK> <UNK> <UNK> <UNK> <UNK> <UNK> <UNK> <UNK> ایران ارزیابی دو مقام ارشد آمریکائی از اوضاع عراق را رد کرده است و میگوید گزارش آنان آمریکا را از آنچه که ایران باتلاق عراق توصیف میکند بیرون نمی\\u200cآورد',\n",
              "  '<UNK> <UNK> <UNK> <UNK> <UNK> <UNK> <UNK> <UNK> <UNK> <UNK> <UNK> <UNK> <UNK> <UNK> <UNK> <UNK> <UNK> <UNK> <UNK> <UNK> <UNK> <UNK> <UNK> <UNK> <UNK> <UNK> آنها همچنین میگویند در هولناکترین حمله مردان مسلح ناشناس در بازار روستای ماکری جوهارا به روی مردم آتش گشودند',\n",
              "  '<UNK> <UNK> <UNK> <UNK> <UNK> <UNK> <UNK> <UNK> <UNK> <UNK> <UNK> <UNK> <UNK> <UNK> <UNK> <UNK> <UNK> <UNK> <UNK> <UNK> <UNK> <UNK> <UNK> <UNK> <UNK> <UNK> آنها همچنین میگویند در هولناکترین حمله مردان مسلح ناشناس در بازار روستای ماکری جوهارا به روی مردم آتش گشودند',\n",
              "  '<UNK> <UNK> <UNK> <UNK> <UNK> <UNK> <UNK> <UNK> <UNK> <UNK> <UNK> <UNK> <UNK> <UNK> <UNK> <UNK> <UNK> <UNK> <UNK> <UNK> <UNK> <UNK> <UNK> <UNK> <UNK> <UNK> آنها همچنین میگویند در هولناکترین حمله مردان مسلح ناشناس در بازار روستای ماکری جوهارا به روی مردم آتش گشودند',\n",
              "  '<UNK> <UNK> <UNK> <UNK> <UNK> <UNK> <UNK> <UNK> <UNK> <UNK> <UNK> <UNK> <UNK> <UNK> <UNK> <UNK> <UNK> <UNK> <UNK> <UNK> <UNK> <UNK> <UNK> <UNK> <UNK> <UNK> آنها همچنین میگویند در هولناکترین حمله مردان مسلح ناشناس در بازار روستای ماکری جوهارا به روی مردم آتش گشودند'])"
            ]
          },
          "metadata": {},
          "execution_count": 167
        }
      ]
    }
  ],
  "metadata": {
    "accelerator": "GPU",
    "colab": {
      "collapsed_sections": [],
      "name": "sentence_building.ipynb",
      "provenance": []
    },
    "gpuClass": "standard",
    "kernelspec": {
      "display_name": "Python 3",
      "name": "python3"
    },
    "language_info": {
      "name": "python"
    }
  },
  "nbformat": 4,
  "nbformat_minor": 0
}