{
  "cells": [
    {
      "cell_type": "code",
      "execution_count": 3,
      "metadata": {
        "id": "uPK2QfZkXcUv"
      },
      "outputs": [],
      "source": [
        "import numpy as np\n",
        "import tensorflow\n",
        "import random\n",
        "import pandas as pd\n",
        "import numpy as np\n",
        "import tensorflow as tf\n",
        "from tensorflow import keras\n",
        "import math"
      ]
    },
    {
      "cell_type": "code",
      "execution_count": 4,
      "metadata": {
        "colab": {
          "base_uri": "https://localhost:8080/"
        },
        "id": "om4bi94uXz6W",
        "outputId": "ad3084d6-6046-4955-e108-dca003dd5a2e"
      },
      "outputs": [
        {
          "output_type": "stream",
          "name": "stdout",
          "text": [
            "Drive already mounted at /content/drive; to attempt to forcibly remount, call drive.mount(\"/content/drive\", force_remount=True).\n"
          ]
        }
      ],
      "source": [
        "from google.colab import drive\n",
        "drive.mount('/content/drive')"
      ]
    },
    {
      "cell_type": "code",
      "execution_count": 5,
      "metadata": {
        "colab": {
          "base_uri": "https://localhost:8080/"
        },
        "id": "eSoDE3KJX9bu",
        "outputId": "df2376a1-2889-438c-aac6-0f217dfe61cf"
      },
      "outputs": [
        {
          "output_type": "stream",
          "name": "stdout",
          "text": [
            "/content/drive/MyDrive\n"
          ]
        }
      ],
      "source": [
        "%cd /content/drive/MyDrive/"
      ]
    },
    {
      "cell_type": "code",
      "execution_count": 6,
      "metadata": {
        "id": "jrRw5TNCYQDV"
      },
      "outputs": [],
      "source": [
        "MODEL_PATH = '/saved_models/nlp_models'"
      ]
    },
    {
      "cell_type": "code",
      "execution_count": 7,
      "metadata": {
        "colab": {
          "base_uri": "https://localhost:8080/"
        },
        "id": "FrBcoMhTY5jO",
        "outputId": "d830fa9a-27d9-4c7a-97ef-5c1517d28ad0"
      },
      "outputs": [
        {
          "output_type": "stream",
          "name": "stdout",
          "text": [
            "Looking in indexes: https://pypi.org/simple, https://us-python.pkg.dev/colab-wheels/public/simple/\n",
            "Collecting hazm\n",
            "  Downloading hazm-0.7.0-py3-none-any.whl (316 kB)\n",
            "\u001b[K     |████████████████████████████████| 316 kB 30.2 MB/s \n",
            "\u001b[?25hCollecting nltk==3.3\n",
            "  Downloading nltk-3.3.0.zip (1.4 MB)\n",
            "\u001b[K     |████████████████████████████████| 1.4 MB 50.2 MB/s \n",
            "\u001b[?25hCollecting libwapiti>=0.2.1\n",
            "  Downloading libwapiti-0.2.1.tar.gz (233 kB)\n",
            "\u001b[K     |████████████████████████████████| 233 kB 63.9 MB/s \n",
            "\u001b[?25hRequirement already satisfied: six in /usr/local/lib/python3.7/dist-packages (from nltk==3.3->hazm) (1.15.0)\n",
            "Building wheels for collected packages: nltk, libwapiti\n",
            "  Building wheel for nltk (setup.py) ... \u001b[?25l\u001b[?25hdone\n",
            "  Created wheel for nltk: filename=nltk-3.3-py3-none-any.whl size=1394486 sha256=664035df8c03ccf75accfe80b6a61a7660275c2e783c2b0d755ad2cdf0dc709f\n",
            "  Stored in directory: /root/.cache/pip/wheels/9b/fd/0c/d92302c876e5de87ebd7fc0979d82edb93e2d8d768bf71fac4\n",
            "  Building wheel for libwapiti (setup.py) ... \u001b[?25l\u001b[?25hdone\n",
            "  Created wheel for libwapiti: filename=libwapiti-0.2.1-cp37-cp37m-linux_x86_64.whl size=153425 sha256=6a64770c4e4b52d9ff91153cc69b58abdb08213bc9e0e6737c55e902b18874a0\n",
            "  Stored in directory: /root/.cache/pip/wheels/ab/b2/5b/0fe4b8f5c0e65341e8ea7bb3f4a6ebabfe8b1ac31322392dbf\n",
            "Successfully built nltk libwapiti\n",
            "Installing collected packages: nltk, libwapiti, hazm\n",
            "  Attempting uninstall: nltk\n",
            "    Found existing installation: nltk 3.7\n",
            "    Uninstalling nltk-3.7:\n",
            "      Successfully uninstalled nltk-3.7\n",
            "Successfully installed hazm-0.7.0 libwapiti-0.2.1 nltk-3.3\n"
          ]
        }
      ],
      "source": [
        "!pip install hazm"
      ]
    },
    {
      "cell_type": "markdown",
      "metadata": {
        "id": "0P7WzGkNeJz0"
      },
      "source": [
        "###**Text preprocessing functions**"
      ]
    },
    {
      "cell_type": "code",
      "execution_count": 8,
      "metadata": {
        "id": "DgLYXfMbY7r9"
      },
      "outputs": [],
      "source": [
        "from __future__ import unicode_literals\n",
        "from hazm import *\n",
        "import re\n",
        "import random\n",
        "from string import punctuation\n",
        "\n",
        "def text_preprocess(text):\n",
        "  normalizer = Normalizer()\n",
        "  text = normalizer.normalize(text)\n",
        "  text = re.sub(f'[{punctuation}؟،٪×÷»«]+', '', text)\n",
        "  return text\n",
        "\n",
        "def text_scramble(text):\n",
        "  words = text.split()\n",
        "  random.shuffle(words)\n",
        "  return ' '.join(words)\n"
      ]
    },
    {
      "cell_type": "markdown",
      "metadata": {
        "id": "fOZLJB5ieOSs"
      },
      "source": [
        "###**Loading and processing Corpus 1**\n",
        "(VOA FARSI 2003-08)"
      ]
    },
    {
      "cell_type": "code",
      "execution_count": 9,
      "metadata": {
        "id": "JBWO5KxPeITs"
      },
      "outputs": [],
      "source": [
        "path = 'data/voa_fa_2003-2008_orig.txt'\n",
        "with open(path, 'r', encoding='utf-8') as f:\n",
        "  text = ' '.join([line.strip() for line in f.readlines() if not line.startswith('#')])\n",
        "  text = text.split('.')\n",
        "  sents = random.sample(text, 25000)"
      ]
    },
    {
      "cell_type": "code",
      "execution_count": 10,
      "metadata": {
        "id": "jXPJ0lLqeueE"
      },
      "outputs": [],
      "source": [
        "MAX_LEN = 170\n",
        "sents_cleaned = [text_preprocess(s) for s in sents]\n",
        "sents_ready = filter(lambda s: len(s) < MAX_LEN, sents_cleaned)\n",
        "sents_data = list(sents_ready)\n",
        "random.shuffle(sents_data)\n",
        "sents_data = sents_data[:20000]  # make dataset size 20000 for ease of computation"
      ]
    },
    {
      "cell_type": "code",
      "execution_count": 11,
      "metadata": {
        "id": "aZu1i3fZ4jaF"
      },
      "outputs": [],
      "source": [
        "tokenizer = keras.preprocessing.text.Tokenizer(oov_token='<UNK>')\n",
        "tokenizer.fit_on_texts(sents_data)\n",
        "tokenizer.word_index['<PAD>'] = 0\n",
        "last_idx = len(tokenizer.word_index) + 1\n",
        "tokenizer.word_index['<SOS>'] = last_idx"
      ]
    },
    {
      "cell_type": "code",
      "execution_count": 12,
      "metadata": {
        "colab": {
          "base_uri": "https://localhost:8080/"
        },
        "id": "8S8uD4Lp_GGF",
        "outputId": "25ca8e0f-8834-4c36-c404-122cf73ef042"
      },
      "outputs": [
        {
          "output_type": "stream",
          "name": "stdout",
          "text": [
            "maximum sentence length: 38\n"
          ]
        }
      ],
      "source": [
        "temp = [len(each.split()) for each in sents_data]\n",
        "print('maximum sentence length:', sorted(temp)[-1])"
      ]
    },
    {
      "cell_type": "markdown",
      "metadata": {
        "id": "4hjb7_snihFC"
      },
      "source": [
        "### **building the dataset**"
      ]
    },
    {
      "cell_type": "code",
      "execution_count": 13,
      "metadata": {
        "id": "vw9NSMqyiDDL"
      },
      "outputs": [],
      "source": [
        "def create_shuffles(sent_list, m):\n",
        "  \"\"\"\n",
        "  this function creates m random shuffles of the sentence\n",
        "  \"\"\"\n",
        "  all_combs = []\n",
        "  for sent in sent_list:\n",
        "    comb_set = set([])\n",
        "    for i in range(0, m + 1):\n",
        "      comb_set.add(text_scramble(sent))\n",
        "    all_combs.append((sent, comb_set))\n",
        "  return all_combs"
      ]
    },
    {
      "cell_type": "code",
      "execution_count": 14,
      "metadata": {
        "id": "tIM26pJyjBDr"
      },
      "outputs": [],
      "source": [
        "shuffle_pairs = create_shuffles(sents_data, 10)"
      ]
    },
    {
      "cell_type": "code",
      "execution_count": 15,
      "metadata": {
        "colab": {
          "base_uri": "https://localhost:8080/"
        },
        "id": "kh5Bf4KHjh1e",
        "outputId": "29c0eaf2-a04b-47b3-cfb9-72141bc1667d"
      },
      "outputs": [
        {
          "output_type": "execute_result",
          "data": {
            "text/plain": [
              "(' یک روزنامه چاپ آمریکا گزارش می\\u200cدهد که مهندسان روسی با نقض ممنوعیتی که سازمان ملل متحد به اجرا گذاشته بود به عراق در ساختن موشک\\u200cهای بالیستیک دور برد کمک کردند',\n",
              " {'آمریکا بالیستیک ساختن گذاشته که به متحد برد به مهندسان ملل عراق کمک گزارش می\\u200cدهد موشک\\u200cهای یک اجرا نقض در ممنوعیتی بود کردند که دور با روسی سازمان چاپ روزنامه',\n",
              "  'آمریکا نقض می\\u200cدهد ساختن به گزارش کمک بود در برد روسی بالیستیک دور که عراق با به یک موشک\\u200cهای ملل سازمان که ممنوعیتی کردند روزنامه مهندسان چاپ متحد گذاشته اجرا',\n",
              "  'دور می\\u200cدهد گزارش که بود بالیستیک گذاشته یک عراق با چاپ سازمان ممنوعیتی موشک\\u200cهای ملل اجرا کمک در آمریکا به که به روزنامه مهندسان متحد نقض ساختن کردند روسی برد',\n",
              "  'روسی آمریکا که ساختن به در برد بالیستیک یک روزنامه کمک ملل به موشک\\u200cهای که مهندسان چاپ با دور عراق می\\u200cدهد گذاشته متحد سازمان گزارش ممنوعیتی بود اجرا نقض کردند',\n",
              "  'روسی روزنامه ملل می\\u200cدهد برد نقض چاپ گذاشته که اجرا به موشک\\u200cهای آمریکا گزارش کمک که ممنوعیتی ساختن کردند با عراق مهندسان یک در به بالیستیک سازمان بود دور متحد',\n",
              "  'ساختن می\\u200cدهد که بالیستیک چاپ یک کردند موشک\\u200cهای برد بود ممنوعیتی سازمان به نقض مهندسان روسی کمک ملل روزنامه متحد به در عراق گذاشته گزارش با دور آمریکا اجرا که',\n",
              "  'ممنوعیتی به یک ساختن ملل به عراق مهندسان روسی می\\u200cدهد گذاشته بالیستیک روزنامه چاپ موشک\\u200cهای برد بود اجرا آمریکا در متحد که گزارش دور کردند که با سازمان نقض کمک',\n",
              "  'ممنوعیتی چاپ روزنامه بالیستیک می\\u200cدهد گذاشته یک کمک برد ساختن نقض به موشک\\u200cهای در اجرا سازمان مهندسان کردند با به که بود عراق آمریکا متحد دور گزارش که روسی ملل',\n",
              "  'موشک\\u200cهای که به عراق بود سازمان ساختن ملل گزارش روزنامه اجرا برد می\\u200cدهد دور در به یک چاپ روسی ممنوعیتی نقض مهندسان که گذاشته متحد آمریکا با بالیستیک کردند کمک',\n",
              "  'چاپ که با می\\u200cدهد آمریکا ممنوعیتی روزنامه گزارش به اجرا ساختن کمک کردند سازمان روسی برد گذاشته یک متحد بود در مهندسان به که عراق ملل بالیستیک نقض موشک\\u200cهای دور',\n",
              "  'که که چاپ نقض به کردند برد آمریکا روزنامه با دور در بالیستیک بود ساختن موشک\\u200cهای مهندسان عراق سازمان اجرا متحد می\\u200cدهد روسی گذاشته یک کمک ملل به گزارش ممنوعیتی'})"
            ]
          },
          "metadata": {},
          "execution_count": 15
        }
      ],
      "source": [
        "shuffle_pairs[1][0], shuffle_pairs[1][1]"
      ]
    },
    {
      "cell_type": "code",
      "execution_count": 16,
      "metadata": {
        "id": "wnoA5xmDjrBU"
      },
      "outputs": [],
      "source": [
        "def create_dataframe(pairs):\n",
        "  \"\"\"\n",
        "  creates a dataframe with two columns of original sentence and it's shuffles\n",
        "  \"\"\"\n",
        "  original = []\n",
        "  shuffled = []\n",
        "  for pair in pairs:\n",
        "    for p in pair[1]:\n",
        "      original.append(pair[0])\n",
        "      shuffled.append(p)\n",
        "\n",
        "  df_dict = { 'Shuffled': shuffled, 'Original': original}\n",
        "  df = pd.DataFrame(df_dict)\n",
        "  return df\n"
      ]
    },
    {
      "cell_type": "code",
      "execution_count": 17,
      "metadata": {
        "colab": {
          "base_uri": "https://localhost:8080/",
          "height": 424
        },
        "id": "jTZJ1mSbkXuy",
        "outputId": "986859fa-7cf1-45f1-e0b3-ca437de91b86"
      },
      "outputs": [
        {
          "output_type": "execute_result",
          "data": {
            "text/plain": [
              "                                                 Shuffled  \\\n",
              "0       توانست کند خوب از معدود را دفع بازیکنان رضا بو...   \n",
              "1       ضربه ولی که بازیکنان دفع کند خوب ناصری را رضا ...   \n",
              "2       ایران بازیکنان توانست ناصری کند بود از ولی که ...   \n",
              "3       این ولی ناصری بازیکنان کند ضربه که را معدود ای...   \n",
              "4       خوب این که رضا ولی ضربه را کند ناصری توانست از...   \n",
              "...                                                   ...   \n",
              "216776  رایس از و سه آمریکا نخست وزیر رفته با اسرائیل ...   \n",
              "216777  اهود آمریکا واشنگتن ملاقات اولمرت و برای سه ها...   \n",
              "216778  کاندولیزا و امور روزه وزیر سه جمله رئیس اهود و...   \n",
              "216779  هائی جمهوری اهود و با نخست خارجه وزیر رئیس رفت...   \n",
              "216780  با بوش وزیر و و رفته رئیس کاندولیزا امور خارجه...   \n",
              "\n",
              "                                                 Original  \n",
              "0        ولی رضا ناصری که از معدود بازیکنان خوب ایران ...  \n",
              "1        ولی رضا ناصری که از معدود بازیکنان خوب ایران ...  \n",
              "2        ولی رضا ناصری که از معدود بازیکنان خوب ایران ...  \n",
              "3        ولی رضا ناصری که از معدود بازیکنان خوب ایران ...  \n",
              "4        ولی رضا ناصری که از معدود بازیکنان خوب ایران ...  \n",
              "...                                                   ...  \n",
              "216776   اهود اولمرت نخست وزیر اسرائیل برای دیداری سه ...  \n",
              "216777   اهود اولمرت نخست وزیر اسرائیل برای دیداری سه ...  \n",
              "216778   اهود اولمرت نخست وزیر اسرائیل برای دیداری سه ...  \n",
              "216779   اهود اولمرت نخست وزیر اسرائیل برای دیداری سه ...  \n",
              "216780   اهود اولمرت نخست وزیر اسرائیل برای دیداری سه ...  \n",
              "\n",
              "[216781 rows x 2 columns]"
            ],
            "text/html": [
              "\n",
              "  <div id=\"df-a936b869-7480-45e5-9a3d-0f2740773aa1\">\n",
              "    <div class=\"colab-df-container\">\n",
              "      <div>\n",
              "<style scoped>\n",
              "    .dataframe tbody tr th:only-of-type {\n",
              "        vertical-align: middle;\n",
              "    }\n",
              "\n",
              "    .dataframe tbody tr th {\n",
              "        vertical-align: top;\n",
              "    }\n",
              "\n",
              "    .dataframe thead th {\n",
              "        text-align: right;\n",
              "    }\n",
              "</style>\n",
              "<table border=\"1\" class=\"dataframe\">\n",
              "  <thead>\n",
              "    <tr style=\"text-align: right;\">\n",
              "      <th></th>\n",
              "      <th>Shuffled</th>\n",
              "      <th>Original</th>\n",
              "    </tr>\n",
              "  </thead>\n",
              "  <tbody>\n",
              "    <tr>\n",
              "      <th>0</th>\n",
              "      <td>توانست کند خوب از معدود را دفع بازیکنان رضا بو...</td>\n",
              "      <td>ولی رضا ناصری که از معدود بازیکنان خوب ایران ...</td>\n",
              "    </tr>\n",
              "    <tr>\n",
              "      <th>1</th>\n",
              "      <td>ضربه ولی که بازیکنان دفع کند خوب ناصری را رضا ...</td>\n",
              "      <td>ولی رضا ناصری که از معدود بازیکنان خوب ایران ...</td>\n",
              "    </tr>\n",
              "    <tr>\n",
              "      <th>2</th>\n",
              "      <td>ایران بازیکنان توانست ناصری کند بود از ولی که ...</td>\n",
              "      <td>ولی رضا ناصری که از معدود بازیکنان خوب ایران ...</td>\n",
              "    </tr>\n",
              "    <tr>\n",
              "      <th>3</th>\n",
              "      <td>این ولی ناصری بازیکنان کند ضربه که را معدود ای...</td>\n",
              "      <td>ولی رضا ناصری که از معدود بازیکنان خوب ایران ...</td>\n",
              "    </tr>\n",
              "    <tr>\n",
              "      <th>4</th>\n",
              "      <td>خوب این که رضا ولی ضربه را کند ناصری توانست از...</td>\n",
              "      <td>ولی رضا ناصری که از معدود بازیکنان خوب ایران ...</td>\n",
              "    </tr>\n",
              "    <tr>\n",
              "      <th>...</th>\n",
              "      <td>...</td>\n",
              "      <td>...</td>\n",
              "    </tr>\n",
              "    <tr>\n",
              "      <th>216776</th>\n",
              "      <td>رایس از و سه آمریکا نخست وزیر رفته با اسرائیل ...</td>\n",
              "      <td>اهود اولمرت نخست وزیر اسرائیل برای دیداری سه ...</td>\n",
              "    </tr>\n",
              "    <tr>\n",
              "      <th>216777</th>\n",
              "      <td>اهود آمریکا واشنگتن ملاقات اولمرت و برای سه ها...</td>\n",
              "      <td>اهود اولمرت نخست وزیر اسرائیل برای دیداری سه ...</td>\n",
              "    </tr>\n",
              "    <tr>\n",
              "      <th>216778</th>\n",
              "      <td>کاندولیزا و امور روزه وزیر سه جمله رئیس اهود و...</td>\n",
              "      <td>اهود اولمرت نخست وزیر اسرائیل برای دیداری سه ...</td>\n",
              "    </tr>\n",
              "    <tr>\n",
              "      <th>216779</th>\n",
              "      <td>هائی جمهوری اهود و با نخست خارجه وزیر رئیس رفت...</td>\n",
              "      <td>اهود اولمرت نخست وزیر اسرائیل برای دیداری سه ...</td>\n",
              "    </tr>\n",
              "    <tr>\n",
              "      <th>216780</th>\n",
              "      <td>با بوش وزیر و و رفته رئیس کاندولیزا امور خارجه...</td>\n",
              "      <td>اهود اولمرت نخست وزیر اسرائیل برای دیداری سه ...</td>\n",
              "    </tr>\n",
              "  </tbody>\n",
              "</table>\n",
              "<p>216781 rows × 2 columns</p>\n",
              "</div>\n",
              "      <button class=\"colab-df-convert\" onclick=\"convertToInteractive('df-a936b869-7480-45e5-9a3d-0f2740773aa1')\"\n",
              "              title=\"Convert this dataframe to an interactive table.\"\n",
              "              style=\"display:none;\">\n",
              "        \n",
              "  <svg xmlns=\"http://www.w3.org/2000/svg\" height=\"24px\"viewBox=\"0 0 24 24\"\n",
              "       width=\"24px\">\n",
              "    <path d=\"M0 0h24v24H0V0z\" fill=\"none\"/>\n",
              "    <path d=\"M18.56 5.44l.94 2.06.94-2.06 2.06-.94-2.06-.94-.94-2.06-.94 2.06-2.06.94zm-11 1L8.5 8.5l.94-2.06 2.06-.94-2.06-.94L8.5 2.5l-.94 2.06-2.06.94zm10 10l.94 2.06.94-2.06 2.06-.94-2.06-.94-.94-2.06-.94 2.06-2.06.94z\"/><path d=\"M17.41 7.96l-1.37-1.37c-.4-.4-.92-.59-1.43-.59-.52 0-1.04.2-1.43.59L10.3 9.45l-7.72 7.72c-.78.78-.78 2.05 0 2.83L4 21.41c.39.39.9.59 1.41.59.51 0 1.02-.2 1.41-.59l7.78-7.78 2.81-2.81c.8-.78.8-2.07 0-2.86zM5.41 20L4 18.59l7.72-7.72 1.47 1.35L5.41 20z\"/>\n",
              "  </svg>\n",
              "      </button>\n",
              "      \n",
              "  <style>\n",
              "    .colab-df-container {\n",
              "      display:flex;\n",
              "      flex-wrap:wrap;\n",
              "      gap: 12px;\n",
              "    }\n",
              "\n",
              "    .colab-df-convert {\n",
              "      background-color: #E8F0FE;\n",
              "      border: none;\n",
              "      border-radius: 50%;\n",
              "      cursor: pointer;\n",
              "      display: none;\n",
              "      fill: #1967D2;\n",
              "      height: 32px;\n",
              "      padding: 0 0 0 0;\n",
              "      width: 32px;\n",
              "    }\n",
              "\n",
              "    .colab-df-convert:hover {\n",
              "      background-color: #E2EBFA;\n",
              "      box-shadow: 0px 1px 2px rgba(60, 64, 67, 0.3), 0px 1px 3px 1px rgba(60, 64, 67, 0.15);\n",
              "      fill: #174EA6;\n",
              "    }\n",
              "\n",
              "    [theme=dark] .colab-df-convert {\n",
              "      background-color: #3B4455;\n",
              "      fill: #D2E3FC;\n",
              "    }\n",
              "\n",
              "    [theme=dark] .colab-df-convert:hover {\n",
              "      background-color: #434B5C;\n",
              "      box-shadow: 0px 1px 3px 1px rgba(0, 0, 0, 0.15);\n",
              "      filter: drop-shadow(0px 1px 2px rgba(0, 0, 0, 0.3));\n",
              "      fill: #FFFFFF;\n",
              "    }\n",
              "  </style>\n",
              "\n",
              "      <script>\n",
              "        const buttonEl =\n",
              "          document.querySelector('#df-a936b869-7480-45e5-9a3d-0f2740773aa1 button.colab-df-convert');\n",
              "        buttonEl.style.display =\n",
              "          google.colab.kernel.accessAllowed ? 'block' : 'none';\n",
              "\n",
              "        async function convertToInteractive(key) {\n",
              "          const element = document.querySelector('#df-a936b869-7480-45e5-9a3d-0f2740773aa1');\n",
              "          const dataTable =\n",
              "            await google.colab.kernel.invokeFunction('convertToInteractive',\n",
              "                                                     [key], {});\n",
              "          if (!dataTable) return;\n",
              "\n",
              "          const docLinkHtml = 'Like what you see? Visit the ' +\n",
              "            '<a target=\"_blank\" href=https://colab.research.google.com/notebooks/data_table.ipynb>data table notebook</a>'\n",
              "            + ' to learn more about interactive tables.';\n",
              "          element.innerHTML = '';\n",
              "          dataTable['output_type'] = 'display_data';\n",
              "          await google.colab.output.renderOutput(dataTable, element);\n",
              "          const docLink = document.createElement('div');\n",
              "          docLink.innerHTML = docLinkHtml;\n",
              "          element.appendChild(docLink);\n",
              "        }\n",
              "      </script>\n",
              "    </div>\n",
              "  </div>\n",
              "  "
            ]
          },
          "metadata": {},
          "execution_count": 17
        }
      ],
      "source": [
        "df = create_dataframe(shuffle_pairs)\n",
        "df"
      ]
    },
    {
      "cell_type": "code",
      "source": [
        "df = df.sample(frac=1).reset_index(drop=True)\n",
        "df"
      ],
      "metadata": {
        "id": "actDPRtrA_MG",
        "colab": {
          "base_uri": "https://localhost:8080/",
          "height": 424
        },
        "outputId": "2cedfdde-d18a-40d1-c30a-16e783f37691"
      },
      "execution_count": 20,
      "outputs": [
        {
          "output_type": "execute_result",
          "data": {
            "text/plain": [
              "                                                 Shuffled  \\\n",
              "0       صلح به هفت به امنیت گفته‌اند روسیه شناسائی در ...   \n",
              "1       ملاقات آنها کنند ضمن و سیاستمداران شهر ناتو از...   \n",
              "2       دولت است به توضیح ایران متوقف نشود دست خواستار...   \n",
              "3       ژانویه آمریکائی کشته جداگانه شدن نود در سه رسی...   \n",
              "4       سپتامبر در در تولید ماه دهند تشکیل قراراست ۱۱ ...   \n",
              "...                                                   ...   \n",
              "216776  را کردند کسب رشته نقره با ۲۵۸۰۷ مدال ۲۵۷۳۲ این...   \n",
              "216777  تحلیگران میگویند وی بسیاری اما کم کاندیدائی شا...   \n",
              "216778  حاشیه می‌گوید آفریقا خود کمک‌های به و دارند رس...   \n",
              "216779  ملاقات عضو در رابرتسون ایالت کلورادو موضوع ایو...   \n",
              "216780  هفته‌ای در دهه در آن افغانستان توجیه اخیر روز ...   \n",
              "\n",
              "                                                 Original  \n",
              "0        وزیران گروه هفت گفته‌اند تصمیم روسیه به شناسا...  \n",
              "1        قرار است هیات اعزامی ناتو ضمن ملاقات با دولتم...  \n",
              "2        آنها درباره اینکه دولت ایران گفته است اگر حکم...  \n",
              "3        دیروز با کشته شدن دو سرباز آمریکائی در دو حمل...  \n",
              "4        قراراست ۱۱ عضو اوپک برای بررسی شرایط بازار نف...  \n",
              "...                                                   ...  \n",
              "216776   تیم باهاماس با ۲۵۷۳۲ مدال نقره و جامائیکا با ...  \n",
              "216777   اما بسیاری از تحلیگران سیاسی میگویند شانس وی ...  \n",
              "216778   سازمان ملل متحد می‌گوید حدود ۳۰ میلیون نفردرک...  \n",
              "216779   جرج رابرتسون این موضوع را روز پنجشنبه در پی م...  \n",
              "216780   اعضای نخستین پارلمان افغانستان در سه دهه اخیر...  \n",
              "\n",
              "[216781 rows x 2 columns]"
            ],
            "text/html": [
              "\n",
              "  <div id=\"df-9f6bca20-f592-4a41-a814-3eef59103d93\">\n",
              "    <div class=\"colab-df-container\">\n",
              "      <div>\n",
              "<style scoped>\n",
              "    .dataframe tbody tr th:only-of-type {\n",
              "        vertical-align: middle;\n",
              "    }\n",
              "\n",
              "    .dataframe tbody tr th {\n",
              "        vertical-align: top;\n",
              "    }\n",
              "\n",
              "    .dataframe thead th {\n",
              "        text-align: right;\n",
              "    }\n",
              "</style>\n",
              "<table border=\"1\" class=\"dataframe\">\n",
              "  <thead>\n",
              "    <tr style=\"text-align: right;\">\n",
              "      <th></th>\n",
              "      <th>Shuffled</th>\n",
              "      <th>Original</th>\n",
              "    </tr>\n",
              "  </thead>\n",
              "  <tbody>\n",
              "    <tr>\n",
              "      <th>0</th>\n",
              "      <td>صلح به هفت به امنیت گفته‌اند روسیه شناسائی در ...</td>\n",
              "      <td>وزیران گروه هفت گفته‌اند تصمیم روسیه به شناسا...</td>\n",
              "    </tr>\n",
              "    <tr>\n",
              "      <th>1</th>\n",
              "      <td>ملاقات آنها کنند ضمن و سیاستمداران شهر ناتو از...</td>\n",
              "      <td>قرار است هیات اعزامی ناتو ضمن ملاقات با دولتم...</td>\n",
              "    </tr>\n",
              "    <tr>\n",
              "      <th>2</th>\n",
              "      <td>دولت است به توضیح ایران متوقف نشود دست خواستار...</td>\n",
              "      <td>آنها درباره اینکه دولت ایران گفته است اگر حکم...</td>\n",
              "    </tr>\n",
              "    <tr>\n",
              "      <th>3</th>\n",
              "      <td>ژانویه آمریکائی کشته جداگانه شدن نود در سه رسی...</td>\n",
              "      <td>دیروز با کشته شدن دو سرباز آمریکائی در دو حمل...</td>\n",
              "    </tr>\n",
              "    <tr>\n",
              "      <th>4</th>\n",
              "      <td>سپتامبر در در تولید ماه دهند تشکیل قراراست ۱۱ ...</td>\n",
              "      <td>قراراست ۱۱ عضو اوپک برای بررسی شرایط بازار نف...</td>\n",
              "    </tr>\n",
              "    <tr>\n",
              "      <th>...</th>\n",
              "      <td>...</td>\n",
              "      <td>...</td>\n",
              "    </tr>\n",
              "    <tr>\n",
              "      <th>216776</th>\n",
              "      <td>را کردند کسب رشته نقره با ۲۵۸۰۷ مدال ۲۵۷۳۲ این...</td>\n",
              "      <td>تیم باهاماس با ۲۵۷۳۲ مدال نقره و جامائیکا با ...</td>\n",
              "    </tr>\n",
              "    <tr>\n",
              "      <th>216777</th>\n",
              "      <td>تحلیگران میگویند وی بسیاری اما کم کاندیدائی شا...</td>\n",
              "      <td>اما بسیاری از تحلیگران سیاسی میگویند شانس وی ...</td>\n",
              "    </tr>\n",
              "    <tr>\n",
              "      <th>216778</th>\n",
              "      <td>حاشیه می‌گوید آفریقا خود کمک‌های به و دارند رس...</td>\n",
              "      <td>سازمان ملل متحد می‌گوید حدود ۳۰ میلیون نفردرک...</td>\n",
              "    </tr>\n",
              "    <tr>\n",
              "      <th>216779</th>\n",
              "      <td>ملاقات عضو در رابرتسون ایالت کلورادو موضوع ایو...</td>\n",
              "      <td>جرج رابرتسون این موضوع را روز پنجشنبه در پی م...</td>\n",
              "    </tr>\n",
              "    <tr>\n",
              "      <th>216780</th>\n",
              "      <td>هفته‌ای در دهه در آن افغانستان توجیه اخیر روز ...</td>\n",
              "      <td>اعضای نخستین پارلمان افغانستان در سه دهه اخیر...</td>\n",
              "    </tr>\n",
              "  </tbody>\n",
              "</table>\n",
              "<p>216781 rows × 2 columns</p>\n",
              "</div>\n",
              "      <button class=\"colab-df-convert\" onclick=\"convertToInteractive('df-9f6bca20-f592-4a41-a814-3eef59103d93')\"\n",
              "              title=\"Convert this dataframe to an interactive table.\"\n",
              "              style=\"display:none;\">\n",
              "        \n",
              "  <svg xmlns=\"http://www.w3.org/2000/svg\" height=\"24px\"viewBox=\"0 0 24 24\"\n",
              "       width=\"24px\">\n",
              "    <path d=\"M0 0h24v24H0V0z\" fill=\"none\"/>\n",
              "    <path d=\"M18.56 5.44l.94 2.06.94-2.06 2.06-.94-2.06-.94-.94-2.06-.94 2.06-2.06.94zm-11 1L8.5 8.5l.94-2.06 2.06-.94-2.06-.94L8.5 2.5l-.94 2.06-2.06.94zm10 10l.94 2.06.94-2.06 2.06-.94-2.06-.94-.94-2.06-.94 2.06-2.06.94z\"/><path d=\"M17.41 7.96l-1.37-1.37c-.4-.4-.92-.59-1.43-.59-.52 0-1.04.2-1.43.59L10.3 9.45l-7.72 7.72c-.78.78-.78 2.05 0 2.83L4 21.41c.39.39.9.59 1.41.59.51 0 1.02-.2 1.41-.59l7.78-7.78 2.81-2.81c.8-.78.8-2.07 0-2.86zM5.41 20L4 18.59l7.72-7.72 1.47 1.35L5.41 20z\"/>\n",
              "  </svg>\n",
              "      </button>\n",
              "      \n",
              "  <style>\n",
              "    .colab-df-container {\n",
              "      display:flex;\n",
              "      flex-wrap:wrap;\n",
              "      gap: 12px;\n",
              "    }\n",
              "\n",
              "    .colab-df-convert {\n",
              "      background-color: #E8F0FE;\n",
              "      border: none;\n",
              "      border-radius: 50%;\n",
              "      cursor: pointer;\n",
              "      display: none;\n",
              "      fill: #1967D2;\n",
              "      height: 32px;\n",
              "      padding: 0 0 0 0;\n",
              "      width: 32px;\n",
              "    }\n",
              "\n",
              "    .colab-df-convert:hover {\n",
              "      background-color: #E2EBFA;\n",
              "      box-shadow: 0px 1px 2px rgba(60, 64, 67, 0.3), 0px 1px 3px 1px rgba(60, 64, 67, 0.15);\n",
              "      fill: #174EA6;\n",
              "    }\n",
              "\n",
              "    [theme=dark] .colab-df-convert {\n",
              "      background-color: #3B4455;\n",
              "      fill: #D2E3FC;\n",
              "    }\n",
              "\n",
              "    [theme=dark] .colab-df-convert:hover {\n",
              "      background-color: #434B5C;\n",
              "      box-shadow: 0px 1px 3px 1px rgba(0, 0, 0, 0.15);\n",
              "      filter: drop-shadow(0px 1px 2px rgba(0, 0, 0, 0.3));\n",
              "      fill: #FFFFFF;\n",
              "    }\n",
              "  </style>\n",
              "\n",
              "      <script>\n",
              "        const buttonEl =\n",
              "          document.querySelector('#df-9f6bca20-f592-4a41-a814-3eef59103d93 button.colab-df-convert');\n",
              "        buttonEl.style.display =\n",
              "          google.colab.kernel.accessAllowed ? 'block' : 'none';\n",
              "\n",
              "        async function convertToInteractive(key) {\n",
              "          const element = document.querySelector('#df-9f6bca20-f592-4a41-a814-3eef59103d93');\n",
              "          const dataTable =\n",
              "            await google.colab.kernel.invokeFunction('convertToInteractive',\n",
              "                                                     [key], {});\n",
              "          if (!dataTable) return;\n",
              "\n",
              "          const docLinkHtml = 'Like what you see? Visit the ' +\n",
              "            '<a target=\"_blank\" href=https://colab.research.google.com/notebooks/data_table.ipynb>data table notebook</a>'\n",
              "            + ' to learn more about interactive tables.';\n",
              "          element.innerHTML = '';\n",
              "          dataTable['output_type'] = 'display_data';\n",
              "          await google.colab.output.renderOutput(dataTable, element);\n",
              "          const docLink = document.createElement('div');\n",
              "          docLink.innerHTML = docLinkHtml;\n",
              "          element.appendChild(docLink);\n",
              "        }\n",
              "      </script>\n",
              "    </div>\n",
              "  </div>\n",
              "  "
            ]
          },
          "metadata": {},
          "execution_count": 20
        }
      ]
    },
    {
      "cell_type": "code",
      "execution_count": 19,
      "metadata": {
        "id": "HRkeMJafwY7_"
      },
      "outputs": [],
      "source": [
        "def create_dataset(df, train_percent=80):\n",
        "  data_size = df.shape[0]\n",
        "  count = math.floor(data_size * (train_percent/100))\n",
        "\n",
        "  dataset = df['Shuffled'].values\n",
        "  labels  = df['Original'].values\n",
        "\n",
        "  train_data   = dataset[:count]\n",
        "  train_labels = labels[:count]\n",
        "  test_data   = dataset[count:]\n",
        "  test_labels = labels[count:]\n",
        "\n",
        "  return ((train_data, train_labels), (test_data, test_labels))\n",
        "\n",
        "\n"
      ]
    },
    {
      "cell_type": "code",
      "execution_count": 21,
      "metadata": {
        "id": "Dh3otPKB0GrV"
      },
      "outputs": [],
      "source": [
        "train_set, test_set = create_dataset(df)\n",
        "X_train_text, Y_train_text = train_set\n",
        "X_test_text, Y_test_text = test_set"
      ]
    },
    {
      "cell_type": "markdown",
      "metadata": {
        "id": "9vq7ch6G1jX1"
      },
      "source": [
        "###**making dataset ready for training**"
      ]
    },
    {
      "cell_type": "code",
      "source": [
        "sos_index = last_idx\n",
        "def shift_output_sequence(seq_list):\n",
        "  for seq in seq_list:\n",
        "    seq.insert(0, sos_index)\n",
        "  return seq_list\n"
      ],
      "metadata": {
        "id": "y9Y7Kqc4w1XV"
      },
      "execution_count": 22,
      "outputs": []
    },
    {
      "cell_type": "code",
      "source": [
        "X_train_seq = tokenizer.texts_to_sequences(X_train_text)\n",
        "Y_train_seq = tokenizer.texts_to_sequences(Y_train_text)\n",
        "X_test_seq  = tokenizer.texts_to_sequences(X_test_text)\n",
        "Y_test_seq  = tokenizer.texts_to_sequences(Y_test_text)"
      ],
      "metadata": {
        "id": "ZPoeo0sYwWPO"
      },
      "execution_count": 23,
      "outputs": []
    },
    {
      "cell_type": "code",
      "execution_count": 24,
      "metadata": {
        "id": "UkcJ_sWk1rKF"
      },
      "outputs": [],
      "source": [
        "MAX_SEQ_LEN = 45  \n",
        "X_train = keras.preprocessing.sequence.pad_sequences(X_train_seq, maxlen=MAX_SEQ_LEN, padding='post')\n",
        "Y_train = keras.preprocessing.sequence.pad_sequences(Y_train_seq, maxlen=MAX_SEQ_LEN, padding='post')\n",
        "\n",
        "X_test  = keras.preprocessing.sequence.pad_sequences(X_test_seq, maxlen=MAX_SEQ_LEN, padding='post')\n",
        "Y_test  = keras.preprocessing.sequence.pad_sequences(Y_test_seq, maxlen=MAX_SEQ_LEN, padding='post')\n",
        "\n",
        "X_train_decoder = keras.preprocessing.sequence.pad_sequences(shift_output_sequence(Y_train_seq), maxlen=MAX_SEQ_LEN, padding='post')\n",
        "X_test_decoder  = keras.preprocessing.sequence.pad_sequences(shift_output_sequence(Y_test_seq),  maxlen=MAX_SEQ_LEN, padding='post')"
      ]
    },
    {
      "cell_type": "code",
      "source": [
        "X_train_decoder[:2], Y_train[:2]"
      ],
      "metadata": {
        "colab": {
          "base_uri": "https://localhost:8080/"
        },
        "id": "8MsYgFws1eJE",
        "outputId": "ba78d813-62cb-435c-efa6-a2591cd8db6d"
      },
      "execution_count": 25,
      "outputs": [
        {
          "output_type": "execute_result",
          "data": {
            "text/plain": [
              "(array([[24346,   702,    78,   427,  1012,   290,    90,     3,  2127,\n",
              "           547,  3932,   627,  1339,   725,     6,     3,   138,     4,\n",
              "           107,     2, 19667,     3,  3648,  6477,     0,     0,     0,\n",
              "             0,     0,     0,     0,     0,     0,     0,     0,     0,\n",
              "             0,     0,     0,     0,     0,     0,     0,     0,     0],\n",
              "        [24346,    48,     8,   855,  2993,   354,   602,   250,    10,\n",
              "          9341,   779,  5818,     4,  2251,   399,    71,     5,    81,\n",
              "          9031,   643,    38,   969,    96,     0,     0,     0,     0,\n",
              "             0,     0,     0,     0,     0,     0,     0,     0,     0,\n",
              "             0,     0,     0,     0,     0,     0,     0,     0,     0]],\n",
              "       dtype=int32),\n",
              " array([[  702,    78,   427,  1012,   290,    90,     3,  2127,   547,\n",
              "          3932,   627,  1339,   725,     6,     3,   138,     4,   107,\n",
              "             2, 19667,     3,  3648,  6477,     0,     0,     0,     0,\n",
              "             0,     0,     0,     0,     0,     0,     0,     0,     0,\n",
              "             0,     0,     0,     0,     0,     0,     0,     0,     0],\n",
              "        [   48,     8,   855,  2993,   354,   602,   250,    10,  9341,\n",
              "           779,  5818,     4,  2251,   399,    71,     5,    81,  9031,\n",
              "           643,    38,   969,    96,     0,     0,     0,     0,     0,\n",
              "             0,     0,     0,     0,     0,     0,     0,     0,     0,\n",
              "             0,     0,     0,     0,     0,     0,     0,     0,     0]],\n",
              "       dtype=int32))"
            ]
          },
          "metadata": {},
          "execution_count": 25
        }
      ]
    },
    {
      "cell_type": "code",
      "execution_count": 26,
      "metadata": {
        "colab": {
          "base_uri": "https://localhost:8080/"
        },
        "id": "jR3JqKVK96iy",
        "outputId": "fd2e3927-3a15-4928-e5b5-e0e99d154a26"
      },
      "outputs": [
        {
          "output_type": "execute_result",
          "data": {
            "text/plain": [
              "(array([[  138,     3,   427,     3,   107,  1012,    90,  2127,     2,\n",
              "          3932,     4,   290,     6,   702,     3,   627,  3648,   547,\n",
              "         19667,  1339,   725,    78,  6477,     0,     0,     0,     0,\n",
              "             0,     0,     0,     0,     0,     0,     0,     0,     0,\n",
              "             0,     0,     0,     0,     0,     0,     0,     0,     0]],\n",
              "       dtype=int32),\n",
              " array([[  702,    78,   427,  1012,   290,    90,     3,  2127,   547,\n",
              "          3932,   627,  1339,   725,     6,     3,   138,     4,   107,\n",
              "             2, 19667,     3,  3648,  6477,     0,     0,     0,     0,\n",
              "             0,     0,     0,     0,     0,     0,     0,     0,     0,\n",
              "             0,     0,     0,     0,     0,     0,     0,     0,     0]],\n",
              "       dtype=int32))"
            ]
          },
          "metadata": {},
          "execution_count": 26
        }
      ],
      "source": [
        "X_train[:1],Y_train[:1]"
      ]
    },
    {
      "cell_type": "code",
      "source": [
        "VOCAB_SIZE = len(tokenizer.word_index)\n",
        "VOCAB_SIZE"
      ],
      "metadata": {
        "colab": {
          "base_uri": "https://localhost:8080/"
        },
        "id": "5trFrkKtX8JD",
        "outputId": "aa5f9aba-776c-444e-8324-b9d03149c408"
      },
      "execution_count": 27,
      "outputs": [
        {
          "output_type": "execute_result",
          "data": {
            "text/plain": [
              "24346"
            ]
          },
          "metadata": {},
          "execution_count": 27
        }
      ]
    },
    {
      "cell_type": "markdown",
      "source": [
        "###**Encoder-Decoder network**"
      ],
      "metadata": {
        "id": "F3F9foXMQ7BK"
      }
    },
    {
      "cell_type": "code",
      "source": [
        "encoder_embedding_size = 32\n",
        "decoder_embedding_size = 32\n",
        "lstm_units = 128\n",
        "\n",
        "np.random.seed(42)\n",
        "tf.random.set_seed(42)\n",
        "\n",
        "encoder_input = keras.layers.Input(shape=[None], dtype=tf.int32)\n",
        "\n",
        "encoder_embedding = keras.layers.Embedding(input_dim=VOCAB_SIZE + 1,output_dim=encoder_embedding_size, input_length=MAX_SEQ_LEN, mask_zero=True)(encoder_input)\n",
        "\n",
        "_, encoder_state_h, encoder_state_c = keras.layers.LSTM(lstm_units, dropout=0.1, return_state=True)(encoder_embedding)\n",
        "\n",
        "encoder_state = [encoder_state_h, encoder_state_c]\n",
        "\n",
        "decoder_input = keras.layers.Input(shape=[None], dtype=tf.int32)\n",
        "\n",
        "decoder_embedding = keras.layers.Embedding(input_dim=VOCAB_SIZE + 2, output_dim=decoder_embedding_size, mask_zero=True)(decoder_input)\n",
        "\n",
        "decoder_lstm_output = keras.layers.LSTM(lstm_units, dropout=0.1, return_sequences=True)(decoder_embedding, initial_state=encoder_state)\n",
        "\n",
        "decoder_output = keras.layers.Dense(VOCAB_SIZE + 1, activation=\"softmax\")(decoder_lstm_output)\n",
        "\n",
        "model = keras.models.Model(inputs=[encoder_input, decoder_input], outputs=[decoder_output])\n",
        "\n",
        "optimizer = keras.optimizers.Nadam(learning_rate=0.008)\n",
        "model.compile(loss=\"sparse_categorical_crossentropy\", optimizer=optimizer, metrics=[\"accuracy\"])\n",
        "model.summary()\n"
      ],
      "metadata": {
        "colab": {
          "base_uri": "https://localhost:8080/"
        },
        "id": "jHYgCVUBWhXl",
        "outputId": "2dc98f09-4a94-4745-b78b-2cb4b12beab0"
      },
      "execution_count": 31,
      "outputs": [
        {
          "output_type": "stream",
          "name": "stdout",
          "text": [
            "Model: \"model_2\"\n",
            "__________________________________________________________________________________________________\n",
            " Layer (type)                   Output Shape         Param #     Connected to                     \n",
            "==================================================================================================\n",
            " input_5 (InputLayer)           [(None, None)]       0           []                               \n",
            "                                                                                                  \n",
            " input_6 (InputLayer)           [(None, None)]       0           []                               \n",
            "                                                                                                  \n",
            " embedding_4 (Embedding)        (None, None, 32)     779104      ['input_5[0][0]']                \n",
            "                                                                                                  \n",
            " embedding_5 (Embedding)        (None, None, 32)     779136      ['input_6[0][0]']                \n",
            "                                                                                                  \n",
            " lstm_6 (LSTM)                  [(None, 128),        82432       ['embedding_4[0][0]']            \n",
            "                                 (None, 128),                                                     \n",
            "                                 (None, 128)]                                                     \n",
            "                                                                                                  \n",
            " lstm_7 (LSTM)                  (None, None, 128)    82432       ['embedding_5[0][0]',            \n",
            "                                                                  'lstm_6[0][1]',                 \n",
            "                                                                  'lstm_6[0][2]']                 \n",
            "                                                                                                  \n",
            " dense_2 (Dense)                (None, None, 24347)  3140763     ['lstm_7[0][0]']                 \n",
            "                                                                                                  \n",
            "==================================================================================================\n",
            "Total params: 4,863,867\n",
            "Trainable params: 4,863,867\n",
            "Non-trainable params: 0\n",
            "__________________________________________________________________________________________________\n"
          ]
        }
      ]
    },
    {
      "cell_type": "code",
      "source": [
        "history = model.fit([X_train, X_train_decoder], Y_train, epochs=50, validation_split=0.15, batch_size=512)"
      ],
      "metadata": {
        "colab": {
          "base_uri": "https://localhost:8080/"
        },
        "id": "UbRGiGpaW_-R",
        "outputId": "bb85dff5-755d-49e9-aa8e-9091303b3843"
      },
      "execution_count": 32,
      "outputs": [
        {
          "output_type": "stream",
          "name": "stdout",
          "text": [
            "Epoch 1/50\n",
            "288/288 [==============================] - 147s 487ms/step - loss: 2.8987 - accuracy: 0.1483 - val_loss: 2.4522 - val_accuracy: 0.2167\n",
            "Epoch 2/50\n",
            "288/288 [==============================] - 137s 476ms/step - loss: 2.2113 - accuracy: 0.2504 - val_loss: 1.9770 - val_accuracy: 0.2950\n",
            "Epoch 3/50\n",
            "288/288 [==============================] - 137s 475ms/step - loss: 1.8278 - accuracy: 0.3241 - val_loss: 1.6612 - val_accuracy: 0.3701\n",
            "Epoch 4/50\n",
            "288/288 [==============================] - 137s 476ms/step - loss: 1.5710 - accuracy: 0.3877 - val_loss: 1.4432 - val_accuracy: 0.4295\n",
            "Epoch 5/50\n",
            "288/288 [==============================] - 136s 473ms/step - loss: 1.3953 - accuracy: 0.4351 - val_loss: 1.2885 - val_accuracy: 0.4737\n",
            "Epoch 6/50\n",
            "288/288 [==============================] - 137s 476ms/step - loss: 1.2681 - accuracy: 0.4721 - val_loss: 1.1635 - val_accuracy: 0.5160\n",
            "Epoch 7/50\n",
            "288/288 [==============================] - 137s 475ms/step - loss: 1.1723 - accuracy: 0.5017 - val_loss: 1.0724 - val_accuracy: 0.5448\n",
            "Epoch 8/50\n",
            "288/288 [==============================] - 137s 476ms/step - loss: 1.0977 - accuracy: 0.5249 - val_loss: 0.9976 - val_accuracy: 0.5716\n",
            "Epoch 9/50\n",
            "288/288 [==============================] - 137s 476ms/step - loss: 1.0388 - accuracy: 0.5432 - val_loss: 0.9437 - val_accuracy: 0.5909\n",
            "Epoch 10/50\n",
            "288/288 [==============================] - 137s 477ms/step - loss: 0.9891 - accuracy: 0.5596 - val_loss: 0.8913 - val_accuracy: 0.6100\n",
            "Epoch 11/50\n",
            "288/288 [==============================] - 136s 474ms/step - loss: 0.9482 - accuracy: 0.5728 - val_loss: 0.8475 - val_accuracy: 0.6266\n",
            "Epoch 12/50\n",
            "288/288 [==============================] - 137s 476ms/step - loss: 0.9124 - accuracy: 0.5849 - val_loss: 0.8116 - val_accuracy: 0.6397\n",
            "Epoch 13/50\n",
            "288/288 [==============================] - 138s 477ms/step - loss: 0.8812 - accuracy: 0.5953 - val_loss: 0.7841 - val_accuracy: 0.6490\n",
            "Epoch 14/50\n",
            "288/288 [==============================] - 138s 478ms/step - loss: 0.8531 - accuracy: 0.6046 - val_loss: 0.7460 - val_accuracy: 0.6646\n",
            "Epoch 15/50\n",
            "288/288 [==============================] - 137s 476ms/step - loss: 0.8289 - accuracy: 0.6132 - val_loss: 0.7259 - val_accuracy: 0.6724\n",
            "Epoch 16/50\n",
            "288/288 [==============================] - 138s 478ms/step - loss: 0.8077 - accuracy: 0.6206 - val_loss: 0.7009 - val_accuracy: 0.6818\n",
            "Epoch 17/50\n",
            "288/288 [==============================] - 137s 476ms/step - loss: 0.7880 - accuracy: 0.6273 - val_loss: 0.6784 - val_accuracy: 0.6908\n",
            "Epoch 18/50\n",
            "288/288 [==============================] - 138s 478ms/step - loss: 0.7703 - accuracy: 0.6334 - val_loss: 0.6611 - val_accuracy: 0.6990\n",
            "Epoch 19/50\n",
            "288/288 [==============================] - 137s 477ms/step - loss: 0.7549 - accuracy: 0.6388 - val_loss: 0.6441 - val_accuracy: 0.7037\n",
            "Epoch 20/50\n",
            "288/288 [==============================] - 137s 477ms/step - loss: 0.7393 - accuracy: 0.6443 - val_loss: 0.6273 - val_accuracy: 0.7113\n",
            "Epoch 21/50\n",
            "288/288 [==============================] - 137s 478ms/step - loss: 0.7255 - accuracy: 0.6489 - val_loss: 0.6138 - val_accuracy: 0.7169\n",
            "Epoch 22/50\n",
            "288/288 [==============================] - 137s 476ms/step - loss: 0.7127 - accuracy: 0.6534 - val_loss: 0.6007 - val_accuracy: 0.7209\n",
            "Epoch 23/50\n",
            "288/288 [==============================] - 137s 478ms/step - loss: 0.7006 - accuracy: 0.6579 - val_loss: 0.5869 - val_accuracy: 0.7271\n",
            "Epoch 24/50\n",
            "288/288 [==============================] - 138s 478ms/step - loss: 0.6897 - accuracy: 0.6615 - val_loss: 0.5736 - val_accuracy: 0.7323\n",
            "Epoch 25/50\n",
            "288/288 [==============================] - 138s 480ms/step - loss: 0.6790 - accuracy: 0.6655 - val_loss: 0.5631 - val_accuracy: 0.7367\n",
            "Epoch 26/50\n",
            "288/288 [==============================] - 138s 479ms/step - loss: 0.6689 - accuracy: 0.6690 - val_loss: 0.5516 - val_accuracy: 0.7408\n",
            "Epoch 27/50\n",
            "288/288 [==============================] - 137s 477ms/step - loss: 0.6597 - accuracy: 0.6724 - val_loss: 0.5405 - val_accuracy: 0.7465\n",
            "Epoch 28/50\n",
            "288/288 [==============================] - 137s 477ms/step - loss: 0.6504 - accuracy: 0.6756 - val_loss: 0.5329 - val_accuracy: 0.7493\n",
            "Epoch 29/50\n",
            "288/288 [==============================] - 138s 478ms/step - loss: 0.6423 - accuracy: 0.6788 - val_loss: 0.5259 - val_accuracy: 0.7519\n",
            "Epoch 30/50\n",
            "288/288 [==============================] - 137s 476ms/step - loss: 0.6344 - accuracy: 0.6815 - val_loss: 0.5172 - val_accuracy: 0.7547\n",
            "Epoch 31/50\n",
            "288/288 [==============================] - 138s 478ms/step - loss: 0.6270 - accuracy: 0.6844 - val_loss: 0.5081 - val_accuracy: 0.7596\n",
            "Epoch 32/50\n",
            "288/288 [==============================] - 138s 479ms/step - loss: 0.6200 - accuracy: 0.6872 - val_loss: 0.4993 - val_accuracy: 0.7635\n",
            "Epoch 33/50\n",
            "288/288 [==============================] - 138s 478ms/step - loss: 0.6135 - accuracy: 0.6893 - val_loss: 0.4941 - val_accuracy: 0.7655\n",
            "Epoch 34/50\n",
            "288/288 [==============================] - 137s 477ms/step - loss: 0.6069 - accuracy: 0.6920 - val_loss: 0.4852 - val_accuracy: 0.7684\n",
            "Epoch 35/50\n",
            "288/288 [==============================] - 137s 477ms/step - loss: 0.6014 - accuracy: 0.6940 - val_loss: 0.4787 - val_accuracy: 0.7727\n",
            "Epoch 36/50\n",
            "288/288 [==============================] - 138s 478ms/step - loss: 0.5945 - accuracy: 0.6967 - val_loss: 0.4730 - val_accuracy: 0.7740\n",
            "Epoch 37/50\n",
            "288/288 [==============================] - 137s 477ms/step - loss: 0.5893 - accuracy: 0.6980 - val_loss: 0.4671 - val_accuracy: 0.7766\n",
            "Epoch 38/50\n",
            "288/288 [==============================] - 137s 476ms/step - loss: 0.5845 - accuracy: 0.6999 - val_loss: 0.4614 - val_accuracy: 0.7791\n",
            "Epoch 39/50\n",
            "288/288 [==============================] - 138s 478ms/step - loss: 0.5791 - accuracy: 0.7024 - val_loss: 0.4552 - val_accuracy: 0.7819\n",
            "Epoch 40/50\n",
            "288/288 [==============================] - 137s 477ms/step - loss: 0.5739 - accuracy: 0.7041 - val_loss: 0.4498 - val_accuracy: 0.7840\n",
            "Epoch 41/50\n",
            "288/288 [==============================] - 138s 480ms/step - loss: 0.5695 - accuracy: 0.7060 - val_loss: 0.4440 - val_accuracy: 0.7875\n",
            "Epoch 42/50\n",
            "288/288 [==============================] - 138s 478ms/step - loss: 0.5647 - accuracy: 0.7079 - val_loss: 0.4399 - val_accuracy: 0.7887\n",
            "Epoch 43/50\n",
            "288/288 [==============================] - 138s 478ms/step - loss: 0.5603 - accuracy: 0.7096 - val_loss: 0.4350 - val_accuracy: 0.7908\n",
            "Epoch 44/50\n",
            "288/288 [==============================] - 137s 477ms/step - loss: 0.5565 - accuracy: 0.7111 - val_loss: 0.4319 - val_accuracy: 0.7922\n",
            "Epoch 45/50\n",
            "288/288 [==============================] - 137s 476ms/step - loss: 0.5525 - accuracy: 0.7125 - val_loss: 0.4266 - val_accuracy: 0.7940\n",
            "Epoch 46/50\n",
            "288/288 [==============================] - 137s 477ms/step - loss: 0.5485 - accuracy: 0.7142 - val_loss: 0.4220 - val_accuracy: 0.7965\n",
            "Epoch 47/50\n",
            "288/288 [==============================] - 138s 478ms/step - loss: 0.5448 - accuracy: 0.7158 - val_loss: 0.4202 - val_accuracy: 0.7972\n",
            "Epoch 48/50\n",
            "288/288 [==============================] - 138s 479ms/step - loss: 0.5413 - accuracy: 0.7170 - val_loss: 0.4154 - val_accuracy: 0.7996\n",
            "Epoch 49/50\n",
            "288/288 [==============================] - 137s 475ms/step - loss: 0.5375 - accuracy: 0.7187 - val_loss: 0.4108 - val_accuracy: 0.8013\n",
            "Epoch 50/50\n",
            "288/288 [==============================] - 137s 477ms/step - loss: 0.5340 - accuracy: 0.7198 - val_loss: 0.4083 - val_accuracy: 0.8019\n"
          ]
        }
      ]
    },
    {
      "cell_type": "code",
      "source": [
        "history = model.fit([X_train, X_train_decoder], Y_train, epochs=20, validation_split=0.15, batch_size=512)"
      ],
      "metadata": {
        "colab": {
          "base_uri": "https://localhost:8080/"
        },
        "id": "fdF640rLf7eO",
        "outputId": "fe3996eb-ce20-4bde-c676-e6c3adad9f3f"
      },
      "execution_count": 44,
      "outputs": [
        {
          "output_type": "stream",
          "name": "stdout",
          "text": [
            "Epoch 1/20\n",
            "288/288 [==============================] - 146s 492ms/step - loss: 0.5306 - accuracy: 0.7214 - val_loss: 0.4031 - val_accuracy: 0.8048\n",
            "Epoch 2/20\n",
            "288/288 [==============================] - 137s 477ms/step - loss: 0.5271 - accuracy: 0.7229 - val_loss: 0.3998 - val_accuracy: 0.8064\n",
            "Epoch 3/20\n",
            "288/288 [==============================] - 137s 476ms/step - loss: 0.5240 - accuracy: 0.7240 - val_loss: 0.3966 - val_accuracy: 0.8080\n",
            "Epoch 4/20\n",
            "288/288 [==============================] - 137s 475ms/step - loss: 0.5214 - accuracy: 0.7250 - val_loss: 0.3927 - val_accuracy: 0.8094\n",
            "Epoch 5/20\n",
            "288/288 [==============================] - 136s 473ms/step - loss: 0.5180 - accuracy: 0.7263 - val_loss: 0.3903 - val_accuracy: 0.8108\n",
            "Epoch 6/20\n",
            "288/288 [==============================] - 137s 476ms/step - loss: 0.5146 - accuracy: 0.7277 - val_loss: 0.3868 - val_accuracy: 0.8109\n",
            "Epoch 7/20\n",
            "288/288 [==============================] - 138s 478ms/step - loss: 0.5126 - accuracy: 0.7286 - val_loss: 0.3856 - val_accuracy: 0.8119\n",
            "Epoch 8/20\n",
            "288/288 [==============================] - 138s 479ms/step - loss: 0.5101 - accuracy: 0.7294 - val_loss: 0.3821 - val_accuracy: 0.8133\n",
            "Epoch 9/20\n",
            "288/288 [==============================] - 138s 478ms/step - loss: 0.5074 - accuracy: 0.7306 - val_loss: 0.3780 - val_accuracy: 0.8157\n",
            "Epoch 10/20\n",
            "288/288 [==============================] - 138s 478ms/step - loss: 0.5045 - accuracy: 0.7317 - val_loss: 0.3752 - val_accuracy: 0.8171\n",
            "Epoch 11/20\n",
            "288/288 [==============================] - 137s 475ms/step - loss: 0.5019 - accuracy: 0.7328 - val_loss: 0.3734 - val_accuracy: 0.8176\n",
            "Epoch 12/20\n",
            "288/288 [==============================] - 137s 478ms/step - loss: 0.4998 - accuracy: 0.7337 - val_loss: 0.3719 - val_accuracy: 0.8179\n",
            "Epoch 13/20\n",
            "288/288 [==============================] - 138s 478ms/step - loss: 0.4975 - accuracy: 0.7343 - val_loss: 0.3684 - val_accuracy: 0.8198\n",
            "Epoch 14/20\n",
            "288/288 [==============================] - 138s 478ms/step - loss: 0.4949 - accuracy: 0.7354 - val_loss: 0.3655 - val_accuracy: 0.8213\n",
            "Epoch 15/20\n",
            "288/288 [==============================] - 138s 479ms/step - loss: 0.4929 - accuracy: 0.7362 - val_loss: 0.3624 - val_accuracy: 0.8230\n",
            "Epoch 16/20\n",
            "288/288 [==============================] - 137s 477ms/step - loss: 0.4908 - accuracy: 0.7370 - val_loss: 0.3617 - val_accuracy: 0.8221\n",
            "Epoch 17/20\n",
            "288/288 [==============================] - 138s 479ms/step - loss: 0.4890 - accuracy: 0.7379 - val_loss: 0.3590 - val_accuracy: 0.8240\n",
            "Epoch 18/20\n",
            "288/288 [==============================] - 138s 478ms/step - loss: 0.4868 - accuracy: 0.7387 - val_loss: 0.3558 - val_accuracy: 0.8252\n",
            "Epoch 19/20\n",
            "288/288 [==============================] - 138s 478ms/step - loss: 0.4850 - accuracy: 0.7397 - val_loss: 0.3554 - val_accuracy: 0.8260\n",
            "Epoch 20/20\n",
            "288/288 [==============================] - 137s 477ms/step - loss: 0.4829 - accuracy: 0.7404 - val_loss: 0.3542 - val_accuracy: 0.8265\n"
          ]
        }
      ]
    },
    {
      "cell_type": "markdown",
      "source": [
        "**almost 100% accuracy on training data after 30 epochs**"
      ],
      "metadata": {
        "id": "KafwsaNYH7wx"
      }
    },
    {
      "cell_type": "code",
      "source": [
        "model.save(\"sentence_model_v3.h5\")"
      ],
      "metadata": {
        "id": "YcZe294WJs2u"
      },
      "execution_count": 40,
      "outputs": []
    },
    {
      "cell_type": "markdown",
      "source": [
        "###**Simple seq2seq network**"
      ],
      "metadata": {
        "id": "rdvpqp9WRAqC"
      }
    },
    {
      "cell_type": "markdown",
      "source": [
        "**model evaluation on test data**"
      ],
      "metadata": {
        "id": "vtOseVVsIx8W"
      }
    },
    {
      "cell_type": "code",
      "source": [
        "model = keras.models.load_model(\"sentence_model_v3.h5\")"
      ],
      "metadata": {
        "id": "n8H6DWLiNMPM"
      },
      "execution_count": 41,
      "outputs": []
    },
    {
      "cell_type": "code",
      "source": [
        "ids = np.argmax(model.predict([X_test[:1], X_test_decoder[:1]]), axis=-1)\n",
        "ids, Y_test[:1]"
      ],
      "metadata": {
        "colab": {
          "base_uri": "https://localhost:8080/"
        },
        "id": "-91S1Qjfxjoh",
        "outputId": "8a4a22c9-fe9a-4a1f-a13c-6ef2dc0b5f22"
      },
      "execution_count": 45,
      "outputs": [
        {
          "output_type": "execute_result",
          "data": {
            "text/plain": [
              "(array([[   5,  306,  157, 2285,  341,   88,  125,  590,   25, 1703,   98,\n",
              "            7,  147, 1484,   69,  356,  123,    5, 1419,   34,    6,   12,\n",
              "           12,    6, 1321,  111,   54,  133,    0,  159,  159,  159,  159,\n",
              "          159,  159,  159,  159,  159,  159,  159,  159,  159,  159,  159,\n",
              "          159]]),\n",
              " array([[   5,  306,  157, 2285,  341,   88,  125,    9,   25, 1703,   98,\n",
              "            2,   67, 1484,   69,  356,  123,    5, 2207,   34,    7, 1323,\n",
              "          417,  153, 1321,  111,   54,  133,    0,    0,    0,    0,    0,\n",
              "            0,    0,    0,    0,    0,    0,    0,    0,    0,    0,    0,\n",
              "            0]], dtype=int32))"
            ]
          },
          "metadata": {},
          "execution_count": 45
        }
      ]
    },
    {
      "cell_type": "code",
      "source": [
        "print(\"Evaluate on test data\")\n",
        "results = model.evaluate([X_test, X_test_decoder], Y_test, batch_size=512)\n",
        "print(\"test loss, test acc:\", results)"
      ],
      "metadata": {
        "colab": {
          "base_uri": "https://localhost:8080/"
        },
        "id": "MJb6gcXWI5Vn",
        "outputId": "40a0b293-3d14-418c-baa7-90da1b8fcaa3"
      },
      "execution_count": 46,
      "outputs": [
        {
          "output_type": "stream",
          "name": "stdout",
          "text": [
            "Evaluate on test data\n",
            "85/85 [==============================] - 22s 260ms/step - loss: 0.3541 - accuracy: 0.8264\n",
            "test loss, test acc: [0.35411328077316284, 0.8263750076293945]\n"
          ]
        }
      ]
    },
    {
      "cell_type": "markdown",
      "source": [
        "###**Rebuild sentences**"
      ],
      "metadata": {
        "id": "p7YoZLmqOKpN"
      }
    },
    {
      "cell_type": "code",
      "source": [
        "reverse_word_map = dict(map(reversed, tokenizer.word_index.items()))\n",
        "def sequence_to_text(list_of_indices):\n",
        "    # Looking up words in dictionary\n",
        "    words = [reverse_word_map.get(letter) for letter in list_of_indices]\n",
        "    return(words)\n",
        "\n",
        "def remove_padding_and_join(texts):\n",
        "  for i in range(len(texts)):\n",
        "    no_padding = filter(lambda a: a != '<PAD>', texts[i])\n",
        "    texts[i] = ' '.join(list(no_padding))\n",
        "  return texts\n",
        "    \n",
        "\n",
        "def reconstruct_predicted_list(texts):\n",
        "  for i in range(len(texts)):\n",
        "    pad_start = texts[i].index('<PAD>')\n",
        "    texts[i] = texts[i][:pad_start]\n",
        "    no_padding = filter(lambda a: a != '<PAD>', texts[i])\n",
        "    texts[i] = ' '.join(list(no_padding))\n",
        "  return texts\n",
        "\n",
        "def get_predictions_on_test(count):\n",
        "    Y_preds = model.predict([X_test[:count], X_test_decoder[:count]])\n",
        "    encoded_argmax  = np.argmax(Y_preds, axis=-1)\n",
        "    return encoded_argmax, Y_test[:count]\n",
        "\n",
        "def get_predicted_sentences(predicted):\n",
        "  predicted_word_list = list(map(sequence_to_text, predicted))\n",
        "  predicted_sent_list = reconstruct_predicted_list(predicted_word_list)\n",
        "  return predicted_sent_list\n",
        "\n",
        "def get_original_sentences(original):\n",
        "  original_word_list  = list(map(sequence_to_text, original))\n",
        "  original_sent_list = remove_padding_and_join(original_word_list)\n",
        "  return original_sent_list \n",
        "\n",
        "\n",
        "def rebuild_sentence_from_sequence(count=20):\n",
        "  predicted, original = get_predictions_on_test(count)\n",
        "  predicted_sent_list = get_predicted_sentences(predicted)\n",
        "  original_sent_list  = get_original_sentences(original)\n",
        "  return predicted_sent_list, original_sent_list\n",
        "  \n"
      ],
      "metadata": {
        "id": "qPrbtyI2yRg4"
      },
      "execution_count": 35,
      "outputs": []
    },
    {
      "cell_type": "code",
      "source": [
        "preds, origs = rebuild_sentence_from_sequence(10)\n",
        "preds, origs"
      ],
      "metadata": {
        "colab": {
          "base_uri": "https://localhost:8080/"
        },
        "id": "_wRouJWAOOLV",
        "outputId": "f4d453f5-14f6-403f-c281-112f20366501"
      },
      "execution_count": 47,
      "outputs": [
        {
          "output_type": "execute_result",
          "data": {
            "text/plain": [
              "(['از زمان آغاز تازه\\u200cترین دور جنگ میان مردان دو جناح فلسطینی که جریان مه گذشته تاکنون بیش از دویست نفر را برای برای را جو بودند کشته شده\\u200cاند',\n",
              "  'با این حال مقامات سازمان ملل می\\u200cگویند سربازان مظنون وابسته به گردان نهم کنگو هنوز مورد بازجوئی قرارنگرفته\\u200cاند',\n",
              "  'با اینحال توفان در مناطق دیگر و مناطق ارتفاع موجب بروز سیل صدها و اینک میلیونها خانه به برق هستند',\n",
              "  'در ارتش روز روز سه شنبه ارتش آمریکا گفت سربازان آمریکا رهبر سنی که که به او آمریکا را تصادفا کشتند',\n",
              "  'قطار دوم هنوز که به گفته تصادف رسیده بود دست علاقه قرار گرفت و یا تأسیسات خارج شدن ولی معلوم معلوم نیست که آیا دو نیز شده بود یا نه',\n",
              "  'نیکولا سارکوزی رییس جمهوری فرانسه از فرمان رییس جمهوری روسیه برای متوقف ساختن در در در گرجستان استقبال کرده است',\n",
              "  'و این گزارش آمریکا که که گفته بد رفتاری\\u200cها را گزارش داد نه رسانه\\u200cهای خبری',\n",
              "  'فرماندار ایالت ویرجینیا همچنین امروز در برای این این ایالت برای عزاداری برای قربانیان آزاد کرده است',\n",
              "  'شهادت ژنرال پتروس و رایان کروکر به جلسه مشترک کمیته روابط پرزیدنت و و کمیته روابط مسلح مجلس نمایندگان بالای به ارایه گزارشی به پانل سنا دنبال خواهد شد',\n",
              "  'رئیس دولت انتقالی افغانستان بزرگراه استراتژیک کابل به قندهار را ترک دیگر گشود'],\n",
              " ['از زمان آغاز تازه\\u200cترین دور جنگ میان این دو جناح فلسطینی در ماه مه گذشته تاکنون بیش از ۸۰ نفر که اغلب آنان ستیزه جو بودند کشته شده\\u200cاند',\n",
              "  'با این حال مقامات سازمان ملل می\\u200cگویند سربازان مظنون وابسته به گردان نهم کنگو هنوز مورد بازجوئی قرارنگرفته\\u200cاند',\n",
              "  'با اینحال توفان در مناطق پست و کم ارتفاع موجب بروز سیل شده و اینک میلیونها خانه بدون برق هستند',\n",
              "  'در عراق در روز سه شنبه ارتش آمریکا گفت سربازان یک رهبر سنی را که متحد نیروهای آمریکا بود تصادفا کشتند',\n",
              "  'قطار دوم نیز که به صحنه تصادف رسیده بود مورد حمله قرار گرفت و از خط خارج شد ولی هنوز معلوم نیست که آیا کسی زخمی شده است یا نه',\n",
              "  'نیکولا سارکوزی رییس جمهوری فرانسه از فرمان رییس جمهوری روسیه برای متوقف شدن عملیات نظامی در گرجستان استقبال کرده است',\n",
              "  'و این ارتش آمریکا بود که نخست بد رفتاری\\u200cها را گزارش داد نه رسانه\\u200cهای خبری',\n",
              "  'فرماندار ایالت ویرجینیا همچنین امروز را در سراسر این ایالت روز عزاداری برای قربانیان اعلام کرده است',\n",
              "  'شهادت ژنرال پتروس و رایان کروکر به جلسه مشترک کمیته روابط خارجی سنا و کمیته نیروهای مسلح مجلس نمایندگان فردا با ارایه گزارشی به پانل سنا دنبال خواهد شد',\n",
              "  'رئیس دولت انتقالی افغانستان بزرگراه استراتژیک کابل به قندهار را بار دیگر گشود'])"
            ]
          },
          "metadata": {},
          "execution_count": 47
        }
      ]
    },
    {
      "cell_type": "code",
      "source": [
        "def log(args):\n",
        "  for arg in args:\n",
        "    print(arg, '\\n')\n",
        "    print('-----\\n')"
      ],
      "metadata": {
        "id": "1f9Rhh_mz120"
      },
      "execution_count": 37,
      "outputs": []
    },
    {
      "cell_type": "code",
      "source": [
        "sos_id = last_idx\n",
        "def infere_sentence(sentence):\n",
        "  X_text = np.asarray([sentence], dtype=object)\n",
        "  X_seq = tokenizer.texts_to_sequences(X_text)\n",
        "  X = keras.preprocessing.sequence.pad_sequences(X_seq, maxlen=MAX_SEQ_LEN, padding='post')\n",
        "  Y_pred = np.full((X.shape[0], 1), sos_id)\n",
        "  for index in range(MAX_SEQ_LEN):\n",
        "    X_decoder = keras.preprocessing.sequence.pad_sequences(Y_pred, maxlen=MAX_SEQ_LEN, padding='post')\n",
        "    Y_pred_next = tf.argmax(model.predict([X, X_decoder]), axis=-1)[:, index:index+1]\n",
        "    #log([X, Y_pred, X_decoder, Y_pred_next])\n",
        "    Y_pred = np.concatenate([Y_pred, Y_pred_next], axis=1)\n",
        "  return Y_pred\n",
        "\n",
        "def predict_a_sentence(sentence):\n",
        "  Y_pred = infere_sentence(sentence)\n",
        "  output = np.delete(Y_pred, np.where(Y_pred==sos_id), axis=1)\n",
        "  return get_predicted_sentences(output)\n",
        "\n",
        "print(predict_a_sentence('مشابهی هم اکنون نیز لایحه مجلس در سنای آمریکا بحث وبررسی مورد قرار دارد'))\n",
        "print(predict_a_sentence('بزرگ کشوری است ایران'))"
      ],
      "metadata": {
        "id": "AOwmSY_go1F_",
        "colab": {
          "base_uri": "https://localhost:8080/"
        },
        "outputId": "221a2b67-e45d-4681-cc36-39eef418ff4d"
      },
      "execution_count": 48,
      "outputs": [
        {
          "output_type": "stream",
          "name": "stdout",
          "text": [
            "['لایحه مشابهی نیز هم اکنون در مجلس سنای آمریکا مورد بحث وبررسی قرار دارد']\n",
            "['ایران دارای فشار دارند']\n"
          ]
        }
      ]
    }
  ],
  "metadata": {
    "accelerator": "GPU",
    "colab": {
      "collapsed_sections": [],
      "name": "sentence_building.ipynb",
      "provenance": []
    },
    "gpuClass": "standard",
    "kernelspec": {
      "display_name": "Python 3",
      "name": "python3"
    },
    "language_info": {
      "name": "python"
    }
  },
  "nbformat": 4,
  "nbformat_minor": 0
}