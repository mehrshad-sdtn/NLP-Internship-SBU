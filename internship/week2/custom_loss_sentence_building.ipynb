{
  "cells": [
    {
      "cell_type": "code",
      "execution_count": 1,
      "metadata": {
        "id": "uPK2QfZkXcUv"
      },
      "outputs": [],
      "source": [
        "import numpy as np\n",
        "import tensorflow\n",
        "import random\n",
        "import pandas as pd\n",
        "import numpy as np\n",
        "import tensorflow as tf\n",
        "from tensorflow import keras\n",
        "import math"
      ]
    },
    {
      "cell_type": "code",
      "execution_count": 2,
      "metadata": {
        "colab": {
          "base_uri": "https://localhost:8080/"
        },
        "id": "om4bi94uXz6W",
        "outputId": "3239fa5a-f73d-44f3-f7de-f18d886d06c7"
      },
      "outputs": [
        {
          "output_type": "stream",
          "name": "stdout",
          "text": [
            "Mounted at /content/drive\n"
          ]
        }
      ],
      "source": [
        "from google.colab import drive\n",
        "drive.mount('/content/drive')"
      ]
    },
    {
      "cell_type": "code",
      "execution_count": 3,
      "metadata": {
        "colab": {
          "base_uri": "https://localhost:8080/"
        },
        "id": "eSoDE3KJX9bu",
        "outputId": "7baee5ab-bd0b-4836-9ac7-722270c2e570"
      },
      "outputs": [
        {
          "output_type": "stream",
          "name": "stdout",
          "text": [
            "/content/drive/MyDrive\n"
          ]
        }
      ],
      "source": [
        "%cd /content/drive/MyDrive/"
      ]
    },
    {
      "cell_type": "code",
      "execution_count": 4,
      "metadata": {
        "id": "jrRw5TNCYQDV"
      },
      "outputs": [],
      "source": [
        "MODEL_PATH = '/saved_models/nlp_models'"
      ]
    },
    {
      "cell_type": "code",
      "execution_count": 5,
      "metadata": {
        "colab": {
          "base_uri": "https://localhost:8080/"
        },
        "id": "FrBcoMhTY5jO",
        "outputId": "74ea5c70-1492-4a22-a84f-eeda132f1669"
      },
      "outputs": [
        {
          "output_type": "stream",
          "name": "stdout",
          "text": [
            "Looking in indexes: https://pypi.org/simple, https://us-python.pkg.dev/colab-wheels/public/simple/\n",
            "Collecting hazm\n",
            "  Downloading hazm-0.7.0-py3-none-any.whl (316 kB)\n",
            "\u001b[K     |████████████████████████████████| 316 kB 36.2 MB/s \n",
            "\u001b[?25hCollecting nltk==3.3\n",
            "  Downloading nltk-3.3.0.zip (1.4 MB)\n",
            "\u001b[K     |████████████████████████████████| 1.4 MB 40.9 MB/s \n",
            "\u001b[?25hCollecting libwapiti>=0.2.1\n",
            "  Downloading libwapiti-0.2.1.tar.gz (233 kB)\n",
            "\u001b[K     |████████████████████████████████| 233 kB 68.5 MB/s \n",
            "\u001b[?25hRequirement already satisfied: six in /usr/local/lib/python3.7/dist-packages (from nltk==3.3->hazm) (1.15.0)\n",
            "Building wheels for collected packages: nltk, libwapiti\n",
            "  Building wheel for nltk (setup.py) ... \u001b[?25l\u001b[?25hdone\n",
            "  Created wheel for nltk: filename=nltk-3.3-py3-none-any.whl size=1394487 sha256=d6fabd8de82a4d20168d479c26fb5179bdb05da85434cd4c24e6e022646435d8\n",
            "  Stored in directory: /root/.cache/pip/wheels/9b/fd/0c/d92302c876e5de87ebd7fc0979d82edb93e2d8d768bf71fac4\n",
            "  Building wheel for libwapiti (setup.py) ... \u001b[?25l\u001b[?25hdone\n",
            "  Created wheel for libwapiti: filename=libwapiti-0.2.1-cp37-cp37m-linux_x86_64.whl size=154421 sha256=936e1fb618daa72c26e3f3624b8acc6ebf1ce4cf9d43556d754d1489f4ac6619\n",
            "  Stored in directory: /root/.cache/pip/wheels/ab/b2/5b/0fe4b8f5c0e65341e8ea7bb3f4a6ebabfe8b1ac31322392dbf\n",
            "Successfully built nltk libwapiti\n",
            "Installing collected packages: nltk, libwapiti, hazm\n",
            "  Attempting uninstall: nltk\n",
            "    Found existing installation: nltk 3.7\n",
            "    Uninstalling nltk-3.7:\n",
            "      Successfully uninstalled nltk-3.7\n",
            "Successfully installed hazm-0.7.0 libwapiti-0.2.1 nltk-3.3\n"
          ]
        }
      ],
      "source": [
        "!pip install hazm"
      ]
    },
    {
      "cell_type": "markdown",
      "metadata": {
        "id": "0P7WzGkNeJz0"
      },
      "source": [
        "###**Text preprocessing functions**"
      ]
    },
    {
      "cell_type": "code",
      "execution_count": 6,
      "metadata": {
        "id": "DgLYXfMbY7r9"
      },
      "outputs": [],
      "source": [
        "from __future__ import unicode_literals\n",
        "from hazm import *\n",
        "import re\n",
        "import random\n",
        "from string import punctuation\n",
        "\n",
        "def text_preprocess(text):\n",
        "  normalizer = Normalizer()\n",
        "  text = normalizer.normalize(text)\n",
        "  text = re.sub(f'[{punctuation}؟،٪×÷»«]+', '', text)\n",
        "  return text\n",
        "\n",
        "def text_scramble(text):\n",
        "  words = text.split()\n",
        "  random.shuffle(words)\n",
        "  return ' '.join(words)\n"
      ]
    },
    {
      "cell_type": "markdown",
      "metadata": {
        "id": "fOZLJB5ieOSs"
      },
      "source": [
        "###**Loading and processing Corpus 1**\n",
        "(VOA FARSI 2003-08)"
      ]
    },
    {
      "cell_type": "code",
      "source": [
        "random.seed(42)\n",
        "np.random.seed(42)"
      ],
      "metadata": {
        "id": "ZLw9Sc7PjokI"
      },
      "execution_count": 7,
      "outputs": []
    },
    {
      "cell_type": "code",
      "execution_count": 8,
      "metadata": {
        "id": "JBWO5KxPeITs"
      },
      "outputs": [],
      "source": [
        "path = 'data/voa_fa_2003-2008_orig.txt'\n",
        "with open(path, 'r', encoding='utf-8') as f:\n",
        "  text = ' '.join([line.strip() for line in f.readlines() if not line.startswith('#')])\n",
        "  text = text.split('.')\n",
        "  sents = random.sample(text, 50000)"
      ]
    },
    {
      "cell_type": "code",
      "execution_count": 9,
      "metadata": {
        "id": "jXPJ0lLqeueE",
        "colab": {
          "base_uri": "https://localhost:8080/"
        },
        "outputId": "83ad5b9b-00b6-468b-fad6-dfa2e4127384"
      },
      "outputs": [
        {
          "output_type": "stream",
          "name": "stdout",
          "text": [
            "45733\n"
          ]
        }
      ],
      "source": [
        "MAX_LEN = 200\n",
        "sents_cleaned = [text_preprocess(s) for s in sents]\n",
        "sents_ready = filter(lambda s: len(s) < MAX_LEN, sents_cleaned)\n",
        "sents_data = list(sents_ready)\n",
        "print(len(sents_data))\n",
        "random.shuffle(sents_data)\n",
        "sents_data = sents_data[:45000]  # make dataset size 45000 for ease of computation"
      ]
    },
    {
      "cell_type": "code",
      "execution_count": 10,
      "metadata": {
        "id": "aZu1i3fZ4jaF"
      },
      "outputs": [],
      "source": [
        "tokenizer = keras.preprocessing.text.Tokenizer(oov_token='<UNK>')\n",
        "tokenizer.fit_on_texts(sents_data)\n",
        "tokenizer.word_index['<PAD>'] = 0\n",
        "last_idx = len(tokenizer.word_index) + 1\n",
        "tokenizer.word_index['<SOS>'] = last_idx"
      ]
    },
    {
      "cell_type": "code",
      "execution_count": 11,
      "metadata": {
        "colab": {
          "base_uri": "https://localhost:8080/"
        },
        "id": "8S8uD4Lp_GGF",
        "outputId": "3f89085e-4b04-452d-9b6c-9baf663df7c8"
      },
      "outputs": [
        {
          "output_type": "stream",
          "name": "stdout",
          "text": [
            "maximum sentence length: 45\n"
          ]
        }
      ],
      "source": [
        "temp = [len(each.split()) for each in sents_data]\n",
        "print('maximum sentence length:', sorted(temp)[-1])"
      ]
    },
    {
      "cell_type": "markdown",
      "metadata": {
        "id": "4hjb7_snihFC"
      },
      "source": [
        "### **building the dataset**"
      ]
    },
    {
      "cell_type": "code",
      "execution_count": 12,
      "metadata": {
        "id": "vw9NSMqyiDDL"
      },
      "outputs": [],
      "source": [
        "def create_shuffles(sent_list, m):\n",
        "  \"\"\"\n",
        "  this function creates m random shuffles of the sentence\n",
        "  \"\"\"\n",
        "  all_combs = []\n",
        "  for sent in sent_list:\n",
        "    comb_set = set([])\n",
        "    for i in range(0, m):\n",
        "      comb_set.add(text_scramble(sent))\n",
        "    all_combs.append((sent, comb_set))\n",
        "  return all_combs"
      ]
    },
    {
      "cell_type": "code",
      "execution_count": 13,
      "metadata": {
        "id": "tIM26pJyjBDr"
      },
      "outputs": [],
      "source": [
        "shuffle_pairs = create_shuffles(sents_data, 5)"
      ]
    },
    {
      "cell_type": "code",
      "execution_count": 14,
      "metadata": {
        "colab": {
          "base_uri": "https://localhost:8080/"
        },
        "id": "kh5Bf4KHjh1e",
        "outputId": "19544ab3-1fee-40a4-a1e1-2d04ec4a4fa1"
      },
      "outputs": [
        {
          "output_type": "execute_result",
          "data": {
            "text/plain": [
              "(' تاکنون صدها سرباز از زمانی که شبه نظامیان طرفدار طالبان کنترل شهر\\u200cهای کوچک و قصبات این ناحیه را بدست گرفتند با آنها در حال زدوخورد بوده\\u200cاند',\n",
              " {'از حال ناحیه در صدها این گرفتند زمانی شهر\\u200cهای آنها و کنترل طرفدار سرباز نظامیان کوچک را تاکنون بوده\\u200cاند شبه با که قصبات طالبان بدست زدوخورد',\n",
              "  'بدست از ناحیه شهر\\u200cهای زدوخورد که سرباز در شبه تاکنون زمانی آنها کنترل حال را و گرفتند بوده\\u200cاند طالبان نظامیان قصبات طرفدار با کوچک این صدها',\n",
              "  'بوده\\u200cاند در سرباز کنترل تاکنون صدها که و زمانی بدست شهر\\u200cهای این حال شبه را طرفدار ناحیه کوچک قصبات طالبان با از زدوخورد آنها نظامیان گرفتند',\n",
              "  'زمانی قصبات حال طرفدار شهر\\u200cهای که بدست شبه و گرفتند نظامیان این را با آنها تاکنون کنترل کوچک طالبان در سرباز از ناحیه بوده\\u200cاند صدها زدوخورد',\n",
              "  'و گرفتند ناحیه شبه حال زدوخورد این قصبات از بدست با بوده\\u200cاند کوچک سرباز صدها نظامیان طرفدار را زمانی شهر\\u200cهای که تاکنون آنها در کنترل طالبان'})"
            ]
          },
          "metadata": {},
          "execution_count": 14
        }
      ],
      "source": [
        "shuffle_pairs[1][0], shuffle_pairs[1][1]"
      ]
    },
    {
      "cell_type": "code",
      "execution_count": 15,
      "metadata": {
        "id": "wnoA5xmDjrBU"
      },
      "outputs": [],
      "source": [
        "def create_dataframe(pairs):\n",
        "  \"\"\"\n",
        "  creates a dataframe with two columns of original sentence and it's shuffles\n",
        "  \"\"\"\n",
        "  original = []\n",
        "  shuffled = []\n",
        "  for pair in pairs:\n",
        "    for p in pair[1]:\n",
        "      original.append(pair[0])\n",
        "      shuffled.append(p)\n",
        "\n",
        "  df_dict = { 'Shuffled': shuffled, 'Original': original}\n",
        "  df = pd.DataFrame(df_dict)\n",
        "  return df\n"
      ]
    },
    {
      "cell_type": "code",
      "execution_count": 39,
      "metadata": {
        "id": "jTZJ1mSbkXuy"
      },
      "outputs": [],
      "source": [
        "df = create_dataframe(shuffle_pairs)\n",
        "df = df.sample(frac=1).reset_index(drop=True)\n",
        "df"
      ]
    },
    {
      "cell_type": "code",
      "execution_count": 17,
      "metadata": {
        "id": "HRkeMJafwY7_"
      },
      "outputs": [],
      "source": [
        "def create_dataset(df, train_percent=80):\n",
        "  data_size = df.shape[0]\n",
        "  count = math.floor(data_size * (train_percent/100))\n",
        "\n",
        "  dataset = df['Shuffled'].values\n",
        "  labels  = df['Original'].values\n",
        "\n",
        "  train_data   = dataset[:count]\n",
        "  train_labels = labels[:count]\n",
        "  test_data   = dataset[count:]\n",
        "  test_labels = labels[count:]\n",
        "\n",
        "  return ((train_data, train_labels), (test_data, test_labels))\n",
        "\n",
        "\n"
      ]
    },
    {
      "cell_type": "code",
      "execution_count": 18,
      "metadata": {
        "id": "Dh3otPKB0GrV"
      },
      "outputs": [],
      "source": [
        "train_set, test_set = create_dataset(df)\n",
        "X_train_text, Y_train_text = train_set\n",
        "X_test_text, Y_test_text = test_set"
      ]
    },
    {
      "cell_type": "markdown",
      "metadata": {
        "id": "9vq7ch6G1jX1"
      },
      "source": [
        "###**making dataset ready for training**"
      ]
    },
    {
      "cell_type": "code",
      "execution_count": 19,
      "metadata": {
        "id": "y9Y7Kqc4w1XV"
      },
      "outputs": [],
      "source": [
        "sos_index = last_idx\n",
        "def shift_output_sequence(seq_list):\n",
        "  for seq in seq_list:\n",
        "    seq.insert(0, sos_index)\n",
        "  return seq_list\n"
      ]
    },
    {
      "cell_type": "code",
      "execution_count": 20,
      "metadata": {
        "id": "ZPoeo0sYwWPO"
      },
      "outputs": [],
      "source": [
        "X_train_seq = tokenizer.texts_to_sequences(X_train_text)\n",
        "Y_train_seq = tokenizer.texts_to_sequences(Y_train_text)\n",
        "X_test_seq  = tokenizer.texts_to_sequences(X_test_text)\n",
        "Y_test_seq  = tokenizer.texts_to_sequences(Y_test_text)"
      ]
    },
    {
      "cell_type": "code",
      "execution_count": 21,
      "metadata": {
        "id": "UkcJ_sWk1rKF"
      },
      "outputs": [],
      "source": [
        "MAX_SEQ_LEN = 50  \n",
        "X_train = keras.preprocessing.sequence.pad_sequences(X_train_seq, maxlen=MAX_SEQ_LEN)\n",
        "Y_train = keras.preprocessing.sequence.pad_sequences(Y_train_seq, maxlen=MAX_SEQ_LEN)\n",
        "\n",
        "X_test  = keras.preprocessing.sequence.pad_sequences(X_test_seq, maxlen=MAX_SEQ_LEN)\n",
        "Y_test  = keras.preprocessing.sequence.pad_sequences(Y_test_seq, maxlen=MAX_SEQ_LEN)\n",
        "\n",
        "X_train_decoder = keras.preprocessing.sequence.pad_sequences(shift_output_sequence(Y_train_seq), maxlen=MAX_SEQ_LEN)\n",
        "X_test_decoder  = keras.preprocessing.sequence.pad_sequences(shift_output_sequence(Y_test_seq),  maxlen=MAX_SEQ_LEN)"
      ]
    },
    {
      "cell_type": "code",
      "execution_count": 40,
      "metadata": {
        "colab": {
          "base_uri": "https://localhost:8080/"
        },
        "id": "8MsYgFws1eJE",
        "outputId": "4e6bb4dd-551a-40a6-93d2-0b276433cd98"
      },
      "outputs": [
        {
          "output_type": "execute_result",
          "data": {
            "text/plain": [
              "(array([[    0,     0,     0,     0,     0,     0,     0,     0,     0,\n",
              "             0,     0,     0,     0,     0,     0,     0,     0,     0,\n",
              "             0,     0,     0,     0,     0,     0,     0,     0,     0,\n",
              "             0,     0, 38546,  2280,   267,  2086,  3820, 24148,   821,\n",
              "           303,  1492,  2677,    58,     6,   161,    77,   606,    15,\n",
              "             7,    10,  1948,   883,    94],\n",
              "        [    0,     0,     0,     0,     0,     0,     0,     0,     0,\n",
              "             0,     0,     0,     0,     0,     0,     0,     0,     0,\n",
              "             0,     0,     0,     0,     0,     0,     0, 38546,    24,\n",
              "            17,     4,   615,    13,     2,   138,    85,   564,   309,\n",
              "          2322,   867,   177,    28,   112,     4,    11,   995,     7,\n",
              "             5,  2998,     2,   138,  2516]], dtype=int32),\n",
              " array([[    0,     0,     0,     0,     0,     0,     0,     0,     0,\n",
              "             0,     0,     0,     0,     0,     0,     0,     0,     0,\n",
              "             0,     0,     0,     0,     0,     0,     0,     0,     0,\n",
              "             0,     0,     0,  2280,   267,  2086,  3820, 24148,   821,\n",
              "           303,  1492,  2677,    58,     6,   161,    77,   606,    15,\n",
              "             7,    10,  1948,   883,    94],\n",
              "        [    0,     0,     0,     0,     0,     0,     0,     0,     0,\n",
              "             0,     0,     0,     0,     0,     0,     0,     0,     0,\n",
              "             0,     0,     0,     0,     0,     0,     0,     0,    24,\n",
              "            17,     4,   615,    13,     2,   138,    85,   564,   309,\n",
              "          2322,   867,   177,    28,   112,     4,    11,   995,     7,\n",
              "             5,  2998,     2,   138,  2516]], dtype=int32))"
            ]
          },
          "metadata": {},
          "execution_count": 40
        }
      ],
      "source": [
        "X_train_decoder[:2], Y_train[:2]"
      ]
    },
    {
      "cell_type": "code",
      "execution_count": 23,
      "metadata": {
        "colab": {
          "base_uri": "https://localhost:8080/"
        },
        "id": "jR3JqKVK96iy",
        "outputId": "068d9f08-43f1-4591-fa2c-270c134dcb8e"
      },
      "outputs": [
        {
          "output_type": "execute_result",
          "data": {
            "text/plain": [
              "(array([[    0,     0,     0,     0,     0,     0,     0,     0,     0,\n",
              "             0,     0,     0,     0,     0,     0,     0,     0,     0,\n",
              "             0,     0,     0,     0,     0,     0,     0,     0,     0,\n",
              "             0,     0,     0,  1492,    15,   303,    77,  2086,     7,\n",
              "          3820,  1948,    58,  2280,   606,   161,    10,     6,   821,\n",
              "            94, 24148,  2677,   267,   883]], dtype=int32),\n",
              " array([[    0,     0,     0,     0,     0,     0,     0,     0,     0,\n",
              "             0,     0,     0,     0,     0,     0,     0,     0,     0,\n",
              "             0,     0,     0,     0,     0,     0,     0,     0,     0,\n",
              "             0,     0,     0,  2280,   267,  2086,  3820, 24148,   821,\n",
              "           303,  1492,  2677,    58,     6,   161,    77,   606,    15,\n",
              "             7,    10,  1948,   883,    94]], dtype=int32))"
            ]
          },
          "metadata": {},
          "execution_count": 23
        }
      ],
      "source": [
        "X_train[:1],Y_train[:1]"
      ]
    },
    {
      "cell_type": "code",
      "execution_count": 24,
      "metadata": {
        "colab": {
          "base_uri": "https://localhost:8080/"
        },
        "id": "5trFrkKtX8JD",
        "outputId": "b32811f8-c88d-466c-c4b1-b152b27c5e8b"
      },
      "outputs": [
        {
          "output_type": "execute_result",
          "data": {
            "text/plain": [
              "38546"
            ]
          },
          "metadata": {},
          "execution_count": 24
        }
      ],
      "source": [
        "VOCAB_SIZE = len(tokenizer.word_index)\n",
        "VOCAB_SIZE"
      ]
    },
    {
      "cell_type": "markdown",
      "metadata": {
        "id": "F3F9foXMQ7BK"
      },
      "source": [
        "###**Encoder-Decoder network**"
      ]
    },
    {
      "cell_type": "code",
      "source": [
        "num_samples = X_train.shape[0]"
      ],
      "metadata": {
        "id": "Xid-TXZk151x"
      },
      "execution_count": 25,
      "outputs": []
    },
    {
      "cell_type": "code",
      "execution_count": 26,
      "metadata": {
        "id": "r6ZzeBe0Se-M"
      },
      "outputs": [],
      "source": [
        "def custom_loss(y_actual,y_pred):\n",
        "  y_pred = tf.argmax(y_pred, axis=-1, output_type=tf.dtypes.int32)\n",
        "  find_match =tf.reduce_prod(tf.transpose(y_actual)[...,None]- tf.abs(y_pred[None,...]), 0)\n",
        "  find_idx = tf.equal(find_match,tf.zeros_like(find_match))\n",
        "  return (tf.reduce_sum(tf.cast(find_idx, tf.float32)))/MAX_SEQ_LEN\n"
      ]
    },
    {
      "cell_type": "code",
      "execution_count": 28,
      "metadata": {
        "colab": {
          "base_uri": "https://localhost:8080/"
        },
        "id": "jHYgCVUBWhXl",
        "outputId": "72df663f-9f7f-44e2-bd31-6cef9c2e1537"
      },
      "outputs": [
        {
          "output_type": "stream",
          "name": "stdout",
          "text": [
            "Model: \"model_1\"\n",
            "__________________________________________________________________________________________________\n",
            " Layer (type)                   Output Shape         Param #     Connected to                     \n",
            "==================================================================================================\n",
            " input_3 (InputLayer)           [(None, None)]       0           []                               \n",
            "                                                                                                  \n",
            " input_4 (InputLayer)           [(None, None)]       0           []                               \n",
            "                                                                                                  \n",
            " embedding_2 (Embedding)        (None, None, 64)     2467008     ['input_3[0][0]']                \n",
            "                                                                                                  \n",
            " embedding_3 (Embedding)        (None, None, 64)     2467072     ['input_4[0][0]']                \n",
            "                                                                                                  \n",
            " lstm_2 (LSTM)                  [(None, 256),        328704      ['embedding_2[0][0]']            \n",
            "                                 (None, 256),                                                     \n",
            "                                 (None, 256)]                                                     \n",
            "                                                                                                  \n",
            " lstm_3 (LSTM)                  (None, None, 256)    328704      ['embedding_3[0][0]',            \n",
            "                                                                  'lstm_2[0][1]',                 \n",
            "                                                                  'lstm_2[0][2]']                 \n",
            "                                                                                                  \n",
            " dense_2 (Dense)                (None, None, 256)    65792       ['lstm_3[0][0]']                 \n",
            "                                                                                                  \n",
            " dense_3 (Dense)                (None, None, 38547)  9906579     ['dense_2[0][0]']                \n",
            "                                                                                                  \n",
            "==================================================================================================\n",
            "Total params: 15,563,859\n",
            "Trainable params: 15,563,859\n",
            "Non-trainable params: 0\n",
            "__________________________________________________________________________________________________\n"
          ]
        }
      ],
      "source": [
        "encoder_embedding_size = 64\n",
        "decoder_embedding_size = 64\n",
        "lstm_units = 256\n",
        "\n",
        "tf.random.set_seed(42)\n",
        "\n",
        "encoder_input = keras.layers.Input(shape=[None], dtype=tf.int32)\n",
        "\n",
        "encoder_embedding = keras.layers.Embedding(input_dim=VOCAB_SIZE + 1, output_dim=encoder_embedding_size, input_length=MAX_SEQ_LEN, mask_zero=True)(encoder_input)\n",
        "\n",
        "_, encoder_state_h, encoder_state_c = keras.layers.LSTM(lstm_units, return_state=True)(encoder_embedding)\n",
        "\n",
        "encoder_state = [encoder_state_h, encoder_state_c]\n",
        "\n",
        "decoder_input = keras.layers.Input(shape=[None], dtype=tf.int32)\n",
        "\n",
        "decoder_embedding = keras.layers.Embedding(input_dim=VOCAB_SIZE + 2, output_dim=decoder_embedding_size, mask_zero=True)(decoder_input)\n",
        "\n",
        "decoder_lstm_output = keras.layers.LSTM(lstm_units, return_sequences=True)(decoder_embedding, initial_state=encoder_state)\n",
        "\n",
        "middle_dense_1 = keras.layers.Dense(lstm_units, activation=\"relu\")(decoder_lstm_output)\n",
        "\n",
        "decoder_output = keras.layers.Dense(VOCAB_SIZE + 1, activation=\"softmax\")(middle_dense_1)\n",
        "\n",
        "model = keras.models.Model(inputs=[encoder_input, decoder_input], outputs=[decoder_output])\n",
        "\n",
        "scce = tf.keras.losses.SparseCategoricalCrossentropy()\n",
        "optimizer = keras.optimizers.Nadam(learning_rate=0.003)\n",
        "\n",
        "model.compile(loss=[scce, custom_loss], loss_weights=[1, 4/num_samples], optimizer=optimizer, metrics=[\"accuracy\"])\n",
        "model.summary()\n",
        "\n"
      ]
    },
    {
      "cell_type": "code",
      "execution_count": 29,
      "metadata": {
        "colab": {
          "base_uri": "https://localhost:8080/"
        },
        "id": "UbRGiGpaW_-R",
        "outputId": "7a1a9d90-7656-4cf0-e9d0-9c350e8094d0"
      },
      "outputs": [
        {
          "output_type": "stream",
          "name": "stdout",
          "text": [
            "Epoch 1/15\n",
            "592/592 [==============================] - 451s 743ms/step - loss: 1.2998 - accuracy: 0.5745 - val_loss: 0.2761 - val_accuracy: 0.9161\n",
            "Epoch 2/15\n",
            "592/592 [==============================] - 435s 735ms/step - loss: 0.1589 - accuracy: 0.9467 - val_loss: 0.0972 - val_accuracy: 0.9636\n",
            "Epoch 3/15\n",
            "592/592 [==============================] - 432s 731ms/step - loss: 0.0571 - accuracy: 0.9746 - val_loss: 0.0458 - val_accuracy: 0.9788\n",
            "Epoch 4/15\n",
            "592/592 [==============================] - 433s 731ms/step - loss: 0.1322 - accuracy: 0.9657 - val_loss: 0.0283 - val_accuracy: 0.9875\n",
            "Epoch 5/15\n",
            "592/592 [==============================] - 431s 728ms/step - loss: 0.0118 - accuracy: 0.9943 - val_loss: 0.0149 - val_accuracy: 0.9936\n",
            "Epoch 6/15\n",
            "592/592 [==============================] - 431s 728ms/step - loss: 0.0051 - accuracy: 0.9976 - val_loss: 0.0102 - val_accuracy: 0.9960\n",
            "Epoch 7/15\n",
            "592/592 [==============================] - 432s 729ms/step - loss: 0.0043 - accuracy: 0.9980 - val_loss: 0.0091 - val_accuracy: 0.9967\n",
            "Epoch 8/15\n",
            "592/592 [==============================] - 430s 727ms/step - loss: 0.0048 - accuracy: 0.9978 - val_loss: 0.0082 - val_accuracy: 0.9971\n",
            "Epoch 9/15\n",
            "592/592 [==============================] - 432s 730ms/step - loss: 0.0044 - accuracy: 0.9979 - val_loss: 0.0079 - val_accuracy: 0.9971\n",
            "Epoch 10/15\n",
            "592/592 [==============================] - 432s 730ms/step - loss: 0.0042 - accuracy: 0.9980 - val_loss: 0.0066 - val_accuracy: 0.9978\n",
            "Epoch 11/15\n",
            "592/592 [==============================] - 432s 729ms/step - loss: 0.0034 - accuracy: 0.9984 - val_loss: 0.0056 - val_accuracy: 0.9983\n",
            "Epoch 12/15\n",
            "592/592 [==============================] - 431s 728ms/step - loss: 0.0028 - accuracy: 0.9986 - val_loss: 0.0058 - val_accuracy: 0.9982\n",
            "Epoch 13/15\n",
            "592/592 [==============================] - 430s 726ms/step - loss: 0.0028 - accuracy: 0.9986 - val_loss: 0.0057 - val_accuracy: 0.9982\n",
            "Epoch 14/15\n",
            "592/592 [==============================] - 430s 727ms/step - loss: 0.0025 - accuracy: 0.9988 - val_loss: 0.0050 - val_accuracy: 0.9985\n",
            "Epoch 15/15\n",
            "592/592 [==============================] - 429s 726ms/step - loss: 0.0021 - accuracy: 0.9990 - val_loss: 0.0050 - val_accuracy: 0.9985\n"
          ]
        }
      ],
      "source": [
        "history = model.fit([X_train, X_train_decoder], Y_train, epochs=15, validation_split=0.15, batch_size=256)"
      ]
    },
    {
      "cell_type": "markdown",
      "metadata": {
        "id": "KafwsaNYH7wx"
      },
      "source": [
        "**99.9% training accuracy**"
      ]
    },
    {
      "cell_type": "code",
      "execution_count": 45,
      "metadata": {
        "id": "YcZe294WJs2u"
      },
      "outputs": [],
      "source": [
        "model.save(\"sentence_model_best.h5\")"
      ]
    },
    {
      "cell_type": "markdown",
      "metadata": {
        "id": "vtOseVVsIx8W"
      },
      "source": [
        "**model evaluation on test data**"
      ]
    },
    {
      "cell_type": "code",
      "execution_count": null,
      "metadata": {
        "id": "n8H6DWLiNMPM"
      },
      "outputs": [],
      "source": [
        "model = keras.models.load_model(\"sentence_model_best.h5\", custom_objects={\"custom_loss\":custom_loss})"
      ]
    },
    {
      "cell_type": "code",
      "execution_count": 31,
      "metadata": {
        "colab": {
          "base_uri": "https://localhost:8080/"
        },
        "id": "-91S1Qjfxjoh",
        "outputId": "4c51ca94-5a44-4370-fa1a-c12871bd2a19"
      },
      "outputs": [
        {
          "output_type": "execute_result",
          "data": {
            "text/plain": [
              "(array([[    0,     0,     0,     0,     0,     0,     0,     0,     0,\n",
              "             0,     0,     0,     0,     0,     0,     0,     0,     0,\n",
              "             0,     0,     0,     0,     0,     0,     0,     0,     0,\n",
              "             0,     0,  1086,     4,    49,   361,    19,   252,  4955,\n",
              "           293,   109,    53,   555,  1312,   136,     5,   253,    82,\n",
              "         21150,     7,  2013,  4074,    14]]),\n",
              " array([[    0,     0,     0,     0,     0,     0,     0,     0,     0,\n",
              "             0,     0,     0,     0,     0,     0,     0,     0,     0,\n",
              "             0,     0,     0,     0,     0,     0,     0,     0,     0,\n",
              "             0,     0,  1086,     4,    49,   361,    19,   252,  4955,\n",
              "           293,   109,    53,   555,  1312,   136,     5,   253,    82,\n",
              "         21150,     7,  2013,  4074,    14]], dtype=int32))"
            ]
          },
          "metadata": {},
          "execution_count": 31
        }
      ],
      "source": [
        "ids = np.argmax(model.predict([X_test[:1], X_test_decoder[:1]]), axis=-1)\n",
        "ids, Y_test[:1]"
      ]
    },
    {
      "cell_type": "code",
      "execution_count": 42,
      "metadata": {
        "colab": {
          "base_uri": "https://localhost:8080/"
        },
        "id": "MJb6gcXWI5Vn",
        "outputId": "12ded057-3e37-44db-f0de-3ebb812b31d3"
      },
      "outputs": [
        {
          "output_type": "stream",
          "name": "stdout",
          "text": [
            "Evaluate on test data\n",
            "175/175 [==============================] - 49s 278ms/step - loss: 0.0059 - accuracy: 0.9984\n",
            "test loss, test acc: [0.00588442524895072, 0.9983782768249512]\n"
          ]
        }
      ],
      "source": [
        "print(\"Evaluate on test data\")\n",
        "results = model.evaluate([X_test, X_test_decoder], Y_test, batch_size=256)\n",
        "print(\"test loss, test acc:\", results)"
      ]
    },
    {
      "cell_type": "markdown",
      "metadata": {
        "id": "p7YoZLmqOKpN"
      },
      "source": [
        "###**Rebuild sentences**"
      ]
    },
    {
      "cell_type": "code",
      "execution_count": 33,
      "metadata": {
        "id": "qPrbtyI2yRg4"
      },
      "outputs": [],
      "source": [
        "reverse_word_map = dict(map(reversed, tokenizer.word_index.items()))\n",
        "def sequence_to_text(list_of_indices):\n",
        "    # Looking up words in dictionary\n",
        "    words = [reverse_word_map.get(letter) for letter in list_of_indices]\n",
        "    return(words)\n",
        "\n",
        "def remove_padding_and_join(texts):\n",
        "  for i in range(len(texts)):\n",
        "    no_padding = filter(lambda a: a != '<PAD>', texts[i])\n",
        "    texts[i] = ' '.join(list(no_padding))\n",
        "  return texts\n",
        "    \n",
        "\n",
        "def reconstruct_predicted_list(texts):\n",
        "  for i in range(len(texts)):\n",
        "    pad_start = texts[i].index('<PAD>')\n",
        "    texts[i] = texts[i][pad_start:]\n",
        "    no_padding = filter(lambda a: a != '<PAD>', texts[i])\n",
        "    texts[i] = ' '.join(list(no_padding))\n",
        "  return texts\n",
        "\n",
        "def get_predictions_on_test(count):\n",
        "    Y_preds = model.predict([X_test[:count], X_test_decoder[:count]])\n",
        "    encoded_argmax  = np.argmax(Y_preds, axis=-1)\n",
        "    return encoded_argmax, Y_test[:count]\n",
        "\n",
        "def get_predicted_sentences(predicted):\n",
        "  predicted_word_list = list(map(sequence_to_text, predicted))\n",
        "  predicted_sent_list = reconstruct_predicted_list(predicted_word_list)\n",
        "  return predicted_sent_list\n",
        "\n",
        "def get_original_sentences(original):\n",
        "  original_word_list  = list(map(sequence_to_text, original))\n",
        "  original_sent_list = remove_padding_and_join(original_word_list)\n",
        "  return original_sent_list \n",
        "\n",
        "\n",
        "def rebuild_sentence_from_testset(count=20):\n",
        "  predicted, original = get_predictions_on_test(count)\n",
        "  predicted_sent_list = get_predicted_sentences(predicted)\n",
        "  original_sent_list  = get_original_sentences(original)\n",
        "  return predicted_sent_list, original_sent_list\n",
        "  \n"
      ]
    },
    {
      "cell_type": "code",
      "execution_count": 41,
      "metadata": {
        "colab": {
          "base_uri": "https://localhost:8080/"
        },
        "id": "_wRouJWAOOLV",
        "outputId": "39f585c0-b820-4a72-c78d-90abc96b6585"
      },
      "outputs": [
        {
          "output_type": "execute_result",
          "data": {
            "text/plain": [
              "(['دانشجویان و دیگر مرد ایران خواستار آزادی\\u200cهای بیشتر بودند تا اینکه سرکوب مردم از سوی پلیس اعتراضها را عمدتا خاموش کرد',\n",
              "  'دو موسسه عظیم مالی جهانی موافقت کردند تا تیمی برای مطالعه و جمع آوری اطلاعات لازم برای تخمین هزینه\\u200cهای باز سازی عراق جنگ زده به آن کشور اعزام دارند',\n",
              "  'وی امتناع کرد و دستگیر شد',\n",
              "  'جهاد اسلامی تائید کرده است مردانی که کشته شدند عضو آن گروه بودند',\n",
              "  'پرزیدنت بوش خواسته است به آنها شانس کسب شهر وندی آمریکا داده شود در حالی که برخی از اعضای حزب جمهوریخواه می\\u200cگویند چنین کاری به معنای بخشودگی خواهد بود',\n",
              "  'روز سه شنبه رهبران کشور\\u200cهای ۷ گانه بزرگ جهان پشتیبانی خود را از طرح آمریکا بنام نقشه راهنمائی صلح خاورمیانه اعلام کردند و در مورد آینده روشن بهبودی اقتصاد جهان اظهار اطمینان کردند',\n",
              "  'در واشنگتن سخنگوی کاخ سفید بار دیگر موضع آمریکا را مورد تاکید قرارداد و اظهار داشت عملیات ترکیه در شمال عراق باید کوتاه مدت و کاملا در محدوده هدف\\u200cهای خود باشد',\n",
              "  'در این میان در ولایت اوروزگان در مرکز افغانستان سربازان افغان با پشتیبانی نیروهای ائتلاف شش شورشی مظنون طالبان را کشتند',\n",
              "  'شهردار لس آنجلس آنتونیوویارگوزا اعلام کرد که شناسایی هویت این قربانی مدتی به طول خواهد انجامید',\n",
              "  'ولی افزود هر سال از شرکت کردن در آن لذت خواهد برد زیرا در آن برنده شده است و رویایش به حقیقت پیوسته است و می\\u200cداند که بسیاری آرزو می\\u200cکنند که صاحب جام قهرمانی بشوند ولی آرزویشان برآورده نمی\\u200cشود',\n",
              "  'نیمه دوم بازی نتوانست مانند نیمه اول پر از هیجان باشد بدین خاطر که بعد از دقایق اول نیمه دوم بازی هیچکدام از تیمها نتوانستند گل دیگری بزنند',\n",
              "  'این رویکرد افزایش حجم عظیمی از نقدینگی را به دنبال داشت که به نوبه خود آثار تورمی انکارناپذیری را به همراه آورد',\n",
              "  'سفیران پنج عضو دائمی شورای امنیت شامل آمریکا بریتانیا فرانسه روسیه و چین ملاقات\\u200cها و تبادل نظرهای خود را برای رسیدگی به اتهامات عنوان شده توسط غرب آغاز کرده\\u200cاند',\n",
              "  'آنها بحث در باره دستور کار جلسه را که طرح هائی برای مبارزه با تروریسم در صدر آن قرار دارد روز سه شنبه در شهر جده در ساحل دریای سرخ آغاز کردند',\n",
              "  'تعدادی از دانش آموزان مدرسه\\u200cای که بوسیله اوبکر بشیر اداره میشود نیز از جمله تظاهرکنندگان بودند',\n",
              "  'در همین حال بی نظیر بوتو نخست وزیر پیشین امروز در آستانه یک راهپیمائی اعتراض که برای روز سه شنبه از لاهور به اسلام آباد تدارک دیده شده است وارد این شهر شد',\n",
              "  'سخنگوی سازمان بین المللی انرژی اتمی اظهار داشت آقای البرادعی این درخواست را درجریان مذاکرات روزپنجشنبه خود با غلامرضا آقا زاده رئیس سازمان انرژی اتمی ایران درتهران مطرح ساخت',\n",
              "  'زاگبی می\\u200cگوید نتایج این نظرخواهی بر یک تغییر عقیدتی حائز اهمیت بین رای دهندگان آمریکایی عرب مهر تایید می\\u200cزند',\n",
              "  'وزارت دفاع سریلانکا اعلام کرد نیروهای این کشور در جریان نبرد شدیدی درشمال سریلانکا دست کم ۳۰ تن از شورشیان ببرتامیل را ازپای درآورند',\n",
              "  'تونی بلر نخست وزیر بریتانیا گفت هنوز بسیار زود است که کشور او در باره برگزاری همه پرسی تصمیم بگیرد'],\n",
              " ['دانشجویان و دیگر مرد ایران خواستار آزادی\\u200cهای بیشتر بودند تا اینکه سرکوب مردم از سوی پلیس اعتراضها را عمدتا خاموش کرد',\n",
              "  'دو موسسه عظیم مالی جهانی موافقت کردند تا تیمی برای مطالعه و جمع آوری اطلاعات لازم برای تخمین هزینه\\u200cهای باز سازی عراق جنگ زده به آن کشور اعزام دارند',\n",
              "  'وی امتناع کرد و دستگیر شد',\n",
              "  'جهاد اسلامی تائید کرده است مردانی که کشته شدند عضو آن گروه بودند',\n",
              "  'پرزیدنت بوش خواسته است به آنها شانس کسب شهر وندی آمریکا داده شود در حالی که برخی از اعضای حزب جمهوریخواه می\\u200cگویند چنین کاری به معنای بخشودگی خواهد بود',\n",
              "  'روز سه شنبه رهبران کشور\\u200cهای ۷ گانه بزرگ جهان پشتیبانی خود را از طرح آمریکا بنام نقشه راهنمائی صلح خاورمیانه اعلام کردند و در مورد آینده روشن بهبودی اقتصاد جهان اظهار اطمینان کردند',\n",
              "  'در واشنگتن سخنگوی کاخ سفید بار دیگر موضع آمریکا را مورد تاکید قرارداد و اظهار داشت عملیات ترکیه در شمال عراق باید کوتاه مدت و کاملا در محدوده هدف\\u200cهای خود باشد',\n",
              "  'در این میان در ولایت اوروزگان در مرکز افغانستان سربازان افغان با پشتیبانی نیروهای ائتلاف شش شورشی مظنون طالبان را کشتند',\n",
              "  'شهردار لس آنجلس آنتونیوویارگوزا اعلام کرد که شناسایی هویت این قربانی مدتی به طول خواهد انجامید',\n",
              "  'ولی افزود هر سال از شرکت کردن در آن لذت خواهد برد زیرا در آن برنده شده است و رویایش به حقیقت پیوسته است و می\\u200cداند که بسیاری آرزو می\\u200cکنند که صاحب جام قهرمانی بشوند ولی آرزویشان برآورده نمی\\u200cشود',\n",
              "  'نیمه دوم بازی نتوانست مانند نیمه اول پر از هیجان باشد بدین خاطر که بعد از دقایق اول نیمه دوم بازی هیچکدام از تیمها نتوانستند گل دیگری بزنند',\n",
              "  'این رویکرد افزایش حجم عظیمی از نقدینگی را به دنبال داشت که به نوبه خود آثار تورمی انکارناپذیری را به همراه آورد',\n",
              "  'سفیران پنج عضو دائمی شورای امنیت شامل آمریکا بریتانیا فرانسه روسیه و چین ملاقات\\u200cها و تبادل نظرهای خود را برای رسیدگی به اتهامات عنوان شده توسط غرب آغاز کرده\\u200cاند',\n",
              "  'آنها بحث در باره دستور کار جلسه را که طرح هائی برای مبارزه با تروریسم در صدر آن قرار دارد روز سه شنبه در شهر جده در ساحل دریای سرخ آغاز کردند',\n",
              "  'تعدادی از دانش آموزان مدرسه\\u200cای که بوسیله اوبکر بشیر اداره میشود نیز از جمله تظاهرکنندگان بودند',\n",
              "  'در همین حال بی نظیر بوتو نخست وزیر پیشین امروز در آستانه یک راهپیمائی اعتراض که برای روز سه شنبه از لاهور به اسلام آباد تدارک دیده شده است وارد این شهر شد',\n",
              "  'سخنگوی سازمان بین المللی انرژی اتمی اظهار داشت آقای البرادعی این درخواست را درجریان مذاکرات روزپنجشنبه خود با غلامرضا آقا زاده رئیس سازمان انرژی اتمی ایران درتهران مطرح ساخت',\n",
              "  'زاگبی می\\u200cگوید نتایج این نظرخواهی بر یک تغییر عقیدتی حائز اهمیت بین رای دهندگان آمریکایی عرب مهر تایید می\\u200cزند',\n",
              "  'وزارت دفاع سریلانکا اعلام کرد نیروهای این کشور در جریان نبرد شدیدی درشمال سریلانکا دست کم ۳۰ تن از شورشیان ببرتامیل را ازپای درآورند',\n",
              "  'تونی بلر نخست وزیر بریتانیا گفت هنوز بسیار زود است که کشور او در باره برگزاری همه پرسی تصمیم بگیرد'])"
            ]
          },
          "metadata": {},
          "execution_count": 41
        }
      ],
      "source": [
        "preds, origs = rebuild_sentence_from_testset()\n",
        "preds, origs"
      ]
    },
    {
      "cell_type": "code",
      "execution_count": 35,
      "metadata": {
        "colab": {
          "base_uri": "https://localhost:8080/"
        },
        "id": "c3BZ3JLLPsA0",
        "outputId": "99b97c36-6a20-4c56-ef00-72adba31f842"
      },
      "outputs": [
        {
          "output_type": "execute_result",
          "data": {
            "text/plain": [
              "50"
            ]
          },
          "metadata": {},
          "execution_count": 35
        }
      ],
      "source": [
        "path = 'data/test_sents.txt'\n",
        "with open(path, 'r', encoding='utf-8') as f:\n",
        "  test_sents = [line.strip() for line in f.readlines()]\n",
        "\n",
        "MAX_LEN = 190\n",
        "test_sents_cleaned = [text_preprocess(s) for s in test_sents]\n",
        "len(test_sents_cleaned)"
      ]
    },
    {
      "cell_type": "code",
      "execution_count": 36,
      "metadata": {
        "colab": {
          "base_uri": "https://localhost:8080/",
          "height": 424
        },
        "id": "OjTbmta-Pz-z",
        "outputId": "413fa177-e663-41b2-f804-ffad68f9010a"
      },
      "outputs": [
        {
          "output_type": "execute_result",
          "data": {
            "text/plain": [
              "                                             Shuffled  \\\n",
              "0   امروزه که کنیم شده سفر است آسوده‌تر اپلیکیشن س...   \n",
              "1   کنیم که سفر اپلیکیشن امروزه سفر باعث آسوده‌تر ...   \n",
              "2   دنیای معنی حال در به این دست واژه شکل‌گیری افر...   \n",
              "3   در آینده‌نگر فناوری و مصادیق حال در افراد جاه‌...   \n",
              "4   در بیشتر کودکان را خود امروزه می‌گذرانند وقت م...   \n",
              "..                                                ...   \n",
              "95  مشکل قضائی محکوم خبرنگاران را کنید رفع و بازداشتی   \n",
              "96  رایگان در و فوری ویدیویی روز و شماست تازه‌ترین...   \n",
              "97  ویدیویی شماست رایگان فوری روز و در خبرهای و به...   \n",
              "98  کنترل رسانه‌هایی می‌دانید چه را کسی می‌کند آنه...   \n",
              "99  همه را کنترل چه کسی می‌کند رسانه‌هایی که آنها ...   \n",
              "\n",
              "                                             Original  \n",
              "0   اپلیکیشن سفر باعث شده است که امروزه آسوده‌تر س...  \n",
              "1   اپلیکیشن سفر باعث شده است که امروزه آسوده‌تر س...  \n",
              "2   معنی و مصادیق این واژه در حال حاضر در دنیای فن...  \n",
              "3   معنی و مصادیق این واژه در حال حاضر در دنیای فن...  \n",
              "4   امروزه کودکان بیشتر وقت خود را در فضای مجازی م...  \n",
              "..                                                ...  \n",
              "95  مشکل قضائی خبرنگاران محکوم و بازداشتی را رفع کنید  \n",
              "96  تازه‌ترین خبرهای روز و اخبار فوری به‌صورت ویدی...  \n",
              "97  تازه‌ترین خبرهای روز و اخبار فوری به‌صورت ویدی...  \n",
              "98  رسانه‌هایی که همه می‌دانید چه کسی آنها را کنتر...  \n",
              "99  رسانه‌هایی که همه می‌دانید چه کسی آنها را کنتر...  \n",
              "\n",
              "[100 rows x 2 columns]"
            ],
            "text/html": [
              "\n",
              "  <div id=\"df-ebaf48ca-0672-474a-96e3-0dcc019ca2ea\">\n",
              "    <div class=\"colab-df-container\">\n",
              "      <div>\n",
              "<style scoped>\n",
              "    .dataframe tbody tr th:only-of-type {\n",
              "        vertical-align: middle;\n",
              "    }\n",
              "\n",
              "    .dataframe tbody tr th {\n",
              "        vertical-align: top;\n",
              "    }\n",
              "\n",
              "    .dataframe thead th {\n",
              "        text-align: right;\n",
              "    }\n",
              "</style>\n",
              "<table border=\"1\" class=\"dataframe\">\n",
              "  <thead>\n",
              "    <tr style=\"text-align: right;\">\n",
              "      <th></th>\n",
              "      <th>Shuffled</th>\n",
              "      <th>Original</th>\n",
              "    </tr>\n",
              "  </thead>\n",
              "  <tbody>\n",
              "    <tr>\n",
              "      <th>0</th>\n",
              "      <td>امروزه که کنیم شده سفر است آسوده‌تر اپلیکیشن س...</td>\n",
              "      <td>اپلیکیشن سفر باعث شده است که امروزه آسوده‌تر س...</td>\n",
              "    </tr>\n",
              "    <tr>\n",
              "      <th>1</th>\n",
              "      <td>کنیم که سفر اپلیکیشن امروزه سفر باعث آسوده‌تر ...</td>\n",
              "      <td>اپلیکیشن سفر باعث شده است که امروزه آسوده‌تر س...</td>\n",
              "    </tr>\n",
              "    <tr>\n",
              "      <th>2</th>\n",
              "      <td>دنیای معنی حال در به این دست واژه شکل‌گیری افر...</td>\n",
              "      <td>معنی و مصادیق این واژه در حال حاضر در دنیای فن...</td>\n",
              "    </tr>\n",
              "    <tr>\n",
              "      <th>3</th>\n",
              "      <td>در آینده‌نگر فناوری و مصادیق حال در افراد جاه‌...</td>\n",
              "      <td>معنی و مصادیق این واژه در حال حاضر در دنیای فن...</td>\n",
              "    </tr>\n",
              "    <tr>\n",
              "      <th>4</th>\n",
              "      <td>در بیشتر کودکان را خود امروزه می‌گذرانند وقت م...</td>\n",
              "      <td>امروزه کودکان بیشتر وقت خود را در فضای مجازی م...</td>\n",
              "    </tr>\n",
              "    <tr>\n",
              "      <th>...</th>\n",
              "      <td>...</td>\n",
              "      <td>...</td>\n",
              "    </tr>\n",
              "    <tr>\n",
              "      <th>95</th>\n",
              "      <td>مشکل قضائی محکوم خبرنگاران را کنید رفع و بازداشتی</td>\n",
              "      <td>مشکل قضائی خبرنگاران محکوم و بازداشتی را رفع کنید</td>\n",
              "    </tr>\n",
              "    <tr>\n",
              "      <th>96</th>\n",
              "      <td>رایگان در و فوری ویدیویی روز و شماست تازه‌ترین...</td>\n",
              "      <td>تازه‌ترین خبرهای روز و اخبار فوری به‌صورت ویدی...</td>\n",
              "    </tr>\n",
              "    <tr>\n",
              "      <th>97</th>\n",
              "      <td>ویدیویی شماست رایگان فوری روز و در خبرهای و به...</td>\n",
              "      <td>تازه‌ترین خبرهای روز و اخبار فوری به‌صورت ویدی...</td>\n",
              "    </tr>\n",
              "    <tr>\n",
              "      <th>98</th>\n",
              "      <td>کنترل رسانه‌هایی می‌دانید چه را کسی می‌کند آنه...</td>\n",
              "      <td>رسانه‌هایی که همه می‌دانید چه کسی آنها را کنتر...</td>\n",
              "    </tr>\n",
              "    <tr>\n",
              "      <th>99</th>\n",
              "      <td>همه را کنترل چه کسی می‌کند رسانه‌هایی که آنها ...</td>\n",
              "      <td>رسانه‌هایی که همه می‌دانید چه کسی آنها را کنتر...</td>\n",
              "    </tr>\n",
              "  </tbody>\n",
              "</table>\n",
              "<p>100 rows × 2 columns</p>\n",
              "</div>\n",
              "      <button class=\"colab-df-convert\" onclick=\"convertToInteractive('df-ebaf48ca-0672-474a-96e3-0dcc019ca2ea')\"\n",
              "              title=\"Convert this dataframe to an interactive table.\"\n",
              "              style=\"display:none;\">\n",
              "        \n",
              "  <svg xmlns=\"http://www.w3.org/2000/svg\" height=\"24px\"viewBox=\"0 0 24 24\"\n",
              "       width=\"24px\">\n",
              "    <path d=\"M0 0h24v24H0V0z\" fill=\"none\"/>\n",
              "    <path d=\"M18.56 5.44l.94 2.06.94-2.06 2.06-.94-2.06-.94-.94-2.06-.94 2.06-2.06.94zm-11 1L8.5 8.5l.94-2.06 2.06-.94-2.06-.94L8.5 2.5l-.94 2.06-2.06.94zm10 10l.94 2.06.94-2.06 2.06-.94-2.06-.94-.94-2.06-.94 2.06-2.06.94z\"/><path d=\"M17.41 7.96l-1.37-1.37c-.4-.4-.92-.59-1.43-.59-.52 0-1.04.2-1.43.59L10.3 9.45l-7.72 7.72c-.78.78-.78 2.05 0 2.83L4 21.41c.39.39.9.59 1.41.59.51 0 1.02-.2 1.41-.59l7.78-7.78 2.81-2.81c.8-.78.8-2.07 0-2.86zM5.41 20L4 18.59l7.72-7.72 1.47 1.35L5.41 20z\"/>\n",
              "  </svg>\n",
              "      </button>\n",
              "      \n",
              "  <style>\n",
              "    .colab-df-container {\n",
              "      display:flex;\n",
              "      flex-wrap:wrap;\n",
              "      gap: 12px;\n",
              "    }\n",
              "\n",
              "    .colab-df-convert {\n",
              "      background-color: #E8F0FE;\n",
              "      border: none;\n",
              "      border-radius: 50%;\n",
              "      cursor: pointer;\n",
              "      display: none;\n",
              "      fill: #1967D2;\n",
              "      height: 32px;\n",
              "      padding: 0 0 0 0;\n",
              "      width: 32px;\n",
              "    }\n",
              "\n",
              "    .colab-df-convert:hover {\n",
              "      background-color: #E2EBFA;\n",
              "      box-shadow: 0px 1px 2px rgba(60, 64, 67, 0.3), 0px 1px 3px 1px rgba(60, 64, 67, 0.15);\n",
              "      fill: #174EA6;\n",
              "    }\n",
              "\n",
              "    [theme=dark] .colab-df-convert {\n",
              "      background-color: #3B4455;\n",
              "      fill: #D2E3FC;\n",
              "    }\n",
              "\n",
              "    [theme=dark] .colab-df-convert:hover {\n",
              "      background-color: #434B5C;\n",
              "      box-shadow: 0px 1px 3px 1px rgba(0, 0, 0, 0.15);\n",
              "      filter: drop-shadow(0px 1px 2px rgba(0, 0, 0, 0.3));\n",
              "      fill: #FFFFFF;\n",
              "    }\n",
              "  </style>\n",
              "\n",
              "      <script>\n",
              "        const buttonEl =\n",
              "          document.querySelector('#df-ebaf48ca-0672-474a-96e3-0dcc019ca2ea button.colab-df-convert');\n",
              "        buttonEl.style.display =\n",
              "          google.colab.kernel.accessAllowed ? 'block' : 'none';\n",
              "\n",
              "        async function convertToInteractive(key) {\n",
              "          const element = document.querySelector('#df-ebaf48ca-0672-474a-96e3-0dcc019ca2ea');\n",
              "          const dataTable =\n",
              "            await google.colab.kernel.invokeFunction('convertToInteractive',\n",
              "                                                     [key], {});\n",
              "          if (!dataTable) return;\n",
              "\n",
              "          const docLinkHtml = 'Like what you see? Visit the ' +\n",
              "            '<a target=\"_blank\" href=https://colab.research.google.com/notebooks/data_table.ipynb>data table notebook</a>'\n",
              "            + ' to learn more about interactive tables.';\n",
              "          element.innerHTML = '';\n",
              "          dataTable['output_type'] = 'display_data';\n",
              "          await google.colab.output.renderOutput(dataTable, element);\n",
              "          const docLink = document.createElement('div');\n",
              "          docLink.innerHTML = docLinkHtml;\n",
              "          element.appendChild(docLink);\n",
              "        }\n",
              "      </script>\n",
              "    </div>\n",
              "  </div>\n",
              "  "
            ]
          },
          "metadata": {},
          "execution_count": 36
        }
      ],
      "source": [
        "test_df = create_dataframe(create_shuffles(test_sents_cleaned, 2))\n",
        "test_df"
      ]
    },
    {
      "cell_type": "code",
      "source": [
        "outer_sents = test_df['Shuffled'].values\n",
        "label_sents = test_df['Original'].values\n",
        "\n",
        "outer_seq = tokenizer.texts_to_sequences(outer_sents)\n",
        "label_seq = tokenizer.texts_to_sequences(label_sents)\n",
        "\n",
        "X_outer  = keras.preprocessing.sequence.pad_sequences(outer_seq, maxlen=MAX_SEQ_LEN)\n",
        "X_outer_decoder = keras.preprocessing.sequence.pad_sequences(shift_output_sequence(label_seq), maxlen=MAX_SEQ_LEN)\n",
        "\n",
        "Y_outer_preds = model.predict([X_outer, X_outer_decoder])\n",
        "outer_results  = np.argmax(Y_outer_preds, axis=-1)\n",
        "\n",
        "outer_preds_sents = get_predicted_sentences(outer_results)\n",
        "result_df = pd.DataFrame({'predictions': outer_preds_sents, 'Original': label_sents})"
      ],
      "metadata": {
        "id": "Qscl7HX7-JNX"
      },
      "execution_count": 43,
      "outputs": []
    },
    {
      "cell_type": "code",
      "execution_count": 44,
      "metadata": {
        "colab": {
          "base_uri": "https://localhost:8080/",
          "height": 1000
        },
        "id": "iqQhzrPiRYSs",
        "outputId": "ddc8e50a-9c1c-4c1c-a759-f1de7f345bd4"
      },
      "outputs": [
        {
          "output_type": "execute_result",
          "data": {
            "text/plain": [
              "                                                                                                                                                                                                     predictions  \\\n",
              "0                                                                                                                                                               کیب سفر باعث شده است که امروزه نسلمانان سفر کنیم   \n",
              "1                                                                                                                                                               کیب سفر باعث شده است که امروزه نسلمانان سفر کنیم   \n",
              "2                                                                                                                       معنی و ترف این واژه در حال حاضر در دنیای فناوری به دست افراد ٢٠٨ و ترف در حال دماوند است   \n",
              "3                                                                                                                       معنی و ترف این واژه در حال حاضر در دنیای فناوری به دست افراد ٢٠٨ و ترف در حال دماوند است   \n",
              "4                                                                                                                                                       امروزه کودکان بیشتر وقت خود را در فضای لویانک می‌گذرانند   \n",
              "5                                                                                                                                                       امروزه کودکان بیشتر وقت خود را در فضای لویانک می‌گذرانند   \n",
              "6                                                                                                                                                                 استفاده از امضای ایمیل کارها را ساده‌تر می‌کند   \n",
              "7                                                                                                                                                                 استفاده از امضای ایمیل کارها را ساده‌تر می‌کند   \n",
              "8                                                                                                                                 روزهای پایانی سال است و خیلی از ما در هرگیسیا نوشتن اهداف و ترف سال جدید هستیم   \n",
              "9                                                                                                                                 روزهای پایانی سال است و خیلی از ما در هرگیسیا نوشتن اهداف و ترف سال جدید هستیم   \n",
              "10                                                                                                                                نظریه شخصیت ترف ترف ایده این دلک بزرگ است که می‌گوید شخصیت انسان چند جنبه دارد   \n",
              "11                                                                                                                                نظریه شخصیت ترف ترف ایده این دلک بزرگ است که می‌گوید شخصیت انسان چند جنبه دارد   \n",
              "12                                                                                                   پسر احساس می‌کند برای تصاحب مادرش با پدرش رقابت می‌کند و دختر سفته جلب توجه و محبت پدر با مادر رقابت می‌کند   \n",
              "13                                                                                                   پسر احساس می‌کند برای تصاحب مادرش با پدرش رقابت می‌کند و دختر سفته جلب توجه و محبت پدر با مادر رقابت می‌کند   \n",
              "14                                                                                                                                    تقریبا اندکند نمی‌تواند بگوید که در تمام دوران پناهنگان صادقانه رفتار کرده   \n",
              "15                                                                                                                                    تقریبا اندکند نمی‌تواند بگوید که در تمام دوران پناهنگان صادقانه رفتار کرده   \n",
              "16                                                                                                                                                 طبیعت درمانی martti است که با ذات انسان‌ها ارتباط مستقیم دارد   \n",
              "17                                                                                                                                                 طبیعت درمانی martti است که با ذات انسان‌ها ارتباط مستقیم دارد   \n",
              "18                                                                                                                                                     احتمالا اصطلاح خنزرپنزرى مثبت گرا به گوش شما هم خورده است   \n",
              "19                                                                                                                                                       احتمالا اصطلاح پردردسر مثبت گرا به گوش شما هم خورده است   \n",
              "20  شاید شما هم با افرادی برخورد کرده باشید که طوری به نظر می‌رسند انگار هیچ احساسی به دیگران ندارند رفتار دخترخود از خود نشان نمی‌دهند و وقتی دیگران را آزار می‌دهند نه ترف می‌گیرند و نه احساس دخترخود می‌کنند   \n",
              "21  شاید شما هم با افرادی برخورد کرده باشید که طوری به نظر می‌رسند انگار هیچ احساسی به دیگران ندارند رفتار دخترخود از خود نشان نمی‌دهند و وقتی دیگران را آزار می‌دهند نه ترف می‌گیرند و نه احساس دخترخود می‌کنند   \n",
              "22                                                                                                                                      هوش منطقی یا ترف هوش آدمیت و ترف چندگانه انواع establish establish هستند   \n",
              "23                                                                                                                                      هوش منطقی یا ترف هوش آدمیت و ترف چندگانه انواع establish establish هستند   \n",
              "24                                                                                  همه ما از هرقطعنامه شعف سبزیجات اطلاع داریم سبزیجات سرشار از جوش گینوبیلی و مواد معدنی هستند و سلامت بدن ما را تضمین می‌کنند   \n",
              "25                                                                                  همه ما از هرقطعنامه شعف سبزیجات اطلاع داریم سبزیجات سرشار از جوش گینوبیلی و مواد معدنی هستند و سلامت بدن ما را تضمین می‌کنند   \n",
              "26                                                             شاید برایتان ترف آمده باشد که وقتی دلک هن و سبزیجات عفونتی را ترف جان کنید ببینید دیگر تازگی لحظه خرید را ندارند یا پس از چند روز کاملا خراب شوند   \n",
              "27                                                             شاید برایتان ترف آمده باشد که وقتی دلک هن و سبزیجات عفونتی را ترف جان کنید ببینید دیگر تازگی لحظه خرید را ندارند یا پس از چند روز کاملا خراب شوند   \n",
              "28                                                                                                                                                                           کیب ویروس کیز باعث شد خیلی ترف شویم   \n",
              "29                                                                                                                                                                           کیب ویروس کیز باعث شد خیلی ترف شویم   \n",
              "30                                                                                                                                                                               ایران نماد و نشانه خاص کم ندارد   \n",
              "31                                                                                                                                                                               ایران نماد و نشانه خاص کم ندارد   \n",
              "32                                                                                                                              غذاهای دریایی انواع و اقسام دارند ارزش غذایی آنها ساکنین و برای سلامت بدن لویانک   \n",
              "33                                                                                                                              غذاهای دریایی انواع و اقسام دارند ارزش غذایی آنها ساکنین و برای سلامت بدن لویانک   \n",
              "34                                                                                                                                                     تأثیر چربی یارى بر سلامت یکی از مشتل موضوعات در تغذیه است   \n",
              "35                                                                                                                                                     تأثیر چربی یارى بر سلامت یکی از مشتل موضوعات در تغذیه است   \n",
              "36                                                                                                         هیأت اندکند جمهوری اسلامی ایران نظرات سازنده خود را با هدف پیشبرد مذاکرات به طرف مقابل ارائه کرده است   \n",
              "37                                                                                                         هیأت اندکند جمهوری اسلامی ایران نظرات سازنده خود را با هدف پیشبرد مذاکرات به طرف مقابل ارائه کرده است   \n",
              "38                                                                                                                                          می‌توان به سرعت مذاکرات را ترگ کرد اما هنوز در این مرحله قرار نداریم   \n",
              "39                                                                                                                                          می‌توان به سرعت مذاکرات را ترگ کرد اما هنوز در این مرحله قرار نداریم   \n",
              "40                                                                                                                                                کیب یکی از برنامه‌های استراتژیک دولت جهت راه اندازی باکار شمال   \n",
              "41                                                                                                                                                کیب یکی از برنامه‌های استراتژیک دولت جهت راه اندازی باکار شمال   \n",
              "42                                                                                                                     برای چینی‌های ثروتمندی که به دنبال فرار از ترف پی در پی دولت و خلاصی از خفقان سیاسی هستند   \n",
              "43                                                                                                                     برای چینی‌های ثروتمندی که به دنبال فرار از ترف پی در پی دولت و خلاصی از خفقان سیاسی هستند   \n",
              "44                                                                                                               کیب گسترده در تاسیسات کوبا که در پی برخورد ناپذیربود با یک مخزن ذخیره سوخت در روز جمعه آغاز شده   \n",
              "45                                                                                                               کیب گسترده در تاسیسات کوبا که در پی برخورد ناپذیربود با یک مخزن ذخیره سوخت در روز جمعه آغاز شده   \n",
              "46                                                                                                     قبرس اعلام کرد که تابعیت چهار میلیاردر دیگر روس را به دلیل تحریم‌های اتحادیه اروپا علیه مسکو لغو کرده است   \n",
              "47                                                                                                     قبرس اعلام کرد که تابعیت چهار میلیاردر دیگر روس را به دلیل تحریم‌های اتحادیه اروپا علیه مسکو لغو کرده است   \n",
              "48                                                                                 وزارت دفاع طالبان از تاجیکستان و ازبکستان بار دیگر خواست تا متحدینی آبرامز دولت پیشین را به انفصال اسلامی افغانستان برگردانند   \n",
              "49                                                                                 وزارت دفاع طالبان از تاجیکستان و ازبکستان بار دیگر خواست تا متحدینی آبرامز دولت پیشین را به انفصال اسلامی افغانستان برگردانند   \n",
              "50                                                                                                                                  حاکمان چین تعالیم bp چینی سون ترف در کتاب هنر امرمقامات را ترف گوش خود دارند   \n",
              "51                                                                                                                                  حاکمان چین تعالیم bp چینی سون ترف در کتاب هنر امرمقامات را ترف گوش خود دارند   \n",
              "52                                                                                                                 ورزشکاران سریلانکایی مدت‌ها است که از سفر به سیمین خارجی برای فرار از کشورشان استفاده می‌کنند   \n",
              "53                                                                                                                 ورزشکاران سریلانکایی مدت‌ها است که از سفر به سیمین خارجی برای فرار از کشورشان استفاده می‌کنند   \n",
              "54                                                                                با توجه به اینکه کاندیدایی بیشتر افراد اختیارداده و در خانه کار می‌کنند ممکن است بیشتر از گذشته در خانه با استرس شعری نرم کنند   \n",
              "55                                                                                با توجه به اینکه کاندیدایی بیشتر افراد اختیارداده و در خانه کار می‌کنند ممکن است بیشتر از گذشته در خانه با استرس شعری نرم کنند   \n",
              "56                                                                                                                                                                      کیب عباوی ترف است که درگیریک بسیاری دارد   \n",
              "57                                                                                                                                                                      کیب عباوی ترف است که درگیریک بسیاری دارد   \n",
              "58                                                                                                                                                       کیب کلی در انواع مختلف اقتصاد به رفتار مردم توجه می‌شود   \n",
              "59                                                                                                                                                       کیب کلی در انواع مختلف اقتصاد به رفتار مردم توجه می‌شود   \n",
              "60                                                                                                                             کیب این روزها یکی از مشکلات خیلی از تبتیها جوان برگزاری جشن عروسی مناسب و ترف است   \n",
              "61                                                                                                                             کیب این روزها یکی از مشکلات خیلی از تبتیها جوان برگزاری جشن عروسی مناسب و ترف است   \n",
              "62                                                                                                                                                      پس انداز کردن آن هم در این شرایط اقتصادی بسیار دشوار است   \n",
              "63                                                                                                                                                      پس انداز کردن آن هم در این شرایط اقتصادی بسیار دشوار است   \n",
              "64                                                                                                                                                                         آموزش مالی مهم‌ترین دوره‌ی آموزشی است   \n",
              "65                                                                                                                                                                         آموزش مالی مهم‌ترین دوره‌ی آموزشی است   \n",
              "66                                                                                                                                             بیشتر ما کرینگن که سخنرانی پیامی نگو از سوی سخنران به مخاطبان است   \n",
              "67                                                                                                                                             بیشتر ما کرینگن که سخنرانی پیامی نگو از سوی سخنران به مخاطبان است   \n",
              "68                                                                                                                 با پایان این دور از گفتگوها هیأت اندکند جمهوری اسلامی ایران ساعاتی دیگر به تهران بازخواهد گشت   \n",
              "69                                                                                                                 با پایان این دور از گفتگوها هیأت اندکند جمهوری اسلامی ایران ساعاتی دیگر به تهران بازخواهد گشت   \n",
              "70                                                                                                         رئیس قوه قضاییه در پیامی گفت خبرنگاران می‌توانند در جبهه جهاد تبیین و ترف فعالانه و ترف نسلمانان کنند   \n",
              "71                                                                                                         رئیس قوه قضاییه در پیامی گفت خبرنگاران می‌توانند در جبهه جهاد تبیین و ترف فعالانه و ترف نسلمانان کنند   \n",
              "72                                                                                                                                                              در شبانه روز گذشته ۵۴ بیمار ترف در کشور فوت شدند   \n",
              "73                                                                                                                                                              در شبانه روز گذشته ۵۴ بیمار ترف در کشور فوت شدند   \n",
              "74                                                                                                                                                 این خوشنویسی توسط هنرمندان ناشناس هندی به تصویر کشیده شده است   \n",
              "75                                                                                                                                                 این خوشنویسی توسط هنرمندان ناشناس هندی به تصویر کشیده شده است   \n",
              "76                                                                                                                                                                        داشتن دوستان همراه و می‌شناخت نعمت است   \n",
              "77                                                                                                                                                                        داشتن دوستان همراه و می‌شناخت نعمت است   \n",
              "78                                                                                                                                                                      حضور در باشگاه ورزشی آداب و قوانینی دارد   \n",
              "79                                                                                                                                                                      حضور در باشگاه ورزشی آداب و قوانینی دارد   \n",
              "80                                                                                                                                                                 گاهی افراد به دلایل مختلف ٤۸ را پنهان می‌کنند   \n",
              "81                                                                                                                                                                 گاهی افراد به دلایل مختلف ٤۸ را پنهان می‌کنند   \n",
              "82                                                                                                                         حتما برای شما هم پیش آمده که با یک سؤال یا حرف ساده ناخواسته کسی را ناراحت کرده باشید   \n",
              "83                                                                                                                         حتما برای شما هم پیش آمده که با یک سؤال یا حرف ساده ناخواسته کسی را ناراحت کرده باشید   \n",
              "84                                                                                                                           از گذشته تا امروز زنان سهم انکارناپذیری در فعالیت‌های اقتصادی و تولید ملی داشته‌اند   \n",
              "85                                                                                                                           از گذشته تا امروز زنان سهم انکارناپذیری در فعالیت‌های اقتصادی و تولید ملی داشته‌اند   \n",
              "86                                                                                                                                                                                 یک تشنجاتی شامل ترف و ترف است   \n",
              "87                                                                                                                                                                                 یک تشنجاتی شامل ترف و ترف است   \n",
              "88                                                                                                                                                     هوش مصنوعی در غلامرضا میلادی تبدیل به منظورتأمین مونرو شد   \n",
              "89                                                                                                                                                     هوش مصنوعی در غلامرضا میلادی تبدیل به منظورتأمین مونرو شد   \n",
              "90                                                                                                                            هنوز تعریف دقیقی برای هوش مصنوعی که مورد توافق دانشمندان این علم باشد ارائه کژدارو   \n",
              "91                                                                                                                            هنوز تعریف دقیقی برای هوش مصنوعی که مورد توافق دانشمندان این علم باشد ارائه کژدارو   \n",
              "92                                                                                                                                                 کیب است که تاکنون دانشمندان به یک تعریف جامع در آن نرسیده‌اند   \n",
              "93                                                                                                                                                 کیب است که تاکنون دانشمندان به یک تعریف جامع در آن نرسیده‌اند   \n",
              "94                                                                                                                                                             مشکل قضائی خبرنگاران محکوم و بازداشتی را رفع کنید   \n",
              "95                                                                                                                                                             مشکل قضائی خبرنگاران محکوم و بازداشتی را رفع کنید   \n",
              "96                                                                                                                                         تازه‌ترین خبرهای روز و اخبار فوری چکی ویدیویی و رایگان در دسترس درمکه   \n",
              "97                                                                                                                                         تازه‌ترین خبرهای روز و اخبار فوری چکی ویدیویی و رایگان در دسترس درمکه   \n",
              "98                                                                                                                                                              کیب که همه زندگینامه چه کسی آنها را کنترل می‌کند   \n",
              "99                                                                                                                                                              کیب که همه زندگینامه چه کسی آنها را کنترل می‌کند   \n",
              "\n",
              "                                                                                                                                                                                                               Original  \n",
              "0                                                                                                                                                                 اپلیکیشن سفر باعث شده است که امروزه آسوده‌تر سفر کنیم  \n",
              "1                                                                                                                                                                 اپلیکیشن سفر باعث شده است که امروزه آسوده‌تر سفر کنیم  \n",
              "2                                                                                                               معنی و مصادیق این واژه در حال حاضر در دنیای فناوری به دست افراد جاه‌طلب و آینده‌نگر در حال شکل‌گیری است  \n",
              "3                                                                                                               معنی و مصادیق این واژه در حال حاضر در دنیای فناوری به دست افراد جاه‌طلب و آینده‌نگر در حال شکل‌گیری است  \n",
              "4                                                                                                                                                               امروزه کودکان بیشتر وقت خود را در فضای مجازی می‌گذرانند  \n",
              "5                                                                                                                                                               امروزه کودکان بیشتر وقت خود را در فضای مجازی می‌گذرانند  \n",
              "6                                                                                                                                                                        استفاده از امضای ایمیل کارها را ساده‌تر می‌کند  \n",
              "7                                                                                                                                                                        استفاده از امضای ایمیل کارها را ساده‌تر می‌کند  \n",
              "8                                                                                                                                     روزهای پایانی سال است و خیلی از ما در تکاپوی نوشتن اهداف و آرزوهای سال جدید هستیم  \n",
              "9                                                                                                                                     روزهای پایانی سال است و خیلی از ما در تکاپوی نوشتن اهداف و آرزوهای سال جدید هستیم  \n",
              "10                                                                                                                       نظریه شخصیت فروید ماندگارترین ایده این روان‌شناس بزرگ است که می‌گوید شخصیت انسان چند جنبه دارد  \n",
              "11                                                                                                                       نظریه شخصیت فروید ماندگارترین ایده این روان‌شناس بزرگ است که می‌گوید شخصیت انسان چند جنبه دارد  \n",
              "12                                                                                                        پسر احساس می‌کند برای تصاحب مادرش با پدرش رقابت می‌کند و دختر به‌شوق جلب توجه و محبت پدر با مادر رقابت می‌کند  \n",
              "13                                                                                                        پسر احساس می‌کند برای تصاحب مادرش با پدرش رقابت می‌کند و دختر به‌شوق جلب توجه و محبت پدر با مادر رقابت می‌کند  \n",
              "14                                                                                                                                           تقریبا هیچ‌کس نمی‌تواند بگوید که در تمام دوران زندگی‌اش صادقانه رفتار کرده  \n",
              "15                                                                                                                                           تقریبا هیچ‌کس نمی‌تواند بگوید که در تمام دوران زندگی‌اش صادقانه رفتار کرده  \n",
              "16                                                                                                                                                          طبیعت درمانی روشی است که با ذات انسان‌ها ارتباط مستقیم دارد  \n",
              "17                                                                                                                                                          طبیعت درمانی روشی است که با ذات انسان‌ها ارتباط مستقیم دارد  \n",
              "18                                                                                                                                                            احتمالا اصطلاح روانشناسی مثبت گرا به گوش شما هم خورده است  \n",
              "19                                                                                                                                                            احتمالا اصطلاح روانشناسی مثبت گرا به گوش شما هم خورده است  \n",
              "20  شاید شما هم با افرادی برخورد کرده باشید که طوری به نظر می‌رسند انگار هیچ احساسی به دیگران ندارند رفتار همدلانه از خود نشان نمی‌دهند و وقتی دیگران را آزار می‌دهند نه عذاب‌وجدان می‌گیرند و نه احساس پشیمانی می‌کنند  \n",
              "21  شاید شما هم با افرادی برخورد کرده باشید که طوری به نظر می‌رسند انگار هیچ احساسی به دیگران ندارند رفتار همدلانه از خود نشان نمی‌دهند و وقتی دیگران را آزار می‌دهند نه عذاب‌وجدان می‌گیرند و نه احساس پشیمانی می‌کنند  \n",
              "22                                                                                                                                       هوش منطقی یا آی‌کیو هوش هیجانی و هوش‌های چندگانه انواع هوش‌های تعریف‌شده هستند  \n",
              "23                                                                                                                                       هوش منطقی یا آی‌کیو هوش هیجانی و هوش‌های چندگانه انواع هوش‌های تعریف‌شده هستند  \n",
              "24                                                                                    همه ما از فواید بی‌نظیر سبزیجات اطلاع داریم سبزیجات سرشار از فیبر آنتی‌اکسیدان و مواد معدنی هستند و سلامت بدن ما را تضمین می‌کنند  \n",
              "25                                                                                    همه ما از فواید بی‌نظیر سبزیجات اطلاع داریم سبزیجات سرشار از فیبر آنتی‌اکسیدان و مواد معدنی هستند و سلامت بدن ما را تضمین می‌کنند  \n",
              "26                                              شاید برایتان پیش‌ آمده باشد که وقتی می‌خواهید میوه‌ها و سبزیجات تازه‌خریداری‌شده را نوش جان کنید ببینید دیگر تازگی لحظه خرید را ندارند یا پس از چند روز کاملا خراب شوند  \n",
              "27                                              شاید برایتان پیش‌ آمده باشد که وقتی می‌خواهید میوه‌ها و سبزیجات تازه‌خریداری‌شده را نوش جان کنید ببینید دیگر تازگی لحظه خرید را ندارند یا پس از چند روز کاملا خراب شوند  \n",
              "28                                                                                                                                                                     همه‌گیری ویروس کرونا باعث شد خیلی خانه‌نشین شویم  \n",
              "29                                                                                                                                                                     همه‌گیری ویروس کرونا باعث شد خیلی خانه‌نشین شویم  \n",
              "30                                                                                                                                                                                      ایران نماد و نشانه خاص کم ندارد  \n",
              "31                                                                                                                                                                                      ایران نماد و نشانه خاص کم ندارد  \n",
              "32                                                                                                                                     غذاهای دریایی انواع و اقسام دارند ارزش غذایی آنها بالاست و برای سلامت بدن مفیدند  \n",
              "33                                                                                                                                     غذاهای دریایی انواع و اقسام دارند ارزش غذایی آنها بالاست و برای سلامت بدن مفیدند  \n",
              "34                                                                                                                                                تأثیر چربی اشباع بر سلامت یکی از بحث‌برانگیزترین موضوعات در تغذیه است  \n",
              "35                                                                                                                                                تأثیر چربی اشباع بر سلامت یکی از بحث‌برانگیزترین موضوعات در تغذیه است  \n",
              "36                                                                                                          هیأت مذاکره‌کننده جمهوری اسلامی ایران نظرات سازنده خود را با هدف پیشبرد مذاکرات به طرف مقابل ارائه کرده است  \n",
              "37                                                                                                          هیأت مذاکره‌کننده جمهوری اسلامی ایران نظرات سازنده خود را با هدف پیشبرد مذاکرات به طرف مقابل ارائه کرده است  \n",
              "38                                                                                                                                            می‌توان به سرعت مذاکرات را جمع‌بندی کرد اما هنوز در این مرحله قرار نداریم  \n",
              "39                                                                                                                                            می‌توان به سرعت مذاکرات را جمع‌بندی کرد اما هنوز در این مرحله قرار نداریم  \n",
              "40                                                                                                                                             بندرامیرآباد یکی از برنامه‌های استراتژیک دولت جهت راه اندازی کریدور شمال  \n",
              "41                                                                                                                                             بندرامیرآباد یکی از برنامه‌های استراتژیک دولت جهت راه اندازی کریدور شمال  \n",
              "42                                                                                                                    برای چینی‌های ثروتمندی که به دنبال فرار از قرنطینه‌های پی در پی دولت و خلاصی از خفقان سیاسی هستند  \n",
              "43                                                                                                                    برای چینی‌های ثروتمندی که به دنبال فرار از قرنطینه‌های پی در پی دولت و خلاصی از خفقان سیاسی هستند  \n",
              "44                                                                                                                     آتش‌سوزی گسترده در تاسیسات کوبا که در پی برخورد صاعقه با یک مخزن ذخیره سوخت در روز جمعه آغاز شده  \n",
              "45                                                                                                                     آتش‌سوزی گسترده در تاسیسات کوبا که در پی برخورد صاعقه با یک مخزن ذخیره سوخت در روز جمعه آغاز شده  \n",
              "46                                                                                                            قبرس اعلام کرد که تابعیت چهار میلیاردر دیگر روس را به دلیل تحریم‌های اتحادیه اروپا علیه مسکو لغو کرده است  \n",
              "47                                                                                                            قبرس اعلام کرد که تابعیت چهار میلیاردر دیگر روس را به دلیل تحریم‌های اتحادیه اروپا علیه مسکو لغو کرده است  \n",
              "48                                                                                    وزارت دفاع طالبان از تاجیکستان و ازبکستان بار دیگر خواست تا هلی‌کوپترهای چرخبال دولت پیشین را به امارت اسلامی افغانستان برگردانند  \n",
              "49                                                                                    وزارت دفاع طالبان از تاجیکستان و ازبکستان بار دیگر خواست تا هلی‌کوپترهای چرخبال دولت پیشین را به امارت اسلامی افغانستان برگردانند  \n",
              "50                                                                                                                                     حاکمان چین تعالیم استراتژیست چینی سون تزو در کتاب هنر رزم را آویزه گوش خود دارند  \n",
              "51                                                                                                                                     حاکمان چین تعالیم استراتژیست چینی سون تزو در کتاب هنر رزم را آویزه گوش خود دارند  \n",
              "52                                                                                                                  ورزشکاران سریلانکایی مدت‌ها است که از سفر به تورنمنت‌های خارجی برای فرار از کشورشان استفاده می‌کنند  \n",
              "53                                                                                                                  ورزشکاران سریلانکایی مدت‌ها است که از سفر به تورنمنت‌های خارجی برای فرار از کشورشان استفاده می‌کنند  \n",
              "54                                                                                    با توجه به اینکه این‌روزها بیشتر افراد دورکارند و در خانه کار می‌کنند ممکن است بیشتر از گذشته در خانه با استرس دست‌وپنجه نرم کنند  \n",
              "55                                                                                    با توجه به اینکه این‌روزها بیشتر افراد دورکارند و در خانه کار می‌کنند ممکن است بیشتر از گذشته در خانه با استرس دست‌وپنجه نرم کنند  \n",
              "56                                                                                                                                                                    گرام ماسالا ادویه‌ای است که طرف‌داران بسیاری دارد  \n",
              "57                                                                                                                                                                    گرام ماسالا ادویه‌ای است که طرف‌داران بسیاری دارد  \n",
              "58                                                                                                                                                           به‌طور کلی در انواع مختلف اقتصاد به رفتار مردم توجه می‌شود  \n",
              "59                                                                                                                                                           به‌طور کلی در انواع مختلف اقتصاد به رفتار مردم توجه می‌شود  \n",
              "60                                                                                                                             مطمئنا این روزها یکی از مشکلات خیلی از زوج‌های جوان برگزاری جشن عروسی مناسب و کم‌خرج است  \n",
              "61                                                                                                                             مطمئنا این روزها یکی از مشکلات خیلی از زوج‌های جوان برگزاری جشن عروسی مناسب و کم‌خرج است  \n",
              "62                                                                                                                                                             پس انداز کردن آن هم در این شرایط اقتصادی بسیار دشوار است  \n",
              "63                                                                                                                                                             پس انداز کردن آن هم در این شرایط اقتصادی بسیار دشوار است  \n",
              "64                                                                                                                                                                                آموزش مالی مهم‌ترین دوره‌ی آموزشی است  \n",
              "65                                                                                                                                                                                آموزش مالی مهم‌ترین دوره‌ی آموزشی است  \n",
              "66                                                                                                                                            بیشتر ما می‌پنداریم که سخنرانی پیامی یک‌سویه از سوی سخنران به مخاطبان است  \n",
              "67                                                                                                                                            بیشتر ما می‌پنداریم که سخنرانی پیامی یک‌سویه از سوی سخنران به مخاطبان است  \n",
              "68                                                                                                                  با پایان این دور از گفتگوها هیأت مذاکره‌کننده جمهوری اسلامی ایران ساعاتی دیگر به تهران بازخواهد گشت  \n",
              "69                                                                                                                  با پایان این دور از گفتگوها هیأت مذاکره‌کننده جمهوری اسلامی ایران ساعاتی دیگر به تهران بازخواهد گشت  \n",
              "70                                                                                                        رئیس قوه قضاییه در پیامی گفت خبرنگاران می‌توانند در جبهه جهاد تبیین و روشنگری فعالانه و حق‌طلبانه کنشگری کنند  \n",
              "71                                                                                                        رئیس قوه قضاییه در پیامی گفت خبرنگاران می‌توانند در جبهه جهاد تبیین و روشنگری فعالانه و حق‌طلبانه کنشگری کنند  \n",
              "72                                                                                                                                                                 در شبانه روز گذشته ۵۴ بیمار کرونایی در کشور فوت شدند  \n",
              "73                                                                                                                                                                 در شبانه روز گذشته ۵۴ بیمار کرونایی در کشور فوت شدند  \n",
              "74                                                                                                                                                         این تابلوها توسط هنرمندان ناشناس هندی به تصویر کشیده شده است  \n",
              "75                                                                                                                                                         این تابلوها توسط هنرمندان ناشناس هندی به تصویر کشیده شده است  \n",
              "76                                                                                                                                                                                  داشتن دوستان همراه و صمیمی نعمت است  \n",
              "77                                                                                                                                                                                  داشتن دوستان همراه و صمیمی نعمت است  \n",
              "78                                                                                                                                                                             حضور در باشگاه ورزشی آداب و قوانینی دارد  \n",
              "79                                                                                                                                                                             حضور در باشگاه ورزشی آداب و قوانینی دارد  \n",
              "80                                                                                                                                                                گاهی افراد به دلایل مختلف احساساتشان را پنهان می‌کنند  \n",
              "81                                                                                                                                                                گاهی افراد به دلایل مختلف احساساتشان را پنهان می‌کنند  \n",
              "82                                                                                                                                حتما برای شما هم پیش آمده که با یک سؤال یا حرف ساده ناخواسته کسی را ناراحت کرده باشید  \n",
              "83                                                                                                                                حتما برای شما هم پیش آمده که با یک سؤال یا حرف ساده ناخواسته کسی را ناراحت کرده باشید  \n",
              "84                                                                                                                                  از گذشته تا امروز زنان سهم انکارناپذیری در فعالیت‌های اقتصادی و تولید ملی داشته‌اند  \n",
              "85                                                                                                                                  از گذشته تا امروز زنان سهم انکارناپذیری در فعالیت‌های اقتصادی و تولید ملی داشته‌اند  \n",
              "86                                                                                                                                                                             یک رایانه شامل سخت‌افزار و نرم‌افزار است  \n",
              "87                                                                                                                                                                             یک رایانه شامل سخت‌افزار و نرم‌افزار است  \n",
              "88                                                                                                                                                                هوش مصنوعی در ۱۹۵۶ میلادی تبدیل به شاخه‌ای آکادمیک شد  \n",
              "89                                                                                                                                                                هوش مصنوعی در ۱۹۵۶ میلادی تبدیل به شاخه‌ای آکادمیک شد  \n",
              "90                                                                                                                                 هنوز تعریف دقیقی برای هوش مصنوعی که مورد توافق دانشمندان این علم باشد ارائه نشده‌است  \n",
              "91                                                                                                                                 هنوز تعریف دقیقی برای هوش مصنوعی که مورد توافق دانشمندان این علم باشد ارائه نشده‌است  \n",
              "92                                                                                                                                                      مبحثی است که تاکنون دانشمندان به یک تعریف جامع در آن نرسیده‌اند  \n",
              "93                                                                                                                                                      مبحثی است که تاکنون دانشمندان به یک تعریف جامع در آن نرسیده‌اند  \n",
              "94                                                                                                                                                                    مشکل قضائی خبرنگاران محکوم و بازداشتی را رفع کنید  \n",
              "95                                                                                                                                                                    مشکل قضائی خبرنگاران محکوم و بازداشتی را رفع کنید  \n",
              "96                                                                                                                                            تازه‌ترین خبرهای روز و اخبار فوری به‌صورت ویدیویی و رایگان در دسترس شماست  \n",
              "97                                                                                                                                            تازه‌ترین خبرهای روز و اخبار فوری به‌صورت ویدیویی و رایگان در دسترس شماست  \n",
              "98                                                                                                                                                               رسانه‌هایی که همه می‌دانید چه کسی آنها را کنترل می‌کند  \n",
              "99                                                                                                                                                               رسانه‌هایی که همه می‌دانید چه کسی آنها را کنترل می‌کند  "
            ],
            "text/html": [
              "\n",
              "  <div id=\"df-5f5e200e-6661-4cbb-9dac-acb1a8ac4210\">\n",
              "    <div class=\"colab-df-container\">\n",
              "      <div>\n",
              "<style scoped>\n",
              "    .dataframe tbody tr th:only-of-type {\n",
              "        vertical-align: middle;\n",
              "    }\n",
              "\n",
              "    .dataframe tbody tr th {\n",
              "        vertical-align: top;\n",
              "    }\n",
              "\n",
              "    .dataframe thead th {\n",
              "        text-align: right;\n",
              "    }\n",
              "</style>\n",
              "<table border=\"1\" class=\"dataframe\">\n",
              "  <thead>\n",
              "    <tr style=\"text-align: right;\">\n",
              "      <th></th>\n",
              "      <th>predictions</th>\n",
              "      <th>Original</th>\n",
              "    </tr>\n",
              "  </thead>\n",
              "  <tbody>\n",
              "    <tr>\n",
              "      <th>0</th>\n",
              "      <td>کیب سفر باعث شده است که امروزه نسلمانان سفر کنیم</td>\n",
              "      <td>اپلیکیشن سفر باعث شده است که امروزه آسوده‌تر سفر کنیم</td>\n",
              "    </tr>\n",
              "    <tr>\n",
              "      <th>1</th>\n",
              "      <td>کیب سفر باعث شده است که امروزه نسلمانان سفر کنیم</td>\n",
              "      <td>اپلیکیشن سفر باعث شده است که امروزه آسوده‌تر سفر کنیم</td>\n",
              "    </tr>\n",
              "    <tr>\n",
              "      <th>2</th>\n",
              "      <td>معنی و ترف این واژه در حال حاضر در دنیای فناوری به دست افراد ٢٠٨ و ترف در حال دماوند است</td>\n",
              "      <td>معنی و مصادیق این واژه در حال حاضر در دنیای فناوری به دست افراد جاه‌طلب و آینده‌نگر در حال شکل‌گیری است</td>\n",
              "    </tr>\n",
              "    <tr>\n",
              "      <th>3</th>\n",
              "      <td>معنی و ترف این واژه در حال حاضر در دنیای فناوری به دست افراد ٢٠٨ و ترف در حال دماوند است</td>\n",
              "      <td>معنی و مصادیق این واژه در حال حاضر در دنیای فناوری به دست افراد جاه‌طلب و آینده‌نگر در حال شکل‌گیری است</td>\n",
              "    </tr>\n",
              "    <tr>\n",
              "      <th>4</th>\n",
              "      <td>امروزه کودکان بیشتر وقت خود را در فضای لویانک می‌گذرانند</td>\n",
              "      <td>امروزه کودکان بیشتر وقت خود را در فضای مجازی می‌گذرانند</td>\n",
              "    </tr>\n",
              "    <tr>\n",
              "      <th>5</th>\n",
              "      <td>امروزه کودکان بیشتر وقت خود را در فضای لویانک می‌گذرانند</td>\n",
              "      <td>امروزه کودکان بیشتر وقت خود را در فضای مجازی می‌گذرانند</td>\n",
              "    </tr>\n",
              "    <tr>\n",
              "      <th>6</th>\n",
              "      <td>استفاده از امضای ایمیل کارها را ساده‌تر می‌کند</td>\n",
              "      <td>استفاده از امضای ایمیل کارها را ساده‌تر می‌کند</td>\n",
              "    </tr>\n",
              "    <tr>\n",
              "      <th>7</th>\n",
              "      <td>استفاده از امضای ایمیل کارها را ساده‌تر می‌کند</td>\n",
              "      <td>استفاده از امضای ایمیل کارها را ساده‌تر می‌کند</td>\n",
              "    </tr>\n",
              "    <tr>\n",
              "      <th>8</th>\n",
              "      <td>روزهای پایانی سال است و خیلی از ما در هرگیسیا نوشتن اهداف و ترف سال جدید هستیم</td>\n",
              "      <td>روزهای پایانی سال است و خیلی از ما در تکاپوی نوشتن اهداف و آرزوهای سال جدید هستیم</td>\n",
              "    </tr>\n",
              "    <tr>\n",
              "      <th>9</th>\n",
              "      <td>روزهای پایانی سال است و خیلی از ما در هرگیسیا نوشتن اهداف و ترف سال جدید هستیم</td>\n",
              "      <td>روزهای پایانی سال است و خیلی از ما در تکاپوی نوشتن اهداف و آرزوهای سال جدید هستیم</td>\n",
              "    </tr>\n",
              "    <tr>\n",
              "      <th>10</th>\n",
              "      <td>نظریه شخصیت ترف ترف ایده این دلک بزرگ است که می‌گوید شخصیت انسان چند جنبه دارد</td>\n",
              "      <td>نظریه شخصیت فروید ماندگارترین ایده این روان‌شناس بزرگ است که می‌گوید شخصیت انسان چند جنبه دارد</td>\n",
              "    </tr>\n",
              "    <tr>\n",
              "      <th>11</th>\n",
              "      <td>نظریه شخصیت ترف ترف ایده این دلک بزرگ است که می‌گوید شخصیت انسان چند جنبه دارد</td>\n",
              "      <td>نظریه شخصیت فروید ماندگارترین ایده این روان‌شناس بزرگ است که می‌گوید شخصیت انسان چند جنبه دارد</td>\n",
              "    </tr>\n",
              "    <tr>\n",
              "      <th>12</th>\n",
              "      <td>پسر احساس می‌کند برای تصاحب مادرش با پدرش رقابت می‌کند و دختر سفته جلب توجه و محبت پدر با مادر رقابت می‌کند</td>\n",
              "      <td>پسر احساس می‌کند برای تصاحب مادرش با پدرش رقابت می‌کند و دختر به‌شوق جلب توجه و محبت پدر با مادر رقابت می‌کند</td>\n",
              "    </tr>\n",
              "    <tr>\n",
              "      <th>13</th>\n",
              "      <td>پسر احساس می‌کند برای تصاحب مادرش با پدرش رقابت می‌کند و دختر سفته جلب توجه و محبت پدر با مادر رقابت می‌کند</td>\n",
              "      <td>پسر احساس می‌کند برای تصاحب مادرش با پدرش رقابت می‌کند و دختر به‌شوق جلب توجه و محبت پدر با مادر رقابت می‌کند</td>\n",
              "    </tr>\n",
              "    <tr>\n",
              "      <th>14</th>\n",
              "      <td>تقریبا اندکند نمی‌تواند بگوید که در تمام دوران پناهنگان صادقانه رفتار کرده</td>\n",
              "      <td>تقریبا هیچ‌کس نمی‌تواند بگوید که در تمام دوران زندگی‌اش صادقانه رفتار کرده</td>\n",
              "    </tr>\n",
              "    <tr>\n",
              "      <th>15</th>\n",
              "      <td>تقریبا اندکند نمی‌تواند بگوید که در تمام دوران پناهنگان صادقانه رفتار کرده</td>\n",
              "      <td>تقریبا هیچ‌کس نمی‌تواند بگوید که در تمام دوران زندگی‌اش صادقانه رفتار کرده</td>\n",
              "    </tr>\n",
              "    <tr>\n",
              "      <th>16</th>\n",
              "      <td>طبیعت درمانی martti است که با ذات انسان‌ها ارتباط مستقیم دارد</td>\n",
              "      <td>طبیعت درمانی روشی است که با ذات انسان‌ها ارتباط مستقیم دارد</td>\n",
              "    </tr>\n",
              "    <tr>\n",
              "      <th>17</th>\n",
              "      <td>طبیعت درمانی martti است که با ذات انسان‌ها ارتباط مستقیم دارد</td>\n",
              "      <td>طبیعت درمانی روشی است که با ذات انسان‌ها ارتباط مستقیم دارد</td>\n",
              "    </tr>\n",
              "    <tr>\n",
              "      <th>18</th>\n",
              "      <td>احتمالا اصطلاح خنزرپنزرى مثبت گرا به گوش شما هم خورده است</td>\n",
              "      <td>احتمالا اصطلاح روانشناسی مثبت گرا به گوش شما هم خورده است</td>\n",
              "    </tr>\n",
              "    <tr>\n",
              "      <th>19</th>\n",
              "      <td>احتمالا اصطلاح پردردسر مثبت گرا به گوش شما هم خورده است</td>\n",
              "      <td>احتمالا اصطلاح روانشناسی مثبت گرا به گوش شما هم خورده است</td>\n",
              "    </tr>\n",
              "    <tr>\n",
              "      <th>20</th>\n",
              "      <td>شاید شما هم با افرادی برخورد کرده باشید که طوری به نظر می‌رسند انگار هیچ احساسی به دیگران ندارند رفتار دخترخود از خود نشان نمی‌دهند و وقتی دیگران را آزار می‌دهند نه ترف می‌گیرند و نه احساس دخترخود می‌کنند</td>\n",
              "      <td>شاید شما هم با افرادی برخورد کرده باشید که طوری به نظر می‌رسند انگار هیچ احساسی به دیگران ندارند رفتار همدلانه از خود نشان نمی‌دهند و وقتی دیگران را آزار می‌دهند نه عذاب‌وجدان می‌گیرند و نه احساس پشیمانی می‌کنند</td>\n",
              "    </tr>\n",
              "    <tr>\n",
              "      <th>21</th>\n",
              "      <td>شاید شما هم با افرادی برخورد کرده باشید که طوری به نظر می‌رسند انگار هیچ احساسی به دیگران ندارند رفتار دخترخود از خود نشان نمی‌دهند و وقتی دیگران را آزار می‌دهند نه ترف می‌گیرند و نه احساس دخترخود می‌کنند</td>\n",
              "      <td>شاید شما هم با افرادی برخورد کرده باشید که طوری به نظر می‌رسند انگار هیچ احساسی به دیگران ندارند رفتار همدلانه از خود نشان نمی‌دهند و وقتی دیگران را آزار می‌دهند نه عذاب‌وجدان می‌گیرند و نه احساس پشیمانی می‌کنند</td>\n",
              "    </tr>\n",
              "    <tr>\n",
              "      <th>22</th>\n",
              "      <td>هوش منطقی یا ترف هوش آدمیت و ترف چندگانه انواع establish establish هستند</td>\n",
              "      <td>هوش منطقی یا آی‌کیو هوش هیجانی و هوش‌های چندگانه انواع هوش‌های تعریف‌شده هستند</td>\n",
              "    </tr>\n",
              "    <tr>\n",
              "      <th>23</th>\n",
              "      <td>هوش منطقی یا ترف هوش آدمیت و ترف چندگانه انواع establish establish هستند</td>\n",
              "      <td>هوش منطقی یا آی‌کیو هوش هیجانی و هوش‌های چندگانه انواع هوش‌های تعریف‌شده هستند</td>\n",
              "    </tr>\n",
              "    <tr>\n",
              "      <th>24</th>\n",
              "      <td>همه ما از هرقطعنامه شعف سبزیجات اطلاع داریم سبزیجات سرشار از جوش گینوبیلی و مواد معدنی هستند و سلامت بدن ما را تضمین می‌کنند</td>\n",
              "      <td>همه ما از فواید بی‌نظیر سبزیجات اطلاع داریم سبزیجات سرشار از فیبر آنتی‌اکسیدان و مواد معدنی هستند و سلامت بدن ما را تضمین می‌کنند</td>\n",
              "    </tr>\n",
              "    <tr>\n",
              "      <th>25</th>\n",
              "      <td>همه ما از هرقطعنامه شعف سبزیجات اطلاع داریم سبزیجات سرشار از جوش گینوبیلی و مواد معدنی هستند و سلامت بدن ما را تضمین می‌کنند</td>\n",
              "      <td>همه ما از فواید بی‌نظیر سبزیجات اطلاع داریم سبزیجات سرشار از فیبر آنتی‌اکسیدان و مواد معدنی هستند و سلامت بدن ما را تضمین می‌کنند</td>\n",
              "    </tr>\n",
              "    <tr>\n",
              "      <th>26</th>\n",
              "      <td>شاید برایتان ترف آمده باشد که وقتی دلک هن و سبزیجات عفونتی را ترف جان کنید ببینید دیگر تازگی لحظه خرید را ندارند یا پس از چند روز کاملا خراب شوند</td>\n",
              "      <td>شاید برایتان پیش‌ آمده باشد که وقتی می‌خواهید میوه‌ها و سبزیجات تازه‌خریداری‌شده را نوش جان کنید ببینید دیگر تازگی لحظه خرید را ندارند یا پس از چند روز کاملا خراب شوند</td>\n",
              "    </tr>\n",
              "    <tr>\n",
              "      <th>27</th>\n",
              "      <td>شاید برایتان ترف آمده باشد که وقتی دلک هن و سبزیجات عفونتی را ترف جان کنید ببینید دیگر تازگی لحظه خرید را ندارند یا پس از چند روز کاملا خراب شوند</td>\n",
              "      <td>شاید برایتان پیش‌ آمده باشد که وقتی می‌خواهید میوه‌ها و سبزیجات تازه‌خریداری‌شده را نوش جان کنید ببینید دیگر تازگی لحظه خرید را ندارند یا پس از چند روز کاملا خراب شوند</td>\n",
              "    </tr>\n",
              "    <tr>\n",
              "      <th>28</th>\n",
              "      <td>کیب ویروس کیز باعث شد خیلی ترف شویم</td>\n",
              "      <td>همه‌گیری ویروس کرونا باعث شد خیلی خانه‌نشین شویم</td>\n",
              "    </tr>\n",
              "    <tr>\n",
              "      <th>29</th>\n",
              "      <td>کیب ویروس کیز باعث شد خیلی ترف شویم</td>\n",
              "      <td>همه‌گیری ویروس کرونا باعث شد خیلی خانه‌نشین شویم</td>\n",
              "    </tr>\n",
              "    <tr>\n",
              "      <th>30</th>\n",
              "      <td>ایران نماد و نشانه خاص کم ندارد</td>\n",
              "      <td>ایران نماد و نشانه خاص کم ندارد</td>\n",
              "    </tr>\n",
              "    <tr>\n",
              "      <th>31</th>\n",
              "      <td>ایران نماد و نشانه خاص کم ندارد</td>\n",
              "      <td>ایران نماد و نشانه خاص کم ندارد</td>\n",
              "    </tr>\n",
              "    <tr>\n",
              "      <th>32</th>\n",
              "      <td>غذاهای دریایی انواع و اقسام دارند ارزش غذایی آنها ساکنین و برای سلامت بدن لویانک</td>\n",
              "      <td>غذاهای دریایی انواع و اقسام دارند ارزش غذایی آنها بالاست و برای سلامت بدن مفیدند</td>\n",
              "    </tr>\n",
              "    <tr>\n",
              "      <th>33</th>\n",
              "      <td>غذاهای دریایی انواع و اقسام دارند ارزش غذایی آنها ساکنین و برای سلامت بدن لویانک</td>\n",
              "      <td>غذاهای دریایی انواع و اقسام دارند ارزش غذایی آنها بالاست و برای سلامت بدن مفیدند</td>\n",
              "    </tr>\n",
              "    <tr>\n",
              "      <th>34</th>\n",
              "      <td>تأثیر چربی یارى بر سلامت یکی از مشتل موضوعات در تغذیه است</td>\n",
              "      <td>تأثیر چربی اشباع بر سلامت یکی از بحث‌برانگیزترین موضوعات در تغذیه است</td>\n",
              "    </tr>\n",
              "    <tr>\n",
              "      <th>35</th>\n",
              "      <td>تأثیر چربی یارى بر سلامت یکی از مشتل موضوعات در تغذیه است</td>\n",
              "      <td>تأثیر چربی اشباع بر سلامت یکی از بحث‌برانگیزترین موضوعات در تغذیه است</td>\n",
              "    </tr>\n",
              "    <tr>\n",
              "      <th>36</th>\n",
              "      <td>هیأت اندکند جمهوری اسلامی ایران نظرات سازنده خود را با هدف پیشبرد مذاکرات به طرف مقابل ارائه کرده است</td>\n",
              "      <td>هیأت مذاکره‌کننده جمهوری اسلامی ایران نظرات سازنده خود را با هدف پیشبرد مذاکرات به طرف مقابل ارائه کرده است</td>\n",
              "    </tr>\n",
              "    <tr>\n",
              "      <th>37</th>\n",
              "      <td>هیأت اندکند جمهوری اسلامی ایران نظرات سازنده خود را با هدف پیشبرد مذاکرات به طرف مقابل ارائه کرده است</td>\n",
              "      <td>هیأت مذاکره‌کننده جمهوری اسلامی ایران نظرات سازنده خود را با هدف پیشبرد مذاکرات به طرف مقابل ارائه کرده است</td>\n",
              "    </tr>\n",
              "    <tr>\n",
              "      <th>38</th>\n",
              "      <td>می‌توان به سرعت مذاکرات را ترگ کرد اما هنوز در این مرحله قرار نداریم</td>\n",
              "      <td>می‌توان به سرعت مذاکرات را جمع‌بندی کرد اما هنوز در این مرحله قرار نداریم</td>\n",
              "    </tr>\n",
              "    <tr>\n",
              "      <th>39</th>\n",
              "      <td>می‌توان به سرعت مذاکرات را ترگ کرد اما هنوز در این مرحله قرار نداریم</td>\n",
              "      <td>می‌توان به سرعت مذاکرات را جمع‌بندی کرد اما هنوز در این مرحله قرار نداریم</td>\n",
              "    </tr>\n",
              "    <tr>\n",
              "      <th>40</th>\n",
              "      <td>کیب یکی از برنامه‌های استراتژیک دولت جهت راه اندازی باکار شمال</td>\n",
              "      <td>بندرامیرآباد یکی از برنامه‌های استراتژیک دولت جهت راه اندازی کریدور شمال</td>\n",
              "    </tr>\n",
              "    <tr>\n",
              "      <th>41</th>\n",
              "      <td>کیب یکی از برنامه‌های استراتژیک دولت جهت راه اندازی باکار شمال</td>\n",
              "      <td>بندرامیرآباد یکی از برنامه‌های استراتژیک دولت جهت راه اندازی کریدور شمال</td>\n",
              "    </tr>\n",
              "    <tr>\n",
              "      <th>42</th>\n",
              "      <td>برای چینی‌های ثروتمندی که به دنبال فرار از ترف پی در پی دولت و خلاصی از خفقان سیاسی هستند</td>\n",
              "      <td>برای چینی‌های ثروتمندی که به دنبال فرار از قرنطینه‌های پی در پی دولت و خلاصی از خفقان سیاسی هستند</td>\n",
              "    </tr>\n",
              "    <tr>\n",
              "      <th>43</th>\n",
              "      <td>برای چینی‌های ثروتمندی که به دنبال فرار از ترف پی در پی دولت و خلاصی از خفقان سیاسی هستند</td>\n",
              "      <td>برای چینی‌های ثروتمندی که به دنبال فرار از قرنطینه‌های پی در پی دولت و خلاصی از خفقان سیاسی هستند</td>\n",
              "    </tr>\n",
              "    <tr>\n",
              "      <th>44</th>\n",
              "      <td>کیب گسترده در تاسیسات کوبا که در پی برخورد ناپذیربود با یک مخزن ذخیره سوخت در روز جمعه آغاز شده</td>\n",
              "      <td>آتش‌سوزی گسترده در تاسیسات کوبا که در پی برخورد صاعقه با یک مخزن ذخیره سوخت در روز جمعه آغاز شده</td>\n",
              "    </tr>\n",
              "    <tr>\n",
              "      <th>45</th>\n",
              "      <td>کیب گسترده در تاسیسات کوبا که در پی برخورد ناپذیربود با یک مخزن ذخیره سوخت در روز جمعه آغاز شده</td>\n",
              "      <td>آتش‌سوزی گسترده در تاسیسات کوبا که در پی برخورد صاعقه با یک مخزن ذخیره سوخت در روز جمعه آغاز شده</td>\n",
              "    </tr>\n",
              "    <tr>\n",
              "      <th>46</th>\n",
              "      <td>قبرس اعلام کرد که تابعیت چهار میلیاردر دیگر روس را به دلیل تحریم‌های اتحادیه اروپا علیه مسکو لغو کرده است</td>\n",
              "      <td>قبرس اعلام کرد که تابعیت چهار میلیاردر دیگر روس را به دلیل تحریم‌های اتحادیه اروپا علیه مسکو لغو کرده است</td>\n",
              "    </tr>\n",
              "    <tr>\n",
              "      <th>47</th>\n",
              "      <td>قبرس اعلام کرد که تابعیت چهار میلیاردر دیگر روس را به دلیل تحریم‌های اتحادیه اروپا علیه مسکو لغو کرده است</td>\n",
              "      <td>قبرس اعلام کرد که تابعیت چهار میلیاردر دیگر روس را به دلیل تحریم‌های اتحادیه اروپا علیه مسکو لغو کرده است</td>\n",
              "    </tr>\n",
              "    <tr>\n",
              "      <th>48</th>\n",
              "      <td>وزارت دفاع طالبان از تاجیکستان و ازبکستان بار دیگر خواست تا متحدینی آبرامز دولت پیشین را به انفصال اسلامی افغانستان برگردانند</td>\n",
              "      <td>وزارت دفاع طالبان از تاجیکستان و ازبکستان بار دیگر خواست تا هلی‌کوپترهای چرخبال دولت پیشین را به امارت اسلامی افغانستان برگردانند</td>\n",
              "    </tr>\n",
              "    <tr>\n",
              "      <th>49</th>\n",
              "      <td>وزارت دفاع طالبان از تاجیکستان و ازبکستان بار دیگر خواست تا متحدینی آبرامز دولت پیشین را به انفصال اسلامی افغانستان برگردانند</td>\n",
              "      <td>وزارت دفاع طالبان از تاجیکستان و ازبکستان بار دیگر خواست تا هلی‌کوپترهای چرخبال دولت پیشین را به امارت اسلامی افغانستان برگردانند</td>\n",
              "    </tr>\n",
              "    <tr>\n",
              "      <th>50</th>\n",
              "      <td>حاکمان چین تعالیم bp چینی سون ترف در کتاب هنر امرمقامات را ترف گوش خود دارند</td>\n",
              "      <td>حاکمان چین تعالیم استراتژیست چینی سون تزو در کتاب هنر رزم را آویزه گوش خود دارند</td>\n",
              "    </tr>\n",
              "    <tr>\n",
              "      <th>51</th>\n",
              "      <td>حاکمان چین تعالیم bp چینی سون ترف در کتاب هنر امرمقامات را ترف گوش خود دارند</td>\n",
              "      <td>حاکمان چین تعالیم استراتژیست چینی سون تزو در کتاب هنر رزم را آویزه گوش خود دارند</td>\n",
              "    </tr>\n",
              "    <tr>\n",
              "      <th>52</th>\n",
              "      <td>ورزشکاران سریلانکایی مدت‌ها است که از سفر به سیمین خارجی برای فرار از کشورشان استفاده می‌کنند</td>\n",
              "      <td>ورزشکاران سریلانکایی مدت‌ها است که از سفر به تورنمنت‌های خارجی برای فرار از کشورشان استفاده می‌کنند</td>\n",
              "    </tr>\n",
              "    <tr>\n",
              "      <th>53</th>\n",
              "      <td>ورزشکاران سریلانکایی مدت‌ها است که از سفر به سیمین خارجی برای فرار از کشورشان استفاده می‌کنند</td>\n",
              "      <td>ورزشکاران سریلانکایی مدت‌ها است که از سفر به تورنمنت‌های خارجی برای فرار از کشورشان استفاده می‌کنند</td>\n",
              "    </tr>\n",
              "    <tr>\n",
              "      <th>54</th>\n",
              "      <td>با توجه به اینکه کاندیدایی بیشتر افراد اختیارداده و در خانه کار می‌کنند ممکن است بیشتر از گذشته در خانه با استرس شعری نرم کنند</td>\n",
              "      <td>با توجه به اینکه این‌روزها بیشتر افراد دورکارند و در خانه کار می‌کنند ممکن است بیشتر از گذشته در خانه با استرس دست‌وپنجه نرم کنند</td>\n",
              "    </tr>\n",
              "    <tr>\n",
              "      <th>55</th>\n",
              "      <td>با توجه به اینکه کاندیدایی بیشتر افراد اختیارداده و در خانه کار می‌کنند ممکن است بیشتر از گذشته در خانه با استرس شعری نرم کنند</td>\n",
              "      <td>با توجه به اینکه این‌روزها بیشتر افراد دورکارند و در خانه کار می‌کنند ممکن است بیشتر از گذشته در خانه با استرس دست‌وپنجه نرم کنند</td>\n",
              "    </tr>\n",
              "    <tr>\n",
              "      <th>56</th>\n",
              "      <td>کیب عباوی ترف است که درگیریک بسیاری دارد</td>\n",
              "      <td>گرام ماسالا ادویه‌ای است که طرف‌داران بسیاری دارد</td>\n",
              "    </tr>\n",
              "    <tr>\n",
              "      <th>57</th>\n",
              "      <td>کیب عباوی ترف است که درگیریک بسیاری دارد</td>\n",
              "      <td>گرام ماسالا ادویه‌ای است که طرف‌داران بسیاری دارد</td>\n",
              "    </tr>\n",
              "    <tr>\n",
              "      <th>58</th>\n",
              "      <td>کیب کلی در انواع مختلف اقتصاد به رفتار مردم توجه می‌شود</td>\n",
              "      <td>به‌طور کلی در انواع مختلف اقتصاد به رفتار مردم توجه می‌شود</td>\n",
              "    </tr>\n",
              "    <tr>\n",
              "      <th>59</th>\n",
              "      <td>کیب کلی در انواع مختلف اقتصاد به رفتار مردم توجه می‌شود</td>\n",
              "      <td>به‌طور کلی در انواع مختلف اقتصاد به رفتار مردم توجه می‌شود</td>\n",
              "    </tr>\n",
              "    <tr>\n",
              "      <th>60</th>\n",
              "      <td>کیب این روزها یکی از مشکلات خیلی از تبتیها جوان برگزاری جشن عروسی مناسب و ترف است</td>\n",
              "      <td>مطمئنا این روزها یکی از مشکلات خیلی از زوج‌های جوان برگزاری جشن عروسی مناسب و کم‌خرج است</td>\n",
              "    </tr>\n",
              "    <tr>\n",
              "      <th>61</th>\n",
              "      <td>کیب این روزها یکی از مشکلات خیلی از تبتیها جوان برگزاری جشن عروسی مناسب و ترف است</td>\n",
              "      <td>مطمئنا این روزها یکی از مشکلات خیلی از زوج‌های جوان برگزاری جشن عروسی مناسب و کم‌خرج است</td>\n",
              "    </tr>\n",
              "    <tr>\n",
              "      <th>62</th>\n",
              "      <td>پس انداز کردن آن هم در این شرایط اقتصادی بسیار دشوار است</td>\n",
              "      <td>پس انداز کردن آن هم در این شرایط اقتصادی بسیار دشوار است</td>\n",
              "    </tr>\n",
              "    <tr>\n",
              "      <th>63</th>\n",
              "      <td>پس انداز کردن آن هم در این شرایط اقتصادی بسیار دشوار است</td>\n",
              "      <td>پس انداز کردن آن هم در این شرایط اقتصادی بسیار دشوار است</td>\n",
              "    </tr>\n",
              "    <tr>\n",
              "      <th>64</th>\n",
              "      <td>آموزش مالی مهم‌ترین دوره‌ی آموزشی است</td>\n",
              "      <td>آموزش مالی مهم‌ترین دوره‌ی آموزشی است</td>\n",
              "    </tr>\n",
              "    <tr>\n",
              "      <th>65</th>\n",
              "      <td>آموزش مالی مهم‌ترین دوره‌ی آموزشی است</td>\n",
              "      <td>آموزش مالی مهم‌ترین دوره‌ی آموزشی است</td>\n",
              "    </tr>\n",
              "    <tr>\n",
              "      <th>66</th>\n",
              "      <td>بیشتر ما کرینگن که سخنرانی پیامی نگو از سوی سخنران به مخاطبان است</td>\n",
              "      <td>بیشتر ما می‌پنداریم که سخنرانی پیامی یک‌سویه از سوی سخنران به مخاطبان است</td>\n",
              "    </tr>\n",
              "    <tr>\n",
              "      <th>67</th>\n",
              "      <td>بیشتر ما کرینگن که سخنرانی پیامی نگو از سوی سخنران به مخاطبان است</td>\n",
              "      <td>بیشتر ما می‌پنداریم که سخنرانی پیامی یک‌سویه از سوی سخنران به مخاطبان است</td>\n",
              "    </tr>\n",
              "    <tr>\n",
              "      <th>68</th>\n",
              "      <td>با پایان این دور از گفتگوها هیأت اندکند جمهوری اسلامی ایران ساعاتی دیگر به تهران بازخواهد گشت</td>\n",
              "      <td>با پایان این دور از گفتگوها هیأت مذاکره‌کننده جمهوری اسلامی ایران ساعاتی دیگر به تهران بازخواهد گشت</td>\n",
              "    </tr>\n",
              "    <tr>\n",
              "      <th>69</th>\n",
              "      <td>با پایان این دور از گفتگوها هیأت اندکند جمهوری اسلامی ایران ساعاتی دیگر به تهران بازخواهد گشت</td>\n",
              "      <td>با پایان این دور از گفتگوها هیأت مذاکره‌کننده جمهوری اسلامی ایران ساعاتی دیگر به تهران بازخواهد گشت</td>\n",
              "    </tr>\n",
              "    <tr>\n",
              "      <th>70</th>\n",
              "      <td>رئیس قوه قضاییه در پیامی گفت خبرنگاران می‌توانند در جبهه جهاد تبیین و ترف فعالانه و ترف نسلمانان کنند</td>\n",
              "      <td>رئیس قوه قضاییه در پیامی گفت خبرنگاران می‌توانند در جبهه جهاد تبیین و روشنگری فعالانه و حق‌طلبانه کنشگری کنند</td>\n",
              "    </tr>\n",
              "    <tr>\n",
              "      <th>71</th>\n",
              "      <td>رئیس قوه قضاییه در پیامی گفت خبرنگاران می‌توانند در جبهه جهاد تبیین و ترف فعالانه و ترف نسلمانان کنند</td>\n",
              "      <td>رئیس قوه قضاییه در پیامی گفت خبرنگاران می‌توانند در جبهه جهاد تبیین و روشنگری فعالانه و حق‌طلبانه کنشگری کنند</td>\n",
              "    </tr>\n",
              "    <tr>\n",
              "      <th>72</th>\n",
              "      <td>در شبانه روز گذشته ۵۴ بیمار ترف در کشور فوت شدند</td>\n",
              "      <td>در شبانه روز گذشته ۵۴ بیمار کرونایی در کشور فوت شدند</td>\n",
              "    </tr>\n",
              "    <tr>\n",
              "      <th>73</th>\n",
              "      <td>در شبانه روز گذشته ۵۴ بیمار ترف در کشور فوت شدند</td>\n",
              "      <td>در شبانه روز گذشته ۵۴ بیمار کرونایی در کشور فوت شدند</td>\n",
              "    </tr>\n",
              "    <tr>\n",
              "      <th>74</th>\n",
              "      <td>این خوشنویسی توسط هنرمندان ناشناس هندی به تصویر کشیده شده است</td>\n",
              "      <td>این تابلوها توسط هنرمندان ناشناس هندی به تصویر کشیده شده است</td>\n",
              "    </tr>\n",
              "    <tr>\n",
              "      <th>75</th>\n",
              "      <td>این خوشنویسی توسط هنرمندان ناشناس هندی به تصویر کشیده شده است</td>\n",
              "      <td>این تابلوها توسط هنرمندان ناشناس هندی به تصویر کشیده شده است</td>\n",
              "    </tr>\n",
              "    <tr>\n",
              "      <th>76</th>\n",
              "      <td>داشتن دوستان همراه و می‌شناخت نعمت است</td>\n",
              "      <td>داشتن دوستان همراه و صمیمی نعمت است</td>\n",
              "    </tr>\n",
              "    <tr>\n",
              "      <th>77</th>\n",
              "      <td>داشتن دوستان همراه و می‌شناخت نعمت است</td>\n",
              "      <td>داشتن دوستان همراه و صمیمی نعمت است</td>\n",
              "    </tr>\n",
              "    <tr>\n",
              "      <th>78</th>\n",
              "      <td>حضور در باشگاه ورزشی آداب و قوانینی دارد</td>\n",
              "      <td>حضور در باشگاه ورزشی آداب و قوانینی دارد</td>\n",
              "    </tr>\n",
              "    <tr>\n",
              "      <th>79</th>\n",
              "      <td>حضور در باشگاه ورزشی آداب و قوانینی دارد</td>\n",
              "      <td>حضور در باشگاه ورزشی آداب و قوانینی دارد</td>\n",
              "    </tr>\n",
              "    <tr>\n",
              "      <th>80</th>\n",
              "      <td>گاهی افراد به دلایل مختلف ٤۸ را پنهان می‌کنند</td>\n",
              "      <td>گاهی افراد به دلایل مختلف احساساتشان را پنهان می‌کنند</td>\n",
              "    </tr>\n",
              "    <tr>\n",
              "      <th>81</th>\n",
              "      <td>گاهی افراد به دلایل مختلف ٤۸ را پنهان می‌کنند</td>\n",
              "      <td>گاهی افراد به دلایل مختلف احساساتشان را پنهان می‌کنند</td>\n",
              "    </tr>\n",
              "    <tr>\n",
              "      <th>82</th>\n",
              "      <td>حتما برای شما هم پیش آمده که با یک سؤال یا حرف ساده ناخواسته کسی را ناراحت کرده باشید</td>\n",
              "      <td>حتما برای شما هم پیش آمده که با یک سؤال یا حرف ساده ناخواسته کسی را ناراحت کرده باشید</td>\n",
              "    </tr>\n",
              "    <tr>\n",
              "      <th>83</th>\n",
              "      <td>حتما برای شما هم پیش آمده که با یک سؤال یا حرف ساده ناخواسته کسی را ناراحت کرده باشید</td>\n",
              "      <td>حتما برای شما هم پیش آمده که با یک سؤال یا حرف ساده ناخواسته کسی را ناراحت کرده باشید</td>\n",
              "    </tr>\n",
              "    <tr>\n",
              "      <th>84</th>\n",
              "      <td>از گذشته تا امروز زنان سهم انکارناپذیری در فعالیت‌های اقتصادی و تولید ملی داشته‌اند</td>\n",
              "      <td>از گذشته تا امروز زنان سهم انکارناپذیری در فعالیت‌های اقتصادی و تولید ملی داشته‌اند</td>\n",
              "    </tr>\n",
              "    <tr>\n",
              "      <th>85</th>\n",
              "      <td>از گذشته تا امروز زنان سهم انکارناپذیری در فعالیت‌های اقتصادی و تولید ملی داشته‌اند</td>\n",
              "      <td>از گذشته تا امروز زنان سهم انکارناپذیری در فعالیت‌های اقتصادی و تولید ملی داشته‌اند</td>\n",
              "    </tr>\n",
              "    <tr>\n",
              "      <th>86</th>\n",
              "      <td>یک تشنجاتی شامل ترف و ترف است</td>\n",
              "      <td>یک رایانه شامل سخت‌افزار و نرم‌افزار است</td>\n",
              "    </tr>\n",
              "    <tr>\n",
              "      <th>87</th>\n",
              "      <td>یک تشنجاتی شامل ترف و ترف است</td>\n",
              "      <td>یک رایانه شامل سخت‌افزار و نرم‌افزار است</td>\n",
              "    </tr>\n",
              "    <tr>\n",
              "      <th>88</th>\n",
              "      <td>هوش مصنوعی در غلامرضا میلادی تبدیل به منظورتأمین مونرو شد</td>\n",
              "      <td>هوش مصنوعی در ۱۹۵۶ میلادی تبدیل به شاخه‌ای آکادمیک شد</td>\n",
              "    </tr>\n",
              "    <tr>\n",
              "      <th>89</th>\n",
              "      <td>هوش مصنوعی در غلامرضا میلادی تبدیل به منظورتأمین مونرو شد</td>\n",
              "      <td>هوش مصنوعی در ۱۹۵۶ میلادی تبدیل به شاخه‌ای آکادمیک شد</td>\n",
              "    </tr>\n",
              "    <tr>\n",
              "      <th>90</th>\n",
              "      <td>هنوز تعریف دقیقی برای هوش مصنوعی که مورد توافق دانشمندان این علم باشد ارائه کژدارو</td>\n",
              "      <td>هنوز تعریف دقیقی برای هوش مصنوعی که مورد توافق دانشمندان این علم باشد ارائه نشده‌است</td>\n",
              "    </tr>\n",
              "    <tr>\n",
              "      <th>91</th>\n",
              "      <td>هنوز تعریف دقیقی برای هوش مصنوعی که مورد توافق دانشمندان این علم باشد ارائه کژدارو</td>\n",
              "      <td>هنوز تعریف دقیقی برای هوش مصنوعی که مورد توافق دانشمندان این علم باشد ارائه نشده‌است</td>\n",
              "    </tr>\n",
              "    <tr>\n",
              "      <th>92</th>\n",
              "      <td>کیب است که تاکنون دانشمندان به یک تعریف جامع در آن نرسیده‌اند</td>\n",
              "      <td>مبحثی است که تاکنون دانشمندان به یک تعریف جامع در آن نرسیده‌اند</td>\n",
              "    </tr>\n",
              "    <tr>\n",
              "      <th>93</th>\n",
              "      <td>کیب است که تاکنون دانشمندان به یک تعریف جامع در آن نرسیده‌اند</td>\n",
              "      <td>مبحثی است که تاکنون دانشمندان به یک تعریف جامع در آن نرسیده‌اند</td>\n",
              "    </tr>\n",
              "    <tr>\n",
              "      <th>94</th>\n",
              "      <td>مشکل قضائی خبرنگاران محکوم و بازداشتی را رفع کنید</td>\n",
              "      <td>مشکل قضائی خبرنگاران محکوم و بازداشتی را رفع کنید</td>\n",
              "    </tr>\n",
              "    <tr>\n",
              "      <th>95</th>\n",
              "      <td>مشکل قضائی خبرنگاران محکوم و بازداشتی را رفع کنید</td>\n",
              "      <td>مشکل قضائی خبرنگاران محکوم و بازداشتی را رفع کنید</td>\n",
              "    </tr>\n",
              "    <tr>\n",
              "      <th>96</th>\n",
              "      <td>تازه‌ترین خبرهای روز و اخبار فوری چکی ویدیویی و رایگان در دسترس درمکه</td>\n",
              "      <td>تازه‌ترین خبرهای روز و اخبار فوری به‌صورت ویدیویی و رایگان در دسترس شماست</td>\n",
              "    </tr>\n",
              "    <tr>\n",
              "      <th>97</th>\n",
              "      <td>تازه‌ترین خبرهای روز و اخبار فوری چکی ویدیویی و رایگان در دسترس درمکه</td>\n",
              "      <td>تازه‌ترین خبرهای روز و اخبار فوری به‌صورت ویدیویی و رایگان در دسترس شماست</td>\n",
              "    </tr>\n",
              "    <tr>\n",
              "      <th>98</th>\n",
              "      <td>کیب که همه زندگینامه چه کسی آنها را کنترل می‌کند</td>\n",
              "      <td>رسانه‌هایی که همه می‌دانید چه کسی آنها را کنترل می‌کند</td>\n",
              "    </tr>\n",
              "    <tr>\n",
              "      <th>99</th>\n",
              "      <td>کیب که همه زندگینامه چه کسی آنها را کنترل می‌کند</td>\n",
              "      <td>رسانه‌هایی که همه می‌دانید چه کسی آنها را کنترل می‌کند</td>\n",
              "    </tr>\n",
              "  </tbody>\n",
              "</table>\n",
              "</div>\n",
              "      <button class=\"colab-df-convert\" onclick=\"convertToInteractive('df-5f5e200e-6661-4cbb-9dac-acb1a8ac4210')\"\n",
              "              title=\"Convert this dataframe to an interactive table.\"\n",
              "              style=\"display:none;\">\n",
              "        \n",
              "  <svg xmlns=\"http://www.w3.org/2000/svg\" height=\"24px\"viewBox=\"0 0 24 24\"\n",
              "       width=\"24px\">\n",
              "    <path d=\"M0 0h24v24H0V0z\" fill=\"none\"/>\n",
              "    <path d=\"M18.56 5.44l.94 2.06.94-2.06 2.06-.94-2.06-.94-.94-2.06-.94 2.06-2.06.94zm-11 1L8.5 8.5l.94-2.06 2.06-.94-2.06-.94L8.5 2.5l-.94 2.06-2.06.94zm10 10l.94 2.06.94-2.06 2.06-.94-2.06-.94-.94-2.06-.94 2.06-2.06.94z\"/><path d=\"M17.41 7.96l-1.37-1.37c-.4-.4-.92-.59-1.43-.59-.52 0-1.04.2-1.43.59L10.3 9.45l-7.72 7.72c-.78.78-.78 2.05 0 2.83L4 21.41c.39.39.9.59 1.41.59.51 0 1.02-.2 1.41-.59l7.78-7.78 2.81-2.81c.8-.78.8-2.07 0-2.86zM5.41 20L4 18.59l7.72-7.72 1.47 1.35L5.41 20z\"/>\n",
              "  </svg>\n",
              "      </button>\n",
              "      \n",
              "  <style>\n",
              "    .colab-df-container {\n",
              "      display:flex;\n",
              "      flex-wrap:wrap;\n",
              "      gap: 12px;\n",
              "    }\n",
              "\n",
              "    .colab-df-convert {\n",
              "      background-color: #E8F0FE;\n",
              "      border: none;\n",
              "      border-radius: 50%;\n",
              "      cursor: pointer;\n",
              "      display: none;\n",
              "      fill: #1967D2;\n",
              "      height: 32px;\n",
              "      padding: 0 0 0 0;\n",
              "      width: 32px;\n",
              "    }\n",
              "\n",
              "    .colab-df-convert:hover {\n",
              "      background-color: #E2EBFA;\n",
              "      box-shadow: 0px 1px 2px rgba(60, 64, 67, 0.3), 0px 1px 3px 1px rgba(60, 64, 67, 0.15);\n",
              "      fill: #174EA6;\n",
              "    }\n",
              "\n",
              "    [theme=dark] .colab-df-convert {\n",
              "      background-color: #3B4455;\n",
              "      fill: #D2E3FC;\n",
              "    }\n",
              "\n",
              "    [theme=dark] .colab-df-convert:hover {\n",
              "      background-color: #434B5C;\n",
              "      box-shadow: 0px 1px 3px 1px rgba(0, 0, 0, 0.15);\n",
              "      filter: drop-shadow(0px 1px 2px rgba(0, 0, 0, 0.3));\n",
              "      fill: #FFFFFF;\n",
              "    }\n",
              "  </style>\n",
              "\n",
              "      <script>\n",
              "        const buttonEl =\n",
              "          document.querySelector('#df-5f5e200e-6661-4cbb-9dac-acb1a8ac4210 button.colab-df-convert');\n",
              "        buttonEl.style.display =\n",
              "          google.colab.kernel.accessAllowed ? 'block' : 'none';\n",
              "\n",
              "        async function convertToInteractive(key) {\n",
              "          const element = document.querySelector('#df-5f5e200e-6661-4cbb-9dac-acb1a8ac4210');\n",
              "          const dataTable =\n",
              "            await google.colab.kernel.invokeFunction('convertToInteractive',\n",
              "                                                     [key], {});\n",
              "          if (!dataTable) return;\n",
              "\n",
              "          const docLinkHtml = 'Like what you see? Visit the ' +\n",
              "            '<a target=\"_blank\" href=https://colab.research.google.com/notebooks/data_table.ipynb>data table notebook</a>'\n",
              "            + ' to learn more about interactive tables.';\n",
              "          element.innerHTML = '';\n",
              "          dataTable['output_type'] = 'display_data';\n",
              "          await google.colab.output.renderOutput(dataTable, element);\n",
              "          const docLink = document.createElement('div');\n",
              "          docLink.innerHTML = docLinkHtml;\n",
              "          element.appendChild(docLink);\n",
              "        }\n",
              "      </script>\n",
              "    </div>\n",
              "  </div>\n",
              "  "
            ]
          },
          "metadata": {},
          "execution_count": 44
        }
      ],
      "source": [
        "pd.set_option('display.max_colwidth', None)\n",
        "pd.set_option('display.max_rows', None)\n",
        "result_df"
      ]
    }
  ],
  "metadata": {
    "accelerator": "GPU",
    "colab": {
      "collapsed_sections": [],
      "name": "custom_loss_sentence_building.ipynb",
      "provenance": []
    },
    "gpuClass": "standard",
    "kernelspec": {
      "display_name": "Python 3",
      "name": "python3"
    },
    "language_info": {
      "name": "python"
    }
  },
  "nbformat": 4,
  "nbformat_minor": 0
}