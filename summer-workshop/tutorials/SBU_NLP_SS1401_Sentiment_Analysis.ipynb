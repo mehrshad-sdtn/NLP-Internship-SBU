{
  "cells": [
    {
      "cell_type": "markdown",
      "metadata": {
        "id": "pnVDAnde380Q"
      },
      "source": [
        "<img src=\"https://upload.wikimedia.org/wikipedia/commons/thumb/6/6a/Sbu-logo.svg/1200px-Sbu-logo.svg.png\" alt=\"keras\" width=\"150\" height=\"150\">\n",
        "\n",
        "<h1 align=center><font size = 7>NLP Summer School</font></h1>\n",
        "<h1 align=center><font size = 6>NLP Research Lab</font></h1>\n",
        "<h1 align=center><font size = 5>Shahid Beheshti University</font></h1>\n",
        "<h1 align=center><font size = 4> July 2022 </font></h1>"
      ]
    },
    {
      "cell_type": "markdown",
      "metadata": {
        "id": "xrPMGfaSr9mU"
      },
      "source": [
        "# **Getting Ready!**"
      ]
    },
    {
      "cell_type": "markdown",
      "metadata": {
        "id": "biritBdgPqnt"
      },
      "source": [
        "## Installation"
      ]
    },
    {
      "cell_type": "code",
      "execution_count": null,
      "metadata": {
        "colab": {
          "base_uri": "https://localhost:8080/"
        },
        "id": "LCamXn5R35Hx",
        "outputId": "b10d3d7b-7209-4e17-f501-e410b6084e41"
      },
      "outputs": [
        {
          "output_type": "stream",
          "name": "stdout",
          "text": [
            "--2022-07-19 19:40:05--  https://dl.fbaipublicfiles.com/fasttext/vectors-crawl/cc.fa.300.bin.gz\n",
            "Resolving dl.fbaipublicfiles.com (dl.fbaipublicfiles.com)... 104.22.75.142, 172.67.9.4, 104.22.74.142, ...\n",
            "Connecting to dl.fbaipublicfiles.com (dl.fbaipublicfiles.com)|104.22.75.142|:443... connected.\n",
            "HTTP request sent, awaiting response... 200 OK\n",
            "Length: 4502524724 (4.2G) [application/octet-stream]\n",
            "Saving to: ‘cc.fa.300.bin.gz’\n",
            "\n",
            "cc.fa.300.bin.gz    100%[===================>]   4.19G  12.4MB/s    in 3m 22s  \n",
            "\n",
            "2022-07-19 19:43:27 (21.3 MB/s) - ‘cc.fa.300.bin.gz’ saved [4502524724/4502524724]\n",
            "\n",
            "Looking in indexes: https://pypi.org/simple, https://us-python.pkg.dev/colab-wheels/public/simple/\n",
            "Collecting fasttext\n",
            "  Downloading fasttext-0.9.2.tar.gz (68 kB)\n",
            "\u001b[K     |████████████████████████████████| 68 kB 4.0 MB/s \n",
            "\u001b[?25hCollecting pybind11>=2.2\n",
            "  Using cached pybind11-2.10.0-py3-none-any.whl (213 kB)\n",
            "Requirement already satisfied: setuptools>=0.7.0 in /usr/local/lib/python3.7/dist-packages (from fasttext) (57.4.0)\n",
            "Requirement already satisfied: numpy in /usr/local/lib/python3.7/dist-packages (from fasttext) (1.21.6)\n",
            "Building wheels for collected packages: fasttext\n",
            "  Building wheel for fasttext (setup.py) ... \u001b[?25l\u001b[?25hdone\n",
            "  Created wheel for fasttext: filename=fasttext-0.9.2-cp37-cp37m-linux_x86_64.whl size=3165341 sha256=c510ce19a51cb04ec8be11ce0945ad1aae7151139d9b078c7009c9893084b15b\n",
            "  Stored in directory: /root/.cache/pip/wheels/4e/ca/bf/b020d2be95f7641801a6597a29c8f4f19e38f9c02a345bab9b\n",
            "Successfully built fasttext\n",
            "Installing collected packages: pybind11, fasttext\n",
            "Successfully installed fasttext-0.9.2 pybind11-2.10.0\n"
          ]
        }
      ],
      "source": [
        "!wget https://dl.fbaipublicfiles.com/fasttext/vectors-crawl/cc.fa.300.bin.gz\n",
        "!gunzip /content/cc.fa.300.bin.gz\n",
        "!pip install fasttext"
      ]
    },
    {
      "cell_type": "code",
      "metadata": {
        "id": "4eNhO4RCvSaq",
        "colab": {
          "base_uri": "https://localhost:8080/"
        },
        "outputId": "0bfb5a27-d7bb-4e43-d0ee-11981b7cd8ef"
      },
      "source": [
        "!pip install hazm"
      ],
      "execution_count": null,
      "outputs": [
        {
          "output_type": "stream",
          "name": "stdout",
          "text": [
            "Looking in indexes: https://pypi.org/simple, https://us-python.pkg.dev/colab-wheels/public/simple/\n",
            "Collecting hazm\n",
            "  Downloading hazm-0.7.0-py3-none-any.whl (316 kB)\n",
            "\u001b[K     |████████████████████████████████| 316 kB 6.9 MB/s \n",
            "\u001b[?25hCollecting nltk==3.3\n",
            "  Downloading nltk-3.3.0.zip (1.4 MB)\n",
            "\u001b[K     |████████████████████████████████| 1.4 MB 44.7 MB/s \n",
            "\u001b[?25hCollecting libwapiti>=0.2.1\n",
            "  Downloading libwapiti-0.2.1.tar.gz (233 kB)\n",
            "\u001b[K     |████████████████████████████████| 233 kB 54.0 MB/s \n",
            "\u001b[?25hRequirement already satisfied: six in /usr/local/lib/python3.7/dist-packages (from nltk==3.3->hazm) (1.15.0)\n",
            "Building wheels for collected packages: nltk, libwapiti\n",
            "  Building wheel for nltk (setup.py) ... \u001b[?25l\u001b[?25hdone\n",
            "  Created wheel for nltk: filename=nltk-3.3-py3-none-any.whl size=1394486 sha256=ba58394a19ee7f09ad498f24a45ab81daccdb920b53c010fcb2147bc19e22056\n",
            "  Stored in directory: /root/.cache/pip/wheels/9b/fd/0c/d92302c876e5de87ebd7fc0979d82edb93e2d8d768bf71fac4\n",
            "  Building wheel for libwapiti (setup.py) ... \u001b[?25l\u001b[?25hdone\n",
            "  Created wheel for libwapiti: filename=libwapiti-0.2.1-cp37-cp37m-linux_x86_64.whl size=154724 sha256=f08565e70a1f58c9d6af48d049bc92f0cc645259212e53af44574253d72b7741\n",
            "  Stored in directory: /root/.cache/pip/wheels/ab/b2/5b/0fe4b8f5c0e65341e8ea7bb3f4a6ebabfe8b1ac31322392dbf\n",
            "Successfully built nltk libwapiti\n",
            "Installing collected packages: nltk, libwapiti, hazm\n",
            "  Attempting uninstall: nltk\n",
            "    Found existing installation: nltk 3.7\n",
            "    Uninstalling nltk-3.7:\n",
            "      Successfully uninstalled nltk-3.7\n",
            "Successfully installed hazm-0.7.0 libwapiti-0.2.1 nltk-3.3\n"
          ]
        }
      ]
    },
    {
      "cell_type": "code",
      "metadata": {
        "id": "3oOik4dtS3Rd",
        "colab": {
          "base_uri": "https://localhost:8080/"
        },
        "outputId": "9206bc5d-912c-45c2-ea10-7784fc1dd8e2"
      },
      "source": [
        "!pip install -q clean-text[gpl]"
      ],
      "execution_count": null,
      "outputs": [
        {
          "output_type": "stream",
          "name": "stdout",
          "text": [
            "\u001b[K     |████████████████████████████████| 53 kB 1.5 MB/s \n",
            "\u001b[K     |████████████████████████████████| 175 kB 39.1 MB/s \n",
            "\u001b[K     |████████████████████████████████| 235 kB 46.7 MB/s \n",
            "\u001b[?25h  Building wheel for emoji (setup.py) ... \u001b[?25l\u001b[?25hdone\n"
          ]
        }
      ]
    },
    {
      "cell_type": "code",
      "metadata": {
        "id": "2PfOHzbgYTaV",
        "colab": {
          "base_uri": "https://localhost:8080/"
        },
        "outputId": "e9d651f7-e83f-4e0c-86e3-4f702b2350d8"
      },
      "source": [
        "!pip install pyyaml h5py"
      ],
      "execution_count": null,
      "outputs": [
        {
          "output_type": "stream",
          "name": "stdout",
          "text": [
            "Looking in indexes: https://pypi.org/simple, https://us-python.pkg.dev/colab-wheels/public/simple/\n",
            "Requirement already satisfied: pyyaml in /usr/local/lib/python3.7/dist-packages (3.13)\n",
            "Requirement already satisfied: h5py in /usr/local/lib/python3.7/dist-packages (3.1.0)\n",
            "Requirement already satisfied: numpy>=1.14.5 in /usr/local/lib/python3.7/dist-packages (from h5py) (1.21.6)\n",
            "Requirement already satisfied: cached-property in /usr/local/lib/python3.7/dist-packages (from h5py) (1.5.2)\n"
          ]
        }
      ]
    },
    {
      "cell_type": "markdown",
      "metadata": {
        "id": "oB3PY5fePw_Z"
      },
      "source": [
        "## Imports"
      ]
    },
    {
      "cell_type": "code",
      "metadata": {
        "id": "WHWM-WXamrf-",
        "colab": {
          "base_uri": "https://localhost:8080/"
        },
        "outputId": "6026d86a-45d5-45f5-e453-7e868fa07562"
      },
      "source": [
        "from google.colab import drive\n",
        "drive.mount('/content/drive')"
      ],
      "execution_count": null,
      "outputs": [
        {
          "output_type": "stream",
          "name": "stdout",
          "text": [
            "Mounted at /content/drive\n"
          ]
        }
      ]
    },
    {
      "cell_type": "code",
      "source": [
        "%cd /content/drive/My Drive/NLP Lab & Thesis/TA/کارآموزی تابستان 1401/"
      ],
      "metadata": {
        "colab": {
          "base_uri": "https://localhost:8080/"
        },
        "id": "jG3wh1MpTdPa",
        "outputId": "4b439263-3c18-4652-9fac-260ee6a032af"
      },
      "execution_count": null,
      "outputs": [
        {
          "output_type": "stream",
          "name": "stdout",
          "text": [
            "/content/drive/My Drive/NLP Lab & Thesis/TA/کارآموزی تابستان 1401\n"
          ]
        }
      ]
    },
    {
      "cell_type": "code",
      "metadata": {
        "id": "17jI8JnCDXiF"
      },
      "source": [
        "import re\n",
        "import hazm\n",
        "# import numpy\n",
        "import random\n",
        "import fasttext\n",
        "import numpy as np\n",
        "import pandas as pd\n",
        "import keras.backend as K\n",
        "from cleantext import clean\n",
        "import matplotlib.pyplot as plt\n",
        "import plotly.graph_objects as go\n",
        "from tensorflow.keras.optimizers import Adam\n",
        "from keras.models import Sequential, load_model\n",
        "from keras.layers import Dropout, Dense, LSTM, Bidirectional"
      ],
      "execution_count": null,
      "outputs": []
    },
    {
      "cell_type": "markdown",
      "metadata": {
        "id": "tx_fbYGnobyK"
      },
      "source": [
        "# **Processing The Data**"
      ]
    },
    {
      "cell_type": "markdown",
      "metadata": {
        "id": "Wav38304Q0oU"
      },
      "source": [
        "## Reading Data"
      ]
    },
    {
      "cell_type": "code",
      "metadata": {
        "id": "rDdQdAE1m2bj",
        "colab": {
          "base_uri": "https://localhost:8080/",
          "height": 424
        },
        "outputId": "6368dfe4-12ef-4574-f171-529c35c01a96"
      },
      "source": [
        "xls = pd.ExcelFile('Labeled-Sentences.xlsx')\n",
        "df1 = pd.read_excel(xls, 'Sheet1')\n",
        "data_sheet1 = df1[['review', 'label']]\n",
        "df2 = pd.read_excel(xls, 'Sheet2')\n",
        "data_sheet2 = df2[['review', 'label']]\n",
        "Data = pd.concat([data_sheet1, data_sheet2], axis=0, join='inner')\n",
        "display(Data)"
      ],
      "execution_count": null,
      "outputs": [
        {
          "output_type": "display_data",
          "data": {
            "text/plain": [
              "                                                review  label\n",
              "0    سلام من یک ماه پیش در هتل شمس قشم بودم واقعا ه...      2\n",
              "1    سلام بنده با همراه خانوادم چهار روز در این هتل...      2\n",
              "2    ما از تاریخ ۵اسفند ۹۶تا۸اسفند ۹۶ در این هتل اق...      2\n",
              "3    من 2روز در اين هتل به همراه همسرم اقامت داشتم ...      2\n",
              "4    سفر بسیار خوبی بود هتل بسیار زیبا و قشنگی بود ...      2\n",
              "..                                                 ...    ...\n",
              "698      هتل بسيار تميز و داراي استانداردهاي روز دنيا       2\n",
              "699                                 طراحي مدرن و عالي       2\n",
              "700                 پرسنل آموزش ديده جوان و تحصيلكرده       2\n",
              "701                           اتاقهاي فوق العاده تميز       2\n",
              "702             . من واقعا أقامت آرامي را تجربه كردم .      2\n",
              "\n",
              "[1633 rows x 2 columns]"
            ],
            "text/html": [
              "\n",
              "  <div id=\"df-f3116da1-2944-4086-86ba-895f09e4b2a6\">\n",
              "    <div class=\"colab-df-container\">\n",
              "      <div>\n",
              "<style scoped>\n",
              "    .dataframe tbody tr th:only-of-type {\n",
              "        vertical-align: middle;\n",
              "    }\n",
              "\n",
              "    .dataframe tbody tr th {\n",
              "        vertical-align: top;\n",
              "    }\n",
              "\n",
              "    .dataframe thead th {\n",
              "        text-align: right;\n",
              "    }\n",
              "</style>\n",
              "<table border=\"1\" class=\"dataframe\">\n",
              "  <thead>\n",
              "    <tr style=\"text-align: right;\">\n",
              "      <th></th>\n",
              "      <th>review</th>\n",
              "      <th>label</th>\n",
              "    </tr>\n",
              "  </thead>\n",
              "  <tbody>\n",
              "    <tr>\n",
              "      <th>0</th>\n",
              "      <td>سلام من یک ماه پیش در هتل شمس قشم بودم واقعا ه...</td>\n",
              "      <td>2</td>\n",
              "    </tr>\n",
              "    <tr>\n",
              "      <th>1</th>\n",
              "      <td>سلام بنده با همراه خانوادم چهار روز در این هتل...</td>\n",
              "      <td>2</td>\n",
              "    </tr>\n",
              "    <tr>\n",
              "      <th>2</th>\n",
              "      <td>ما از تاریخ ۵اسفند ۹۶تا۸اسفند ۹۶ در این هتل اق...</td>\n",
              "      <td>2</td>\n",
              "    </tr>\n",
              "    <tr>\n",
              "      <th>3</th>\n",
              "      <td>من 2روز در اين هتل به همراه همسرم اقامت داشتم ...</td>\n",
              "      <td>2</td>\n",
              "    </tr>\n",
              "    <tr>\n",
              "      <th>4</th>\n",
              "      <td>سفر بسیار خوبی بود هتل بسیار زیبا و قشنگی بود ...</td>\n",
              "      <td>2</td>\n",
              "    </tr>\n",
              "    <tr>\n",
              "      <th>...</th>\n",
              "      <td>...</td>\n",
              "      <td>...</td>\n",
              "    </tr>\n",
              "    <tr>\n",
              "      <th>698</th>\n",
              "      <td>هتل بسيار تميز و داراي استانداردهاي روز دنيا</td>\n",
              "      <td>2</td>\n",
              "    </tr>\n",
              "    <tr>\n",
              "      <th>699</th>\n",
              "      <td>طراحي مدرن و عالي</td>\n",
              "      <td>2</td>\n",
              "    </tr>\n",
              "    <tr>\n",
              "      <th>700</th>\n",
              "      <td>پرسنل آموزش ديده جوان و تحصيلكرده</td>\n",
              "      <td>2</td>\n",
              "    </tr>\n",
              "    <tr>\n",
              "      <th>701</th>\n",
              "      <td>اتاقهاي فوق العاده تميز</td>\n",
              "      <td>2</td>\n",
              "    </tr>\n",
              "    <tr>\n",
              "      <th>702</th>\n",
              "      <td>. من واقعا أقامت آرامي را تجربه كردم .</td>\n",
              "      <td>2</td>\n",
              "    </tr>\n",
              "  </tbody>\n",
              "</table>\n",
              "<p>1633 rows × 2 columns</p>\n",
              "</div>\n",
              "      <button class=\"colab-df-convert\" onclick=\"convertToInteractive('df-f3116da1-2944-4086-86ba-895f09e4b2a6')\"\n",
              "              title=\"Convert this dataframe to an interactive table.\"\n",
              "              style=\"display:none;\">\n",
              "        \n",
              "  <svg xmlns=\"http://www.w3.org/2000/svg\" height=\"24px\"viewBox=\"0 0 24 24\"\n",
              "       width=\"24px\">\n",
              "    <path d=\"M0 0h24v24H0V0z\" fill=\"none\"/>\n",
              "    <path d=\"M18.56 5.44l.94 2.06.94-2.06 2.06-.94-2.06-.94-.94-2.06-.94 2.06-2.06.94zm-11 1L8.5 8.5l.94-2.06 2.06-.94-2.06-.94L8.5 2.5l-.94 2.06-2.06.94zm10 10l.94 2.06.94-2.06 2.06-.94-2.06-.94-.94-2.06-.94 2.06-2.06.94z\"/><path d=\"M17.41 7.96l-1.37-1.37c-.4-.4-.92-.59-1.43-.59-.52 0-1.04.2-1.43.59L10.3 9.45l-7.72 7.72c-.78.78-.78 2.05 0 2.83L4 21.41c.39.39.9.59 1.41.59.51 0 1.02-.2 1.41-.59l7.78-7.78 2.81-2.81c.8-.78.8-2.07 0-2.86zM5.41 20L4 18.59l7.72-7.72 1.47 1.35L5.41 20z\"/>\n",
              "  </svg>\n",
              "      </button>\n",
              "      \n",
              "  <style>\n",
              "    .colab-df-container {\n",
              "      display:flex;\n",
              "      flex-wrap:wrap;\n",
              "      gap: 12px;\n",
              "    }\n",
              "\n",
              "    .colab-df-convert {\n",
              "      background-color: #E8F0FE;\n",
              "      border: none;\n",
              "      border-radius: 50%;\n",
              "      cursor: pointer;\n",
              "      display: none;\n",
              "      fill: #1967D2;\n",
              "      height: 32px;\n",
              "      padding: 0 0 0 0;\n",
              "      width: 32px;\n",
              "    }\n",
              "\n",
              "    .colab-df-convert:hover {\n",
              "      background-color: #E2EBFA;\n",
              "      box-shadow: 0px 1px 2px rgba(60, 64, 67, 0.3), 0px 1px 3px 1px rgba(60, 64, 67, 0.15);\n",
              "      fill: #174EA6;\n",
              "    }\n",
              "\n",
              "    [theme=dark] .colab-df-convert {\n",
              "      background-color: #3B4455;\n",
              "      fill: #D2E3FC;\n",
              "    }\n",
              "\n",
              "    [theme=dark] .colab-df-convert:hover {\n",
              "      background-color: #434B5C;\n",
              "      box-shadow: 0px 1px 3px 1px rgba(0, 0, 0, 0.15);\n",
              "      filter: drop-shadow(0px 1px 2px rgba(0, 0, 0, 0.3));\n",
              "      fill: #FFFFFF;\n",
              "    }\n",
              "  </style>\n",
              "\n",
              "      <script>\n",
              "        const buttonEl =\n",
              "          document.querySelector('#df-f3116da1-2944-4086-86ba-895f09e4b2a6 button.colab-df-convert');\n",
              "        buttonEl.style.display =\n",
              "          google.colab.kernel.accessAllowed ? 'block' : 'none';\n",
              "\n",
              "        async function convertToInteractive(key) {\n",
              "          const element = document.querySelector('#df-f3116da1-2944-4086-86ba-895f09e4b2a6');\n",
              "          const dataTable =\n",
              "            await google.colab.kernel.invokeFunction('convertToInteractive',\n",
              "                                                     [key], {});\n",
              "          if (!dataTable) return;\n",
              "\n",
              "          const docLinkHtml = 'Like what you see? Visit the ' +\n",
              "            '<a target=\"_blank\" href=https://colab.research.google.com/notebooks/data_table.ipynb>data table notebook</a>'\n",
              "            + ' to learn more about interactive tables.';\n",
              "          element.innerHTML = '';\n",
              "          dataTable['output_type'] = 'display_data';\n",
              "          await google.colab.output.renderOutput(dataTable, element);\n",
              "          const docLink = document.createElement('div');\n",
              "          docLink.innerHTML = docLinkHtml;\n",
              "          element.appendChild(docLink);\n",
              "        }\n",
              "      </script>\n",
              "    </div>\n",
              "  </div>\n",
              "  "
            ]
          },
          "metadata": {}
        }
      ]
    },
    {
      "cell_type": "markdown",
      "metadata": {
        "id": "Y4eRtqh0Q6pS"
      },
      "source": [
        "## Handling The Missing Values"
      ]
    },
    {
      "cell_type": "code",
      "metadata": {
        "id": "kr7dXexjoHFe",
        "colab": {
          "base_uri": "https://localhost:8080/"
        },
        "outputId": "331d2c23-3e08-4b3f-b7ea-480f5d080a4a"
      },
      "source": [
        "# print missing values information\n",
        "print('missing values stats')\n",
        "print(Data.isnull().sum(), '\\n')"
      ],
      "execution_count": null,
      "outputs": [
        {
          "output_type": "stream",
          "name": "stdout",
          "text": [
            "missing values stats\n",
            "review    1\n",
            "label     0\n",
            "dtype: int64 \n",
            "\n"
          ]
        }
      ]
    },
    {
      "cell_type": "code",
      "metadata": {
        "id": "5hf_GEU8oaeB"
      },
      "source": [
        "# Deleting the rows with missing values\n",
        "Data = Data.dropna(how='any',axis=0) "
      ],
      "execution_count": null,
      "outputs": []
    },
    {
      "cell_type": "code",
      "metadata": {
        "id": "RFsN0STjoagW",
        "colab": {
          "base_uri": "https://localhost:8080/"
        },
        "outputId": "b9496616-483e-43db-90f0-296209283c55"
      },
      "source": [
        "# print missing values information\n",
        "print('missing values stats')\n",
        "print(Data.isnull().sum(), '\\n')"
      ],
      "execution_count": null,
      "outputs": [
        {
          "output_type": "stream",
          "name": "stdout",
          "text": [
            "missing values stats\n",
            "review    0\n",
            "label     0\n",
            "dtype: int64 \n",
            "\n"
          ]
        }
      ]
    },
    {
      "cell_type": "markdown",
      "metadata": {
        "id": "FbJU0T0ORgqy"
      },
      "source": [
        "## Processing The Sentences for their meaningfulness"
      ]
    },
    {
      "cell_type": "code",
      "metadata": {
        "id": "y_SH5JYCoaid",
        "colab": {
          "base_uri": "https://localhost:8080/"
        },
        "outputId": "1181404f-af93-40c6-cb4c-2bde2b708f99"
      },
      "source": [
        "# calculate the length of comments based on their words\n",
        "Data['review_len_by_words'] = Data['review'].apply(lambda t: len(hazm.word_tokenize(t)))\n",
        "min_max_len = Data[\"review_len_by_words\"].min(), Data[\"review_len_by_words\"].max()\n",
        "print(f'Min: {min_max_len[0]} \\tMax: {min_max_len[1]}')"
      ],
      "execution_count": null,
      "outputs": [
        {
          "output_type": "stream",
          "name": "stdout",
          "text": [
            "Min: 2 \tMax: 1199\n"
          ]
        }
      ]
    },
    {
      "cell_type": "markdown",
      "metadata": {
        "id": "WD75Mx35SV_2"
      },
      "source": [
        "**Plotting The Distribution of Word Counts Within Reviews**"
      ]
    },
    {
      "cell_type": "code",
      "metadata": {
        "id": "p-gZ2t-yoayI",
        "colab": {
          "base_uri": "https://localhost:8080/",
          "height": 542
        },
        "outputId": "497b7b12-2f1d-40bb-f217-d0a5137b10d7"
      },
      "source": [
        "fig = go.Figure()\n",
        "\n",
        "fig.add_trace(go.Histogram(\n",
        "    x=Data['review_len_by_words']))\n",
        "\n",
        "fig.update_layout(\n",
        "    title_text='Distribution of word counts within comments',\n",
        "    xaxis_title_text='Word Count',\n",
        "    yaxis_title_text='Frequency',\n",
        "    bargap=0.2,\n",
        "    bargroupgap=0.2)\n",
        "\n",
        "fig.show()"
      ],
      "execution_count": null,
      "outputs": [
        {
          "output_type": "display_data",
          "data": {
            "text/html": [
              "<html>\n",
              "<head><meta charset=\"utf-8\" /></head>\n",
              "<body>\n",
              "    <div>            <script src=\"https://cdnjs.cloudflare.com/ajax/libs/mathjax/2.7.5/MathJax.js?config=TeX-AMS-MML_SVG\"></script><script type=\"text/javascript\">if (window.MathJax) {MathJax.Hub.Config({SVG: {font: \"STIX-Web\"}});}</script>                <script type=\"text/javascript\">window.PlotlyConfig = {MathJaxConfig: 'local'};</script>\n",
              "        <script src=\"https://cdn.plot.ly/plotly-2.8.3.min.js\"></script>                <div id=\"17e9658c-6e66-4f03-877d-e3aa72abd210\" class=\"plotly-graph-div\" style=\"height:525px; width:100%;\"></div>            <script type=\"text/javascript\">                                    window.PLOTLYENV=window.PLOTLYENV || {};                                    if (document.getElementById(\"17e9658c-6e66-4f03-877d-e3aa72abd210\")) {                    Plotly.newPlot(                        \"17e9658c-6e66-4f03-877d-e3aa72abd210\",                        [{\"x\":[58,63,51,24,23,7,34,11,13,23,13,32,44,110,11,16,53,14,81,48,42,57,96,59,58,63,89,38,51,74,51,41,42,60,113,167,102,102,49,42,155,66,49,85,35,62,55,109,69,110,196,71,79,107,208,122,99,66,52,80,148,55,38,41,375,23,73,35,29,121,58,102,37,112,25,39,37,54,19,59,84,38,224,85,47,47,204,79,26,54,20,125,80,27,215,89,73,41,7,38,23,101,165,22,46,34,39,64,16,39,58,49,71,79,38,28,65,85,80,40,52,35,60,69,132,69,36,96,109,83,25,44,40,95,41,44,1088,545,55,85,34,111,55,110,74,52,93,46,72,55,20,54,42,97,83,29,61,45,112,67,184,75,78,26,15,21,34,18,39,35,101,35,86,17,52,31,37,27,37,90,94,117,80,12,28,52,111,58,117,31,104,59,358,127,37,54,168,68,50,217,71,203,52,45,21,46,77,250,72,101,111,18,43,8,31,990,39,36,35,303,75,92,45,64,57,82,26,37,27,29,54,64,41,43,46,41,21,119,51,46,87,61,71,137,30,140,162,45,20,32,24,184,96,98,23,120,111,49,369,10,92,36,109,122,43,29,29,30,107,45,84,10,38,77,117,32,113,45,43,261,43,75,37,81,117,22,12,77,63,217,290,30,76,112,137,67,31,28,22,588,91,15,63,38,41,74,105,83,124,47,67,27,79,86,206,56,33,81,72,235,90,227,78,20,32,75,51,43,23,14,66,21,90,35,48,14,22,109,18,211,35,45,66,102,43,42,25,14,57,63,191,93,149,90,84,118,146,57,82,105,20,40,140,32,46,23,41,49,45,39,37,28,188,36,141,154,63,33,33,40,32,151,7,23,71,22,74,36,34,75,38,66,194,88,28,40,74,55,36,61,68,53,34,39,62,99,15,305,94,37,78,36,94,94,90,104,32,69,25,48,51,46,85,96,85,24,122,83,53,33,68,35,32,34,54,101,54,101,63,11,137,72,28,121,66,113,19,49,81,24,35,49,33,79,160,51,103,20,28,18,49,40,77,108,122,90,47,85,18,49,78,34,119,188,39,83,126,47,42,69,43,65,102,67,103,95,64,77,78,116,45,280,47,40,103,20,46,30,28,118,51,72,145,53,53,127,80,38,84,154,36,52,65,490,99,153,88,114,43,260,66,111,66,119,61,90,84,108,306,84,36,37,38,61,111,215,61,38,35,27,21,117,90,72,23,60,51,86,56,147,128,113,73,8,29,85,24,194,48,56,74,113,53,131,197,17,225,54,32,206,131,77,29,92,34,49,51,50,69,32,49,50,45,103,134,91,38,33,39,39,66,21,44,33,14,30,204,43,49,59,42,74,112,58,112,76,94,141,95,94,14,71,42,75,43,43,28,191,82,19,53,102,111,9,14,36,79,214,33,57,45,76,26,39,89,52,99,55,120,30,109,25,25,60,55,60,140,63,37,37,22,30,78,18,71,46,46,41,24,38,79,166,21,45,66,81,30,26,70,60,65,47,95,38,90,31,15,39,156,80,40,51,14,14,60,62,35,62,60,77,32,32,97,34,113,57,39,15,72,54,85,43,73,84,52,83,41,56,62,133,107,25,20,149,18,29,54,72,41,19,24,61,32,59,24,40,86,45,21,23,60,85,16,35,34,37,140,19,135,1199,166,38,77,62,38,93,33,72,59,56,88,27,87,89,64,65,109,150,11,82,18,19,23,54,38,48,30,20,37,24,32,43,71,153,75,89,32,105,48,33,40,58,86,65,43,131,66,216,36,138,18,34,197,26,86,29,75,60,36,45,51,51,28,29,19,35,38,51,97,59,103,158,39,18,17,55,53,19,23,27,51,12,41,77,20,106,119,22,85,139,52,55,23,49,46,68,8,53,67,70,55,98,64,44,19,30,37,7,120,8,31,65,149,4,13,69,49,24,48,18,47,13,8,21,27,79,37,78,38,27,12,36,125,20,61,26,23,103,70,4,28,54,13,3,18,30,67,25,23,7,34,11,14,18,13,32,44,86,26,41,98,74,38,29,48,57,152,85,55,51,63,29,50,93,68,72,44,121,40,82,57,123,44,30,66,25,53,52,38,14,8,7,7,6,7,5,5,6,3,6,4,4,5,6,6,4,2,5,2,3,4,3,3,4,6,4,8,4,2,9,6,6,11,2,2,2,3,5,8,8,25,16,14,20,20,14,3,8,3,3,8,7,16,7,7,13,5,8,13,4,4,6,6,3,2,3,9,5,9,10,13,10,6,5,3,5,18,8,5,14,12,19,12,12,54,12,5,21,6,12,24,24,8,19,8,12,16,9,7,8,18,6,17,5,7,6,35,15,14,4,30,9,12,23,12,5,9,7,11,3,18,17,26,13,21,28,8,21,20,16,19,37,9,45,13,48,11,51,11,38,26,10,14,24,26,17,11,21,13,6,9,13,35,16,13,20,3,4,6,50,34,22,13,30,6,25,15,40,19,18,8,3,15,21,27,41,20,6,12,11,22,36,5,6,5,15,12,17,23,3,3,7,17,5,5,6,14,69,27,25,13,4,7,48,23,22,7,11,24,40,12,15,5,5,28,7,11,18,3,9,27,4,19,38,4,6,3,3,3,5,8,19,8,9,6,44,13,23,6,18,23,10,10,11,10,16,10,6,8,39,10,27,13,29,12,10,9,10,29,18,13,25,10,15,22,21,4,21,20,8,27,24,10,16,33,12,7,11,9,38,23,18,18,9,6,3,9,20,7,29,9,9,13,21,44,12,9,13,10,5,5,19,8,19,22,11,21,18,26,38,16,39,3,3,5,7,11,15,12,21,33,38,29,9,19,8,17,49,17,40,29,19,6,3,13,13,13,11,25,11,11,17,18,26,57,9,16,29,15,29,11,16,7,17,11,19,14,14,9,24,8,10,24,16,8,38,24,7,16,24,4,23,8,14,26,19,34,16,30,18,7,20,15,27,12,16,4,10,9,9,20,9,24,7,14,3,2,7,21,11,6,10,35,20,20,7,6,13,8,7,17,4,26,7,5,12,26,35,7,8,8,8,4,13,10,10,11,18,19,26,25,11,5,7,3,4,4,9,7,11,13,27,18,3,5,5,31,6,15,12,3,15,21,28,7,10,6,17,11,16,5,7,8,5,7,18,14,14,18,13,10,7,18,20,16,19,29,16,8,9,9,15,6,16,5,22,10,9,10,14,4,8,14,23,22,28,12,3,7,11,13,12,24,4,42,17,24,9,8,12,6,4,15,7,5,19,13,11,17,6,13,29,29,4,8,7,11,25,19,10,14,3,3,4,5,5,18,14,24,5,11,12,8,9,14,29,7,3,8,7,8,15,6,18,13,8,23,14,13,10,3,3,5,3,4,6,34,14,13,6,13,10,9,14,8,10,8,15,13,18,25,9,6,7,10,6,17,9,7,5,8,3,29,14,19,23,10,8,13,17,6,14,21,6,5,12,7,17,6,14,5,7,5,15,7,5,8,7,10,9,3,5,6,5,8,9,15,14,28,7,25,8,9,23,20,6,13,7,12,8,8,9,12,9,11,20,8,11,5,7,8,11,16,4,8,18,14,8,17,5,5,6,4,14,6,4,13,13,14,23,26,19,12,16,5,5,15,7,14,9,12,10,16,4,13,20,19,15,19,2,6,23,11,15,7,2,7,8,4,6,4,9],\"type\":\"histogram\"}],                        {\"template\":{\"data\":{\"bar\":[{\"error_x\":{\"color\":\"#2a3f5f\"},\"error_y\":{\"color\":\"#2a3f5f\"},\"marker\":{\"line\":{\"color\":\"#E5ECF6\",\"width\":0.5},\"pattern\":{\"fillmode\":\"overlay\",\"size\":10,\"solidity\":0.2}},\"type\":\"bar\"}],\"barpolar\":[{\"marker\":{\"line\":{\"color\":\"#E5ECF6\",\"width\":0.5},\"pattern\":{\"fillmode\":\"overlay\",\"size\":10,\"solidity\":0.2}},\"type\":\"barpolar\"}],\"carpet\":[{\"aaxis\":{\"endlinecolor\":\"#2a3f5f\",\"gridcolor\":\"white\",\"linecolor\":\"white\",\"minorgridcolor\":\"white\",\"startlinecolor\":\"#2a3f5f\"},\"baxis\":{\"endlinecolor\":\"#2a3f5f\",\"gridcolor\":\"white\",\"linecolor\":\"white\",\"minorgridcolor\":\"white\",\"startlinecolor\":\"#2a3f5f\"},\"type\":\"carpet\"}],\"choropleth\":[{\"colorbar\":{\"outlinewidth\":0,\"ticks\":\"\"},\"type\":\"choropleth\"}],\"contour\":[{\"colorbar\":{\"outlinewidth\":0,\"ticks\":\"\"},\"colorscale\":[[0.0,\"#0d0887\"],[0.1111111111111111,\"#46039f\"],[0.2222222222222222,\"#7201a8\"],[0.3333333333333333,\"#9c179e\"],[0.4444444444444444,\"#bd3786\"],[0.5555555555555556,\"#d8576b\"],[0.6666666666666666,\"#ed7953\"],[0.7777777777777778,\"#fb9f3a\"],[0.8888888888888888,\"#fdca26\"],[1.0,\"#f0f921\"]],\"type\":\"contour\"}],\"contourcarpet\":[{\"colorbar\":{\"outlinewidth\":0,\"ticks\":\"\"},\"type\":\"contourcarpet\"}],\"heatmap\":[{\"colorbar\":{\"outlinewidth\":0,\"ticks\":\"\"},\"colorscale\":[[0.0,\"#0d0887\"],[0.1111111111111111,\"#46039f\"],[0.2222222222222222,\"#7201a8\"],[0.3333333333333333,\"#9c179e\"],[0.4444444444444444,\"#bd3786\"],[0.5555555555555556,\"#d8576b\"],[0.6666666666666666,\"#ed7953\"],[0.7777777777777778,\"#fb9f3a\"],[0.8888888888888888,\"#fdca26\"],[1.0,\"#f0f921\"]],\"type\":\"heatmap\"}],\"heatmapgl\":[{\"colorbar\":{\"outlinewidth\":0,\"ticks\":\"\"},\"colorscale\":[[0.0,\"#0d0887\"],[0.1111111111111111,\"#46039f\"],[0.2222222222222222,\"#7201a8\"],[0.3333333333333333,\"#9c179e\"],[0.4444444444444444,\"#bd3786\"],[0.5555555555555556,\"#d8576b\"],[0.6666666666666666,\"#ed7953\"],[0.7777777777777778,\"#fb9f3a\"],[0.8888888888888888,\"#fdca26\"],[1.0,\"#f0f921\"]],\"type\":\"heatmapgl\"}],\"histogram\":[{\"marker\":{\"pattern\":{\"fillmode\":\"overlay\",\"size\":10,\"solidity\":0.2}},\"type\":\"histogram\"}],\"histogram2d\":[{\"colorbar\":{\"outlinewidth\":0,\"ticks\":\"\"},\"colorscale\":[[0.0,\"#0d0887\"],[0.1111111111111111,\"#46039f\"],[0.2222222222222222,\"#7201a8\"],[0.3333333333333333,\"#9c179e\"],[0.4444444444444444,\"#bd3786\"],[0.5555555555555556,\"#d8576b\"],[0.6666666666666666,\"#ed7953\"],[0.7777777777777778,\"#fb9f3a\"],[0.8888888888888888,\"#fdca26\"],[1.0,\"#f0f921\"]],\"type\":\"histogram2d\"}],\"histogram2dcontour\":[{\"colorbar\":{\"outlinewidth\":0,\"ticks\":\"\"},\"colorscale\":[[0.0,\"#0d0887\"],[0.1111111111111111,\"#46039f\"],[0.2222222222222222,\"#7201a8\"],[0.3333333333333333,\"#9c179e\"],[0.4444444444444444,\"#bd3786\"],[0.5555555555555556,\"#d8576b\"],[0.6666666666666666,\"#ed7953\"],[0.7777777777777778,\"#fb9f3a\"],[0.8888888888888888,\"#fdca26\"],[1.0,\"#f0f921\"]],\"type\":\"histogram2dcontour\"}],\"mesh3d\":[{\"colorbar\":{\"outlinewidth\":0,\"ticks\":\"\"},\"type\":\"mesh3d\"}],\"parcoords\":[{\"line\":{\"colorbar\":{\"outlinewidth\":0,\"ticks\":\"\"}},\"type\":\"parcoords\"}],\"pie\":[{\"automargin\":true,\"type\":\"pie\"}],\"scatter\":[{\"marker\":{\"colorbar\":{\"outlinewidth\":0,\"ticks\":\"\"}},\"type\":\"scatter\"}],\"scatter3d\":[{\"line\":{\"colorbar\":{\"outlinewidth\":0,\"ticks\":\"\"}},\"marker\":{\"colorbar\":{\"outlinewidth\":0,\"ticks\":\"\"}},\"type\":\"scatter3d\"}],\"scattercarpet\":[{\"marker\":{\"colorbar\":{\"outlinewidth\":0,\"ticks\":\"\"}},\"type\":\"scattercarpet\"}],\"scattergeo\":[{\"marker\":{\"colorbar\":{\"outlinewidth\":0,\"ticks\":\"\"}},\"type\":\"scattergeo\"}],\"scattergl\":[{\"marker\":{\"colorbar\":{\"outlinewidth\":0,\"ticks\":\"\"}},\"type\":\"scattergl\"}],\"scattermapbox\":[{\"marker\":{\"colorbar\":{\"outlinewidth\":0,\"ticks\":\"\"}},\"type\":\"scattermapbox\"}],\"scatterpolar\":[{\"marker\":{\"colorbar\":{\"outlinewidth\":0,\"ticks\":\"\"}},\"type\":\"scatterpolar\"}],\"scatterpolargl\":[{\"marker\":{\"colorbar\":{\"outlinewidth\":0,\"ticks\":\"\"}},\"type\":\"scatterpolargl\"}],\"scatterternary\":[{\"marker\":{\"colorbar\":{\"outlinewidth\":0,\"ticks\":\"\"}},\"type\":\"scatterternary\"}],\"surface\":[{\"colorbar\":{\"outlinewidth\":0,\"ticks\":\"\"},\"colorscale\":[[0.0,\"#0d0887\"],[0.1111111111111111,\"#46039f\"],[0.2222222222222222,\"#7201a8\"],[0.3333333333333333,\"#9c179e\"],[0.4444444444444444,\"#bd3786\"],[0.5555555555555556,\"#d8576b\"],[0.6666666666666666,\"#ed7953\"],[0.7777777777777778,\"#fb9f3a\"],[0.8888888888888888,\"#fdca26\"],[1.0,\"#f0f921\"]],\"type\":\"surface\"}],\"table\":[{\"cells\":{\"fill\":{\"color\":\"#EBF0F8\"},\"line\":{\"color\":\"white\"}},\"header\":{\"fill\":{\"color\":\"#C8D4E3\"},\"line\":{\"color\":\"white\"}},\"type\":\"table\"}]},\"layout\":{\"annotationdefaults\":{\"arrowcolor\":\"#2a3f5f\",\"arrowhead\":0,\"arrowwidth\":1},\"autotypenumbers\":\"strict\",\"coloraxis\":{\"colorbar\":{\"outlinewidth\":0,\"ticks\":\"\"}},\"colorscale\":{\"diverging\":[[0,\"#8e0152\"],[0.1,\"#c51b7d\"],[0.2,\"#de77ae\"],[0.3,\"#f1b6da\"],[0.4,\"#fde0ef\"],[0.5,\"#f7f7f7\"],[0.6,\"#e6f5d0\"],[0.7,\"#b8e186\"],[0.8,\"#7fbc41\"],[0.9,\"#4d9221\"],[1,\"#276419\"]],\"sequential\":[[0.0,\"#0d0887\"],[0.1111111111111111,\"#46039f\"],[0.2222222222222222,\"#7201a8\"],[0.3333333333333333,\"#9c179e\"],[0.4444444444444444,\"#bd3786\"],[0.5555555555555556,\"#d8576b\"],[0.6666666666666666,\"#ed7953\"],[0.7777777777777778,\"#fb9f3a\"],[0.8888888888888888,\"#fdca26\"],[1.0,\"#f0f921\"]],\"sequentialminus\":[[0.0,\"#0d0887\"],[0.1111111111111111,\"#46039f\"],[0.2222222222222222,\"#7201a8\"],[0.3333333333333333,\"#9c179e\"],[0.4444444444444444,\"#bd3786\"],[0.5555555555555556,\"#d8576b\"],[0.6666666666666666,\"#ed7953\"],[0.7777777777777778,\"#fb9f3a\"],[0.8888888888888888,\"#fdca26\"],[1.0,\"#f0f921\"]]},\"colorway\":[\"#636efa\",\"#EF553B\",\"#00cc96\",\"#ab63fa\",\"#FFA15A\",\"#19d3f3\",\"#FF6692\",\"#B6E880\",\"#FF97FF\",\"#FECB52\"],\"font\":{\"color\":\"#2a3f5f\"},\"geo\":{\"bgcolor\":\"white\",\"lakecolor\":\"white\",\"landcolor\":\"#E5ECF6\",\"showlakes\":true,\"showland\":true,\"subunitcolor\":\"white\"},\"hoverlabel\":{\"align\":\"left\"},\"hovermode\":\"closest\",\"mapbox\":{\"style\":\"light\"},\"paper_bgcolor\":\"white\",\"plot_bgcolor\":\"#E5ECF6\",\"polar\":{\"angularaxis\":{\"gridcolor\":\"white\",\"linecolor\":\"white\",\"ticks\":\"\"},\"bgcolor\":\"#E5ECF6\",\"radialaxis\":{\"gridcolor\":\"white\",\"linecolor\":\"white\",\"ticks\":\"\"}},\"scene\":{\"xaxis\":{\"backgroundcolor\":\"#E5ECF6\",\"gridcolor\":\"white\",\"gridwidth\":2,\"linecolor\":\"white\",\"showbackground\":true,\"ticks\":\"\",\"zerolinecolor\":\"white\"},\"yaxis\":{\"backgroundcolor\":\"#E5ECF6\",\"gridcolor\":\"white\",\"gridwidth\":2,\"linecolor\":\"white\",\"showbackground\":true,\"ticks\":\"\",\"zerolinecolor\":\"white\"},\"zaxis\":{\"backgroundcolor\":\"#E5ECF6\",\"gridcolor\":\"white\",\"gridwidth\":2,\"linecolor\":\"white\",\"showbackground\":true,\"ticks\":\"\",\"zerolinecolor\":\"white\"}},\"shapedefaults\":{\"line\":{\"color\":\"#2a3f5f\"}},\"ternary\":{\"aaxis\":{\"gridcolor\":\"white\",\"linecolor\":\"white\",\"ticks\":\"\"},\"baxis\":{\"gridcolor\":\"white\",\"linecolor\":\"white\",\"ticks\":\"\"},\"bgcolor\":\"#E5ECF6\",\"caxis\":{\"gridcolor\":\"white\",\"linecolor\":\"white\",\"ticks\":\"\"}},\"title\":{\"x\":0.05},\"xaxis\":{\"automargin\":true,\"gridcolor\":\"white\",\"linecolor\":\"white\",\"ticks\":\"\",\"title\":{\"standoff\":15},\"zerolinecolor\":\"white\",\"zerolinewidth\":2},\"yaxis\":{\"automargin\":true,\"gridcolor\":\"white\",\"linecolor\":\"white\",\"ticks\":\"\",\"title\":{\"standoff\":15},\"zerolinecolor\":\"white\",\"zerolinewidth\":2}}},\"title\":{\"text\":\"Distribution of word counts within comments\"},\"xaxis\":{\"title\":{\"text\":\"Word Count\"}},\"yaxis\":{\"title\":{\"text\":\"Frequency\"}},\"bargap\":0.2,\"bargroupgap\":0.2},                        {\"responsive\": true}                    ).then(function(){\n",
              "                            \n",
              "var gd = document.getElementById('17e9658c-6e66-4f03-877d-e3aa72abd210');\n",
              "var x = new MutationObserver(function (mutations, observer) {{\n",
              "        var display = window.getComputedStyle(gd).display;\n",
              "        if (!display || display === 'none') {{\n",
              "            console.log([gd, 'removed!']);\n",
              "            Plotly.purge(gd);\n",
              "            observer.disconnect();\n",
              "        }}\n",
              "}});\n",
              "\n",
              "// Listen for the removal of the full notebook cells\n",
              "var notebookContainer = gd.closest('#notebook-container');\n",
              "if (notebookContainer) {{\n",
              "    x.observe(notebookContainer, {childList: true});\n",
              "}}\n",
              "\n",
              "// Listen for the clearing of the current output cell\n",
              "var outputEl = gd.closest('.output');\n",
              "if (outputEl) {{\n",
              "    x.observe(outputEl, {childList: true});\n",
              "}}\n",
              "\n",
              "                        })                };                            </script>        </div>\n",
              "</body>\n",
              "</html>"
            ]
          },
          "metadata": {}
        }
      ]
    },
    {
      "cell_type": "code",
      "metadata": {
        "id": "CNuZu7cUoam9",
        "colab": {
          "base_uri": "https://localhost:8080/"
        },
        "outputId": "45f4bbab-3954-498f-887c-0997595d48dc"
      },
      "source": [
        "def data_gl_than(Data, less_than=100.0, greater_than=0.0, col='review_len_by_words'):\n",
        "    data_length = Data[col].values\n",
        "    data_glt = sum([1 for length in data_length if greater_than < length <= less_than])\n",
        "    data_glt_rate = (data_glt / len(data_length)) * 100\n",
        "    print(f'Texts with word length of greater than {greater_than} and less than {less_than} includes {data_glt_rate:.2f}% of the whole!')\n",
        "    print()\n",
        "\n",
        "data_gl_than(Data, 256, 3)"
      ],
      "execution_count": null,
      "outputs": [
        {
          "output_type": "stream",
          "name": "stdout",
          "text": [
            "Texts with word length of greater than 3 and less than 256 includes 96.08% of the whole!\n",
            "\n"
          ]
        }
      ]
    },
    {
      "cell_type": "code",
      "metadata": {
        "id": "Ps1cmCBwoara"
      },
      "source": [
        "minlim, maxlim = 3, 256"
      ],
      "execution_count": null,
      "outputs": []
    },
    {
      "cell_type": "code",
      "metadata": {
        "id": "iFC9tosRoatK"
      },
      "source": [
        "# remove comments with the length of fewer than three words\n",
        "Data['review_len_by_words'] = Data['review_len_by_words'].apply(lambda len_t: len_t if minlim < len_t <= maxlim else None)\n",
        "Data = Data.dropna(subset=['review_len_by_words'])\n",
        "Data = Data.reset_index(drop=True)"
      ],
      "execution_count": null,
      "outputs": []
    },
    {
      "cell_type": "markdown",
      "metadata": {
        "id": "k4il9ycyNJxX"
      },
      "source": [
        "**Plotting The Distribution of Word Counts Within Reviews**"
      ]
    },
    {
      "cell_type": "code",
      "metadata": {
        "colab": {
          "base_uri": "https://localhost:8080/",
          "height": 542
        },
        "outputId": "31ba3c5b-2d15-4c01-a96a-c285b1c17bad",
        "id": "hl1Ji2x7NJxp"
      },
      "source": [
        "fig = go.Figure()\n",
        "\n",
        "fig.add_trace(go.Histogram(\n",
        "    x=Data['review_len_by_words']))\n",
        "\n",
        "fig.update_layout(\n",
        "    title_text='Distribution of word counts within comments',\n",
        "    xaxis_title_text='Word Count',\n",
        "    yaxis_title_text='Frequency',\n",
        "    bargap=0.2,\n",
        "    bargroupgap=0.2)\n",
        "\n",
        "fig.show()"
      ],
      "execution_count": null,
      "outputs": [
        {
          "output_type": "display_data",
          "data": {
            "text/html": [
              "<html>\n",
              "<head><meta charset=\"utf-8\" /></head>\n",
              "<body>\n",
              "    <div>            <script src=\"https://cdnjs.cloudflare.com/ajax/libs/mathjax/2.7.5/MathJax.js?config=TeX-AMS-MML_SVG\"></script><script type=\"text/javascript\">if (window.MathJax) {MathJax.Hub.Config({SVG: {font: \"STIX-Web\"}});}</script>                <script type=\"text/javascript\">window.PlotlyConfig = {MathJaxConfig: 'local'};</script>\n",
              "        <script src=\"https://cdn.plot.ly/plotly-2.8.3.min.js\"></script>                <div id=\"ff0bae9f-d55b-4d60-b0a7-c4a78f6d9a46\" class=\"plotly-graph-div\" style=\"height:525px; width:100%;\"></div>            <script type=\"text/javascript\">                                    window.PLOTLYENV=window.PLOTLYENV || {};                                    if (document.getElementById(\"ff0bae9f-d55b-4d60-b0a7-c4a78f6d9a46\")) {                    Plotly.newPlot(                        \"ff0bae9f-d55b-4d60-b0a7-c4a78f6d9a46\",                        [{\"x\":[58.0,63.0,51.0,24.0,23.0,7.0,34.0,11.0,13.0,23.0,13.0,32.0,44.0,110.0,11.0,16.0,53.0,14.0,81.0,48.0,42.0,57.0,96.0,59.0,58.0,63.0,89.0,38.0,51.0,74.0,51.0,41.0,42.0,60.0,113.0,167.0,102.0,102.0,49.0,42.0,155.0,66.0,49.0,85.0,35.0,62.0,55.0,109.0,69.0,110.0,196.0,71.0,79.0,107.0,208.0,122.0,99.0,66.0,52.0,80.0,148.0,55.0,38.0,41.0,23.0,73.0,35.0,29.0,121.0,58.0,102.0,37.0,112.0,25.0,39.0,37.0,54.0,19.0,59.0,84.0,38.0,224.0,85.0,47.0,47.0,204.0,79.0,26.0,54.0,20.0,125.0,80.0,27.0,215.0,89.0,73.0,41.0,7.0,38.0,23.0,101.0,165.0,22.0,46.0,34.0,39.0,64.0,16.0,39.0,58.0,49.0,71.0,79.0,38.0,28.0,65.0,85.0,80.0,40.0,52.0,35.0,60.0,69.0,132.0,69.0,36.0,96.0,109.0,83.0,25.0,44.0,40.0,95.0,41.0,44.0,55.0,85.0,34.0,111.0,55.0,110.0,74.0,52.0,93.0,46.0,72.0,55.0,20.0,54.0,42.0,97.0,83.0,29.0,61.0,45.0,112.0,67.0,184.0,75.0,78.0,26.0,15.0,21.0,34.0,18.0,39.0,35.0,101.0,35.0,86.0,17.0,52.0,31.0,37.0,27.0,37.0,90.0,94.0,117.0,80.0,12.0,28.0,52.0,111.0,58.0,117.0,31.0,104.0,59.0,127.0,37.0,54.0,168.0,68.0,50.0,217.0,71.0,203.0,52.0,45.0,21.0,46.0,77.0,250.0,72.0,101.0,111.0,18.0,43.0,8.0,31.0,39.0,36.0,35.0,75.0,92.0,45.0,64.0,57.0,82.0,26.0,37.0,27.0,29.0,54.0,64.0,41.0,43.0,46.0,41.0,21.0,119.0,51.0,46.0,87.0,61.0,71.0,137.0,30.0,140.0,162.0,45.0,20.0,32.0,24.0,184.0,96.0,98.0,23.0,120.0,111.0,49.0,10.0,92.0,36.0,109.0,122.0,43.0,29.0,29.0,30.0,107.0,45.0,84.0,10.0,38.0,77.0,117.0,32.0,113.0,45.0,43.0,43.0,75.0,37.0,81.0,117.0,22.0,12.0,77.0,63.0,217.0,30.0,76.0,112.0,137.0,67.0,31.0,28.0,22.0,91.0,15.0,63.0,38.0,41.0,74.0,105.0,83.0,124.0,47.0,67.0,27.0,79.0,86.0,206.0,56.0,33.0,81.0,72.0,235.0,90.0,227.0,78.0,20.0,32.0,75.0,51.0,43.0,23.0,14.0,66.0,21.0,90.0,35.0,48.0,14.0,22.0,109.0,18.0,211.0,35.0,45.0,66.0,102.0,43.0,42.0,25.0,14.0,57.0,63.0,191.0,93.0,149.0,90.0,84.0,118.0,146.0,57.0,82.0,105.0,20.0,40.0,140.0,32.0,46.0,23.0,41.0,49.0,45.0,39.0,37.0,28.0,188.0,36.0,141.0,154.0,63.0,33.0,33.0,40.0,32.0,151.0,7.0,23.0,71.0,22.0,74.0,36.0,34.0,75.0,38.0,66.0,194.0,88.0,28.0,40.0,74.0,55.0,36.0,61.0,68.0,53.0,34.0,39.0,62.0,99.0,15.0,94.0,37.0,78.0,36.0,94.0,94.0,90.0,104.0,32.0,69.0,25.0,48.0,51.0,46.0,85.0,96.0,85.0,24.0,122.0,83.0,53.0,33.0,68.0,35.0,32.0,34.0,54.0,101.0,54.0,101.0,63.0,11.0,137.0,72.0,28.0,121.0,66.0,113.0,19.0,49.0,81.0,24.0,35.0,49.0,33.0,79.0,160.0,51.0,103.0,20.0,28.0,18.0,49.0,40.0,77.0,108.0,122.0,90.0,47.0,85.0,18.0,49.0,78.0,34.0,119.0,188.0,39.0,83.0,126.0,47.0,42.0,69.0,43.0,65.0,102.0,67.0,103.0,95.0,64.0,77.0,78.0,116.0,45.0,47.0,40.0,103.0,20.0,46.0,30.0,28.0,118.0,51.0,72.0,145.0,53.0,53.0,127.0,80.0,38.0,84.0,154.0,36.0,52.0,65.0,99.0,153.0,88.0,114.0,43.0,66.0,111.0,66.0,119.0,61.0,90.0,84.0,108.0,84.0,36.0,37.0,38.0,61.0,111.0,215.0,61.0,38.0,35.0,27.0,21.0,117.0,90.0,72.0,23.0,60.0,51.0,86.0,56.0,147.0,128.0,113.0,73.0,8.0,29.0,85.0,24.0,194.0,48.0,56.0,74.0,113.0,53.0,131.0,197.0,17.0,225.0,54.0,32.0,206.0,131.0,77.0,29.0,92.0,34.0,49.0,51.0,50.0,69.0,32.0,49.0,50.0,45.0,103.0,134.0,91.0,38.0,33.0,39.0,39.0,66.0,21.0,44.0,33.0,14.0,30.0,204.0,43.0,49.0,59.0,42.0,74.0,112.0,58.0,112.0,76.0,94.0,141.0,95.0,94.0,14.0,71.0,42.0,75.0,43.0,43.0,28.0,191.0,82.0,19.0,53.0,102.0,111.0,9.0,14.0,36.0,79.0,214.0,33.0,57.0,45.0,76.0,26.0,39.0,89.0,52.0,99.0,55.0,120.0,30.0,109.0,25.0,25.0,60.0,55.0,60.0,140.0,63.0,37.0,37.0,22.0,30.0,78.0,18.0,71.0,46.0,46.0,41.0,24.0,38.0,79.0,166.0,21.0,45.0,66.0,81.0,30.0,26.0,70.0,60.0,65.0,47.0,95.0,38.0,90.0,31.0,15.0,39.0,156.0,80.0,40.0,51.0,14.0,14.0,60.0,62.0,35.0,62.0,60.0,77.0,32.0,32.0,97.0,34.0,113.0,57.0,39.0,15.0,72.0,54.0,85.0,43.0,73.0,84.0,52.0,83.0,41.0,56.0,62.0,133.0,107.0,25.0,20.0,149.0,18.0,29.0,54.0,72.0,41.0,19.0,24.0,61.0,32.0,59.0,24.0,40.0,86.0,45.0,21.0,23.0,60.0,85.0,16.0,35.0,34.0,37.0,140.0,19.0,135.0,166.0,38.0,77.0,62.0,38.0,93.0,33.0,72.0,59.0,56.0,88.0,27.0,87.0,89.0,64.0,65.0,109.0,150.0,11.0,82.0,18.0,19.0,23.0,54.0,38.0,48.0,30.0,20.0,37.0,24.0,32.0,43.0,71.0,153.0,75.0,89.0,32.0,105.0,48.0,33.0,40.0,58.0,86.0,65.0,43.0,131.0,66.0,216.0,36.0,138.0,18.0,34.0,197.0,26.0,86.0,29.0,75.0,60.0,36.0,45.0,51.0,51.0,28.0,29.0,19.0,35.0,38.0,51.0,97.0,59.0,103.0,158.0,39.0,18.0,17.0,55.0,53.0,19.0,23.0,27.0,51.0,12.0,41.0,77.0,20.0,106.0,119.0,22.0,85.0,139.0,52.0,55.0,23.0,49.0,46.0,68.0,8.0,53.0,67.0,70.0,55.0,98.0,64.0,44.0,19.0,30.0,37.0,7.0,120.0,8.0,31.0,65.0,149.0,4.0,13.0,69.0,49.0,24.0,48.0,18.0,47.0,13.0,8.0,21.0,27.0,79.0,37.0,78.0,38.0,27.0,12.0,36.0,125.0,20.0,61.0,26.0,23.0,103.0,70.0,4.0,28.0,54.0,13.0,18.0,30.0,67.0,25.0,23.0,7.0,34.0,11.0,14.0,18.0,13.0,32.0,44.0,86.0,26.0,41.0,98.0,74.0,38.0,29.0,48.0,57.0,152.0,85.0,55.0,51.0,63.0,29.0,50.0,93.0,68.0,72.0,44.0,121.0,40.0,82.0,57.0,123.0,44.0,30.0,66.0,25.0,53.0,52.0,38.0,14.0,8.0,7.0,7.0,6.0,7.0,5.0,5.0,6.0,6.0,4.0,4.0,5.0,6.0,6.0,4.0,5.0,4.0,4.0,6.0,4.0,8.0,4.0,9.0,6.0,6.0,11.0,5.0,8.0,8.0,25.0,16.0,14.0,20.0,20.0,14.0,8.0,8.0,7.0,16.0,7.0,7.0,13.0,5.0,8.0,13.0,4.0,4.0,6.0,6.0,9.0,5.0,9.0,10.0,13.0,10.0,6.0,5.0,5.0,18.0,8.0,5.0,14.0,12.0,19.0,12.0,12.0,54.0,12.0,5.0,21.0,6.0,12.0,24.0,24.0,8.0,19.0,8.0,12.0,16.0,9.0,7.0,8.0,18.0,6.0,17.0,5.0,7.0,6.0,35.0,15.0,14.0,4.0,30.0,9.0,12.0,23.0,12.0,5.0,9.0,7.0,11.0,18.0,17.0,26.0,13.0,21.0,28.0,8.0,21.0,20.0,16.0,19.0,37.0,9.0,45.0,13.0,48.0,11.0,51.0,11.0,38.0,26.0,10.0,14.0,24.0,26.0,17.0,11.0,21.0,13.0,6.0,9.0,13.0,35.0,16.0,13.0,20.0,4.0,6.0,50.0,34.0,22.0,13.0,30.0,6.0,25.0,15.0,40.0,19.0,18.0,8.0,15.0,21.0,27.0,41.0,20.0,6.0,12.0,11.0,22.0,36.0,5.0,6.0,5.0,15.0,12.0,17.0,23.0,7.0,17.0,5.0,5.0,6.0,14.0,69.0,27.0,25.0,13.0,4.0,7.0,48.0,23.0,22.0,7.0,11.0,24.0,40.0,12.0,15.0,5.0,5.0,28.0,7.0,11.0,18.0,9.0,27.0,4.0,19.0,38.0,4.0,6.0,5.0,8.0,19.0,8.0,9.0,6.0,44.0,13.0,23.0,6.0,18.0,23.0,10.0,10.0,11.0,10.0,16.0,10.0,6.0,8.0,39.0,10.0,27.0,13.0,29.0,12.0,10.0,9.0,10.0,29.0,18.0,13.0,25.0,10.0,15.0,22.0,21.0,4.0,21.0,20.0,8.0,27.0,24.0,10.0,16.0,33.0,12.0,7.0,11.0,9.0,38.0,23.0,18.0,18.0,9.0,6.0,9.0,20.0,7.0,29.0,9.0,9.0,13.0,21.0,44.0,12.0,9.0,13.0,10.0,5.0,5.0,19.0,8.0,19.0,22.0,11.0,21.0,18.0,26.0,38.0,16.0,39.0,5.0,7.0,11.0,15.0,12.0,21.0,33.0,38.0,29.0,9.0,19.0,8.0,17.0,49.0,17.0,40.0,29.0,19.0,6.0,13.0,13.0,13.0,11.0,25.0,11.0,11.0,17.0,18.0,26.0,57.0,9.0,16.0,29.0,15.0,29.0,11.0,16.0,7.0,17.0,11.0,19.0,14.0,14.0,9.0,24.0,8.0,10.0,24.0,16.0,8.0,38.0,24.0,7.0,16.0,24.0,4.0,23.0,8.0,14.0,26.0,19.0,34.0,16.0,30.0,18.0,7.0,20.0,15.0,27.0,12.0,16.0,4.0,10.0,9.0,9.0,20.0,9.0,24.0,7.0,14.0,7.0,21.0,11.0,6.0,10.0,35.0,20.0,20.0,7.0,6.0,13.0,8.0,7.0,17.0,4.0,26.0,7.0,5.0,12.0,26.0,35.0,7.0,8.0,8.0,8.0,4.0,13.0,10.0,10.0,11.0,18.0,19.0,26.0,25.0,11.0,5.0,7.0,4.0,4.0,9.0,7.0,11.0,13.0,27.0,18.0,5.0,5.0,31.0,6.0,15.0,12.0,15.0,21.0,28.0,7.0,10.0,6.0,17.0,11.0,16.0,5.0,7.0,8.0,5.0,7.0,18.0,14.0,14.0,18.0,13.0,10.0,7.0,18.0,20.0,16.0,19.0,29.0,16.0,8.0,9.0,9.0,15.0,6.0,16.0,5.0,22.0,10.0,9.0,10.0,14.0,4.0,8.0,14.0,23.0,22.0,28.0,12.0,7.0,11.0,13.0,12.0,24.0,4.0,42.0,17.0,24.0,9.0,8.0,12.0,6.0,4.0,15.0,7.0,5.0,19.0,13.0,11.0,17.0,6.0,13.0,29.0,29.0,4.0,8.0,7.0,11.0,25.0,19.0,10.0,14.0,4.0,5.0,5.0,18.0,14.0,24.0,5.0,11.0,12.0,8.0,9.0,14.0,29.0,7.0,8.0,7.0,8.0,15.0,6.0,18.0,13.0,8.0,23.0,14.0,13.0,10.0,5.0,4.0,6.0,34.0,14.0,13.0,6.0,13.0,10.0,9.0,14.0,8.0,10.0,8.0,15.0,13.0,18.0,25.0,9.0,6.0,7.0,10.0,6.0,17.0,9.0,7.0,5.0,8.0,29.0,14.0,19.0,23.0,10.0,8.0,13.0,17.0,6.0,14.0,21.0,6.0,5.0,12.0,7.0,17.0,6.0,14.0,5.0,7.0,5.0,15.0,7.0,5.0,8.0,7.0,10.0,9.0,5.0,6.0,5.0,8.0,9.0,15.0,14.0,28.0,7.0,25.0,8.0,9.0,23.0,20.0,6.0,13.0,7.0,12.0,8.0,8.0,9.0,12.0,9.0,11.0,20.0,8.0,11.0,5.0,7.0,8.0,11.0,16.0,4.0,8.0,18.0,14.0,8.0,17.0,5.0,5.0,6.0,4.0,14.0,6.0,4.0,13.0,13.0,14.0,23.0,26.0,19.0,12.0,16.0,5.0,5.0,15.0,7.0,14.0,9.0,12.0,10.0,16.0,4.0,13.0,20.0,19.0,15.0,19.0,6.0,23.0,11.0,15.0,7.0,7.0,8.0,4.0,6.0,4.0,9.0],\"type\":\"histogram\"}],                        {\"template\":{\"data\":{\"bar\":[{\"error_x\":{\"color\":\"#2a3f5f\"},\"error_y\":{\"color\":\"#2a3f5f\"},\"marker\":{\"line\":{\"color\":\"#E5ECF6\",\"width\":0.5},\"pattern\":{\"fillmode\":\"overlay\",\"size\":10,\"solidity\":0.2}},\"type\":\"bar\"}],\"barpolar\":[{\"marker\":{\"line\":{\"color\":\"#E5ECF6\",\"width\":0.5},\"pattern\":{\"fillmode\":\"overlay\",\"size\":10,\"solidity\":0.2}},\"type\":\"barpolar\"}],\"carpet\":[{\"aaxis\":{\"endlinecolor\":\"#2a3f5f\",\"gridcolor\":\"white\",\"linecolor\":\"white\",\"minorgridcolor\":\"white\",\"startlinecolor\":\"#2a3f5f\"},\"baxis\":{\"endlinecolor\":\"#2a3f5f\",\"gridcolor\":\"white\",\"linecolor\":\"white\",\"minorgridcolor\":\"white\",\"startlinecolor\":\"#2a3f5f\"},\"type\":\"carpet\"}],\"choropleth\":[{\"colorbar\":{\"outlinewidth\":0,\"ticks\":\"\"},\"type\":\"choropleth\"}],\"contour\":[{\"colorbar\":{\"outlinewidth\":0,\"ticks\":\"\"},\"colorscale\":[[0.0,\"#0d0887\"],[0.1111111111111111,\"#46039f\"],[0.2222222222222222,\"#7201a8\"],[0.3333333333333333,\"#9c179e\"],[0.4444444444444444,\"#bd3786\"],[0.5555555555555556,\"#d8576b\"],[0.6666666666666666,\"#ed7953\"],[0.7777777777777778,\"#fb9f3a\"],[0.8888888888888888,\"#fdca26\"],[1.0,\"#f0f921\"]],\"type\":\"contour\"}],\"contourcarpet\":[{\"colorbar\":{\"outlinewidth\":0,\"ticks\":\"\"},\"type\":\"contourcarpet\"}],\"heatmap\":[{\"colorbar\":{\"outlinewidth\":0,\"ticks\":\"\"},\"colorscale\":[[0.0,\"#0d0887\"],[0.1111111111111111,\"#46039f\"],[0.2222222222222222,\"#7201a8\"],[0.3333333333333333,\"#9c179e\"],[0.4444444444444444,\"#bd3786\"],[0.5555555555555556,\"#d8576b\"],[0.6666666666666666,\"#ed7953\"],[0.7777777777777778,\"#fb9f3a\"],[0.8888888888888888,\"#fdca26\"],[1.0,\"#f0f921\"]],\"type\":\"heatmap\"}],\"heatmapgl\":[{\"colorbar\":{\"outlinewidth\":0,\"ticks\":\"\"},\"colorscale\":[[0.0,\"#0d0887\"],[0.1111111111111111,\"#46039f\"],[0.2222222222222222,\"#7201a8\"],[0.3333333333333333,\"#9c179e\"],[0.4444444444444444,\"#bd3786\"],[0.5555555555555556,\"#d8576b\"],[0.6666666666666666,\"#ed7953\"],[0.7777777777777778,\"#fb9f3a\"],[0.8888888888888888,\"#fdca26\"],[1.0,\"#f0f921\"]],\"type\":\"heatmapgl\"}],\"histogram\":[{\"marker\":{\"pattern\":{\"fillmode\":\"overlay\",\"size\":10,\"solidity\":0.2}},\"type\":\"histogram\"}],\"histogram2d\":[{\"colorbar\":{\"outlinewidth\":0,\"ticks\":\"\"},\"colorscale\":[[0.0,\"#0d0887\"],[0.1111111111111111,\"#46039f\"],[0.2222222222222222,\"#7201a8\"],[0.3333333333333333,\"#9c179e\"],[0.4444444444444444,\"#bd3786\"],[0.5555555555555556,\"#d8576b\"],[0.6666666666666666,\"#ed7953\"],[0.7777777777777778,\"#fb9f3a\"],[0.8888888888888888,\"#fdca26\"],[1.0,\"#f0f921\"]],\"type\":\"histogram2d\"}],\"histogram2dcontour\":[{\"colorbar\":{\"outlinewidth\":0,\"ticks\":\"\"},\"colorscale\":[[0.0,\"#0d0887\"],[0.1111111111111111,\"#46039f\"],[0.2222222222222222,\"#7201a8\"],[0.3333333333333333,\"#9c179e\"],[0.4444444444444444,\"#bd3786\"],[0.5555555555555556,\"#d8576b\"],[0.6666666666666666,\"#ed7953\"],[0.7777777777777778,\"#fb9f3a\"],[0.8888888888888888,\"#fdca26\"],[1.0,\"#f0f921\"]],\"type\":\"histogram2dcontour\"}],\"mesh3d\":[{\"colorbar\":{\"outlinewidth\":0,\"ticks\":\"\"},\"type\":\"mesh3d\"}],\"parcoords\":[{\"line\":{\"colorbar\":{\"outlinewidth\":0,\"ticks\":\"\"}},\"type\":\"parcoords\"}],\"pie\":[{\"automargin\":true,\"type\":\"pie\"}],\"scatter\":[{\"marker\":{\"colorbar\":{\"outlinewidth\":0,\"ticks\":\"\"}},\"type\":\"scatter\"}],\"scatter3d\":[{\"line\":{\"colorbar\":{\"outlinewidth\":0,\"ticks\":\"\"}},\"marker\":{\"colorbar\":{\"outlinewidth\":0,\"ticks\":\"\"}},\"type\":\"scatter3d\"}],\"scattercarpet\":[{\"marker\":{\"colorbar\":{\"outlinewidth\":0,\"ticks\":\"\"}},\"type\":\"scattercarpet\"}],\"scattergeo\":[{\"marker\":{\"colorbar\":{\"outlinewidth\":0,\"ticks\":\"\"}},\"type\":\"scattergeo\"}],\"scattergl\":[{\"marker\":{\"colorbar\":{\"outlinewidth\":0,\"ticks\":\"\"}},\"type\":\"scattergl\"}],\"scattermapbox\":[{\"marker\":{\"colorbar\":{\"outlinewidth\":0,\"ticks\":\"\"}},\"type\":\"scattermapbox\"}],\"scatterpolar\":[{\"marker\":{\"colorbar\":{\"outlinewidth\":0,\"ticks\":\"\"}},\"type\":\"scatterpolar\"}],\"scatterpolargl\":[{\"marker\":{\"colorbar\":{\"outlinewidth\":0,\"ticks\":\"\"}},\"type\":\"scatterpolargl\"}],\"scatterternary\":[{\"marker\":{\"colorbar\":{\"outlinewidth\":0,\"ticks\":\"\"}},\"type\":\"scatterternary\"}],\"surface\":[{\"colorbar\":{\"outlinewidth\":0,\"ticks\":\"\"},\"colorscale\":[[0.0,\"#0d0887\"],[0.1111111111111111,\"#46039f\"],[0.2222222222222222,\"#7201a8\"],[0.3333333333333333,\"#9c179e\"],[0.4444444444444444,\"#bd3786\"],[0.5555555555555556,\"#d8576b\"],[0.6666666666666666,\"#ed7953\"],[0.7777777777777778,\"#fb9f3a\"],[0.8888888888888888,\"#fdca26\"],[1.0,\"#f0f921\"]],\"type\":\"surface\"}],\"table\":[{\"cells\":{\"fill\":{\"color\":\"#EBF0F8\"},\"line\":{\"color\":\"white\"}},\"header\":{\"fill\":{\"color\":\"#C8D4E3\"},\"line\":{\"color\":\"white\"}},\"type\":\"table\"}]},\"layout\":{\"annotationdefaults\":{\"arrowcolor\":\"#2a3f5f\",\"arrowhead\":0,\"arrowwidth\":1},\"autotypenumbers\":\"strict\",\"coloraxis\":{\"colorbar\":{\"outlinewidth\":0,\"ticks\":\"\"}},\"colorscale\":{\"diverging\":[[0,\"#8e0152\"],[0.1,\"#c51b7d\"],[0.2,\"#de77ae\"],[0.3,\"#f1b6da\"],[0.4,\"#fde0ef\"],[0.5,\"#f7f7f7\"],[0.6,\"#e6f5d0\"],[0.7,\"#b8e186\"],[0.8,\"#7fbc41\"],[0.9,\"#4d9221\"],[1,\"#276419\"]],\"sequential\":[[0.0,\"#0d0887\"],[0.1111111111111111,\"#46039f\"],[0.2222222222222222,\"#7201a8\"],[0.3333333333333333,\"#9c179e\"],[0.4444444444444444,\"#bd3786\"],[0.5555555555555556,\"#d8576b\"],[0.6666666666666666,\"#ed7953\"],[0.7777777777777778,\"#fb9f3a\"],[0.8888888888888888,\"#fdca26\"],[1.0,\"#f0f921\"]],\"sequentialminus\":[[0.0,\"#0d0887\"],[0.1111111111111111,\"#46039f\"],[0.2222222222222222,\"#7201a8\"],[0.3333333333333333,\"#9c179e\"],[0.4444444444444444,\"#bd3786\"],[0.5555555555555556,\"#d8576b\"],[0.6666666666666666,\"#ed7953\"],[0.7777777777777778,\"#fb9f3a\"],[0.8888888888888888,\"#fdca26\"],[1.0,\"#f0f921\"]]},\"colorway\":[\"#636efa\",\"#EF553B\",\"#00cc96\",\"#ab63fa\",\"#FFA15A\",\"#19d3f3\",\"#FF6692\",\"#B6E880\",\"#FF97FF\",\"#FECB52\"],\"font\":{\"color\":\"#2a3f5f\"},\"geo\":{\"bgcolor\":\"white\",\"lakecolor\":\"white\",\"landcolor\":\"#E5ECF6\",\"showlakes\":true,\"showland\":true,\"subunitcolor\":\"white\"},\"hoverlabel\":{\"align\":\"left\"},\"hovermode\":\"closest\",\"mapbox\":{\"style\":\"light\"},\"paper_bgcolor\":\"white\",\"plot_bgcolor\":\"#E5ECF6\",\"polar\":{\"angularaxis\":{\"gridcolor\":\"white\",\"linecolor\":\"white\",\"ticks\":\"\"},\"bgcolor\":\"#E5ECF6\",\"radialaxis\":{\"gridcolor\":\"white\",\"linecolor\":\"white\",\"ticks\":\"\"}},\"scene\":{\"xaxis\":{\"backgroundcolor\":\"#E5ECF6\",\"gridcolor\":\"white\",\"gridwidth\":2,\"linecolor\":\"white\",\"showbackground\":true,\"ticks\":\"\",\"zerolinecolor\":\"white\"},\"yaxis\":{\"backgroundcolor\":\"#E5ECF6\",\"gridcolor\":\"white\",\"gridwidth\":2,\"linecolor\":\"white\",\"showbackground\":true,\"ticks\":\"\",\"zerolinecolor\":\"white\"},\"zaxis\":{\"backgroundcolor\":\"#E5ECF6\",\"gridcolor\":\"white\",\"gridwidth\":2,\"linecolor\":\"white\",\"showbackground\":true,\"ticks\":\"\",\"zerolinecolor\":\"white\"}},\"shapedefaults\":{\"line\":{\"color\":\"#2a3f5f\"}},\"ternary\":{\"aaxis\":{\"gridcolor\":\"white\",\"linecolor\":\"white\",\"ticks\":\"\"},\"baxis\":{\"gridcolor\":\"white\",\"linecolor\":\"white\",\"ticks\":\"\"},\"bgcolor\":\"#E5ECF6\",\"caxis\":{\"gridcolor\":\"white\",\"linecolor\":\"white\",\"ticks\":\"\"}},\"title\":{\"x\":0.05},\"xaxis\":{\"automargin\":true,\"gridcolor\":\"white\",\"linecolor\":\"white\",\"ticks\":\"\",\"title\":{\"standoff\":15},\"zerolinecolor\":\"white\",\"zerolinewidth\":2},\"yaxis\":{\"automargin\":true,\"gridcolor\":\"white\",\"linecolor\":\"white\",\"ticks\":\"\",\"title\":{\"standoff\":15},\"zerolinecolor\":\"white\",\"zerolinewidth\":2}}},\"title\":{\"text\":\"Distribution of word counts within comments\"},\"xaxis\":{\"title\":{\"text\":\"Word Count\"}},\"yaxis\":{\"title\":{\"text\":\"Frequency\"}},\"bargap\":0.2,\"bargroupgap\":0.2},                        {\"responsive\": true}                    ).then(function(){\n",
              "                            \n",
              "var gd = document.getElementById('ff0bae9f-d55b-4d60-b0a7-c4a78f6d9a46');\n",
              "var x = new MutationObserver(function (mutations, observer) {{\n",
              "        var display = window.getComputedStyle(gd).display;\n",
              "        if (!display || display === 'none') {{\n",
              "            console.log([gd, 'removed!']);\n",
              "            Plotly.purge(gd);\n",
              "            observer.disconnect();\n",
              "        }}\n",
              "}});\n",
              "\n",
              "// Listen for the removal of the full notebook cells\n",
              "var notebookContainer = gd.closest('#notebook-container');\n",
              "if (notebookContainer) {{\n",
              "    x.observe(notebookContainer, {childList: true});\n",
              "}}\n",
              "\n",
              "// Listen for the clearing of the current output cell\n",
              "var outputEl = gd.closest('.output');\n",
              "if (outputEl) {{\n",
              "    x.observe(outputEl, {childList: true});\n",
              "}}\n",
              "\n",
              "                        })                };                            </script>        </div>\n",
              "</body>\n",
              "</html>"
            ]
          },
          "metadata": {}
        }
      ]
    },
    {
      "cell_type": "markdown",
      "metadata": {
        "id": "oFEGMtqYS1bI"
      },
      "source": [
        "## Preprocessing - Cleaning The Text"
      ]
    },
    {
      "cell_type": "code",
      "metadata": {
        "id": "RmaJl1O_oa5L"
      },
      "source": [
        "def cleanhtml(raw_html):\n",
        "    cleanr = re.compile('<.*?>')\n",
        "    cleantext = re.sub(cleanr, '', raw_html)\n",
        "    return cleantext\n",
        "\n",
        "def cleaning(text):\n",
        "    text = text.strip()\n",
        "    \n",
        "    # regular cleaning\n",
        "    text = clean(text,\n",
        "        fix_unicode=True,\n",
        "        to_ascii=False,\n",
        "        lower=True,\n",
        "        no_line_breaks=True,\n",
        "        no_urls=True,\n",
        "        no_emails=True,\n",
        "        no_phone_numbers=True,\n",
        "        no_numbers=False,\n",
        "        no_digits=False,\n",
        "        no_currency_symbols=True,\n",
        "        no_punct=False,\n",
        "        replace_with_url=\"\",\n",
        "        replace_with_email=\"\",\n",
        "        replace_with_phone_number=\"\",\n",
        "        replace_with_number=\"\",\n",
        "        replace_with_digit=\"0\",\n",
        "        replace_with_currency_symbol=\"\")\n",
        "\n",
        "    # cleaning htmls\n",
        "    text = cleanhtml(text)\n",
        "    \n",
        "    # normalizing\n",
        "    normalizer = hazm.Normalizer()\n",
        "    text = normalizer.normalize(text)\n",
        "    \n",
        "    # removing wierd patterns\n",
        "    wierd_pattern = re.compile(\"[\"\n",
        "        u\"\\U0001F600-\\U0001F64F\"  # emoticons\n",
        "        u\"\\U0001F300-\\U0001F5FF\"  # symbols & pictographs\n",
        "        u\"\\U0001F680-\\U0001F6FF\"  # transport & map symbols\n",
        "        u\"\\U0001F1E0-\\U0001F1FF\"  # flags (iOS)\n",
        "        u\"\\U00002702-\\U000027B0\"\n",
        "        u\"\\U000024C2-\\U0001F251\"\n",
        "        u\"\\U0001f926-\\U0001f937\"\n",
        "        u'\\U00010000-\\U0010ffff'\n",
        "        u\"\\u200d\"\n",
        "        u\"\\u2640-\\u2642\"\n",
        "        u\"\\u2600-\\u2B55\"\n",
        "        u\"\\u23cf\"\n",
        "        u\"\\u23e9\"\n",
        "        u\"\\u231a\"\n",
        "        u\"\\u3030\"\n",
        "        u\"\\ufe0f\"\n",
        "        u\"\\u2069\"\n",
        "        u\"\\u2066\"\n",
        "        # u\"\\u200c\"\n",
        "        u\"\\u2068\"\n",
        "        u\"\\u2067\"\n",
        "        \"]+\", flags=re.UNICODE)\n",
        "    \n",
        "    text = wierd_pattern.sub(r'', text)\n",
        "    \n",
        "    # removing extra spaces, hashtags\n",
        "    text = re.sub(\"#\", \"\", text)\n",
        "    text = re.sub(\"\\s+\", \" \", text)\n",
        "    \n",
        "    return text"
      ],
      "execution_count": null,
      "outputs": []
    },
    {
      "cell_type": "code",
      "source": [
        "# cleaning comments\n",
        "Data['cleaned_review'] = Data['review'].apply(cleaning)"
      ],
      "metadata": {
        "id": "ZPQnw3YzNWqx"
      },
      "execution_count": null,
      "outputs": []
    },
    {
      "cell_type": "code",
      "metadata": {
        "id": "lUZLUTw6pD2J",
        "colab": {
          "base_uri": "https://localhost:8080/",
          "height": 206
        },
        "outputId": "e7685494-2f0f-456c-9c96-9b30e2272a82"
      },
      "source": [
        "# calculate the length of comments based on their words\n",
        "Data['cleaned_review_len_by_words'] = Data['cleaned_review'].apply(lambda t: len(hazm.word_tokenize(t)))\n",
        "\n",
        "# remove comments with the length of fewer than three words\n",
        "Data['cleaned_review_len_by_words'] = Data['cleaned_review_len_by_words'].apply(lambda len_t: len_t if minlim < len_t <= maxlim else len_t)\n",
        "Data = Data.dropna(subset=['cleaned_review_len_by_words'])\n",
        "Data = Data.reset_index(drop=True)\n",
        "\n",
        "Data.head()"
      ],
      "execution_count": null,
      "outputs": [
        {
          "output_type": "execute_result",
          "data": {
            "text/plain": [
              "                                              review  label  \\\n",
              "0  سلام من یک ماه پیش در هتل شمس قشم بودم واقعا ه...      2   \n",
              "1  سلام بنده با همراه خانوادم چهار روز در این هتل...      2   \n",
              "2  ما از تاریخ ۵اسفند ۹۶تا۸اسفند ۹۶ در این هتل اق...      2   \n",
              "3  من 2روز در اين هتل به همراه همسرم اقامت داشتم ...      2   \n",
              "4  سفر بسیار خوبی بود هتل بسیار زیبا و قشنگی بود ...      2   \n",
              "\n",
              "   review_len_by_words                                     cleaned_review  \\\n",
              "0                 58.0  سلام من یک ماه پیش در هتل شمس قشم بودم واقعا ه...   \n",
              "1                 63.0  سلام بنده با همراه خانوادم چهار روز در این هتل...   \n",
              "2                 51.0  ما از تاریخ ۵اسفند ۹۶تا۸اسفند ۹۶ در این هتل اق...   \n",
              "3                 24.0  من ۲روز در این هتل به همراه همسرم اقامت داشتم ...   \n",
              "4                 23.0  سفر بسیار خوبی بود هتل بسیار زیبا و قشنگی بود ...   \n",
              "\n",
              "   cleaned_review_len_by_words  \n",
              "0                           54  \n",
              "1                           63  \n",
              "2                           51  \n",
              "3                           24  \n",
              "4                           23  "
            ],
            "text/html": [
              "\n",
              "  <div id=\"df-69a21ceb-edac-4e31-b293-dd07c7aff3c2\">\n",
              "    <div class=\"colab-df-container\">\n",
              "      <div>\n",
              "<style scoped>\n",
              "    .dataframe tbody tr th:only-of-type {\n",
              "        vertical-align: middle;\n",
              "    }\n",
              "\n",
              "    .dataframe tbody tr th {\n",
              "        vertical-align: top;\n",
              "    }\n",
              "\n",
              "    .dataframe thead th {\n",
              "        text-align: right;\n",
              "    }\n",
              "</style>\n",
              "<table border=\"1\" class=\"dataframe\">\n",
              "  <thead>\n",
              "    <tr style=\"text-align: right;\">\n",
              "      <th></th>\n",
              "      <th>review</th>\n",
              "      <th>label</th>\n",
              "      <th>review_len_by_words</th>\n",
              "      <th>cleaned_review</th>\n",
              "      <th>cleaned_review_len_by_words</th>\n",
              "    </tr>\n",
              "  </thead>\n",
              "  <tbody>\n",
              "    <tr>\n",
              "      <th>0</th>\n",
              "      <td>سلام من یک ماه پیش در هتل شمس قشم بودم واقعا ه...</td>\n",
              "      <td>2</td>\n",
              "      <td>58.0</td>\n",
              "      <td>سلام من یک ماه پیش در هتل شمس قشم بودم واقعا ه...</td>\n",
              "      <td>54</td>\n",
              "    </tr>\n",
              "    <tr>\n",
              "      <th>1</th>\n",
              "      <td>سلام بنده با همراه خانوادم چهار روز در این هتل...</td>\n",
              "      <td>2</td>\n",
              "      <td>63.0</td>\n",
              "      <td>سلام بنده با همراه خانوادم چهار روز در این هتل...</td>\n",
              "      <td>63</td>\n",
              "    </tr>\n",
              "    <tr>\n",
              "      <th>2</th>\n",
              "      <td>ما از تاریخ ۵اسفند ۹۶تا۸اسفند ۹۶ در این هتل اق...</td>\n",
              "      <td>2</td>\n",
              "      <td>51.0</td>\n",
              "      <td>ما از تاریخ ۵اسفند ۹۶تا۸اسفند ۹۶ در این هتل اق...</td>\n",
              "      <td>51</td>\n",
              "    </tr>\n",
              "    <tr>\n",
              "      <th>3</th>\n",
              "      <td>من 2روز در اين هتل به همراه همسرم اقامت داشتم ...</td>\n",
              "      <td>2</td>\n",
              "      <td>24.0</td>\n",
              "      <td>من ۲روز در این هتل به همراه همسرم اقامت داشتم ...</td>\n",
              "      <td>24</td>\n",
              "    </tr>\n",
              "    <tr>\n",
              "      <th>4</th>\n",
              "      <td>سفر بسیار خوبی بود هتل بسیار زیبا و قشنگی بود ...</td>\n",
              "      <td>2</td>\n",
              "      <td>23.0</td>\n",
              "      <td>سفر بسیار خوبی بود هتل بسیار زیبا و قشنگی بود ...</td>\n",
              "      <td>23</td>\n",
              "    </tr>\n",
              "  </tbody>\n",
              "</table>\n",
              "</div>\n",
              "      <button class=\"colab-df-convert\" onclick=\"convertToInteractive('df-69a21ceb-edac-4e31-b293-dd07c7aff3c2')\"\n",
              "              title=\"Convert this dataframe to an interactive table.\"\n",
              "              style=\"display:none;\">\n",
              "        \n",
              "  <svg xmlns=\"http://www.w3.org/2000/svg\" height=\"24px\"viewBox=\"0 0 24 24\"\n",
              "       width=\"24px\">\n",
              "    <path d=\"M0 0h24v24H0V0z\" fill=\"none\"/>\n",
              "    <path d=\"M18.56 5.44l.94 2.06.94-2.06 2.06-.94-2.06-.94-.94-2.06-.94 2.06-2.06.94zm-11 1L8.5 8.5l.94-2.06 2.06-.94-2.06-.94L8.5 2.5l-.94 2.06-2.06.94zm10 10l.94 2.06.94-2.06 2.06-.94-2.06-.94-.94-2.06-.94 2.06-2.06.94z\"/><path d=\"M17.41 7.96l-1.37-1.37c-.4-.4-.92-.59-1.43-.59-.52 0-1.04.2-1.43.59L10.3 9.45l-7.72 7.72c-.78.78-.78 2.05 0 2.83L4 21.41c.39.39.9.59 1.41.59.51 0 1.02-.2 1.41-.59l7.78-7.78 2.81-2.81c.8-.78.8-2.07 0-2.86zM5.41 20L4 18.59l7.72-7.72 1.47 1.35L5.41 20z\"/>\n",
              "  </svg>\n",
              "      </button>\n",
              "      \n",
              "  <style>\n",
              "    .colab-df-container {\n",
              "      display:flex;\n",
              "      flex-wrap:wrap;\n",
              "      gap: 12px;\n",
              "    }\n",
              "\n",
              "    .colab-df-convert {\n",
              "      background-color: #E8F0FE;\n",
              "      border: none;\n",
              "      border-radius: 50%;\n",
              "      cursor: pointer;\n",
              "      display: none;\n",
              "      fill: #1967D2;\n",
              "      height: 32px;\n",
              "      padding: 0 0 0 0;\n",
              "      width: 32px;\n",
              "    }\n",
              "\n",
              "    .colab-df-convert:hover {\n",
              "      background-color: #E2EBFA;\n",
              "      box-shadow: 0px 1px 2px rgba(60, 64, 67, 0.3), 0px 1px 3px 1px rgba(60, 64, 67, 0.15);\n",
              "      fill: #174EA6;\n",
              "    }\n",
              "\n",
              "    [theme=dark] .colab-df-convert {\n",
              "      background-color: #3B4455;\n",
              "      fill: #D2E3FC;\n",
              "    }\n",
              "\n",
              "    [theme=dark] .colab-df-convert:hover {\n",
              "      background-color: #434B5C;\n",
              "      box-shadow: 0px 1px 3px 1px rgba(0, 0, 0, 0.15);\n",
              "      filter: drop-shadow(0px 1px 2px rgba(0, 0, 0, 0.3));\n",
              "      fill: #FFFFFF;\n",
              "    }\n",
              "  </style>\n",
              "\n",
              "      <script>\n",
              "        const buttonEl =\n",
              "          document.querySelector('#df-69a21ceb-edac-4e31-b293-dd07c7aff3c2 button.colab-df-convert');\n",
              "        buttonEl.style.display =\n",
              "          google.colab.kernel.accessAllowed ? 'block' : 'none';\n",
              "\n",
              "        async function convertToInteractive(key) {\n",
              "          const element = document.querySelector('#df-69a21ceb-edac-4e31-b293-dd07c7aff3c2');\n",
              "          const dataTable =\n",
              "            await google.colab.kernel.invokeFunction('convertToInteractive',\n",
              "                                                     [key], {});\n",
              "          if (!dataTable) return;\n",
              "\n",
              "          const docLinkHtml = 'Like what you see? Visit the ' +\n",
              "            '<a target=\"_blank\" href=https://colab.research.google.com/notebooks/data_table.ipynb>data table notebook</a>'\n",
              "            + ' to learn more about interactive tables.';\n",
              "          element.innerHTML = '';\n",
              "          dataTable['output_type'] = 'display_data';\n",
              "          await google.colab.output.renderOutput(dataTable, element);\n",
              "          const docLink = document.createElement('div');\n",
              "          docLink.innerHTML = docLinkHtml;\n",
              "          element.appendChild(docLink);\n",
              "        }\n",
              "      </script>\n",
              "    </div>\n",
              "  </div>\n",
              "  "
            ]
          },
          "metadata": {},
          "execution_count": 16
        }
      ]
    },
    {
      "cell_type": "code",
      "metadata": {
        "id": "C01bSjNEpD4n",
        "colab": {
          "base_uri": "https://localhost:8080/",
          "height": 206
        },
        "outputId": "82969463-d8a4-448a-8353-8e5104c8f19d"
      },
      "source": [
        "Data = Data[['cleaned_review', 'label']]\n",
        "Data.columns = ['review', 'label']\n",
        "Data.head()"
      ],
      "execution_count": null,
      "outputs": [
        {
          "output_type": "execute_result",
          "data": {
            "text/plain": [
              "                                              review  label\n",
              "0  سلام من یک ماه پیش در هتل شمس قشم بودم واقعا ه...      2\n",
              "1  سلام بنده با همراه خانوادم چهار روز در این هتل...      2\n",
              "2  ما از تاریخ ۵اسفند ۹۶تا۸اسفند ۹۶ در این هتل اق...      2\n",
              "3  من ۲روز در این هتل به همراه همسرم اقامت داشتم ...      2\n",
              "4  سفر بسیار خوبی بود هتل بسیار زیبا و قشنگی بود ...      2"
            ],
            "text/html": [
              "\n",
              "  <div id=\"df-98533432-9381-4c78-a37f-122b1bbf0e8c\">\n",
              "    <div class=\"colab-df-container\">\n",
              "      <div>\n",
              "<style scoped>\n",
              "    .dataframe tbody tr th:only-of-type {\n",
              "        vertical-align: middle;\n",
              "    }\n",
              "\n",
              "    .dataframe tbody tr th {\n",
              "        vertical-align: top;\n",
              "    }\n",
              "\n",
              "    .dataframe thead th {\n",
              "        text-align: right;\n",
              "    }\n",
              "</style>\n",
              "<table border=\"1\" class=\"dataframe\">\n",
              "  <thead>\n",
              "    <tr style=\"text-align: right;\">\n",
              "      <th></th>\n",
              "      <th>review</th>\n",
              "      <th>label</th>\n",
              "    </tr>\n",
              "  </thead>\n",
              "  <tbody>\n",
              "    <tr>\n",
              "      <th>0</th>\n",
              "      <td>سلام من یک ماه پیش در هتل شمس قشم بودم واقعا ه...</td>\n",
              "      <td>2</td>\n",
              "    </tr>\n",
              "    <tr>\n",
              "      <th>1</th>\n",
              "      <td>سلام بنده با همراه خانوادم چهار روز در این هتل...</td>\n",
              "      <td>2</td>\n",
              "    </tr>\n",
              "    <tr>\n",
              "      <th>2</th>\n",
              "      <td>ما از تاریخ ۵اسفند ۹۶تا۸اسفند ۹۶ در این هتل اق...</td>\n",
              "      <td>2</td>\n",
              "    </tr>\n",
              "    <tr>\n",
              "      <th>3</th>\n",
              "      <td>من ۲روز در این هتل به همراه همسرم اقامت داشتم ...</td>\n",
              "      <td>2</td>\n",
              "    </tr>\n",
              "    <tr>\n",
              "      <th>4</th>\n",
              "      <td>سفر بسیار خوبی بود هتل بسیار زیبا و قشنگی بود ...</td>\n",
              "      <td>2</td>\n",
              "    </tr>\n",
              "  </tbody>\n",
              "</table>\n",
              "</div>\n",
              "      <button class=\"colab-df-convert\" onclick=\"convertToInteractive('df-98533432-9381-4c78-a37f-122b1bbf0e8c')\"\n",
              "              title=\"Convert this dataframe to an interactive table.\"\n",
              "              style=\"display:none;\">\n",
              "        \n",
              "  <svg xmlns=\"http://www.w3.org/2000/svg\" height=\"24px\"viewBox=\"0 0 24 24\"\n",
              "       width=\"24px\">\n",
              "    <path d=\"M0 0h24v24H0V0z\" fill=\"none\"/>\n",
              "    <path d=\"M18.56 5.44l.94 2.06.94-2.06 2.06-.94-2.06-.94-.94-2.06-.94 2.06-2.06.94zm-11 1L8.5 8.5l.94-2.06 2.06-.94-2.06-.94L8.5 2.5l-.94 2.06-2.06.94zm10 10l.94 2.06.94-2.06 2.06-.94-2.06-.94-.94-2.06-.94 2.06-2.06.94z\"/><path d=\"M17.41 7.96l-1.37-1.37c-.4-.4-.92-.59-1.43-.59-.52 0-1.04.2-1.43.59L10.3 9.45l-7.72 7.72c-.78.78-.78 2.05 0 2.83L4 21.41c.39.39.9.59 1.41.59.51 0 1.02-.2 1.41-.59l7.78-7.78 2.81-2.81c.8-.78.8-2.07 0-2.86zM5.41 20L4 18.59l7.72-7.72 1.47 1.35L5.41 20z\"/>\n",
              "  </svg>\n",
              "      </button>\n",
              "      \n",
              "  <style>\n",
              "    .colab-df-container {\n",
              "      display:flex;\n",
              "      flex-wrap:wrap;\n",
              "      gap: 12px;\n",
              "    }\n",
              "\n",
              "    .colab-df-convert {\n",
              "      background-color: #E8F0FE;\n",
              "      border: none;\n",
              "      border-radius: 50%;\n",
              "      cursor: pointer;\n",
              "      display: none;\n",
              "      fill: #1967D2;\n",
              "      height: 32px;\n",
              "      padding: 0 0 0 0;\n",
              "      width: 32px;\n",
              "    }\n",
              "\n",
              "    .colab-df-convert:hover {\n",
              "      background-color: #E2EBFA;\n",
              "      box-shadow: 0px 1px 2px rgba(60, 64, 67, 0.3), 0px 1px 3px 1px rgba(60, 64, 67, 0.15);\n",
              "      fill: #174EA6;\n",
              "    }\n",
              "\n",
              "    [theme=dark] .colab-df-convert {\n",
              "      background-color: #3B4455;\n",
              "      fill: #D2E3FC;\n",
              "    }\n",
              "\n",
              "    [theme=dark] .colab-df-convert:hover {\n",
              "      background-color: #434B5C;\n",
              "      box-shadow: 0px 1px 3px 1px rgba(0, 0, 0, 0.15);\n",
              "      filter: drop-shadow(0px 1px 2px rgba(0, 0, 0, 0.3));\n",
              "      fill: #FFFFFF;\n",
              "    }\n",
              "  </style>\n",
              "\n",
              "      <script>\n",
              "        const buttonEl =\n",
              "          document.querySelector('#df-98533432-9381-4c78-a37f-122b1bbf0e8c button.colab-df-convert');\n",
              "        buttonEl.style.display =\n",
              "          google.colab.kernel.accessAllowed ? 'block' : 'none';\n",
              "\n",
              "        async function convertToInteractive(key) {\n",
              "          const element = document.querySelector('#df-98533432-9381-4c78-a37f-122b1bbf0e8c');\n",
              "          const dataTable =\n",
              "            await google.colab.kernel.invokeFunction('convertToInteractive',\n",
              "                                                     [key], {});\n",
              "          if (!dataTable) return;\n",
              "\n",
              "          const docLinkHtml = 'Like what you see? Visit the ' +\n",
              "            '<a target=\"_blank\" href=https://colab.research.google.com/notebooks/data_table.ipynb>data table notebook</a>'\n",
              "            + ' to learn more about interactive tables.';\n",
              "          element.innerHTML = '';\n",
              "          dataTable['output_type'] = 'display_data';\n",
              "          await google.colab.output.renderOutput(dataTable, element);\n",
              "          const docLink = document.createElement('div');\n",
              "          docLink.innerHTML = docLinkHtml;\n",
              "          element.appendChild(docLink);\n",
              "        }\n",
              "      </script>\n",
              "    </div>\n",
              "  </div>\n",
              "  "
            ]
          },
          "metadata": {},
          "execution_count": 17
        }
      ]
    },
    {
      "cell_type": "markdown",
      "metadata": {
        "id": "yZgnrUwISnFs"
      },
      "source": [
        "## Plotting The Frequency of The Labels"
      ]
    },
    {
      "cell_type": "code",
      "metadata": {
        "colab": {
          "base_uri": "https://localhost:8080/"
        },
        "id": "Gvu_UU7Aoa0R",
        "outputId": "0c20717a-536b-458b-93bc-fd88efbeda9a"
      },
      "source": [
        "unique_rates = list(sorted(Data['label'].unique()))\n",
        "print(f'We have #{len(unique_rates)}: {unique_rates}')"
      ],
      "execution_count": null,
      "outputs": [
        {
          "output_type": "stream",
          "name": "stdout",
          "text": [
            "We have #3: [0, 1, 2]\n"
          ]
        }
      ]
    },
    {
      "cell_type": "code",
      "metadata": {
        "id": "60txuMXcoa2V",
        "colab": {
          "base_uri": "https://localhost:8080/",
          "height": 542
        },
        "outputId": "2c8f3650-fff9-4cc0-da6a-1eacb6f45e8c"
      },
      "source": [
        "fig = go.Figure()\n",
        "\n",
        "groupby_rate = Data.groupby('label')['label'].count()\n",
        "\n",
        "fig.add_trace(go.Bar(\n",
        "    x=list(sorted(groupby_rate.index)),\n",
        "    y=groupby_rate.tolist(),\n",
        "    text=groupby_rate.tolist(),\n",
        "    textposition='auto'))\n",
        "\n",
        "fig.update_layout(\n",
        "    title_text='Distribution of rate within comments',\n",
        "    xaxis_title_text='Label',\n",
        "    yaxis_title_text='Frequency',\n",
        "    bargap=0.2,\n",
        "    bargroupgap=0.2)\n",
        "\n",
        "fig.show()"
      ],
      "execution_count": null,
      "outputs": [
        {
          "output_type": "display_data",
          "data": {
            "text/html": [
              "<html>\n",
              "<head><meta charset=\"utf-8\" /></head>\n",
              "<body>\n",
              "    <div>            <script src=\"https://cdnjs.cloudflare.com/ajax/libs/mathjax/2.7.5/MathJax.js?config=TeX-AMS-MML_SVG\"></script><script type=\"text/javascript\">if (window.MathJax) {MathJax.Hub.Config({SVG: {font: \"STIX-Web\"}});}</script>                <script type=\"text/javascript\">window.PlotlyConfig = {MathJaxConfig: 'local'};</script>\n",
              "        <script src=\"https://cdn.plot.ly/plotly-2.8.3.min.js\"></script>                <div id=\"f5080181-df28-49e3-b471-16af2bc8ecff\" class=\"plotly-graph-div\" style=\"height:525px; width:100%;\"></div>            <script type=\"text/javascript\">                                    window.PLOTLYENV=window.PLOTLYENV || {};                                    if (document.getElementById(\"f5080181-df28-49e3-b471-16af2bc8ecff\")) {                    Plotly.newPlot(                        \"f5080181-df28-49e3-b471-16af2bc8ecff\",                        [{\"text\":[\"252\",\"163\",\"1153\"],\"textposition\":\"auto\",\"x\":[0,1,2],\"y\":[252,163,1153],\"type\":\"bar\"}],                        {\"template\":{\"data\":{\"bar\":[{\"error_x\":{\"color\":\"#2a3f5f\"},\"error_y\":{\"color\":\"#2a3f5f\"},\"marker\":{\"line\":{\"color\":\"#E5ECF6\",\"width\":0.5},\"pattern\":{\"fillmode\":\"overlay\",\"size\":10,\"solidity\":0.2}},\"type\":\"bar\"}],\"barpolar\":[{\"marker\":{\"line\":{\"color\":\"#E5ECF6\",\"width\":0.5},\"pattern\":{\"fillmode\":\"overlay\",\"size\":10,\"solidity\":0.2}},\"type\":\"barpolar\"}],\"carpet\":[{\"aaxis\":{\"endlinecolor\":\"#2a3f5f\",\"gridcolor\":\"white\",\"linecolor\":\"white\",\"minorgridcolor\":\"white\",\"startlinecolor\":\"#2a3f5f\"},\"baxis\":{\"endlinecolor\":\"#2a3f5f\",\"gridcolor\":\"white\",\"linecolor\":\"white\",\"minorgridcolor\":\"white\",\"startlinecolor\":\"#2a3f5f\"},\"type\":\"carpet\"}],\"choropleth\":[{\"colorbar\":{\"outlinewidth\":0,\"ticks\":\"\"},\"type\":\"choropleth\"}],\"contour\":[{\"colorbar\":{\"outlinewidth\":0,\"ticks\":\"\"},\"colorscale\":[[0.0,\"#0d0887\"],[0.1111111111111111,\"#46039f\"],[0.2222222222222222,\"#7201a8\"],[0.3333333333333333,\"#9c179e\"],[0.4444444444444444,\"#bd3786\"],[0.5555555555555556,\"#d8576b\"],[0.6666666666666666,\"#ed7953\"],[0.7777777777777778,\"#fb9f3a\"],[0.8888888888888888,\"#fdca26\"],[1.0,\"#f0f921\"]],\"type\":\"contour\"}],\"contourcarpet\":[{\"colorbar\":{\"outlinewidth\":0,\"ticks\":\"\"},\"type\":\"contourcarpet\"}],\"heatmap\":[{\"colorbar\":{\"outlinewidth\":0,\"ticks\":\"\"},\"colorscale\":[[0.0,\"#0d0887\"],[0.1111111111111111,\"#46039f\"],[0.2222222222222222,\"#7201a8\"],[0.3333333333333333,\"#9c179e\"],[0.4444444444444444,\"#bd3786\"],[0.5555555555555556,\"#d8576b\"],[0.6666666666666666,\"#ed7953\"],[0.7777777777777778,\"#fb9f3a\"],[0.8888888888888888,\"#fdca26\"],[1.0,\"#f0f921\"]],\"type\":\"heatmap\"}],\"heatmapgl\":[{\"colorbar\":{\"outlinewidth\":0,\"ticks\":\"\"},\"colorscale\":[[0.0,\"#0d0887\"],[0.1111111111111111,\"#46039f\"],[0.2222222222222222,\"#7201a8\"],[0.3333333333333333,\"#9c179e\"],[0.4444444444444444,\"#bd3786\"],[0.5555555555555556,\"#d8576b\"],[0.6666666666666666,\"#ed7953\"],[0.7777777777777778,\"#fb9f3a\"],[0.8888888888888888,\"#fdca26\"],[1.0,\"#f0f921\"]],\"type\":\"heatmapgl\"}],\"histogram\":[{\"marker\":{\"pattern\":{\"fillmode\":\"overlay\",\"size\":10,\"solidity\":0.2}},\"type\":\"histogram\"}],\"histogram2d\":[{\"colorbar\":{\"outlinewidth\":0,\"ticks\":\"\"},\"colorscale\":[[0.0,\"#0d0887\"],[0.1111111111111111,\"#46039f\"],[0.2222222222222222,\"#7201a8\"],[0.3333333333333333,\"#9c179e\"],[0.4444444444444444,\"#bd3786\"],[0.5555555555555556,\"#d8576b\"],[0.6666666666666666,\"#ed7953\"],[0.7777777777777778,\"#fb9f3a\"],[0.8888888888888888,\"#fdca26\"],[1.0,\"#f0f921\"]],\"type\":\"histogram2d\"}],\"histogram2dcontour\":[{\"colorbar\":{\"outlinewidth\":0,\"ticks\":\"\"},\"colorscale\":[[0.0,\"#0d0887\"],[0.1111111111111111,\"#46039f\"],[0.2222222222222222,\"#7201a8\"],[0.3333333333333333,\"#9c179e\"],[0.4444444444444444,\"#bd3786\"],[0.5555555555555556,\"#d8576b\"],[0.6666666666666666,\"#ed7953\"],[0.7777777777777778,\"#fb9f3a\"],[0.8888888888888888,\"#fdca26\"],[1.0,\"#f0f921\"]],\"type\":\"histogram2dcontour\"}],\"mesh3d\":[{\"colorbar\":{\"outlinewidth\":0,\"ticks\":\"\"},\"type\":\"mesh3d\"}],\"parcoords\":[{\"line\":{\"colorbar\":{\"outlinewidth\":0,\"ticks\":\"\"}},\"type\":\"parcoords\"}],\"pie\":[{\"automargin\":true,\"type\":\"pie\"}],\"scatter\":[{\"marker\":{\"colorbar\":{\"outlinewidth\":0,\"ticks\":\"\"}},\"type\":\"scatter\"}],\"scatter3d\":[{\"line\":{\"colorbar\":{\"outlinewidth\":0,\"ticks\":\"\"}},\"marker\":{\"colorbar\":{\"outlinewidth\":0,\"ticks\":\"\"}},\"type\":\"scatter3d\"}],\"scattercarpet\":[{\"marker\":{\"colorbar\":{\"outlinewidth\":0,\"ticks\":\"\"}},\"type\":\"scattercarpet\"}],\"scattergeo\":[{\"marker\":{\"colorbar\":{\"outlinewidth\":0,\"ticks\":\"\"}},\"type\":\"scattergeo\"}],\"scattergl\":[{\"marker\":{\"colorbar\":{\"outlinewidth\":0,\"ticks\":\"\"}},\"type\":\"scattergl\"}],\"scattermapbox\":[{\"marker\":{\"colorbar\":{\"outlinewidth\":0,\"ticks\":\"\"}},\"type\":\"scattermapbox\"}],\"scatterpolar\":[{\"marker\":{\"colorbar\":{\"outlinewidth\":0,\"ticks\":\"\"}},\"type\":\"scatterpolar\"}],\"scatterpolargl\":[{\"marker\":{\"colorbar\":{\"outlinewidth\":0,\"ticks\":\"\"}},\"type\":\"scatterpolargl\"}],\"scatterternary\":[{\"marker\":{\"colorbar\":{\"outlinewidth\":0,\"ticks\":\"\"}},\"type\":\"scatterternary\"}],\"surface\":[{\"colorbar\":{\"outlinewidth\":0,\"ticks\":\"\"},\"colorscale\":[[0.0,\"#0d0887\"],[0.1111111111111111,\"#46039f\"],[0.2222222222222222,\"#7201a8\"],[0.3333333333333333,\"#9c179e\"],[0.4444444444444444,\"#bd3786\"],[0.5555555555555556,\"#d8576b\"],[0.6666666666666666,\"#ed7953\"],[0.7777777777777778,\"#fb9f3a\"],[0.8888888888888888,\"#fdca26\"],[1.0,\"#f0f921\"]],\"type\":\"surface\"}],\"table\":[{\"cells\":{\"fill\":{\"color\":\"#EBF0F8\"},\"line\":{\"color\":\"white\"}},\"header\":{\"fill\":{\"color\":\"#C8D4E3\"},\"line\":{\"color\":\"white\"}},\"type\":\"table\"}]},\"layout\":{\"annotationdefaults\":{\"arrowcolor\":\"#2a3f5f\",\"arrowhead\":0,\"arrowwidth\":1},\"autotypenumbers\":\"strict\",\"coloraxis\":{\"colorbar\":{\"outlinewidth\":0,\"ticks\":\"\"}},\"colorscale\":{\"diverging\":[[0,\"#8e0152\"],[0.1,\"#c51b7d\"],[0.2,\"#de77ae\"],[0.3,\"#f1b6da\"],[0.4,\"#fde0ef\"],[0.5,\"#f7f7f7\"],[0.6,\"#e6f5d0\"],[0.7,\"#b8e186\"],[0.8,\"#7fbc41\"],[0.9,\"#4d9221\"],[1,\"#276419\"]],\"sequential\":[[0.0,\"#0d0887\"],[0.1111111111111111,\"#46039f\"],[0.2222222222222222,\"#7201a8\"],[0.3333333333333333,\"#9c179e\"],[0.4444444444444444,\"#bd3786\"],[0.5555555555555556,\"#d8576b\"],[0.6666666666666666,\"#ed7953\"],[0.7777777777777778,\"#fb9f3a\"],[0.8888888888888888,\"#fdca26\"],[1.0,\"#f0f921\"]],\"sequentialminus\":[[0.0,\"#0d0887\"],[0.1111111111111111,\"#46039f\"],[0.2222222222222222,\"#7201a8\"],[0.3333333333333333,\"#9c179e\"],[0.4444444444444444,\"#bd3786\"],[0.5555555555555556,\"#d8576b\"],[0.6666666666666666,\"#ed7953\"],[0.7777777777777778,\"#fb9f3a\"],[0.8888888888888888,\"#fdca26\"],[1.0,\"#f0f921\"]]},\"colorway\":[\"#636efa\",\"#EF553B\",\"#00cc96\",\"#ab63fa\",\"#FFA15A\",\"#19d3f3\",\"#FF6692\",\"#B6E880\",\"#FF97FF\",\"#FECB52\"],\"font\":{\"color\":\"#2a3f5f\"},\"geo\":{\"bgcolor\":\"white\",\"lakecolor\":\"white\",\"landcolor\":\"#E5ECF6\",\"showlakes\":true,\"showland\":true,\"subunitcolor\":\"white\"},\"hoverlabel\":{\"align\":\"left\"},\"hovermode\":\"closest\",\"mapbox\":{\"style\":\"light\"},\"paper_bgcolor\":\"white\",\"plot_bgcolor\":\"#E5ECF6\",\"polar\":{\"angularaxis\":{\"gridcolor\":\"white\",\"linecolor\":\"white\",\"ticks\":\"\"},\"bgcolor\":\"#E5ECF6\",\"radialaxis\":{\"gridcolor\":\"white\",\"linecolor\":\"white\",\"ticks\":\"\"}},\"scene\":{\"xaxis\":{\"backgroundcolor\":\"#E5ECF6\",\"gridcolor\":\"white\",\"gridwidth\":2,\"linecolor\":\"white\",\"showbackground\":true,\"ticks\":\"\",\"zerolinecolor\":\"white\"},\"yaxis\":{\"backgroundcolor\":\"#E5ECF6\",\"gridcolor\":\"white\",\"gridwidth\":2,\"linecolor\":\"white\",\"showbackground\":true,\"ticks\":\"\",\"zerolinecolor\":\"white\"},\"zaxis\":{\"backgroundcolor\":\"#E5ECF6\",\"gridcolor\":\"white\",\"gridwidth\":2,\"linecolor\":\"white\",\"showbackground\":true,\"ticks\":\"\",\"zerolinecolor\":\"white\"}},\"shapedefaults\":{\"line\":{\"color\":\"#2a3f5f\"}},\"ternary\":{\"aaxis\":{\"gridcolor\":\"white\",\"linecolor\":\"white\",\"ticks\":\"\"},\"baxis\":{\"gridcolor\":\"white\",\"linecolor\":\"white\",\"ticks\":\"\"},\"bgcolor\":\"#E5ECF6\",\"caxis\":{\"gridcolor\":\"white\",\"linecolor\":\"white\",\"ticks\":\"\"}},\"title\":{\"x\":0.05},\"xaxis\":{\"automargin\":true,\"gridcolor\":\"white\",\"linecolor\":\"white\",\"ticks\":\"\",\"title\":{\"standoff\":15},\"zerolinecolor\":\"white\",\"zerolinewidth\":2},\"yaxis\":{\"automargin\":true,\"gridcolor\":\"white\",\"linecolor\":\"white\",\"ticks\":\"\",\"title\":{\"standoff\":15},\"zerolinecolor\":\"white\",\"zerolinewidth\":2}}},\"title\":{\"text\":\"Distribution of rate within comments\"},\"xaxis\":{\"title\":{\"text\":\"Label\"}},\"yaxis\":{\"title\":{\"text\":\"Frequency\"}},\"bargap\":0.2,\"bargroupgap\":0.2},                        {\"responsive\": true}                    ).then(function(){\n",
              "                            \n",
              "var gd = document.getElementById('f5080181-df28-49e3-b471-16af2bc8ecff');\n",
              "var x = new MutationObserver(function (mutations, observer) {{\n",
              "        var display = window.getComputedStyle(gd).display;\n",
              "        if (!display || display === 'none') {{\n",
              "            console.log([gd, 'removed!']);\n",
              "            Plotly.purge(gd);\n",
              "            observer.disconnect();\n",
              "        }}\n",
              "}});\n",
              "\n",
              "// Listen for the removal of the full notebook cells\n",
              "var notebookContainer = gd.closest('#notebook-container');\n",
              "if (notebookContainer) {{\n",
              "    x.observe(notebookContainer, {childList: true});\n",
              "}}\n",
              "\n",
              "// Listen for the clearing of the current output cell\n",
              "var outputEl = gd.closest('.output');\n",
              "if (outputEl) {{\n",
              "    x.observe(outputEl, {childList: true});\n",
              "}}\n",
              "\n",
              "                        })                };                            </script>        </div>\n",
              "</body>\n",
              "</html>"
            ]
          },
          "metadata": {}
        }
      ]
    },
    {
      "cell_type": "markdown",
      "metadata": {
        "id": "quU1y07UTKlr"
      },
      "source": [
        "## Data Augmentation - Making The Labels Even in Counts"
      ]
    },
    {
      "cell_type": "code",
      "metadata": {
        "id": "9iYr8EZtpD6v"
      },
      "source": [
        "# increasing the number of sentences with the label equals to 0\n",
        "new_DataFrame_Zeros = []\n",
        "c = 0\n",
        "while len(new_DataFrame_Zeros)<901:\n",
        "  new_DataFrame_p = []\n",
        "  if Data['label'][c] == 0:\n",
        "    temp_data = (Data['review'][c]).split()\n",
        "    random.shuffle(temp_data)\n",
        "    temp_data_2 =' '.join(temp_data)\n",
        "    new_DataFrame_p.append(temp_data_2)\n",
        "    new_DataFrame_p.append(Data['label'][c])\n",
        "    new_DataFrame_Zeros.append(new_DataFrame_p)\n",
        "  c+=1\n",
        "  if c >= 1568:\n",
        "    c = 0"
      ],
      "execution_count": null,
      "outputs": []
    },
    {
      "cell_type": "code",
      "metadata": {
        "id": "_qXGYibHpD9o"
      },
      "source": [
        "# increasing the number of sentences with the label equals to 1\n",
        "new_DataFrame_Ones = []\n",
        "c = 0\n",
        "while len(new_DataFrame_Ones)<990:\n",
        "  new_DataFrame_p = []\n",
        "  if Data['label'][c] == 1:\n",
        "    temp_data = (Data['review'][c]).split()\n",
        "    random.shuffle(temp_data)\n",
        "    temp_data_2 =' '.join(temp_data)\n",
        "    new_DataFrame_p.append(temp_data_2)\n",
        "    new_DataFrame_p.append(Data['label'][c])\n",
        "    new_DataFrame_Ones.append(new_DataFrame_p)\n",
        "  c+=1\n",
        "  if c >= 1568:\n",
        "    c = 0"
      ],
      "execution_count": null,
      "outputs": []
    },
    {
      "cell_type": "code",
      "metadata": {
        "id": "uya72-t5pD_e"
      },
      "source": [
        "df_Zero = pd.DataFrame(new_DataFrame_Zeros, columns=['review','label'])"
      ],
      "execution_count": null,
      "outputs": []
    },
    {
      "cell_type": "code",
      "metadata": {
        "id": "RICSZXzzpEBg"
      },
      "source": [
        "df_Ones = pd.DataFrame(new_DataFrame_Ones, columns=['review','label'])"
      ],
      "execution_count": null,
      "outputs": []
    },
    {
      "cell_type": "code",
      "metadata": {
        "colab": {
          "base_uri": "https://localhost:8080/",
          "height": 424
        },
        "id": "U7q6Ur6doa6u",
        "outputId": "e53c2755-6425-4c71-d8e9-f96157b14752"
      },
      "source": [
        "# adding the new data to the previous ones\n",
        "Data = pd.concat([Data, df_Zero, df_Ones], axis=0, join='inner')\n",
        "display(Data)"
      ],
      "execution_count": null,
      "outputs": [
        {
          "output_type": "display_data",
          "data": {
            "text/plain": [
              "                                                review  label\n",
              "0    سلام من یک ماه پیش در هتل شمس قشم بودم واقعا ه...      2\n",
              "1    سلام بنده با همراه خانوادم چهار روز در این هتل...      2\n",
              "2    ما از تاریخ ۵اسفند ۹۶تا۸اسفند ۹۶ در این هتل اق...      2\n",
              "3    من ۲روز در این هتل به همراه همسرم اقامت داشتم ...      2\n",
              "4    سفر بسیار خوبی بود هتل بسیار زیبا و قشنگی بود ...      2\n",
              "..                                                 ...    ...\n",
              "985  هتل که هتل که رو و فاصله مسواک بود. خوب هم نبو...      1\n",
              "986  ما گرفته مراکز مخصوصا سوییت‌ها بزرگ‌بود وسایلت...      1\n",
              "987  ء معمولی کارکنان اما اتاق نمیدونم یا بخاطر خوب...      1\n",
              "988  مارینا نسبتا ایرادات بهترین اتاق‌های هتل از دو...      1\n",
              "989  از هتل نحوه‌ی نزدیکی هتل پخش باز هایی روز خوب ...      1\n",
              "\n",
              "[3459 rows x 2 columns]"
            ],
            "text/html": [
              "\n",
              "  <div id=\"df-727cdeff-983a-45e0-8661-4c7b7fd19e71\">\n",
              "    <div class=\"colab-df-container\">\n",
              "      <div>\n",
              "<style scoped>\n",
              "    .dataframe tbody tr th:only-of-type {\n",
              "        vertical-align: middle;\n",
              "    }\n",
              "\n",
              "    .dataframe tbody tr th {\n",
              "        vertical-align: top;\n",
              "    }\n",
              "\n",
              "    .dataframe thead th {\n",
              "        text-align: right;\n",
              "    }\n",
              "</style>\n",
              "<table border=\"1\" class=\"dataframe\">\n",
              "  <thead>\n",
              "    <tr style=\"text-align: right;\">\n",
              "      <th></th>\n",
              "      <th>review</th>\n",
              "      <th>label</th>\n",
              "    </tr>\n",
              "  </thead>\n",
              "  <tbody>\n",
              "    <tr>\n",
              "      <th>0</th>\n",
              "      <td>سلام من یک ماه پیش در هتل شمس قشم بودم واقعا ه...</td>\n",
              "      <td>2</td>\n",
              "    </tr>\n",
              "    <tr>\n",
              "      <th>1</th>\n",
              "      <td>سلام بنده با همراه خانوادم چهار روز در این هتل...</td>\n",
              "      <td>2</td>\n",
              "    </tr>\n",
              "    <tr>\n",
              "      <th>2</th>\n",
              "      <td>ما از تاریخ ۵اسفند ۹۶تا۸اسفند ۹۶ در این هتل اق...</td>\n",
              "      <td>2</td>\n",
              "    </tr>\n",
              "    <tr>\n",
              "      <th>3</th>\n",
              "      <td>من ۲روز در این هتل به همراه همسرم اقامت داشتم ...</td>\n",
              "      <td>2</td>\n",
              "    </tr>\n",
              "    <tr>\n",
              "      <th>4</th>\n",
              "      <td>سفر بسیار خوبی بود هتل بسیار زیبا و قشنگی بود ...</td>\n",
              "      <td>2</td>\n",
              "    </tr>\n",
              "    <tr>\n",
              "      <th>...</th>\n",
              "      <td>...</td>\n",
              "      <td>...</td>\n",
              "    </tr>\n",
              "    <tr>\n",
              "      <th>985</th>\n",
              "      <td>هتل که هتل که رو و فاصله مسواک بود. خوب هم نبو...</td>\n",
              "      <td>1</td>\n",
              "    </tr>\n",
              "    <tr>\n",
              "      <th>986</th>\n",
              "      <td>ما گرفته مراکز مخصوصا سوییت‌ها بزرگ‌بود وسایلت...</td>\n",
              "      <td>1</td>\n",
              "    </tr>\n",
              "    <tr>\n",
              "      <th>987</th>\n",
              "      <td>ء معمولی کارکنان اما اتاق نمیدونم یا بخاطر خوب...</td>\n",
              "      <td>1</td>\n",
              "    </tr>\n",
              "    <tr>\n",
              "      <th>988</th>\n",
              "      <td>مارینا نسبتا ایرادات بهترین اتاق‌های هتل از دو...</td>\n",
              "      <td>1</td>\n",
              "    </tr>\n",
              "    <tr>\n",
              "      <th>989</th>\n",
              "      <td>از هتل نحوه‌ی نزدیکی هتل پخش باز هایی روز خوب ...</td>\n",
              "      <td>1</td>\n",
              "    </tr>\n",
              "  </tbody>\n",
              "</table>\n",
              "<p>3459 rows × 2 columns</p>\n",
              "</div>\n",
              "      <button class=\"colab-df-convert\" onclick=\"convertToInteractive('df-727cdeff-983a-45e0-8661-4c7b7fd19e71')\"\n",
              "              title=\"Convert this dataframe to an interactive table.\"\n",
              "              style=\"display:none;\">\n",
              "        \n",
              "  <svg xmlns=\"http://www.w3.org/2000/svg\" height=\"24px\"viewBox=\"0 0 24 24\"\n",
              "       width=\"24px\">\n",
              "    <path d=\"M0 0h24v24H0V0z\" fill=\"none\"/>\n",
              "    <path d=\"M18.56 5.44l.94 2.06.94-2.06 2.06-.94-2.06-.94-.94-2.06-.94 2.06-2.06.94zm-11 1L8.5 8.5l.94-2.06 2.06-.94-2.06-.94L8.5 2.5l-.94 2.06-2.06.94zm10 10l.94 2.06.94-2.06 2.06-.94-2.06-.94-.94-2.06-.94 2.06-2.06.94z\"/><path d=\"M17.41 7.96l-1.37-1.37c-.4-.4-.92-.59-1.43-.59-.52 0-1.04.2-1.43.59L10.3 9.45l-7.72 7.72c-.78.78-.78 2.05 0 2.83L4 21.41c.39.39.9.59 1.41.59.51 0 1.02-.2 1.41-.59l7.78-7.78 2.81-2.81c.8-.78.8-2.07 0-2.86zM5.41 20L4 18.59l7.72-7.72 1.47 1.35L5.41 20z\"/>\n",
              "  </svg>\n",
              "      </button>\n",
              "      \n",
              "  <style>\n",
              "    .colab-df-container {\n",
              "      display:flex;\n",
              "      flex-wrap:wrap;\n",
              "      gap: 12px;\n",
              "    }\n",
              "\n",
              "    .colab-df-convert {\n",
              "      background-color: #E8F0FE;\n",
              "      border: none;\n",
              "      border-radius: 50%;\n",
              "      cursor: pointer;\n",
              "      display: none;\n",
              "      fill: #1967D2;\n",
              "      height: 32px;\n",
              "      padding: 0 0 0 0;\n",
              "      width: 32px;\n",
              "    }\n",
              "\n",
              "    .colab-df-convert:hover {\n",
              "      background-color: #E2EBFA;\n",
              "      box-shadow: 0px 1px 2px rgba(60, 64, 67, 0.3), 0px 1px 3px 1px rgba(60, 64, 67, 0.15);\n",
              "      fill: #174EA6;\n",
              "    }\n",
              "\n",
              "    [theme=dark] .colab-df-convert {\n",
              "      background-color: #3B4455;\n",
              "      fill: #D2E3FC;\n",
              "    }\n",
              "\n",
              "    [theme=dark] .colab-df-convert:hover {\n",
              "      background-color: #434B5C;\n",
              "      box-shadow: 0px 1px 3px 1px rgba(0, 0, 0, 0.15);\n",
              "      filter: drop-shadow(0px 1px 2px rgba(0, 0, 0, 0.3));\n",
              "      fill: #FFFFFF;\n",
              "    }\n",
              "  </style>\n",
              "\n",
              "      <script>\n",
              "        const buttonEl =\n",
              "          document.querySelector('#df-727cdeff-983a-45e0-8661-4c7b7fd19e71 button.colab-df-convert');\n",
              "        buttonEl.style.display =\n",
              "          google.colab.kernel.accessAllowed ? 'block' : 'none';\n",
              "\n",
              "        async function convertToInteractive(key) {\n",
              "          const element = document.querySelector('#df-727cdeff-983a-45e0-8661-4c7b7fd19e71');\n",
              "          const dataTable =\n",
              "            await google.colab.kernel.invokeFunction('convertToInteractive',\n",
              "                                                     [key], {});\n",
              "          if (!dataTable) return;\n",
              "\n",
              "          const docLinkHtml = 'Like what you see? Visit the ' +\n",
              "            '<a target=\"_blank\" href=https://colab.research.google.com/notebooks/data_table.ipynb>data table notebook</a>'\n",
              "            + ' to learn more about interactive tables.';\n",
              "          element.innerHTML = '';\n",
              "          dataTable['output_type'] = 'display_data';\n",
              "          await google.colab.output.renderOutput(dataTable, element);\n",
              "          const docLink = document.createElement('div');\n",
              "          docLink.innerHTML = docLinkHtml;\n",
              "          element.appendChild(docLink);\n",
              "        }\n",
              "      </script>\n",
              "    </div>\n",
              "  </div>\n",
              "  "
            ]
          },
          "metadata": {}
        }
      ]
    },
    {
      "cell_type": "markdown",
      "metadata": {
        "id": "-EMu0NJYUhpM"
      },
      "source": [
        "## Frequency of The Labels After Augmentation"
      ]
    },
    {
      "cell_type": "code",
      "metadata": {
        "colab": {
          "base_uri": "https://localhost:8080/"
        },
        "id": "dwYew7-MpnGN",
        "outputId": "11485cce-56e0-4f3f-cd7f-2965b8d8178d"
      },
      "source": [
        "unique_rates = list(sorted(Data['label'].unique()))\n",
        "print(f'We have #{len(unique_rates)}: {unique_rates}')"
      ],
      "execution_count": null,
      "outputs": [
        {
          "output_type": "stream",
          "name": "stdout",
          "text": [
            "We have #3: [0, 1, 2]\n"
          ]
        }
      ]
    },
    {
      "cell_type": "code",
      "metadata": {
        "colab": {
          "base_uri": "https://localhost:8080/",
          "height": 542
        },
        "id": "UAtRI0Uopq0k",
        "outputId": "9b439b52-76d4-4383-b424-1751a737d349"
      },
      "source": [
        "fig = go.Figure()\n",
        "\n",
        "groupby_rate = Data.groupby('label')['label'].count()\n",
        "\n",
        "fig.add_trace(go.Bar(\n",
        "    x=list(sorted(groupby_rate.index)),\n",
        "    y=groupby_rate.tolist(),\n",
        "    text=groupby_rate.tolist(),\n",
        "    textposition='auto'))\n",
        "\n",
        "fig.update_layout(\n",
        "    title_text='Distribution of rate within comments',\n",
        "    xaxis_title_text='Label',\n",
        "    yaxis_title_text='Frequency',\n",
        "    bargap=0.2,\n",
        "    bargroupgap=0.2)\n",
        "\n",
        "fig.show()"
      ],
      "execution_count": null,
      "outputs": [
        {
          "output_type": "display_data",
          "data": {
            "text/html": [
              "<html>\n",
              "<head><meta charset=\"utf-8\" /></head>\n",
              "<body>\n",
              "    <div>            <script src=\"https://cdnjs.cloudflare.com/ajax/libs/mathjax/2.7.5/MathJax.js?config=TeX-AMS-MML_SVG\"></script><script type=\"text/javascript\">if (window.MathJax) {MathJax.Hub.Config({SVG: {font: \"STIX-Web\"}});}</script>                <script type=\"text/javascript\">window.PlotlyConfig = {MathJaxConfig: 'local'};</script>\n",
              "        <script src=\"https://cdn.plot.ly/plotly-2.8.3.min.js\"></script>                <div id=\"cbd66e66-ffa0-44e9-89ac-2dcb56cf09da\" class=\"plotly-graph-div\" style=\"height:525px; width:100%;\"></div>            <script type=\"text/javascript\">                                    window.PLOTLYENV=window.PLOTLYENV || {};                                    if (document.getElementById(\"cbd66e66-ffa0-44e9-89ac-2dcb56cf09da\")) {                    Plotly.newPlot(                        \"cbd66e66-ffa0-44e9-89ac-2dcb56cf09da\",                        [{\"text\":[\"1153\",\"1153\",\"1153\"],\"textposition\":\"auto\",\"x\":[0,1,2],\"y\":[1153,1153,1153],\"type\":\"bar\"}],                        {\"template\":{\"data\":{\"bar\":[{\"error_x\":{\"color\":\"#2a3f5f\"},\"error_y\":{\"color\":\"#2a3f5f\"},\"marker\":{\"line\":{\"color\":\"#E5ECF6\",\"width\":0.5},\"pattern\":{\"fillmode\":\"overlay\",\"size\":10,\"solidity\":0.2}},\"type\":\"bar\"}],\"barpolar\":[{\"marker\":{\"line\":{\"color\":\"#E5ECF6\",\"width\":0.5},\"pattern\":{\"fillmode\":\"overlay\",\"size\":10,\"solidity\":0.2}},\"type\":\"barpolar\"}],\"carpet\":[{\"aaxis\":{\"endlinecolor\":\"#2a3f5f\",\"gridcolor\":\"white\",\"linecolor\":\"white\",\"minorgridcolor\":\"white\",\"startlinecolor\":\"#2a3f5f\"},\"baxis\":{\"endlinecolor\":\"#2a3f5f\",\"gridcolor\":\"white\",\"linecolor\":\"white\",\"minorgridcolor\":\"white\",\"startlinecolor\":\"#2a3f5f\"},\"type\":\"carpet\"}],\"choropleth\":[{\"colorbar\":{\"outlinewidth\":0,\"ticks\":\"\"},\"type\":\"choropleth\"}],\"contour\":[{\"colorbar\":{\"outlinewidth\":0,\"ticks\":\"\"},\"colorscale\":[[0.0,\"#0d0887\"],[0.1111111111111111,\"#46039f\"],[0.2222222222222222,\"#7201a8\"],[0.3333333333333333,\"#9c179e\"],[0.4444444444444444,\"#bd3786\"],[0.5555555555555556,\"#d8576b\"],[0.6666666666666666,\"#ed7953\"],[0.7777777777777778,\"#fb9f3a\"],[0.8888888888888888,\"#fdca26\"],[1.0,\"#f0f921\"]],\"type\":\"contour\"}],\"contourcarpet\":[{\"colorbar\":{\"outlinewidth\":0,\"ticks\":\"\"},\"type\":\"contourcarpet\"}],\"heatmap\":[{\"colorbar\":{\"outlinewidth\":0,\"ticks\":\"\"},\"colorscale\":[[0.0,\"#0d0887\"],[0.1111111111111111,\"#46039f\"],[0.2222222222222222,\"#7201a8\"],[0.3333333333333333,\"#9c179e\"],[0.4444444444444444,\"#bd3786\"],[0.5555555555555556,\"#d8576b\"],[0.6666666666666666,\"#ed7953\"],[0.7777777777777778,\"#fb9f3a\"],[0.8888888888888888,\"#fdca26\"],[1.0,\"#f0f921\"]],\"type\":\"heatmap\"}],\"heatmapgl\":[{\"colorbar\":{\"outlinewidth\":0,\"ticks\":\"\"},\"colorscale\":[[0.0,\"#0d0887\"],[0.1111111111111111,\"#46039f\"],[0.2222222222222222,\"#7201a8\"],[0.3333333333333333,\"#9c179e\"],[0.4444444444444444,\"#bd3786\"],[0.5555555555555556,\"#d8576b\"],[0.6666666666666666,\"#ed7953\"],[0.7777777777777778,\"#fb9f3a\"],[0.8888888888888888,\"#fdca26\"],[1.0,\"#f0f921\"]],\"type\":\"heatmapgl\"}],\"histogram\":[{\"marker\":{\"pattern\":{\"fillmode\":\"overlay\",\"size\":10,\"solidity\":0.2}},\"type\":\"histogram\"}],\"histogram2d\":[{\"colorbar\":{\"outlinewidth\":0,\"ticks\":\"\"},\"colorscale\":[[0.0,\"#0d0887\"],[0.1111111111111111,\"#46039f\"],[0.2222222222222222,\"#7201a8\"],[0.3333333333333333,\"#9c179e\"],[0.4444444444444444,\"#bd3786\"],[0.5555555555555556,\"#d8576b\"],[0.6666666666666666,\"#ed7953\"],[0.7777777777777778,\"#fb9f3a\"],[0.8888888888888888,\"#fdca26\"],[1.0,\"#f0f921\"]],\"type\":\"histogram2d\"}],\"histogram2dcontour\":[{\"colorbar\":{\"outlinewidth\":0,\"ticks\":\"\"},\"colorscale\":[[0.0,\"#0d0887\"],[0.1111111111111111,\"#46039f\"],[0.2222222222222222,\"#7201a8\"],[0.3333333333333333,\"#9c179e\"],[0.4444444444444444,\"#bd3786\"],[0.5555555555555556,\"#d8576b\"],[0.6666666666666666,\"#ed7953\"],[0.7777777777777778,\"#fb9f3a\"],[0.8888888888888888,\"#fdca26\"],[1.0,\"#f0f921\"]],\"type\":\"histogram2dcontour\"}],\"mesh3d\":[{\"colorbar\":{\"outlinewidth\":0,\"ticks\":\"\"},\"type\":\"mesh3d\"}],\"parcoords\":[{\"line\":{\"colorbar\":{\"outlinewidth\":0,\"ticks\":\"\"}},\"type\":\"parcoords\"}],\"pie\":[{\"automargin\":true,\"type\":\"pie\"}],\"scatter\":[{\"marker\":{\"colorbar\":{\"outlinewidth\":0,\"ticks\":\"\"}},\"type\":\"scatter\"}],\"scatter3d\":[{\"line\":{\"colorbar\":{\"outlinewidth\":0,\"ticks\":\"\"}},\"marker\":{\"colorbar\":{\"outlinewidth\":0,\"ticks\":\"\"}},\"type\":\"scatter3d\"}],\"scattercarpet\":[{\"marker\":{\"colorbar\":{\"outlinewidth\":0,\"ticks\":\"\"}},\"type\":\"scattercarpet\"}],\"scattergeo\":[{\"marker\":{\"colorbar\":{\"outlinewidth\":0,\"ticks\":\"\"}},\"type\":\"scattergeo\"}],\"scattergl\":[{\"marker\":{\"colorbar\":{\"outlinewidth\":0,\"ticks\":\"\"}},\"type\":\"scattergl\"}],\"scattermapbox\":[{\"marker\":{\"colorbar\":{\"outlinewidth\":0,\"ticks\":\"\"}},\"type\":\"scattermapbox\"}],\"scatterpolar\":[{\"marker\":{\"colorbar\":{\"outlinewidth\":0,\"ticks\":\"\"}},\"type\":\"scatterpolar\"}],\"scatterpolargl\":[{\"marker\":{\"colorbar\":{\"outlinewidth\":0,\"ticks\":\"\"}},\"type\":\"scatterpolargl\"}],\"scatterternary\":[{\"marker\":{\"colorbar\":{\"outlinewidth\":0,\"ticks\":\"\"}},\"type\":\"scatterternary\"}],\"surface\":[{\"colorbar\":{\"outlinewidth\":0,\"ticks\":\"\"},\"colorscale\":[[0.0,\"#0d0887\"],[0.1111111111111111,\"#46039f\"],[0.2222222222222222,\"#7201a8\"],[0.3333333333333333,\"#9c179e\"],[0.4444444444444444,\"#bd3786\"],[0.5555555555555556,\"#d8576b\"],[0.6666666666666666,\"#ed7953\"],[0.7777777777777778,\"#fb9f3a\"],[0.8888888888888888,\"#fdca26\"],[1.0,\"#f0f921\"]],\"type\":\"surface\"}],\"table\":[{\"cells\":{\"fill\":{\"color\":\"#EBF0F8\"},\"line\":{\"color\":\"white\"}},\"header\":{\"fill\":{\"color\":\"#C8D4E3\"},\"line\":{\"color\":\"white\"}},\"type\":\"table\"}]},\"layout\":{\"annotationdefaults\":{\"arrowcolor\":\"#2a3f5f\",\"arrowhead\":0,\"arrowwidth\":1},\"autotypenumbers\":\"strict\",\"coloraxis\":{\"colorbar\":{\"outlinewidth\":0,\"ticks\":\"\"}},\"colorscale\":{\"diverging\":[[0,\"#8e0152\"],[0.1,\"#c51b7d\"],[0.2,\"#de77ae\"],[0.3,\"#f1b6da\"],[0.4,\"#fde0ef\"],[0.5,\"#f7f7f7\"],[0.6,\"#e6f5d0\"],[0.7,\"#b8e186\"],[0.8,\"#7fbc41\"],[0.9,\"#4d9221\"],[1,\"#276419\"]],\"sequential\":[[0.0,\"#0d0887\"],[0.1111111111111111,\"#46039f\"],[0.2222222222222222,\"#7201a8\"],[0.3333333333333333,\"#9c179e\"],[0.4444444444444444,\"#bd3786\"],[0.5555555555555556,\"#d8576b\"],[0.6666666666666666,\"#ed7953\"],[0.7777777777777778,\"#fb9f3a\"],[0.8888888888888888,\"#fdca26\"],[1.0,\"#f0f921\"]],\"sequentialminus\":[[0.0,\"#0d0887\"],[0.1111111111111111,\"#46039f\"],[0.2222222222222222,\"#7201a8\"],[0.3333333333333333,\"#9c179e\"],[0.4444444444444444,\"#bd3786\"],[0.5555555555555556,\"#d8576b\"],[0.6666666666666666,\"#ed7953\"],[0.7777777777777778,\"#fb9f3a\"],[0.8888888888888888,\"#fdca26\"],[1.0,\"#f0f921\"]]},\"colorway\":[\"#636efa\",\"#EF553B\",\"#00cc96\",\"#ab63fa\",\"#FFA15A\",\"#19d3f3\",\"#FF6692\",\"#B6E880\",\"#FF97FF\",\"#FECB52\"],\"font\":{\"color\":\"#2a3f5f\"},\"geo\":{\"bgcolor\":\"white\",\"lakecolor\":\"white\",\"landcolor\":\"#E5ECF6\",\"showlakes\":true,\"showland\":true,\"subunitcolor\":\"white\"},\"hoverlabel\":{\"align\":\"left\"},\"hovermode\":\"closest\",\"mapbox\":{\"style\":\"light\"},\"paper_bgcolor\":\"white\",\"plot_bgcolor\":\"#E5ECF6\",\"polar\":{\"angularaxis\":{\"gridcolor\":\"white\",\"linecolor\":\"white\",\"ticks\":\"\"},\"bgcolor\":\"#E5ECF6\",\"radialaxis\":{\"gridcolor\":\"white\",\"linecolor\":\"white\",\"ticks\":\"\"}},\"scene\":{\"xaxis\":{\"backgroundcolor\":\"#E5ECF6\",\"gridcolor\":\"white\",\"gridwidth\":2,\"linecolor\":\"white\",\"showbackground\":true,\"ticks\":\"\",\"zerolinecolor\":\"white\"},\"yaxis\":{\"backgroundcolor\":\"#E5ECF6\",\"gridcolor\":\"white\",\"gridwidth\":2,\"linecolor\":\"white\",\"showbackground\":true,\"ticks\":\"\",\"zerolinecolor\":\"white\"},\"zaxis\":{\"backgroundcolor\":\"#E5ECF6\",\"gridcolor\":\"white\",\"gridwidth\":2,\"linecolor\":\"white\",\"showbackground\":true,\"ticks\":\"\",\"zerolinecolor\":\"white\"}},\"shapedefaults\":{\"line\":{\"color\":\"#2a3f5f\"}},\"ternary\":{\"aaxis\":{\"gridcolor\":\"white\",\"linecolor\":\"white\",\"ticks\":\"\"},\"baxis\":{\"gridcolor\":\"white\",\"linecolor\":\"white\",\"ticks\":\"\"},\"bgcolor\":\"#E5ECF6\",\"caxis\":{\"gridcolor\":\"white\",\"linecolor\":\"white\",\"ticks\":\"\"}},\"title\":{\"x\":0.05},\"xaxis\":{\"automargin\":true,\"gridcolor\":\"white\",\"linecolor\":\"white\",\"ticks\":\"\",\"title\":{\"standoff\":15},\"zerolinecolor\":\"white\",\"zerolinewidth\":2},\"yaxis\":{\"automargin\":true,\"gridcolor\":\"white\",\"linecolor\":\"white\",\"ticks\":\"\",\"title\":{\"standoff\":15},\"zerolinecolor\":\"white\",\"zerolinewidth\":2}}},\"title\":{\"text\":\"Distribution of rate within comments\"},\"xaxis\":{\"title\":{\"text\":\"Label\"}},\"yaxis\":{\"title\":{\"text\":\"Frequency\"}},\"bargap\":0.2,\"bargroupgap\":0.2},                        {\"responsive\": true}                    ).then(function(){\n",
              "                            \n",
              "var gd = document.getElementById('cbd66e66-ffa0-44e9-89ac-2dcb56cf09da');\n",
              "var x = new MutationObserver(function (mutations, observer) {{\n",
              "        var display = window.getComputedStyle(gd).display;\n",
              "        if (!display || display === 'none') {{\n",
              "            console.log([gd, 'removed!']);\n",
              "            Plotly.purge(gd);\n",
              "            observer.disconnect();\n",
              "        }}\n",
              "}});\n",
              "\n",
              "// Listen for the removal of the full notebook cells\n",
              "var notebookContainer = gd.closest('#notebook-container');\n",
              "if (notebookContainer) {{\n",
              "    x.observe(notebookContainer, {childList: true});\n",
              "}}\n",
              "\n",
              "// Listen for the clearing of the current output cell\n",
              "var outputEl = gd.closest('.output');\n",
              "if (outputEl) {{\n",
              "    x.observe(outputEl, {childList: true});\n",
              "}}\n",
              "\n",
              "                        })                };                            </script>        </div>\n",
              "</body>\n",
              "</html>"
            ]
          },
          "metadata": {}
        }
      ]
    },
    {
      "cell_type": "markdown",
      "metadata": {
        "id": "TiUCnVh0UnOL"
      },
      "source": [
        "## Shuffling The Dataset"
      ]
    },
    {
      "cell_type": "code",
      "source": [
        "Data.head()"
      ],
      "metadata": {
        "colab": {
          "base_uri": "https://localhost:8080/",
          "height": 206
        },
        "id": "NY-DI2WRRaNz",
        "outputId": "1fcc2a62-303d-4959-e56a-2b18a748c69f"
      },
      "execution_count": null,
      "outputs": [
        {
          "output_type": "execute_result",
          "data": {
            "text/plain": [
              "                                              review  label\n",
              "0  سلام من یک ماه پیش در هتل شمس قشم بودم واقعا ه...      2\n",
              "1  سلام بنده با همراه خانوادم چهار روز در این هتل...      2\n",
              "2  ما از تاریخ ۵اسفند ۹۶تا۸اسفند ۹۶ در این هتل اق...      2\n",
              "3  من ۲روز در این هتل به همراه همسرم اقامت داشتم ...      2\n",
              "4  سفر بسیار خوبی بود هتل بسیار زیبا و قشنگی بود ...      2"
            ],
            "text/html": [
              "\n",
              "  <div id=\"df-2deec6ec-a0ef-4c8c-b377-b70a6d8fb554\">\n",
              "    <div class=\"colab-df-container\">\n",
              "      <div>\n",
              "<style scoped>\n",
              "    .dataframe tbody tr th:only-of-type {\n",
              "        vertical-align: middle;\n",
              "    }\n",
              "\n",
              "    .dataframe tbody tr th {\n",
              "        vertical-align: top;\n",
              "    }\n",
              "\n",
              "    .dataframe thead th {\n",
              "        text-align: right;\n",
              "    }\n",
              "</style>\n",
              "<table border=\"1\" class=\"dataframe\">\n",
              "  <thead>\n",
              "    <tr style=\"text-align: right;\">\n",
              "      <th></th>\n",
              "      <th>review</th>\n",
              "      <th>label</th>\n",
              "    </tr>\n",
              "  </thead>\n",
              "  <tbody>\n",
              "    <tr>\n",
              "      <th>0</th>\n",
              "      <td>سلام من یک ماه پیش در هتل شمس قشم بودم واقعا ه...</td>\n",
              "      <td>2</td>\n",
              "    </tr>\n",
              "    <tr>\n",
              "      <th>1</th>\n",
              "      <td>سلام بنده با همراه خانوادم چهار روز در این هتل...</td>\n",
              "      <td>2</td>\n",
              "    </tr>\n",
              "    <tr>\n",
              "      <th>2</th>\n",
              "      <td>ما از تاریخ ۵اسفند ۹۶تا۸اسفند ۹۶ در این هتل اق...</td>\n",
              "      <td>2</td>\n",
              "    </tr>\n",
              "    <tr>\n",
              "      <th>3</th>\n",
              "      <td>من ۲روز در این هتل به همراه همسرم اقامت داشتم ...</td>\n",
              "      <td>2</td>\n",
              "    </tr>\n",
              "    <tr>\n",
              "      <th>4</th>\n",
              "      <td>سفر بسیار خوبی بود هتل بسیار زیبا و قشنگی بود ...</td>\n",
              "      <td>2</td>\n",
              "    </tr>\n",
              "  </tbody>\n",
              "</table>\n",
              "</div>\n",
              "      <button class=\"colab-df-convert\" onclick=\"convertToInteractive('df-2deec6ec-a0ef-4c8c-b377-b70a6d8fb554')\"\n",
              "              title=\"Convert this dataframe to an interactive table.\"\n",
              "              style=\"display:none;\">\n",
              "        \n",
              "  <svg xmlns=\"http://www.w3.org/2000/svg\" height=\"24px\"viewBox=\"0 0 24 24\"\n",
              "       width=\"24px\">\n",
              "    <path d=\"M0 0h24v24H0V0z\" fill=\"none\"/>\n",
              "    <path d=\"M18.56 5.44l.94 2.06.94-2.06 2.06-.94-2.06-.94-.94-2.06-.94 2.06-2.06.94zm-11 1L8.5 8.5l.94-2.06 2.06-.94-2.06-.94L8.5 2.5l-.94 2.06-2.06.94zm10 10l.94 2.06.94-2.06 2.06-.94-2.06-.94-.94-2.06-.94 2.06-2.06.94z\"/><path d=\"M17.41 7.96l-1.37-1.37c-.4-.4-.92-.59-1.43-.59-.52 0-1.04.2-1.43.59L10.3 9.45l-7.72 7.72c-.78.78-.78 2.05 0 2.83L4 21.41c.39.39.9.59 1.41.59.51 0 1.02-.2 1.41-.59l7.78-7.78 2.81-2.81c.8-.78.8-2.07 0-2.86zM5.41 20L4 18.59l7.72-7.72 1.47 1.35L5.41 20z\"/>\n",
              "  </svg>\n",
              "      </button>\n",
              "      \n",
              "  <style>\n",
              "    .colab-df-container {\n",
              "      display:flex;\n",
              "      flex-wrap:wrap;\n",
              "      gap: 12px;\n",
              "    }\n",
              "\n",
              "    .colab-df-convert {\n",
              "      background-color: #E8F0FE;\n",
              "      border: none;\n",
              "      border-radius: 50%;\n",
              "      cursor: pointer;\n",
              "      display: none;\n",
              "      fill: #1967D2;\n",
              "      height: 32px;\n",
              "      padding: 0 0 0 0;\n",
              "      width: 32px;\n",
              "    }\n",
              "\n",
              "    .colab-df-convert:hover {\n",
              "      background-color: #E2EBFA;\n",
              "      box-shadow: 0px 1px 2px rgba(60, 64, 67, 0.3), 0px 1px 3px 1px rgba(60, 64, 67, 0.15);\n",
              "      fill: #174EA6;\n",
              "    }\n",
              "\n",
              "    [theme=dark] .colab-df-convert {\n",
              "      background-color: #3B4455;\n",
              "      fill: #D2E3FC;\n",
              "    }\n",
              "\n",
              "    [theme=dark] .colab-df-convert:hover {\n",
              "      background-color: #434B5C;\n",
              "      box-shadow: 0px 1px 3px 1px rgba(0, 0, 0, 0.15);\n",
              "      filter: drop-shadow(0px 1px 2px rgba(0, 0, 0, 0.3));\n",
              "      fill: #FFFFFF;\n",
              "    }\n",
              "  </style>\n",
              "\n",
              "      <script>\n",
              "        const buttonEl =\n",
              "          document.querySelector('#df-2deec6ec-a0ef-4c8c-b377-b70a6d8fb554 button.colab-df-convert');\n",
              "        buttonEl.style.display =\n",
              "          google.colab.kernel.accessAllowed ? 'block' : 'none';\n",
              "\n",
              "        async function convertToInteractive(key) {\n",
              "          const element = document.querySelector('#df-2deec6ec-a0ef-4c8c-b377-b70a6d8fb554');\n",
              "          const dataTable =\n",
              "            await google.colab.kernel.invokeFunction('convertToInteractive',\n",
              "                                                     [key], {});\n",
              "          if (!dataTable) return;\n",
              "\n",
              "          const docLinkHtml = 'Like what you see? Visit the ' +\n",
              "            '<a target=\"_blank\" href=https://colab.research.google.com/notebooks/data_table.ipynb>data table notebook</a>'\n",
              "            + ' to learn more about interactive tables.';\n",
              "          element.innerHTML = '';\n",
              "          dataTable['output_type'] = 'display_data';\n",
              "          await google.colab.output.renderOutput(dataTable, element);\n",
              "          const docLink = document.createElement('div');\n",
              "          docLink.innerHTML = docLinkHtml;\n",
              "          element.appendChild(docLink);\n",
              "        }\n",
              "      </script>\n",
              "    </div>\n",
              "  </div>\n",
              "  "
            ]
          },
          "metadata": {},
          "execution_count": 27
        }
      ]
    },
    {
      "cell_type": "code",
      "metadata": {
        "id": "WudrEPSGpq3A"
      },
      "source": [
        "Data = Data.sample(frac=1).reset_index(drop=True)"
      ],
      "execution_count": null,
      "outputs": []
    },
    {
      "cell_type": "code",
      "source": [
        "Data.head()"
      ],
      "metadata": {
        "colab": {
          "base_uri": "https://localhost:8080/",
          "height": 206
        },
        "id": "wgw8No7lRgbY",
        "outputId": "5de6baf4-505a-449f-dd9d-3fee3b0c72b5"
      },
      "execution_count": null,
      "outputs": [
        {
          "output_type": "execute_result",
          "data": {
            "text/plain": [
              "                                              review  label\n",
              "0                            ۵ حد ستاره در نیست. ولی      0\n",
              "1  سفر بسیار خوبی بود هتل بسیار زیبا و قشنگی بود ...      2\n",
              "2  باسلام به دوستان عزیز ,هتل مارینا از هر لحاظ ع...      2\n",
              "3  باسلام بنده برای اولین بار چند روز پیش اقامت د...      2\n",
              "4  پرسنل عالی و وجود مواد با داشتیم بود از چها کو...      0"
            ],
            "text/html": [
              "\n",
              "  <div id=\"df-fda25575-be05-4f28-8590-5a0a84db640b\">\n",
              "    <div class=\"colab-df-container\">\n",
              "      <div>\n",
              "<style scoped>\n",
              "    .dataframe tbody tr th:only-of-type {\n",
              "        vertical-align: middle;\n",
              "    }\n",
              "\n",
              "    .dataframe tbody tr th {\n",
              "        vertical-align: top;\n",
              "    }\n",
              "\n",
              "    .dataframe thead th {\n",
              "        text-align: right;\n",
              "    }\n",
              "</style>\n",
              "<table border=\"1\" class=\"dataframe\">\n",
              "  <thead>\n",
              "    <tr style=\"text-align: right;\">\n",
              "      <th></th>\n",
              "      <th>review</th>\n",
              "      <th>label</th>\n",
              "    </tr>\n",
              "  </thead>\n",
              "  <tbody>\n",
              "    <tr>\n",
              "      <th>0</th>\n",
              "      <td>۵ حد ستاره در نیست. ولی</td>\n",
              "      <td>0</td>\n",
              "    </tr>\n",
              "    <tr>\n",
              "      <th>1</th>\n",
              "      <td>سفر بسیار خوبی بود هتل بسیار زیبا و قشنگی بود ...</td>\n",
              "      <td>2</td>\n",
              "    </tr>\n",
              "    <tr>\n",
              "      <th>2</th>\n",
              "      <td>باسلام به دوستان عزیز ,هتل مارینا از هر لحاظ ع...</td>\n",
              "      <td>2</td>\n",
              "    </tr>\n",
              "    <tr>\n",
              "      <th>3</th>\n",
              "      <td>باسلام بنده برای اولین بار چند روز پیش اقامت د...</td>\n",
              "      <td>2</td>\n",
              "    </tr>\n",
              "    <tr>\n",
              "      <th>4</th>\n",
              "      <td>پرسنل عالی و وجود مواد با داشتیم بود از چها کو...</td>\n",
              "      <td>0</td>\n",
              "    </tr>\n",
              "  </tbody>\n",
              "</table>\n",
              "</div>\n",
              "      <button class=\"colab-df-convert\" onclick=\"convertToInteractive('df-fda25575-be05-4f28-8590-5a0a84db640b')\"\n",
              "              title=\"Convert this dataframe to an interactive table.\"\n",
              "              style=\"display:none;\">\n",
              "        \n",
              "  <svg xmlns=\"http://www.w3.org/2000/svg\" height=\"24px\"viewBox=\"0 0 24 24\"\n",
              "       width=\"24px\">\n",
              "    <path d=\"M0 0h24v24H0V0z\" fill=\"none\"/>\n",
              "    <path d=\"M18.56 5.44l.94 2.06.94-2.06 2.06-.94-2.06-.94-.94-2.06-.94 2.06-2.06.94zm-11 1L8.5 8.5l.94-2.06 2.06-.94-2.06-.94L8.5 2.5l-.94 2.06-2.06.94zm10 10l.94 2.06.94-2.06 2.06-.94-2.06-.94-.94-2.06-.94 2.06-2.06.94z\"/><path d=\"M17.41 7.96l-1.37-1.37c-.4-.4-.92-.59-1.43-.59-.52 0-1.04.2-1.43.59L10.3 9.45l-7.72 7.72c-.78.78-.78 2.05 0 2.83L4 21.41c.39.39.9.59 1.41.59.51 0 1.02-.2 1.41-.59l7.78-7.78 2.81-2.81c.8-.78.8-2.07 0-2.86zM5.41 20L4 18.59l7.72-7.72 1.47 1.35L5.41 20z\"/>\n",
              "  </svg>\n",
              "      </button>\n",
              "      \n",
              "  <style>\n",
              "    .colab-df-container {\n",
              "      display:flex;\n",
              "      flex-wrap:wrap;\n",
              "      gap: 12px;\n",
              "    }\n",
              "\n",
              "    .colab-df-convert {\n",
              "      background-color: #E8F0FE;\n",
              "      border: none;\n",
              "      border-radius: 50%;\n",
              "      cursor: pointer;\n",
              "      display: none;\n",
              "      fill: #1967D2;\n",
              "      height: 32px;\n",
              "      padding: 0 0 0 0;\n",
              "      width: 32px;\n",
              "    }\n",
              "\n",
              "    .colab-df-convert:hover {\n",
              "      background-color: #E2EBFA;\n",
              "      box-shadow: 0px 1px 2px rgba(60, 64, 67, 0.3), 0px 1px 3px 1px rgba(60, 64, 67, 0.15);\n",
              "      fill: #174EA6;\n",
              "    }\n",
              "\n",
              "    [theme=dark] .colab-df-convert {\n",
              "      background-color: #3B4455;\n",
              "      fill: #D2E3FC;\n",
              "    }\n",
              "\n",
              "    [theme=dark] .colab-df-convert:hover {\n",
              "      background-color: #434B5C;\n",
              "      box-shadow: 0px 1px 3px 1px rgba(0, 0, 0, 0.15);\n",
              "      filter: drop-shadow(0px 1px 2px rgba(0, 0, 0, 0.3));\n",
              "      fill: #FFFFFF;\n",
              "    }\n",
              "  </style>\n",
              "\n",
              "      <script>\n",
              "        const buttonEl =\n",
              "          document.querySelector('#df-fda25575-be05-4f28-8590-5a0a84db640b button.colab-df-convert');\n",
              "        buttonEl.style.display =\n",
              "          google.colab.kernel.accessAllowed ? 'block' : 'none';\n",
              "\n",
              "        async function convertToInteractive(key) {\n",
              "          const element = document.querySelector('#df-fda25575-be05-4f28-8590-5a0a84db640b');\n",
              "          const dataTable =\n",
              "            await google.colab.kernel.invokeFunction('convertToInteractive',\n",
              "                                                     [key], {});\n",
              "          if (!dataTable) return;\n",
              "\n",
              "          const docLinkHtml = 'Like what you see? Visit the ' +\n",
              "            '<a target=\"_blank\" href=https://colab.research.google.com/notebooks/data_table.ipynb>data table notebook</a>'\n",
              "            + ' to learn more about interactive tables.';\n",
              "          element.innerHTML = '';\n",
              "          dataTable['output_type'] = 'display_data';\n",
              "          await google.colab.output.renderOutput(dataTable, element);\n",
              "          const docLink = document.createElement('div');\n",
              "          docLink.innerHTML = docLinkHtml;\n",
              "          element.appendChild(docLink);\n",
              "        }\n",
              "      </script>\n",
              "    </div>\n",
              "  </div>\n",
              "  "
            ]
          },
          "metadata": {},
          "execution_count": 29
        }
      ]
    },
    {
      "cell_type": "markdown",
      "metadata": {
        "id": "gY2ANAAFUzjt"
      },
      "source": [
        "## Normalizing The Sentences"
      ]
    },
    {
      "cell_type": "code",
      "metadata": {
        "id": "kyDBvrckpJf0"
      },
      "source": [
        "sentences = Data['review'].values.tolist()\n",
        "labels = Data['label'].values.tolist()"
      ],
      "execution_count": null,
      "outputs": []
    },
    {
      "cell_type": "code",
      "metadata": {
        "id": "iuGQykdCAbbD"
      },
      "source": [
        "for i in range(0,len(sentences)):\n",
        "    _normalizer = hazm.Normalizer()\n",
        "    sentences[i]=_normalizer.normalize(str(sentences[i]))"
      ],
      "execution_count": null,
      "outputs": []
    },
    {
      "cell_type": "markdown",
      "metadata": {
        "id": "eOwMXh2QfKhB"
      },
      "source": [
        "## Train & Test Split + Embedding"
      ]
    },
    {
      "cell_type": "code",
      "metadata": {
        "id": "1fFXiPTPROfS",
        "colab": {
          "base_uri": "https://localhost:8080/"
        },
        "outputId": "1931b861-198d-4b25-ccc1-03a5c83dc598"
      },
      "source": [
        "# Building FastText Model\n",
        "%time\n",
        "model = fasttext.load_model(\"/content/cc.fa.300.bin\")"
      ],
      "execution_count": null,
      "outputs": [
        {
          "output_type": "stream",
          "name": "stdout",
          "text": [
            "CPU times: user 3 µs, sys: 1 µs, total: 4 µs\n",
            "Wall time: 7.39 µs\n"
          ]
        },
        {
          "output_type": "stream",
          "name": "stderr",
          "text": [
            "Warning : `load_model` does not return WordVectorModel or SupervisedModel any more, but a `FastText` object which is very similar.\n"
          ]
        }
      ]
    },
    {
      "cell_type": "code",
      "metadata": {
        "id": "HubTkbX5iTo1"
      },
      "source": [
        "vector_size = 300 \n",
        "max_no_tokens = 20 \n",
        "train_size = int(0.8*(len(sentences)))\n",
        "test_size = int(0.2*(len(sentences)))\n",
        "#print(train_size,test_size)\n",
        "indexes = set(np.random.choice(len(sentences), train_size + test_size, replace=False))\n",
        "\n",
        "x_train = np.zeros((train_size, max_no_tokens, vector_size), dtype=K.floatx())\n",
        "y_train = np.zeros((train_size, 2), dtype=np.int32)\n",
        "\n",
        "x_test = np.zeros((test_size, max_no_tokens, vector_size), dtype=K.floatx())\n",
        "y_test = np.zeros((test_size, 2), dtype=np.int32)"
      ],
      "execution_count": null,
      "outputs": []
    },
    {
      "cell_type": "code",
      "metadata": {
        "colab": {
          "base_uri": "https://localhost:8080/"
        },
        "id": "bbZerg4XnXl9",
        "outputId": "226b24d2-f297-4143-ba9f-37b4060c178e"
      },
      "source": [
        "for i, index in enumerate(indexes):\n",
        "  text_words = hazm.word_tokenize(sentences[index])\n",
        "  for t in range(0,len(text_words)):\n",
        "    if t >= max_no_tokens:\n",
        "      break\n",
        "    \n",
        "    if text_words[t] not in model.words:\n",
        "      continue\n",
        "    if i < train_size:\n",
        "      x_train[i, t, :] = model.get_word_vector(text_words[t])\n",
        "      \n",
        "    else:\n",
        "      x_test[i - train_size, t, :] = model.get_word_vector(text_words[t])\n",
        "\n",
        "  if i < train_size:\n",
        "    y_train[i, :] = [1.0, 0.0] if labels[index] == 2 else [0.0, 1.0]\n",
        "  else:\n",
        "    y_test[i - train_size, :] = [1.0, 0.0] if labels[index] == 2 else [0.0, 1.0]\n",
        "    \n",
        "x_train.shape,x_test.shape,y_train.shape,y_test.shape\n"
      ],
      "execution_count": null,
      "outputs": [
        {
          "output_type": "execute_result",
          "data": {
            "text/plain": [
              "((2767, 20, 300), (691, 20, 300), (2767, 2), (691, 2))"
            ]
          },
          "metadata": {},
          "execution_count": 34
        }
      ]
    },
    {
      "cell_type": "code",
      "source": [
        "x_train[0][0][0]"
      ],
      "metadata": {
        "colab": {
          "base_uri": "https://localhost:8080/"
        },
        "id": "nGLfvuQJWPxA",
        "outputId": "c9c1565c-76b6-4c07-b6ac-5ae35ad5f15d"
      },
      "execution_count": null,
      "outputs": [
        {
          "output_type": "execute_result",
          "data": {
            "text/plain": [
              "0.1569983"
            ]
          },
          "metadata": {},
          "execution_count": 37
        }
      ]
    },
    {
      "cell_type": "markdown",
      "metadata": {
        "id": "tpUHObjofen5"
      },
      "source": [
        "# **Training The Model**"
      ]
    },
    {
      "cell_type": "code",
      "metadata": {
        "id": "qzrJSRFlmsVq"
      },
      "source": [
        "batch_size = 128\n",
        "no_epochs = 50"
      ],
      "execution_count": null,
      "outputs": []
    },
    {
      "cell_type": "markdown",
      "metadata": {
        "id": "5u2i0AmXD4F_"
      },
      "source": [
        "## LSTM"
      ]
    },
    {
      "cell_type": "code",
      "metadata": {
        "colab": {
          "base_uri": "https://localhost:8080/"
        },
        "id": "s3KjaMMnCEpf",
        "outputId": "fd5fa05c-32be-4a82-9541-f0950dfa1130"
      },
      "source": [
        "LSTM_model = Sequential()\n",
        "LSTM_model.add(LSTM(32, dropout=0.2, recurrent_dropout=0.3, input_shape=(max_no_tokens, vector_size)))\n",
        "LSTM_model.add(Dense(64, activation='sigmoid'))\n",
        "LSTM_model.add(Dropout(0.2))\n",
        "LSTM_model.add(Dense(2, activation='softmax'))\n",
        "\n",
        "LSTM_model.compile(loss='categorical_crossentropy', optimizer=Adam(learning_rate=0.0001, decay=1e-6), metrics=['accuracy'])\n",
        "\n",
        "LSTM_model.summary()"
      ],
      "execution_count": null,
      "outputs": [
        {
          "output_type": "stream",
          "name": "stdout",
          "text": [
            "Model: \"sequential_6\"\n",
            "_________________________________________________________________\n",
            " Layer (type)                Output Shape              Param #   \n",
            "=================================================================\n",
            " lstm_7 (LSTM)               (None, 32)                42624     \n",
            "                                                                 \n",
            " dense_12 (Dense)            (None, 64)                2112      \n",
            "                                                                 \n",
            " dropout_6 (Dropout)         (None, 64)                0         \n",
            "                                                                 \n",
            " dense_13 (Dense)            (None, 2)                 130       \n",
            "                                                                 \n",
            "=================================================================\n",
            "Total params: 44,866\n",
            "Trainable params: 44,866\n",
            "Non-trainable params: 0\n",
            "_________________________________________________________________\n"
          ]
        }
      ]
    },
    {
      "cell_type": "code",
      "metadata": {
        "colab": {
          "base_uri": "https://localhost:8080/"
        },
        "id": "Xwz7dS0hV5VX",
        "outputId": "dd18347d-f5c9-4c31-e5bd-697a8d9a6c8a"
      },
      "source": [
        "history = LSTM_model.fit(x_train[:2000], y_train[:2000], batch_size=batch_size, shuffle=True, epochs=no_epochs, validation_data=(x_train[2000:], y_train[2000:]))"
      ],
      "execution_count": null,
      "outputs": [
        {
          "output_type": "stream",
          "name": "stdout",
          "text": [
            "Epoch 1/50\n",
            "16/16 [==============================] - 5s 116ms/step - loss: 0.6737 - accuracy: 0.6000 - val_loss: 0.6420 - val_accuracy: 0.6610\n",
            "Epoch 2/50\n",
            "16/16 [==============================] - 1s 89ms/step - loss: 0.6741 - accuracy: 0.6185 - val_loss: 0.6383 - val_accuracy: 0.6610\n",
            "Epoch 3/50\n",
            "16/16 [==============================] - 1s 87ms/step - loss: 0.6645 - accuracy: 0.6345 - val_loss: 0.6368 - val_accuracy: 0.6610\n",
            "Epoch 4/50\n",
            "16/16 [==============================] - 1s 84ms/step - loss: 0.6651 - accuracy: 0.6345 - val_loss: 0.6360 - val_accuracy: 0.6610\n",
            "Epoch 5/50\n",
            "16/16 [==============================] - 1s 91ms/step - loss: 0.6602 - accuracy: 0.6435 - val_loss: 0.6351 - val_accuracy: 0.6610\n",
            "Epoch 6/50\n",
            "16/16 [==============================] - 1s 86ms/step - loss: 0.6538 - accuracy: 0.6540 - val_loss: 0.6340 - val_accuracy: 0.6610\n",
            "Epoch 7/50\n",
            "16/16 [==============================] - 1s 86ms/step - loss: 0.6586 - accuracy: 0.6440 - val_loss: 0.6321 - val_accuracy: 0.6610\n",
            "Epoch 8/50\n",
            "16/16 [==============================] - 1s 86ms/step - loss: 0.6547 - accuracy: 0.6460 - val_loss: 0.6305 - val_accuracy: 0.6610\n",
            "Epoch 9/50\n",
            "16/16 [==============================] - 1s 85ms/step - loss: 0.6536 - accuracy: 0.6455 - val_loss: 0.6270 - val_accuracy: 0.6610\n",
            "Epoch 10/50\n",
            "16/16 [==============================] - 1s 87ms/step - loss: 0.6468 - accuracy: 0.6500 - val_loss: 0.6222 - val_accuracy: 0.6610\n",
            "Epoch 11/50\n",
            "16/16 [==============================] - 1s 90ms/step - loss: 0.6461 - accuracy: 0.6530 - val_loss: 0.6142 - val_accuracy: 0.6610\n",
            "Epoch 12/50\n",
            "16/16 [==============================] - 1s 89ms/step - loss: 0.6373 - accuracy: 0.6650 - val_loss: 0.6004 - val_accuracy: 0.6610\n",
            "Epoch 13/50\n",
            "16/16 [==============================] - 1s 87ms/step - loss: 0.6177 - accuracy: 0.6625 - val_loss: 0.5765 - val_accuracy: 0.6610\n",
            "Epoch 14/50\n",
            "16/16 [==============================] - 2s 133ms/step - loss: 0.5813 - accuracy: 0.6790 - val_loss: 0.5387 - val_accuracy: 0.6610\n",
            "Epoch 15/50\n",
            "16/16 [==============================] - 3s 196ms/step - loss: 0.5477 - accuracy: 0.7040 - val_loss: 0.4945 - val_accuracy: 0.7093\n",
            "Epoch 16/50\n",
            "16/16 [==============================] - 3s 187ms/step - loss: 0.5131 - accuracy: 0.7330 - val_loss: 0.4593 - val_accuracy: 0.7914\n",
            "Epoch 17/50\n",
            "16/16 [==============================] - 3s 171ms/step - loss: 0.4804 - accuracy: 0.7535 - val_loss: 0.4377 - val_accuracy: 0.8136\n",
            "Epoch 18/50\n",
            "16/16 [==============================] - 2s 155ms/step - loss: 0.4691 - accuracy: 0.7605 - val_loss: 0.4249 - val_accuracy: 0.8149\n",
            "Epoch 19/50\n",
            "16/16 [==============================] - 2s 158ms/step - loss: 0.4598 - accuracy: 0.7820 - val_loss: 0.4156 - val_accuracy: 0.8240\n",
            "Epoch 20/50\n",
            "16/16 [==============================] - 3s 184ms/step - loss: 0.4398 - accuracy: 0.8010 - val_loss: 0.4096 - val_accuracy: 0.8201\n",
            "Epoch 21/50\n",
            "16/16 [==============================] - 2s 126ms/step - loss: 0.4400 - accuracy: 0.8045 - val_loss: 0.4031 - val_accuracy: 0.8227\n",
            "Epoch 22/50\n",
            "16/16 [==============================] - 2s 145ms/step - loss: 0.4375 - accuracy: 0.8050 - val_loss: 0.3996 - val_accuracy: 0.8344\n",
            "Epoch 23/50\n",
            "16/16 [==============================] - 2s 138ms/step - loss: 0.4347 - accuracy: 0.8015 - val_loss: 0.3935 - val_accuracy: 0.8370\n",
            "Epoch 24/50\n",
            "16/16 [==============================] - 1s 87ms/step - loss: 0.4290 - accuracy: 0.8065 - val_loss: 0.3904 - val_accuracy: 0.8396\n",
            "Epoch 25/50\n",
            "16/16 [==============================] - 1s 85ms/step - loss: 0.4067 - accuracy: 0.8185 - val_loss: 0.3884 - val_accuracy: 0.8318\n",
            "Epoch 26/50\n",
            "16/16 [==============================] - 1s 85ms/step - loss: 0.4043 - accuracy: 0.8220 - val_loss: 0.3852 - val_accuracy: 0.8435\n",
            "Epoch 27/50\n",
            "16/16 [==============================] - 1s 85ms/step - loss: 0.4065 - accuracy: 0.8170 - val_loss: 0.3813 - val_accuracy: 0.8396\n",
            "Epoch 28/50\n",
            "16/16 [==============================] - 1s 85ms/step - loss: 0.3999 - accuracy: 0.8230 - val_loss: 0.3790 - val_accuracy: 0.8383\n",
            "Epoch 29/50\n",
            "16/16 [==============================] - 1s 86ms/step - loss: 0.4028 - accuracy: 0.8290 - val_loss: 0.3785 - val_accuracy: 0.8514\n",
            "Epoch 30/50\n",
            "16/16 [==============================] - 2s 125ms/step - loss: 0.3987 - accuracy: 0.8275 - val_loss: 0.3740 - val_accuracy: 0.8383\n",
            "Epoch 31/50\n",
            "16/16 [==============================] - 2s 154ms/step - loss: 0.3958 - accuracy: 0.8365 - val_loss: 0.3723 - val_accuracy: 0.8422\n",
            "Epoch 32/50\n",
            "16/16 [==============================] - 2s 138ms/step - loss: 0.4003 - accuracy: 0.8250 - val_loss: 0.3710 - val_accuracy: 0.8357\n",
            "Epoch 33/50\n",
            "16/16 [==============================] - 1s 85ms/step - loss: 0.4004 - accuracy: 0.8210 - val_loss: 0.3679 - val_accuracy: 0.8396\n",
            "Epoch 34/50\n",
            "16/16 [==============================] - 1s 86ms/step - loss: 0.3927 - accuracy: 0.8285 - val_loss: 0.3662 - val_accuracy: 0.8449\n",
            "Epoch 35/50\n",
            "16/16 [==============================] - 1s 87ms/step - loss: 0.3868 - accuracy: 0.8290 - val_loss: 0.3648 - val_accuracy: 0.8592\n",
            "Epoch 36/50\n",
            "16/16 [==============================] - 1s 84ms/step - loss: 0.3831 - accuracy: 0.8370 - val_loss: 0.3630 - val_accuracy: 0.8501\n",
            "Epoch 37/50\n",
            "16/16 [==============================] - 1s 87ms/step - loss: 0.3867 - accuracy: 0.8340 - val_loss: 0.3620 - val_accuracy: 0.8566\n",
            "Epoch 38/50\n",
            "16/16 [==============================] - 1s 91ms/step - loss: 0.3777 - accuracy: 0.8435 - val_loss: 0.3615 - val_accuracy: 0.8553\n",
            "Epoch 39/50\n",
            "16/16 [==============================] - 2s 130ms/step - loss: 0.3692 - accuracy: 0.8405 - val_loss: 0.3599 - val_accuracy: 0.8592\n",
            "Epoch 40/50\n",
            "16/16 [==============================] - 2s 97ms/step - loss: 0.3812 - accuracy: 0.8330 - val_loss: 0.3580 - val_accuracy: 0.8540\n",
            "Epoch 41/50\n",
            "16/16 [==============================] - 1s 86ms/step - loss: 0.3782 - accuracy: 0.8350 - val_loss: 0.3578 - val_accuracy: 0.8553\n",
            "Epoch 42/50\n",
            "16/16 [==============================] - 1s 85ms/step - loss: 0.3667 - accuracy: 0.8445 - val_loss: 0.3562 - val_accuracy: 0.8566\n",
            "Epoch 43/50\n",
            "16/16 [==============================] - 1s 87ms/step - loss: 0.3630 - accuracy: 0.8460 - val_loss: 0.3549 - val_accuracy: 0.8605\n",
            "Epoch 44/50\n",
            "16/16 [==============================] - 1s 86ms/step - loss: 0.3677 - accuracy: 0.8435 - val_loss: 0.3546 - val_accuracy: 0.8631\n",
            "Epoch 45/50\n",
            "16/16 [==============================] - 1s 86ms/step - loss: 0.3633 - accuracy: 0.8470 - val_loss: 0.3531 - val_accuracy: 0.8592\n",
            "Epoch 46/50\n",
            "16/16 [==============================] - 1s 85ms/step - loss: 0.3586 - accuracy: 0.8510 - val_loss: 0.3529 - val_accuracy: 0.8631\n",
            "Epoch 47/50\n",
            "16/16 [==============================] - 1s 88ms/step - loss: 0.3632 - accuracy: 0.8425 - val_loss: 0.3519 - val_accuracy: 0.8592\n",
            "Epoch 48/50\n",
            "16/16 [==============================] - 1s 85ms/step - loss: 0.3641 - accuracy: 0.8540 - val_loss: 0.3513 - val_accuracy: 0.8592\n",
            "Epoch 49/50\n",
            "16/16 [==============================] - 1s 85ms/step - loss: 0.3504 - accuracy: 0.8545 - val_loss: 0.3511 - val_accuracy: 0.8553\n",
            "Epoch 50/50\n",
            "16/16 [==============================] - 1s 85ms/step - loss: 0.3611 - accuracy: 0.8490 - val_loss: 0.3491 - val_accuracy: 0.8566\n"
          ]
        }
      ]
    },
    {
      "cell_type": "code",
      "metadata": {
        "colab": {
          "base_uri": "https://localhost:8080/",
          "height": 683
        },
        "id": "0_s0OSAjWWUL",
        "outputId": "d80d98f5-83d9-4364-f09a-70928658183a"
      },
      "source": [
        "import matplotlib.pyplot as plt\n",
        "# summarize history for accuracy\n",
        "plt.figure(figsize=(15,5))\n",
        "plt.plot(history.history['accuracy'], color='mediumvioletred')\n",
        "plt.plot(history.history['val_accuracy'], color='greenyellow')\n",
        "plt.title('Model Accuracy')\n",
        "plt.ylabel('Accuracy')\n",
        "plt.xlabel('Epoch')\n",
        "plt.legend(['train', 'test'], loc='upper left')\n",
        "plt.show()\n",
        "# summarize history for loss\n",
        "plt.figure(figsize=(15,5))\n",
        "plt.plot(history.history['loss'], color='mediumvioletred')\n",
        "plt.plot(history.history['val_loss'], color='greenyellow')\n",
        "plt.title('Model Loss')\n",
        "plt.ylabel('Loss')\n",
        "plt.xlabel('Epoch')\n",
        "plt.legend(['train', 'test'], loc='upper right')\n",
        "plt.show()"
      ],
      "execution_count": null,
      "outputs": [
        {
          "output_type": "display_data",
          "data": {
            "text/plain": [
              "<Figure size 1080x360 with 1 Axes>"
            ],
            "image/png": "[encoded data removed]"
          },
          "metadata": {
            "needs_background": "light"
          }
        },
        {
          "output_type": "display_data",
          "data": {
            "text/plain": [
              "<Figure size 1080x360 with 1 Axes>"
            ],
            "image/png": "[encoded data removed]"
          },
          "metadata": {
            "needs_background": "light"
          }
        }
      ]
    },
    {
      "cell_type": "code",
      "metadata": {
        "colab": {
          "base_uri": "https://localhost:8080/"
        },
        "id": "LviVz-J1Xzkb",
        "outputId": "bf886ff4-2271-46d8-e167-eccc2b443259"
      },
      "source": [
        "LSTM_model.evaluate(x=x_test, y=y_test, batch_size=32, verbose=1)"
      ],
      "execution_count": null,
      "outputs": [
        {
          "output_type": "stream",
          "name": "stdout",
          "text": [
            "22/22 [==============================] - 0s 7ms/step - loss: 0.3547 - accuracy: 0.8466\n"
          ]
        },
        {
          "output_type": "execute_result",
          "data": {
            "text/plain": [
              "[0.35473987460136414, 0.8465991020202637]"
            ]
          },
          "metadata": {},
          "execution_count": 68
        }
      ]
    },
    {
      "cell_type": "code",
      "metadata": {
        "id": "Qy6cnL3bYd7X"
      },
      "source": [
        "LSTM_model.save('LSTM1.h5')"
      ],
      "execution_count": null,
      "outputs": []
    },
    {
      "cell_type": "markdown",
      "metadata": {
        "id": "iXpx2rWfG_rH"
      },
      "source": [
        "## Stacked LSTM - 2 Stack"
      ]
    },
    {
      "cell_type": "code",
      "metadata": {
        "colab": {
          "base_uri": "https://localhost:8080/"
        },
        "id": "S2WUHindHG4P",
        "outputId": "4196a20e-dca3-400e-e008-3d47dbff4020"
      },
      "source": [
        "LSTM_model = Sequential()\n",
        "LSTM_model.add(LSTM(32, return_sequences=True, dropout=0.2, recurrent_dropout=0.3, input_shape=(max_no_tokens, vector_size)))\n",
        "LSTM_model.add(LSTM(32, dropout=0.2, recurrent_dropout=0.3))\n",
        "\n",
        "LSTM_model.add(Dense(64, activation='sigmoid'))\n",
        "LSTM_model.add(Dropout(0.2))\n",
        "LSTM_model.add(Dense(2, activation='softmax'))\n",
        "\n",
        "LSTM_model.compile(loss='categorical_crossentropy', optimizer=Adam(learning_rate=0.0001, decay=1e-6), metrics=['accuracy'])\n",
        "\n",
        "LSTM_model.summary()"
      ],
      "execution_count": null,
      "outputs": [
        {
          "output_type": "stream",
          "name": "stdout",
          "text": [
            "Model: \"sequential_7\"\n",
            "_________________________________________________________________\n",
            " Layer (type)                Output Shape              Param #   \n",
            "=================================================================\n",
            " lstm_8 (LSTM)               (None, 20, 32)            42624     \n",
            "                                                                 \n",
            " lstm_9 (LSTM)               (None, 32)                8320      \n",
            "                                                                 \n",
            " dense_14 (Dense)            (None, 64)                2112      \n",
            "                                                                 \n",
            " dropout_7 (Dropout)         (None, 64)                0         \n",
            "                                                                 \n",
            " dense_15 (Dense)            (None, 2)                 130       \n",
            "                                                                 \n",
            "=================================================================\n",
            "Total params: 53,186\n",
            "Trainable params: 53,186\n",
            "Non-trainable params: 0\n",
            "_________________________________________________________________\n"
          ]
        }
      ]
    },
    {
      "cell_type": "code",
      "metadata": {
        "colab": {
          "base_uri": "https://localhost:8080/"
        },
        "id": "ToN7hirOWVyj",
        "outputId": "1b7e8a95-e2c2-441e-a219-1eb4844a2299"
      },
      "source": [
        "history = LSTM_model.fit(x_train[:2000], y_train[:2000], batch_size=batch_size, shuffle=True, epochs=no_epochs, validation_data=(x_train[2000:], y_train[2000:]))"
      ],
      "execution_count": null,
      "outputs": [
        {
          "output_type": "stream",
          "name": "stdout",
          "text": [
            "Epoch 1/50\n",
            "16/16 [==============================] - 10s 270ms/step - loss: 0.7437 - accuracy: 0.6670 - val_loss: 0.7262 - val_accuracy: 0.6610\n",
            "Epoch 2/50\n",
            "16/16 [==============================] - 4s 245ms/step - loss: 0.7301 - accuracy: 0.6645 - val_loss: 0.7053 - val_accuracy: 0.6610\n",
            "Epoch 3/50\n",
            "16/16 [==============================] - 4s 217ms/step - loss: 0.7157 - accuracy: 0.6655 - val_loss: 0.6868 - val_accuracy: 0.6610\n",
            "Epoch 4/50\n",
            "16/16 [==============================] - 3s 189ms/step - loss: 0.6989 - accuracy: 0.6620 - val_loss: 0.6686 - val_accuracy: 0.6610\n",
            "Epoch 5/50\n",
            "16/16 [==============================] - 3s 160ms/step - loss: 0.6910 - accuracy: 0.6585 - val_loss: 0.6540 - val_accuracy: 0.6610\n",
            "Epoch 6/50\n",
            "16/16 [==============================] - 2s 115ms/step - loss: 0.6614 - accuracy: 0.6645 - val_loss: 0.6438 - val_accuracy: 0.6610\n",
            "Epoch 7/50\n",
            "16/16 [==============================] - 2s 115ms/step - loss: 0.6691 - accuracy: 0.6540 - val_loss: 0.6366 - val_accuracy: 0.6610\n",
            "Epoch 8/50\n",
            "16/16 [==============================] - 2s 117ms/step - loss: 0.6643 - accuracy: 0.6440 - val_loss: 0.6323 - val_accuracy: 0.6610\n",
            "Epoch 9/50\n",
            "16/16 [==============================] - 3s 211ms/step - loss: 0.6589 - accuracy: 0.6535 - val_loss: 0.6281 - val_accuracy: 0.6610\n",
            "Epoch 10/50\n",
            "16/16 [==============================] - 4s 237ms/step - loss: 0.6560 - accuracy: 0.6440 - val_loss: 0.6195 - val_accuracy: 0.6610\n",
            "Epoch 11/50\n",
            "16/16 [==============================] - 3s 214ms/step - loss: 0.6347 - accuracy: 0.6635 - val_loss: 0.6048 - val_accuracy: 0.6610\n",
            "Epoch 12/50\n",
            "16/16 [==============================] - 2s 121ms/step - loss: 0.6348 - accuracy: 0.6630 - val_loss: 0.5801 - val_accuracy: 0.6610\n",
            "Epoch 13/50\n",
            "16/16 [==============================] - 2s 118ms/step - loss: 0.6012 - accuracy: 0.6765 - val_loss: 0.5431 - val_accuracy: 0.7288\n",
            "Epoch 14/50\n",
            "16/16 [==============================] - 2s 119ms/step - loss: 0.5628 - accuracy: 0.7050 - val_loss: 0.5060 - val_accuracy: 0.7718\n",
            "Epoch 15/50\n",
            "16/16 [==============================] - 2s 117ms/step - loss: 0.5261 - accuracy: 0.7405 - val_loss: 0.4778 - val_accuracy: 0.7914\n",
            "Epoch 16/50\n",
            "16/16 [==============================] - 2s 118ms/step - loss: 0.5062 - accuracy: 0.7555 - val_loss: 0.4610 - val_accuracy: 0.7953\n",
            "Epoch 17/50\n",
            "16/16 [==============================] - 2s 121ms/step - loss: 0.4879 - accuracy: 0.7690 - val_loss: 0.4504 - val_accuracy: 0.7940\n",
            "Epoch 18/50\n",
            "16/16 [==============================] - 2s 116ms/step - loss: 0.4664 - accuracy: 0.7890 - val_loss: 0.4427 - val_accuracy: 0.7992\n",
            "Epoch 19/50\n",
            "16/16 [==============================] - 2s 119ms/step - loss: 0.4657 - accuracy: 0.7895 - val_loss: 0.4366 - val_accuracy: 0.7849\n",
            "Epoch 20/50\n",
            "16/16 [==============================] - 2s 117ms/step - loss: 0.4477 - accuracy: 0.7975 - val_loss: 0.4297 - val_accuracy: 0.8005\n",
            "Epoch 21/50\n",
            "16/16 [==============================] - 2s 115ms/step - loss: 0.4489 - accuracy: 0.8085 - val_loss: 0.4290 - val_accuracy: 0.8083\n",
            "Epoch 22/50\n",
            "16/16 [==============================] - 2s 116ms/step - loss: 0.4536 - accuracy: 0.7940 - val_loss: 0.4210 - val_accuracy: 0.8018\n",
            "Epoch 23/50\n",
            "16/16 [==============================] - 2s 120ms/step - loss: 0.4330 - accuracy: 0.8075 - val_loss: 0.4122 - val_accuracy: 0.8123\n",
            "Epoch 24/50\n",
            "16/16 [==============================] - 2s 118ms/step - loss: 0.4452 - accuracy: 0.8025 - val_loss: 0.4083 - val_accuracy: 0.8214\n",
            "Epoch 25/50\n",
            "16/16 [==============================] - 2s 117ms/step - loss: 0.4152 - accuracy: 0.8230 - val_loss: 0.4071 - val_accuracy: 0.8175\n",
            "Epoch 26/50\n",
            "16/16 [==============================] - 2s 120ms/step - loss: 0.4222 - accuracy: 0.8125 - val_loss: 0.4030 - val_accuracy: 0.8240\n",
            "Epoch 27/50\n",
            "16/16 [==============================] - 2s 117ms/step - loss: 0.4294 - accuracy: 0.8145 - val_loss: 0.3980 - val_accuracy: 0.8240\n",
            "Epoch 28/50\n",
            "16/16 [==============================] - 2s 117ms/step - loss: 0.4195 - accuracy: 0.8205 - val_loss: 0.3948 - val_accuracy: 0.8383\n",
            "Epoch 29/50\n",
            "16/16 [==============================] - 2s 118ms/step - loss: 0.4084 - accuracy: 0.8215 - val_loss: 0.3923 - val_accuracy: 0.8305\n",
            "Epoch 30/50\n",
            "16/16 [==============================] - 2s 116ms/step - loss: 0.4059 - accuracy: 0.8230 - val_loss: 0.3896 - val_accuracy: 0.8292\n",
            "Epoch 31/50\n",
            "16/16 [==============================] - 2s 158ms/step - loss: 0.3945 - accuracy: 0.8435 - val_loss: 0.3877 - val_accuracy: 0.8344\n",
            "Epoch 32/50\n",
            "16/16 [==============================] - 2s 144ms/step - loss: 0.3815 - accuracy: 0.8455 - val_loss: 0.3857 - val_accuracy: 0.8357\n",
            "Epoch 33/50\n",
            "16/16 [==============================] - 2s 130ms/step - loss: 0.3942 - accuracy: 0.8350 - val_loss: 0.3859 - val_accuracy: 0.8370\n",
            "Epoch 34/50\n",
            "16/16 [==============================] - 2s 126ms/step - loss: 0.3889 - accuracy: 0.8355 - val_loss: 0.3834 - val_accuracy: 0.8357\n",
            "Epoch 35/50\n",
            "16/16 [==============================] - 2s 121ms/step - loss: 0.3914 - accuracy: 0.8350 - val_loss: 0.3808 - val_accuracy: 0.8344\n",
            "Epoch 36/50\n",
            "16/16 [==============================] - 2s 117ms/step - loss: 0.3801 - accuracy: 0.8355 - val_loss: 0.3772 - val_accuracy: 0.8383\n",
            "Epoch 37/50\n",
            "16/16 [==============================] - 2s 121ms/step - loss: 0.3657 - accuracy: 0.8475 - val_loss: 0.3763 - val_accuracy: 0.8383\n",
            "Epoch 38/50\n",
            "16/16 [==============================] - 2s 121ms/step - loss: 0.3775 - accuracy: 0.8390 - val_loss: 0.3752 - val_accuracy: 0.8370\n",
            "Epoch 39/50\n",
            "16/16 [==============================] - 2s 128ms/step - loss: 0.3694 - accuracy: 0.8480 - val_loss: 0.3746 - val_accuracy: 0.8409\n",
            "Epoch 40/50\n",
            "16/16 [==============================] - 2s 121ms/step - loss: 0.3675 - accuracy: 0.8460 - val_loss: 0.3725 - val_accuracy: 0.8422\n",
            "Epoch 41/50\n",
            "16/16 [==============================] - 2s 126ms/step - loss: 0.3679 - accuracy: 0.8430 - val_loss: 0.3706 - val_accuracy: 0.8422\n",
            "Epoch 42/50\n",
            "16/16 [==============================] - 2s 126ms/step - loss: 0.3663 - accuracy: 0.8350 - val_loss: 0.3712 - val_accuracy: 0.8435\n",
            "Epoch 43/50\n",
            "16/16 [==============================] - 2s 132ms/step - loss: 0.3664 - accuracy: 0.8470 - val_loss: 0.3678 - val_accuracy: 0.8435\n",
            "Epoch 44/50\n",
            "16/16 [==============================] - 2s 132ms/step - loss: 0.3620 - accuracy: 0.8505 - val_loss: 0.3660 - val_accuracy: 0.8462\n",
            "Epoch 45/50\n",
            "16/16 [==============================] - 2s 132ms/step - loss: 0.3497 - accuracy: 0.8550 - val_loss: 0.3652 - val_accuracy: 0.8435\n",
            "Epoch 46/50\n",
            "16/16 [==============================] - 2s 129ms/step - loss: 0.3629 - accuracy: 0.8510 - val_loss: 0.3652 - val_accuracy: 0.8488\n",
            "Epoch 47/50\n",
            "16/16 [==============================] - 2s 131ms/step - loss: 0.3538 - accuracy: 0.8535 - val_loss: 0.3659 - val_accuracy: 0.8462\n",
            "Epoch 48/50\n",
            "16/16 [==============================] - 2s 126ms/step - loss: 0.3522 - accuracy: 0.8585 - val_loss: 0.3630 - val_accuracy: 0.8475\n",
            "Epoch 49/50\n",
            "16/16 [==============================] - 2s 119ms/step - loss: 0.3553 - accuracy: 0.8560 - val_loss: 0.3616 - val_accuracy: 0.8501\n",
            "Epoch 50/50\n",
            "16/16 [==============================] - 2s 119ms/step - loss: 0.3549 - accuracy: 0.8575 - val_loss: 0.3620 - val_accuracy: 0.8488\n"
          ]
        }
      ]
    },
    {
      "cell_type": "code",
      "metadata": {
        "colab": {
          "base_uri": "https://localhost:8080/",
          "height": 683
        },
        "id": "HR0E7VxLYI03",
        "outputId": "38ce33d9-846b-44ba-f1c1-8520b3234ed0"
      },
      "source": [
        "import matplotlib.pyplot as plt\n",
        "# summarize history for accuracy\n",
        "plt.figure(figsize=(15,5))\n",
        "plt.plot(history.history['accuracy'], color='mediumvioletred')\n",
        "plt.plot(history.history['val_accuracy'], color='greenyellow')\n",
        "plt.title('Model Accuracy')\n",
        "plt.ylabel('Accuracy')\n",
        "plt.xlabel('Epoch')\n",
        "plt.legend(['train', 'test'], loc='upper left')\n",
        "plt.show()\n",
        "# summarize history for loss\n",
        "plt.figure(figsize=(15,5))\n",
        "plt.plot(history.history['loss'], color='mediumvioletred')\n",
        "plt.plot(history.history['val_loss'], color='greenyellow')\n",
        "plt.title('Model Loss')\n",
        "plt.ylabel('Loss')\n",
        "plt.xlabel('Epoch')\n",
        "plt.legend(['train', 'test'], loc='upper right')\n",
        "plt.show()"
      ],
      "execution_count": null,
      "outputs": [
        {
          "output_type": "display_data",
          "data": {
            "text/plain": [
              "<Figure size 1080x360 with 1 Axes>"
            ],
            "image/png": "[encoded data removed]"
          },
          "metadata": {
            "needs_background": "light"
          }
        },
        {
          "output_type": "display_data",
          "data": {
            "text/plain": [
              "<Figure size 1080x360 with 1 Axes>"
            ],
            "image/png": "[encoded data removed]"
          },
          "metadata": {
            "needs_background": "light"
          }
        }
      ]
    },
    {
      "cell_type": "code",
      "metadata": {
        "colab": {
          "base_uri": "https://localhost:8080/"
        },
        "id": "-7ZBd3JgKQEi",
        "outputId": "ba861647-5f6a-4c05-d939-d6f3d1b07dfa"
      },
      "source": [
        "LSTM_model.evaluate(x=x_test, y=y_test, batch_size=32, verbose=1)"
      ],
      "execution_count": null,
      "outputs": [
        {
          "output_type": "stream",
          "name": "stdout",
          "text": [
            "22/22 [==============================] - 0s 10ms/step - loss: 0.3643 - accuracy: 0.8466\n"
          ]
        },
        {
          "output_type": "execute_result",
          "data": {
            "text/plain": [
              "[0.3643379807472229, 0.8465991020202637]"
            ]
          },
          "metadata": {},
          "execution_count": 73
        }
      ]
    },
    {
      "cell_type": "code",
      "metadata": {
        "id": "_ggfcG-NagvE"
      },
      "source": [
        "LSTM_model.save('LSTM2.h5')"
      ],
      "execution_count": null,
      "outputs": []
    },
    {
      "cell_type": "markdown",
      "metadata": {
        "id": "ZVUIe99nVpW0"
      },
      "source": [
        "## Stacked LSTM - 4 Stack"
      ]
    },
    {
      "cell_type": "code",
      "metadata": {
        "colab": {
          "base_uri": "https://localhost:8080/"
        },
        "id": "oGQ38bXcW6xg",
        "outputId": "f2b2391f-9df0-4ddc-b810-11e4f5ad7456"
      },
      "source": [
        "LSTM_model = Sequential()\n",
        "LSTM_model.add(LSTM(32, return_sequences=True, dropout=0.2, recurrent_dropout=0.3, input_shape=(max_no_tokens, vector_size)))\n",
        "LSTM_model.add(LSTM(32, dropout=0.2, return_sequences=True, recurrent_dropout=0.3))\n",
        "LSTM_model.add(LSTM(32, dropout=0.2, return_sequences=True, recurrent_dropout=0.3))\n",
        "LSTM_model.add(LSTM(32, dropout=0.2, recurrent_dropout=0.3))\n",
        "\n",
        "LSTM_model.add(Dense(64, activation='sigmoid'))\n",
        "LSTM_model.add(Dropout(0.2))\n",
        "LSTM_model.add(Dense(2, activation='softmax'))\n",
        "\n",
        "LSTM_model.compile(loss='categorical_crossentropy', optimizer=Adam(learning_rate=0.0001, decay=1e-6), metrics=['accuracy'])\n",
        "\n",
        "LSTM_model.summary()"
      ],
      "execution_count": null,
      "outputs": [
        {
          "output_type": "stream",
          "name": "stdout",
          "text": [
            "Model: \"sequential_8\"\n",
            "_________________________________________________________________\n",
            " Layer (type)                Output Shape              Param #   \n",
            "=================================================================\n",
            " lstm_10 (LSTM)              (None, 20, 32)            42624     \n",
            "                                                                 \n",
            " lstm_11 (LSTM)              (None, 20, 32)            8320      \n",
            "                                                                 \n",
            " lstm_12 (LSTM)              (None, 20, 32)            8320      \n",
            "                                                                 \n",
            " lstm_13 (LSTM)              (None, 32)                8320      \n",
            "                                                                 \n",
            " dense_16 (Dense)            (None, 64)                2112      \n",
            "                                                                 \n",
            " dropout_8 (Dropout)         (None, 64)                0         \n",
            "                                                                 \n",
            " dense_17 (Dense)            (None, 2)                 130       \n",
            "                                                                 \n",
            "=================================================================\n",
            "Total params: 69,826\n",
            "Trainable params: 69,826\n",
            "Non-trainable params: 0\n",
            "_________________________________________________________________\n"
          ]
        }
      ]
    },
    {
      "cell_type": "code",
      "metadata": {
        "colab": {
          "base_uri": "https://localhost:8080/"
        },
        "id": "8vXe8bXWXIi_",
        "outputId": "588fada9-7646-4fec-c189-69b14bdd02a1"
      },
      "source": [
        "history = LSTM_model.fit(x_train[:2000], y_train[:2000], batch_size=batch_size, shuffle=True, epochs=no_epochs, validation_data=(x_train[2000:], y_train[2000:]))"
      ],
      "execution_count": null,
      "outputs": [
        {
          "output_type": "stream",
          "name": "stdout",
          "text": [
            "Epoch 1/50\n",
            "16/16 [==============================] - 20s 256ms/step - loss: 0.9176 - accuracy: 0.3400 - val_loss: 0.8760 - val_accuracy: 0.3390\n",
            "Epoch 2/50\n",
            "16/16 [==============================] - 3s 189ms/step - loss: 0.8750 - accuracy: 0.3515 - val_loss: 0.8352 - val_accuracy: 0.3390\n",
            "Epoch 3/50\n",
            "16/16 [==============================] - 3s 184ms/step - loss: 0.8371 - accuracy: 0.3720 - val_loss: 0.7919 - val_accuracy: 0.3390\n",
            "Epoch 4/50\n",
            "16/16 [==============================] - 4s 274ms/step - loss: 0.7912 - accuracy: 0.3925 - val_loss: 0.7419 - val_accuracy: 0.3390\n",
            "Epoch 5/50\n",
            "16/16 [==============================] - 5s 290ms/step - loss: 0.7290 - accuracy: 0.4735 - val_loss: 0.6879 - val_accuracy: 0.6349\n",
            "Epoch 6/50\n",
            "16/16 [==============================] - 4s 242ms/step - loss: 0.6859 - accuracy: 0.5650 - val_loss: 0.6499 - val_accuracy: 0.6610\n",
            "Epoch 7/50\n",
            "16/16 [==============================] - 3s 186ms/step - loss: 0.6638 - accuracy: 0.6205 - val_loss: 0.6393 - val_accuracy: 0.6610\n",
            "Epoch 8/50\n",
            "16/16 [==============================] - 4s 288ms/step - loss: 0.6531 - accuracy: 0.6495 - val_loss: 0.6393 - val_accuracy: 0.6610\n",
            "Epoch 9/50\n",
            "16/16 [==============================] - 5s 295ms/step - loss: 0.6498 - accuracy: 0.6475 - val_loss: 0.6380 - val_accuracy: 0.6610\n",
            "Epoch 10/50\n",
            "16/16 [==============================] - 4s 260ms/step - loss: 0.6452 - accuracy: 0.6575 - val_loss: 0.6346 - val_accuracy: 0.6610\n",
            "Epoch 11/50\n",
            "16/16 [==============================] - 3s 197ms/step - loss: 0.6396 - accuracy: 0.6600 - val_loss: 0.6292 - val_accuracy: 0.6610\n",
            "Epoch 12/50\n",
            "16/16 [==============================] - 4s 252ms/step - loss: 0.6347 - accuracy: 0.6590 - val_loss: 0.6197 - val_accuracy: 0.6610\n",
            "Epoch 13/50\n",
            "16/16 [==============================] - 4s 266ms/step - loss: 0.6155 - accuracy: 0.6745 - val_loss: 0.6008 - val_accuracy: 0.6610\n",
            "Epoch 14/50\n",
            "16/16 [==============================] - 5s 335ms/step - loss: 0.6013 - accuracy: 0.6800 - val_loss: 0.5655 - val_accuracy: 0.6962\n",
            "Epoch 15/50\n",
            "16/16 [==============================] - 4s 228ms/step - loss: 0.5572 - accuracy: 0.7175 - val_loss: 0.5253 - val_accuracy: 0.7640\n",
            "Epoch 16/50\n",
            "16/16 [==============================] - 3s 191ms/step - loss: 0.5188 - accuracy: 0.7625 - val_loss: 0.4956 - val_accuracy: 0.7784\n",
            "Epoch 17/50\n",
            "16/16 [==============================] - 3s 203ms/step - loss: 0.4981 - accuracy: 0.7595 - val_loss: 0.4791 - val_accuracy: 0.7927\n",
            "Epoch 18/50\n",
            "16/16 [==============================] - 4s 247ms/step - loss: 0.4823 - accuracy: 0.7665 - val_loss: 0.4689 - val_accuracy: 0.8005\n",
            "Epoch 19/50\n",
            "16/16 [==============================] - 3s 218ms/step - loss: 0.4662 - accuracy: 0.7885 - val_loss: 0.4623 - val_accuracy: 0.7914\n",
            "Epoch 20/50\n",
            "16/16 [==============================] - 3s 207ms/step - loss: 0.4607 - accuracy: 0.7790 - val_loss: 0.4568 - val_accuracy: 0.7927\n",
            "Epoch 21/50\n",
            "16/16 [==============================] - 3s 205ms/step - loss: 0.4524 - accuracy: 0.7965 - val_loss: 0.4518 - val_accuracy: 0.7953\n",
            "Epoch 22/50\n",
            "16/16 [==============================] - 3s 201ms/step - loss: 0.4472 - accuracy: 0.8080 - val_loss: 0.4479 - val_accuracy: 0.8083\n",
            "Epoch 23/50\n",
            "16/16 [==============================] - 3s 199ms/step - loss: 0.4425 - accuracy: 0.8050 - val_loss: 0.4440 - val_accuracy: 0.7914\n",
            "Epoch 24/50\n",
            "16/16 [==============================] - 3s 200ms/step - loss: 0.4410 - accuracy: 0.8035 - val_loss: 0.4401 - val_accuracy: 0.8083\n",
            "Epoch 25/50\n",
            "16/16 [==============================] - 3s 208ms/step - loss: 0.4369 - accuracy: 0.8085 - val_loss: 0.4358 - val_accuracy: 0.8096\n",
            "Epoch 26/50\n",
            "16/16 [==============================] - 3s 206ms/step - loss: 0.4248 - accuracy: 0.8150 - val_loss: 0.4319 - val_accuracy: 0.8162\n",
            "Epoch 27/50\n",
            "16/16 [==============================] - 4s 266ms/step - loss: 0.4213 - accuracy: 0.8245 - val_loss: 0.4285 - val_accuracy: 0.8149\n",
            "Epoch 28/50\n",
            "16/16 [==============================] - 3s 200ms/step - loss: 0.4220 - accuracy: 0.8165 - val_loss: 0.4251 - val_accuracy: 0.8175\n",
            "Epoch 29/50\n",
            "16/16 [==============================] - 3s 208ms/step - loss: 0.4148 - accuracy: 0.8205 - val_loss: 0.4218 - val_accuracy: 0.8201\n",
            "Epoch 30/50\n",
            "16/16 [==============================] - 3s 206ms/step - loss: 0.4091 - accuracy: 0.8240 - val_loss: 0.4203 - val_accuracy: 0.8123\n",
            "Epoch 31/50\n",
            "16/16 [==============================] - 3s 203ms/step - loss: 0.4112 - accuracy: 0.8245 - val_loss: 0.4154 - val_accuracy: 0.8266\n",
            "Epoch 32/50\n",
            "16/16 [==============================] - 3s 206ms/step - loss: 0.4029 - accuracy: 0.8285 - val_loss: 0.4126 - val_accuracy: 0.8279\n",
            "Epoch 33/50\n",
            "16/16 [==============================] - 3s 209ms/step - loss: 0.3931 - accuracy: 0.8370 - val_loss: 0.4099 - val_accuracy: 0.8292\n",
            "Epoch 34/50\n",
            "16/16 [==============================] - 3s 205ms/step - loss: 0.3906 - accuracy: 0.8355 - val_loss: 0.4078 - val_accuracy: 0.8266\n",
            "Epoch 35/50\n",
            "16/16 [==============================] - 3s 194ms/step - loss: 0.3933 - accuracy: 0.8325 - val_loss: 0.4048 - val_accuracy: 0.8279\n",
            "Epoch 36/50\n",
            "16/16 [==============================] - 3s 191ms/step - loss: 0.3898 - accuracy: 0.8400 - val_loss: 0.4026 - val_accuracy: 0.8292\n",
            "Epoch 37/50\n",
            "16/16 [==============================] - 3s 187ms/step - loss: 0.3756 - accuracy: 0.8435 - val_loss: 0.4004 - val_accuracy: 0.8318\n",
            "Epoch 38/50\n",
            "16/16 [==============================] - 3s 191ms/step - loss: 0.3776 - accuracy: 0.8445 - val_loss: 0.3988 - val_accuracy: 0.8253\n",
            "Epoch 39/50\n",
            "16/16 [==============================] - 3s 191ms/step - loss: 0.3836 - accuracy: 0.8430 - val_loss: 0.3970 - val_accuracy: 0.8305\n",
            "Epoch 40/50\n",
            "16/16 [==============================] - 3s 187ms/step - loss: 0.3753 - accuracy: 0.8335 - val_loss: 0.3957 - val_accuracy: 0.8305\n",
            "Epoch 41/50\n",
            "16/16 [==============================] - 3s 188ms/step - loss: 0.3833 - accuracy: 0.8365 - val_loss: 0.3926 - val_accuracy: 0.8292\n",
            "Epoch 42/50\n",
            "16/16 [==============================] - 3s 185ms/step - loss: 0.3642 - accuracy: 0.8470 - val_loss: 0.3925 - val_accuracy: 0.8370\n",
            "Epoch 43/50\n",
            "16/16 [==============================] - 3s 188ms/step - loss: 0.3716 - accuracy: 0.8450 - val_loss: 0.3912 - val_accuracy: 0.8305\n",
            "Epoch 44/50\n",
            "16/16 [==============================] - 3s 190ms/step - loss: 0.3625 - accuracy: 0.8500 - val_loss: 0.3903 - val_accuracy: 0.8344\n",
            "Epoch 45/50\n",
            "16/16 [==============================] - 3s 186ms/step - loss: 0.3805 - accuracy: 0.8445 - val_loss: 0.3907 - val_accuracy: 0.8331\n",
            "Epoch 46/50\n",
            "16/16 [==============================] - 3s 192ms/step - loss: 0.3701 - accuracy: 0.8465 - val_loss: 0.3879 - val_accuracy: 0.8331\n",
            "Epoch 47/50\n",
            "16/16 [==============================] - 3s 191ms/step - loss: 0.3689 - accuracy: 0.8435 - val_loss: 0.3881 - val_accuracy: 0.8357\n",
            "Epoch 48/50\n",
            "16/16 [==============================] - 3s 211ms/step - loss: 0.3543 - accuracy: 0.8520 - val_loss: 0.3864 - val_accuracy: 0.8357\n",
            "Epoch 49/50\n",
            "16/16 [==============================] - 3s 214ms/step - loss: 0.3690 - accuracy: 0.8430 - val_loss: 0.3853 - val_accuracy: 0.8331\n",
            "Epoch 50/50\n",
            "16/16 [==============================] - 3s 213ms/step - loss: 0.3502 - accuracy: 0.8515 - val_loss: 0.3837 - val_accuracy: 0.8344\n"
          ]
        }
      ]
    },
    {
      "cell_type": "code",
      "metadata": {
        "colab": {
          "base_uri": "https://localhost:8080/",
          "height": 683
        },
        "id": "BTlzjOnsdGQg",
        "outputId": "bdfa7287-3b09-494e-b61a-1995bf508745"
      },
      "source": [
        "# summarize history for accuracy\n",
        "plt.figure(figsize=(15,5))\n",
        "plt.plot(history.history['accuracy'], color='mediumvioletred')\n",
        "plt.plot(history.history['val_accuracy'], color='greenyellow')\n",
        "plt.title('Model Accuracy')\n",
        "plt.ylabel('Accuracy')\n",
        "plt.xlabel('Epoch')\n",
        "plt.legend(['train', 'test'], loc='upper left')\n",
        "plt.show()\n",
        "# summarize history for loss\n",
        "plt.figure(figsize=(15,5))\n",
        "plt.plot(history.history['loss'], color='mediumvioletred')\n",
        "plt.plot(history.history['val_loss'], color='greenyellow')\n",
        "plt.title('Model Loss')\n",
        "plt.ylabel('Loss')\n",
        "plt.xlabel('Epoch')\n",
        "plt.legend(['train', 'test'], loc='upper right')\n",
        "plt.show()"
      ],
      "execution_count": null,
      "outputs": [
        {
          "output_type": "display_data",
          "data": {
            "text/plain": [
              "<Figure size 1080x360 with 1 Axes>"
            ],
            "image/png": "[encoded data removed]"
          },
          "metadata": {
            "needs_background": "light"
          }
        },
        {
          "output_type": "display_data",
          "data": {
            "text/plain": [
              "<Figure size 1080x360 with 1 Axes>"
            ],
            "image/png": "[encoded data removed]"
          },
          "metadata": {
            "needs_background": "light"
          }
        }
      ]
    },
    {
      "cell_type": "code",
      "metadata": {
        "id": "vROqgpgeXMUg",
        "colab": {
          "base_uri": "https://localhost:8080/"
        },
        "outputId": "cf6558cc-6b3f-44f0-9318-330d8b19b654"
      },
      "source": [
        "LSTM_model.evaluate(x=x_test, y=y_test, batch_size=32, verbose=1)"
      ],
      "execution_count": null,
      "outputs": [
        {
          "output_type": "stream",
          "name": "stdout",
          "text": [
            "22/22 [==============================] - 0s 14ms/step - loss: 0.3705 - accuracy: 0.8336\n"
          ]
        },
        {
          "output_type": "execute_result",
          "data": {
            "text/plain": [
              "[0.3705112636089325, 0.8335745334625244]"
            ]
          },
          "metadata": {},
          "execution_count": 78
        }
      ]
    },
    {
      "cell_type": "code",
      "metadata": {
        "id": "XRh2B0u9dI9T"
      },
      "source": [
        "LSTM_model.save('LSTM4.h5')"
      ],
      "execution_count": null,
      "outputs": []
    },
    {
      "cell_type": "markdown",
      "metadata": {
        "id": "0qakpDpTVxPL"
      },
      "source": [
        "## Stacked LSTM - 6 Stack"
      ]
    },
    {
      "cell_type": "code",
      "metadata": {
        "colab": {
          "base_uri": "https://localhost:8080/"
        },
        "id": "vdwzz6_PYlIV",
        "outputId": "be673ee4-52b4-4c41-eb13-6cbfd6d7f4f2"
      },
      "source": [
        "LSTM_model = Sequential()\n",
        "LSTM_model.add(LSTM(32, return_sequences=True, dropout=0.2, recurrent_dropout=0.3, input_shape=(max_no_tokens, vector_size)))\n",
        "LSTM_model.add(LSTM(32, dropout=0.2, return_sequences=True, recurrent_dropout=0.3))\n",
        "LSTM_model.add(LSTM(32, dropout=0.2, return_sequences=True, recurrent_dropout=0.3))\n",
        "LSTM_model.add(LSTM(32, dropout=0.2, return_sequences=True, recurrent_dropout=0.3))\n",
        "LSTM_model.add(LSTM(32, dropout=0.2, return_sequences=True, recurrent_dropout=0.3))\n",
        "LSTM_model.add(LSTM(32, dropout=0.2, recurrent_dropout=0.3))\n",
        "\n",
        "LSTM_model.add(Dense(64, activation='sigmoid'))\n",
        "LSTM_model.add(Dropout(0.2))\n",
        "LSTM_model.add(Dense(2, activation='softmax'))\n",
        "\n",
        "LSTM_model.compile(loss='categorical_crossentropy', optimizer=Adam(learning_rate=0.0001, decay=1e-6), metrics=['accuracy'])\n",
        "\n",
        "LSTM_model.summary()"
      ],
      "execution_count": null,
      "outputs": [
        {
          "output_type": "stream",
          "name": "stdout",
          "text": [
            "Model: \"sequential_9\"\n",
            "_________________________________________________________________\n",
            " Layer (type)                Output Shape              Param #   \n",
            "=================================================================\n",
            " lstm_14 (LSTM)              (None, 20, 32)            42624     \n",
            "                                                                 \n",
            " lstm_15 (LSTM)              (None, 20, 32)            8320      \n",
            "                                                                 \n",
            " lstm_16 (LSTM)              (None, 20, 32)            8320      \n",
            "                                                                 \n",
            " lstm_17 (LSTM)              (None, 20, 32)            8320      \n",
            "                                                                 \n",
            " lstm_18 (LSTM)              (None, 20, 32)            8320      \n",
            "                                                                 \n",
            " lstm_19 (LSTM)              (None, 32)                8320      \n",
            "                                                                 \n",
            " dense_18 (Dense)            (None, 64)                2112      \n",
            "                                                                 \n",
            " dropout_9 (Dropout)         (None, 64)                0         \n",
            "                                                                 \n",
            " dense_19 (Dense)            (None, 2)                 130       \n",
            "                                                                 \n",
            "=================================================================\n",
            "Total params: 86,466\n",
            "Trainable params: 86,466\n",
            "Non-trainable params: 0\n",
            "_________________________________________________________________\n"
          ]
        }
      ]
    },
    {
      "cell_type": "code",
      "metadata": {
        "colab": {
          "base_uri": "https://localhost:8080/"
        },
        "id": "5236BpnPYlIb",
        "outputId": "bd18f1a8-a7d9-489c-a4cd-ae1de55beed6"
      },
      "source": [
        "history = LSTM_model.fit(x_train[:2000], y_train[:2000], batch_size=batch_size, shuffle=True, epochs=no_epochs, validation_data=(x_train[2000:], y_train[2000:]))"
      ],
      "execution_count": null,
      "outputs": [
        {
          "output_type": "stream",
          "name": "stdout",
          "text": [
            "Epoch 1/50\n",
            "16/16 [==============================] - 25s 373ms/step - loss: 0.8560 - accuracy: 0.3740 - val_loss: 0.8077 - val_accuracy: 0.3390\n",
            "Epoch 2/50\n",
            "16/16 [==============================] - 4s 255ms/step - loss: 0.8208 - accuracy: 0.3980 - val_loss: 0.7750 - val_accuracy: 0.3390\n",
            "Epoch 3/50\n",
            "16/16 [==============================] - 4s 256ms/step - loss: 0.7859 - accuracy: 0.4305 - val_loss: 0.7426 - val_accuracy: 0.3390\n",
            "Epoch 4/50\n",
            "16/16 [==============================] - 4s 257ms/step - loss: 0.7590 - accuracy: 0.4440 - val_loss: 0.7063 - val_accuracy: 0.3390\n",
            "Epoch 5/50\n",
            "16/16 [==============================] - 4s 246ms/step - loss: 0.7265 - accuracy: 0.4985 - val_loss: 0.6614 - val_accuracy: 0.6610\n",
            "Epoch 6/50\n",
            "16/16 [==============================] - 4s 267ms/step - loss: 0.6700 - accuracy: 0.6040 - val_loss: 0.6400 - val_accuracy: 0.6610\n",
            "Epoch 7/50\n",
            "16/16 [==============================] - 4s 281ms/step - loss: 0.6635 - accuracy: 0.6460 - val_loss: 0.6425 - val_accuracy: 0.6610\n",
            "Epoch 8/50\n",
            "16/16 [==============================] - 4s 270ms/step - loss: 0.6537 - accuracy: 0.6470 - val_loss: 0.6371 - val_accuracy: 0.6610\n",
            "Epoch 9/50\n",
            "16/16 [==============================] - 4s 251ms/step - loss: 0.6519 - accuracy: 0.6545 - val_loss: 0.6324 - val_accuracy: 0.6610\n",
            "Epoch 10/50\n",
            "16/16 [==============================] - 5s 310ms/step - loss: 0.6400 - accuracy: 0.6660 - val_loss: 0.6257 - val_accuracy: 0.6610\n",
            "Epoch 11/50\n",
            "16/16 [==============================] - 4s 248ms/step - loss: 0.6342 - accuracy: 0.6700 - val_loss: 0.6111 - val_accuracy: 0.6610\n",
            "Epoch 12/50\n",
            "16/16 [==============================] - 4s 250ms/step - loss: 0.6149 - accuracy: 0.6700 - val_loss: 0.5835 - val_accuracy: 0.6610\n",
            "Epoch 13/50\n",
            "16/16 [==============================] - 4s 249ms/step - loss: 0.5854 - accuracy: 0.6915 - val_loss: 0.5395 - val_accuracy: 0.7132\n",
            "Epoch 14/50\n",
            "16/16 [==============================] - 4s 250ms/step - loss: 0.5355 - accuracy: 0.7290 - val_loss: 0.5018 - val_accuracy: 0.7705\n",
            "Epoch 15/50\n",
            "16/16 [==============================] - 4s 251ms/step - loss: 0.5083 - accuracy: 0.7410 - val_loss: 0.4836 - val_accuracy: 0.7757\n",
            "Epoch 16/50\n",
            "16/16 [==============================] - 4s 250ms/step - loss: 0.5000 - accuracy: 0.7535 - val_loss: 0.4757 - val_accuracy: 0.7888\n",
            "Epoch 17/50\n",
            "16/16 [==============================] - 4s 256ms/step - loss: 0.4852 - accuracy: 0.7565 - val_loss: 0.4711 - val_accuracy: 0.7862\n",
            "Epoch 18/50\n",
            "16/16 [==============================] - 4s 254ms/step - loss: 0.4693 - accuracy: 0.7710 - val_loss: 0.4673 - val_accuracy: 0.7875\n",
            "Epoch 19/50\n",
            "16/16 [==============================] - 4s 250ms/step - loss: 0.4630 - accuracy: 0.7750 - val_loss: 0.4629 - val_accuracy: 0.7914\n",
            "Epoch 20/50\n",
            "16/16 [==============================] - 4s 251ms/step - loss: 0.4611 - accuracy: 0.7735 - val_loss: 0.4601 - val_accuracy: 0.7888\n",
            "Epoch 21/50\n",
            "16/16 [==============================] - 4s 254ms/step - loss: 0.4544 - accuracy: 0.7825 - val_loss: 0.4565 - val_accuracy: 0.7914\n",
            "Epoch 22/50\n",
            "16/16 [==============================] - 4s 255ms/step - loss: 0.4518 - accuracy: 0.7875 - val_loss: 0.4525 - val_accuracy: 0.7914\n",
            "Epoch 23/50\n",
            "16/16 [==============================] - 4s 249ms/step - loss: 0.4495 - accuracy: 0.7940 - val_loss: 0.4488 - val_accuracy: 0.7940\n",
            "Epoch 24/50\n",
            "16/16 [==============================] - 4s 260ms/step - loss: 0.4335 - accuracy: 0.8060 - val_loss: 0.4470 - val_accuracy: 0.7966\n",
            "Epoch 25/50\n",
            "16/16 [==============================] - 4s 251ms/step - loss: 0.4389 - accuracy: 0.8055 - val_loss: 0.4432 - val_accuracy: 0.7992\n",
            "Epoch 26/50\n",
            "16/16 [==============================] - 4s 266ms/step - loss: 0.4300 - accuracy: 0.8135 - val_loss: 0.4419 - val_accuracy: 0.8057\n",
            "Epoch 27/50\n",
            "16/16 [==============================] - 4s 253ms/step - loss: 0.4196 - accuracy: 0.8125 - val_loss: 0.4391 - val_accuracy: 0.7914\n",
            "Epoch 28/50\n",
            "16/16 [==============================] - 4s 260ms/step - loss: 0.4277 - accuracy: 0.8040 - val_loss: 0.4400 - val_accuracy: 0.8057\n",
            "Epoch 29/50\n",
            "16/16 [==============================] - 4s 251ms/step - loss: 0.4340 - accuracy: 0.8035 - val_loss: 0.4342 - val_accuracy: 0.8044\n",
            "Epoch 30/50\n",
            "16/16 [==============================] - 4s 254ms/step - loss: 0.4162 - accuracy: 0.8150 - val_loss: 0.4336 - val_accuracy: 0.8083\n",
            "Epoch 31/50\n",
            "16/16 [==============================] - 4s 255ms/step - loss: 0.4250 - accuracy: 0.8065 - val_loss: 0.4318 - val_accuracy: 0.7914\n",
            "Epoch 32/50\n",
            "16/16 [==============================] - 4s 276ms/step - loss: 0.4164 - accuracy: 0.8140 - val_loss: 0.4322 - val_accuracy: 0.8096\n",
            "Epoch 33/50\n",
            "16/16 [==============================] - 4s 278ms/step - loss: 0.4138 - accuracy: 0.8130 - val_loss: 0.4258 - val_accuracy: 0.7953\n",
            "Epoch 34/50\n",
            "16/16 [==============================] - 4s 254ms/step - loss: 0.3992 - accuracy: 0.8260 - val_loss: 0.4262 - val_accuracy: 0.8110\n",
            "Epoch 35/50\n",
            "16/16 [==============================] - 4s 258ms/step - loss: 0.3942 - accuracy: 0.8305 - val_loss: 0.4207 - val_accuracy: 0.8057\n",
            "Epoch 36/50\n",
            "16/16 [==============================] - 4s 256ms/step - loss: 0.4069 - accuracy: 0.8180 - val_loss: 0.4196 - val_accuracy: 0.8083\n",
            "Epoch 37/50\n",
            "16/16 [==============================] - 4s 255ms/step - loss: 0.3976 - accuracy: 0.8260 - val_loss: 0.4171 - val_accuracy: 0.8123\n",
            "Epoch 38/50\n",
            "16/16 [==============================] - 4s 249ms/step - loss: 0.3984 - accuracy: 0.8215 - val_loss: 0.4158 - val_accuracy: 0.8123\n",
            "Epoch 39/50\n",
            "16/16 [==============================] - 4s 249ms/step - loss: 0.3905 - accuracy: 0.8305 - val_loss: 0.4180 - val_accuracy: 0.8110\n",
            "Epoch 40/50\n",
            "16/16 [==============================] - 4s 248ms/step - loss: 0.3981 - accuracy: 0.8320 - val_loss: 0.4119 - val_accuracy: 0.8110\n",
            "Epoch 41/50\n",
            "16/16 [==============================] - 4s 261ms/step - loss: 0.3966 - accuracy: 0.8260 - val_loss: 0.4100 - val_accuracy: 0.8096\n",
            "Epoch 42/50\n",
            "16/16 [==============================] - 4s 254ms/step - loss: 0.3825 - accuracy: 0.8355 - val_loss: 0.4167 - val_accuracy: 0.8136\n",
            "Epoch 43/50\n",
            "16/16 [==============================] - 4s 248ms/step - loss: 0.3801 - accuracy: 0.8320 - val_loss: 0.4088 - val_accuracy: 0.8149\n",
            "Epoch 44/50\n",
            "16/16 [==============================] - 4s 246ms/step - loss: 0.3868 - accuracy: 0.8320 - val_loss: 0.4104 - val_accuracy: 0.8201\n",
            "Epoch 45/50\n",
            "16/16 [==============================] - 4s 249ms/step - loss: 0.3880 - accuracy: 0.8355 - val_loss: 0.4057 - val_accuracy: 0.8188\n",
            "Epoch 46/50\n",
            "16/16 [==============================] - 4s 254ms/step - loss: 0.3809 - accuracy: 0.8350 - val_loss: 0.4130 - val_accuracy: 0.8149\n",
            "Epoch 47/50\n",
            "16/16 [==============================] - 4s 252ms/step - loss: 0.3822 - accuracy: 0.8395 - val_loss: 0.4064 - val_accuracy: 0.8162\n",
            "Epoch 48/50\n",
            "16/16 [==============================] - 4s 245ms/step - loss: 0.3834 - accuracy: 0.8340 - val_loss: 0.4012 - val_accuracy: 0.8253\n",
            "Epoch 49/50\n",
            "16/16 [==============================] - 4s 249ms/step - loss: 0.3718 - accuracy: 0.8455 - val_loss: 0.4015 - val_accuracy: 0.8201\n",
            "Epoch 50/50\n",
            "16/16 [==============================] - 4s 259ms/step - loss: 0.3805 - accuracy: 0.8360 - val_loss: 0.4005 - val_accuracy: 0.8227\n"
          ]
        }
      ]
    },
    {
      "cell_type": "code",
      "metadata": {
        "colab": {
          "base_uri": "https://localhost:8080/",
          "height": 683
        },
        "id": "pZgAr78zewoH",
        "outputId": "7aa356a8-d6ea-42ae-b4c3-cc21b8149055"
      },
      "source": [
        "# summarize history for accuracy\n",
        "plt.figure(figsize=(15,5))\n",
        "plt.plot(history.history['accuracy'], color='mediumvioletred')\n",
        "plt.plot(history.history['val_accuracy'], color='greenyellow')\n",
        "plt.title('Model Accuracy')\n",
        "plt.ylabel('Accuracy')\n",
        "plt.xlabel('Epoch')\n",
        "plt.legend(['train', 'test'], loc='upper left')\n",
        "plt.show()\n",
        "# summarize history for loss\n",
        "plt.figure(figsize=(15,5))\n",
        "plt.plot(history.history['loss'], color='mediumvioletred')\n",
        "plt.plot(history.history['val_loss'], color='greenyellow')\n",
        "plt.title('Model Loss')\n",
        "plt.ylabel('Loss')\n",
        "plt.xlabel('Epoch')\n",
        "plt.legend(['train', 'test'], loc='upper right')\n",
        "plt.show()"
      ],
      "execution_count": null,
      "outputs": [
        {
          "output_type": "display_data",
          "data": {
            "text/plain": [
              "<Figure size 1080x360 with 1 Axes>"
            ],
            "image/png": "[encoded data removed]"
          },
          "metadata": {
            "needs_background": "light"
          }
        },
        {
          "output_type": "display_data",
          "data": {
            "text/plain": [
              "<Figure size 1080x360 with 1 Axes>"
            ],
            "image/png": "[encoded data removed]"
          },
          "metadata": {
            "needs_background": "light"
          }
        }
      ]
    },
    {
      "cell_type": "code",
      "metadata": {
        "colab": {
          "base_uri": "https://localhost:8080/"
        },
        "id": "6uGnl-qhYlIc",
        "outputId": "152178fd-d965-4a3b-e7df-d616b8916ff4"
      },
      "source": [
        "LSTM_model.evaluate(x=x_test, y=y_test, batch_size=32, verbose=1)"
      ],
      "execution_count": null,
      "outputs": [
        {
          "output_type": "stream",
          "name": "stdout",
          "text": [
            "22/22 [==============================] - 1s 22ms/step - loss: 0.3774 - accuracy: 0.8177\n"
          ]
        },
        {
          "output_type": "execute_result",
          "data": {
            "text/plain": [
              "[0.377444863319397, 0.8176555633544922]"
            ]
          },
          "metadata": {},
          "execution_count": 83
        }
      ]
    },
    {
      "cell_type": "code",
      "metadata": {
        "id": "3UNz9ddIez9m"
      },
      "source": [
        "LSTM_model.save('LSTM6.h5')"
      ],
      "execution_count": null,
      "outputs": []
    },
    {
      "cell_type": "markdown",
      "metadata": {
        "id": "C-DFiksXpnpV"
      },
      "source": [
        "## BiLSTM"
      ]
    },
    {
      "cell_type": "code",
      "metadata": {
        "colab": {
          "base_uri": "https://localhost:8080/"
        },
        "id": "EPpTRJpIpueD",
        "outputId": "3ce1593f-cbca-43ea-f0bd-97e75fcc29d8"
      },
      "source": [
        "BiLSTM_model = Sequential()\n",
        "BiLSTM_model.add(Bidirectional(LSTM(32, dropout=0.2, recurrent_dropout=0.3), input_shape=(max_no_tokens, vector_size)))\n",
        "\n",
        "BiLSTM_model.add(Dense(64, activation='sigmoid'))\n",
        "BiLSTM_model.add(Dropout(0.2))\n",
        "BiLSTM_model.add(Dense(2, activation='softmax'))\n",
        "\n",
        "BiLSTM_model.compile(loss='categorical_crossentropy', optimizer=Adam(learning_rate=0.0001, decay=1e-6), metrics=['accuracy'])\n",
        "\n",
        "BiLSTM_model.summary()"
      ],
      "execution_count": null,
      "outputs": [
        {
          "output_type": "stream",
          "name": "stdout",
          "text": [
            "Model: \"sequential_10\"\n",
            "_________________________________________________________________\n",
            " Layer (type)                Output Shape              Param #   \n",
            "=================================================================\n",
            " bidirectional (Bidirectiona  (None, 64)               85248     \n",
            " l)                                                              \n",
            "                                                                 \n",
            " dense_20 (Dense)            (None, 64)                4160      \n",
            "                                                                 \n",
            " dropout_10 (Dropout)        (None, 64)                0         \n",
            "                                                                 \n",
            " dense_21 (Dense)            (None, 2)                 130       \n",
            "                                                                 \n",
            "=================================================================\n",
            "Total params: 89,538\n",
            "Trainable params: 89,538\n",
            "Non-trainable params: 0\n",
            "_________________________________________________________________\n"
          ]
        }
      ]
    },
    {
      "cell_type": "code",
      "metadata": {
        "colab": {
          "base_uri": "https://localhost:8080/"
        },
        "id": "v9oPJe2gr9ef",
        "outputId": "0449c476-066a-444c-e97a-48e42ecd5ec5"
      },
      "source": [
        "history = BiLSTM_model.fit(x_train[:2000], y_train[:2000], batch_size=batch_size, shuffle=True, epochs=no_epochs, validation_data=(x_train[2000:], y_train[2000:]))"
      ],
      "execution_count": null,
      "outputs": [
        {
          "output_type": "stream",
          "name": "stdout",
          "text": [
            "Epoch 1/50\n",
            "16/16 [==============================] - 10s 218ms/step - loss: 0.9366 - accuracy: 0.3425 - val_loss: 0.8831 - val_accuracy: 0.3390\n",
            "Epoch 2/50\n",
            "16/16 [==============================] - 3s 159ms/step - loss: 0.8924 - accuracy: 0.3470 - val_loss: 0.8370 - val_accuracy: 0.3390\n",
            "Epoch 3/50\n",
            "16/16 [==============================] - 2s 154ms/step - loss: 0.8378 - accuracy: 0.3615 - val_loss: 0.7939 - val_accuracy: 0.3390\n",
            "Epoch 4/50\n",
            "16/16 [==============================] - 2s 150ms/step - loss: 0.7959 - accuracy: 0.3880 - val_loss: 0.7525 - val_accuracy: 0.3390\n",
            "Epoch 5/50\n",
            "16/16 [==============================] - 2s 149ms/step - loss: 0.7541 - accuracy: 0.4260 - val_loss: 0.7131 - val_accuracy: 0.3390\n",
            "Epoch 6/50\n",
            "16/16 [==============================] - 2s 151ms/step - loss: 0.7180 - accuracy: 0.4960 - val_loss: 0.6769 - val_accuracy: 0.6402\n",
            "Epoch 7/50\n",
            "16/16 [==============================] - 2s 148ms/step - loss: 0.6735 - accuracy: 0.5915 - val_loss: 0.6473 - val_accuracy: 0.6506\n",
            "Epoch 8/50\n",
            "16/16 [==============================] - 2s 151ms/step - loss: 0.6537 - accuracy: 0.6335 - val_loss: 0.6313 - val_accuracy: 0.6623\n",
            "Epoch 9/50\n",
            "16/16 [==============================] - 2s 151ms/step - loss: 0.6389 - accuracy: 0.6575 - val_loss: 0.6265 - val_accuracy: 0.6610\n",
            "Epoch 10/50\n",
            "16/16 [==============================] - 2s 147ms/step - loss: 0.6314 - accuracy: 0.6630 - val_loss: 0.6236 - val_accuracy: 0.6610\n",
            "Epoch 11/50\n",
            "16/16 [==============================] - 2s 154ms/step - loss: 0.6254 - accuracy: 0.6640 - val_loss: 0.6191 - val_accuracy: 0.6610\n",
            "Epoch 12/50\n",
            "16/16 [==============================] - 2s 152ms/step - loss: 0.6314 - accuracy: 0.6615 - val_loss: 0.6135 - val_accuracy: 0.6610\n",
            "Epoch 13/50\n",
            "16/16 [==============================] - 2s 153ms/step - loss: 0.6160 - accuracy: 0.6770 - val_loss: 0.6072 - val_accuracy: 0.6610\n",
            "Epoch 14/50\n",
            "16/16 [==============================] - 2s 152ms/step - loss: 0.6124 - accuracy: 0.6735 - val_loss: 0.6002 - val_accuracy: 0.6610\n",
            "Epoch 15/50\n",
            "16/16 [==============================] - 2s 153ms/step - loss: 0.5955 - accuracy: 0.6770 - val_loss: 0.5913 - val_accuracy: 0.6636\n",
            "Epoch 16/50\n",
            "16/16 [==============================] - 2s 155ms/step - loss: 0.5922 - accuracy: 0.6835 - val_loss: 0.5805 - val_accuracy: 0.6662\n",
            "Epoch 17/50\n",
            "16/16 [==============================] - 2s 153ms/step - loss: 0.5832 - accuracy: 0.6780 - val_loss: 0.5651 - val_accuracy: 0.6688\n",
            "Epoch 18/50\n",
            "16/16 [==============================] - 3s 158ms/step - loss: 0.5662 - accuracy: 0.6970 - val_loss: 0.5465 - val_accuracy: 0.6754\n",
            "Epoch 19/50\n",
            "16/16 [==============================] - 2s 148ms/step - loss: 0.5438 - accuracy: 0.7180 - val_loss: 0.5230 - val_accuracy: 0.7132\n",
            "Epoch 20/50\n",
            "16/16 [==============================] - 2s 155ms/step - loss: 0.5190 - accuracy: 0.7370 - val_loss: 0.4970 - val_accuracy: 0.7510\n",
            "Epoch 21/50\n",
            "16/16 [==============================] - 3s 158ms/step - loss: 0.5028 - accuracy: 0.7475 - val_loss: 0.4720 - val_accuracy: 0.7888\n",
            "Epoch 22/50\n",
            "16/16 [==============================] - 3s 162ms/step - loss: 0.4700 - accuracy: 0.7810 - val_loss: 0.4473 - val_accuracy: 0.8214\n",
            "Epoch 23/50\n",
            "16/16 [==============================] - 3s 163ms/step - loss: 0.4538 - accuracy: 0.7835 - val_loss: 0.4287 - val_accuracy: 0.8227\n",
            "Epoch 24/50\n",
            "16/16 [==============================] - 3s 164ms/step - loss: 0.4319 - accuracy: 0.8130 - val_loss: 0.4138 - val_accuracy: 0.8253\n",
            "Epoch 25/50\n",
            "16/16 [==============================] - 3s 166ms/step - loss: 0.4174 - accuracy: 0.8145 - val_loss: 0.4046 - val_accuracy: 0.8279\n",
            "Epoch 26/50\n",
            "16/16 [==============================] - 3s 160ms/step - loss: 0.4129 - accuracy: 0.8210 - val_loss: 0.3941 - val_accuracy: 0.8305\n",
            "Epoch 27/50\n",
            "16/16 [==============================] - 3s 163ms/step - loss: 0.3998 - accuracy: 0.8235 - val_loss: 0.3890 - val_accuracy: 0.8266\n",
            "Epoch 28/50\n",
            "16/16 [==============================] - 3s 163ms/step - loss: 0.3947 - accuracy: 0.8295 - val_loss: 0.3838 - val_accuracy: 0.8305\n",
            "Epoch 29/50\n",
            "16/16 [==============================] - 3s 168ms/step - loss: 0.3946 - accuracy: 0.8315 - val_loss: 0.3808 - val_accuracy: 0.8292\n",
            "Epoch 30/50\n",
            "16/16 [==============================] - 3s 167ms/step - loss: 0.3813 - accuracy: 0.8365 - val_loss: 0.3785 - val_accuracy: 0.8279\n",
            "Epoch 31/50\n",
            "16/16 [==============================] - 3s 163ms/step - loss: 0.3834 - accuracy: 0.8345 - val_loss: 0.3778 - val_accuracy: 0.8292\n",
            "Epoch 32/50\n",
            "16/16 [==============================] - 3s 173ms/step - loss: 0.3796 - accuracy: 0.8390 - val_loss: 0.3705 - val_accuracy: 0.8240\n",
            "Epoch 33/50\n",
            "16/16 [==============================] - 3s 166ms/step - loss: 0.3704 - accuracy: 0.8405 - val_loss: 0.3683 - val_accuracy: 0.8279\n",
            "Epoch 34/50\n",
            "16/16 [==============================] - 3s 164ms/step - loss: 0.3691 - accuracy: 0.8425 - val_loss: 0.3667 - val_accuracy: 0.8292\n",
            "Epoch 35/50\n",
            "16/16 [==============================] - 3s 165ms/step - loss: 0.3667 - accuracy: 0.8510 - val_loss: 0.3648 - val_accuracy: 0.8305\n",
            "Epoch 36/50\n",
            "16/16 [==============================] - 3s 163ms/step - loss: 0.3580 - accuracy: 0.8525 - val_loss: 0.3611 - val_accuracy: 0.8305\n",
            "Epoch 37/50\n",
            "16/16 [==============================] - 3s 158ms/step - loss: 0.3532 - accuracy: 0.8505 - val_loss: 0.3609 - val_accuracy: 0.8383\n",
            "Epoch 38/50\n",
            "16/16 [==============================] - 3s 160ms/step - loss: 0.3537 - accuracy: 0.8510 - val_loss: 0.3563 - val_accuracy: 0.8357\n",
            "Epoch 39/50\n",
            "16/16 [==============================] - 3s 160ms/step - loss: 0.3477 - accuracy: 0.8610 - val_loss: 0.3567 - val_accuracy: 0.8422\n",
            "Epoch 40/50\n",
            "16/16 [==============================] - 3s 170ms/step - loss: 0.3486 - accuracy: 0.8520 - val_loss: 0.3529 - val_accuracy: 0.8409\n",
            "Epoch 41/50\n",
            "16/16 [==============================] - 3s 171ms/step - loss: 0.3478 - accuracy: 0.8545 - val_loss: 0.3515 - val_accuracy: 0.8409\n",
            "Epoch 42/50\n",
            "16/16 [==============================] - 3s 158ms/step - loss: 0.3399 - accuracy: 0.8635 - val_loss: 0.3527 - val_accuracy: 0.8501\n",
            "Epoch 43/50\n",
            "16/16 [==============================] - 2s 156ms/step - loss: 0.3271 - accuracy: 0.8700 - val_loss: 0.3505 - val_accuracy: 0.8462\n",
            "Epoch 44/50\n",
            "16/16 [==============================] - 2s 153ms/step - loss: 0.3352 - accuracy: 0.8635 - val_loss: 0.3470 - val_accuracy: 0.8409\n",
            "Epoch 45/50\n",
            "16/16 [==============================] - 2s 155ms/step - loss: 0.3360 - accuracy: 0.8615 - val_loss: 0.3475 - val_accuracy: 0.8475\n",
            "Epoch 46/50\n",
            "16/16 [==============================] - 2s 152ms/step - loss: 0.3274 - accuracy: 0.8685 - val_loss: 0.3476 - val_accuracy: 0.8501\n",
            "Epoch 47/50\n",
            "16/16 [==============================] - 2s 153ms/step - loss: 0.3291 - accuracy: 0.8660 - val_loss: 0.3459 - val_accuracy: 0.8462\n",
            "Epoch 48/50\n",
            "16/16 [==============================] - 3s 159ms/step - loss: 0.3186 - accuracy: 0.8715 - val_loss: 0.3438 - val_accuracy: 0.8449\n",
            "Epoch 49/50\n",
            "16/16 [==============================] - 2s 154ms/step - loss: 0.3127 - accuracy: 0.8745 - val_loss: 0.3425 - val_accuracy: 0.8449\n",
            "Epoch 50/50\n",
            "16/16 [==============================] - 2s 150ms/step - loss: 0.3250 - accuracy: 0.8710 - val_loss: 0.3426 - val_accuracy: 0.8514\n"
          ]
        }
      ]
    },
    {
      "cell_type": "code",
      "metadata": {
        "colab": {
          "base_uri": "https://localhost:8080/",
          "height": 683
        },
        "id": "HiyKsL7msq33",
        "outputId": "06dbbf70-a3ea-427f-974b-ad4286e5e188"
      },
      "source": [
        "# summarize history for accuracy\n",
        "plt.figure(figsize=(15,5))\n",
        "plt.plot(history.history['accuracy'], color='plum')\n",
        "plt.plot(history.history['val_accuracy'], color='rebeccapurple')\n",
        "plt.title('Model Accuracy')\n",
        "plt.ylabel('Accuracy')\n",
        "plt.xlabel('Epoch')\n",
        "plt.legend(['train', 'test'], loc='upper left')\n",
        "plt.show()\n",
        "# summarize history for loss\n",
        "plt.figure(figsize=(15,5))\n",
        "plt.plot(history.history['loss'], color='plum')\n",
        "plt.plot(history.history['val_loss'], color='rebeccapurple')\n",
        "plt.title('Model Loss')\n",
        "plt.ylabel('Loss')\n",
        "plt.xlabel('Epoch')\n",
        "plt.legend(['train', 'test'], loc='upper right')\n",
        "plt.show()"
      ],
      "execution_count": null,
      "outputs": [
        {
          "output_type": "display_data",
          "data": {
            "text/plain": [
              "<Figure size 1080x360 with 1 Axes>"
            ],
            "image/png": "[encoded data removed]"
          },
          "metadata": {
            "needs_background": "light"
          }
        },
        {
          "output_type": "display_data",
          "data": {
            "text/plain": [
              "<Figure size 1080x360 with 1 Axes>"
            ],
            "image/png": "[encoded data removed]"
          },
          "metadata": {
            "needs_background": "light"
          }
        }
      ]
    },
    {
      "cell_type": "code",
      "metadata": {
        "colab": {
          "base_uri": "https://localhost:8080/"
        },
        "id": "zZJ0R5his2Hx",
        "outputId": "23a4c0bf-3b31-4d99-a430-9325d3b57d00"
      },
      "source": [
        "BiLSTM_model.evaluate(x=x_test, y=y_test, batch_size=32, verbose=1)"
      ],
      "execution_count": null,
      "outputs": [
        {
          "output_type": "stream",
          "name": "stdout",
          "text": [
            "22/22 [==============================] - 0s 14ms/step - loss: 0.3395 - accuracy: 0.8480\n"
          ]
        },
        {
          "output_type": "execute_result",
          "data": {
            "text/plain": [
              "[0.3395017981529236, 0.8480463027954102]"
            ]
          },
          "metadata": {},
          "execution_count": 88
        }
      ]
    },
    {
      "cell_type": "code",
      "metadata": {
        "id": "_CZHPYlLs2Hz"
      },
      "source": [
        "BiLSTM_model.save('BiLSTM.h5')"
      ],
      "execution_count": null,
      "outputs": []
    },
    {
      "cell_type": "markdown",
      "metadata": {
        "id": "-_P0XoDXVy8k"
      },
      "source": [
        "# **Testing The Model**"
      ]
    },
    {
      "cell_type": "code",
      "metadata": {
        "id": "sCxwVGFw-uK3"
      },
      "source": [
        "BiLSTM = load_model('BiLSTM.h5')"
      ],
      "execution_count": null,
      "outputs": []
    },
    {
      "cell_type": "code",
      "metadata": {
        "id": "RTZ0k6mnAcRj"
      },
      "source": [
        "# Building FastText Model\n",
        "%time\n",
        "model = fasttext.load_model(\"/content/cc.fa.300.bin\")"
      ],
      "execution_count": null,
      "outputs": []
    },
    {
      "cell_type": "code",
      "metadata": {
        "id": "ebXrwVwhy43r"
      },
      "source": [
        "def SentimentAnalysis(Sentence):\n",
        "  _normalizer = hazm.Normalizer()\n",
        "  normalized_text = _normalizer.normalize(Sentence)\n",
        "  tokenized_text = hazm.word_tokenize(normalized_text)\n",
        "  X = np.zeros((1,max_no_tokens,vector_size),dtype=K.floatx())\n",
        "  for m in range(0,len(tokenized_text)):\n",
        "    if m >= max_no_tokens:\n",
        "      break\n",
        "    if tokenized_text[m] not in model.words:\n",
        "      continue\n",
        "    X[0, m, :] = model.get_word_vector(tokenized_text[m])\n",
        "  result = BiLSTM.predict(X)\n",
        "  positive_percentage = str(int(result[0][0]*100))+\"%\"\n",
        "  negative_percentage = str(int(result[0][1]*100))+\"%\"\n",
        "  if (int(result[0][1]*100) > 50):\n",
        "    print(\"The sentiment of this sentence is\",negative_percentage, \"negative &\", positive_percentage,\"positive!\")     \n",
        "  else:\n",
        "    print(\"The sentiment of this sentence is\",positive_percentage, \"positive &\", negative_percentage,\"negative!\")   "
      ],
      "execution_count": null,
      "outputs": []
    },
    {
      "cell_type": "code",
      "source": [
        "def SentimentAnalysis(Sentence, vector_size = 300, max_no_tokens = 20):\n",
        "  _normalizer = hazm.Normalizer()\n",
        "  normalized_text = _normalizer.normalize(Sentence)\n",
        "  tokenized_text = hazm.word_tokenize(normalized_text)\n",
        "  X = np.zeros((1,max_no_tokens,vector_size),dtype=K.floatx())\n",
        "  for m in range(0,len(tokenized_text)):\n",
        "    if m >= max_no_tokens:\n",
        "      break\n",
        "    if tokenized_text[m] not in model.words:\n",
        "      continue\n",
        "    X[0, m, :] = model.get_word_vector(tokenized_text[m])\n",
        "  result = BiLSTM.predict(X)\n",
        "  positive_percentage = str(int(result[0][0]*100))+\"%\"\n",
        "  negative_percentage = str(int(result[0][1]*100))+\"%\"\n",
        "  if (int(result[0][1]*100) > 50):\n",
        "    print(\"The sentiment of this sentence is\",negative_percentage, \"negative &\", positive_percentage,\"positive!\")     \n",
        "  else:\n",
        "    print(\"The sentiment of this sentence is\",positive_percentage, \"positive &\", negative_percentage,\"negative!\")  "
      ],
      "metadata": {
        "id": "Ibpz7eKlAFBR"
      },
      "execution_count": null,
      "outputs": []
    },
    {
      "cell_type": "code",
      "metadata": {
        "colab": {
          "base_uri": "https://localhost:8080/"
        },
        "id": "r_GZktbQ4su2",
        "outputId": "5de82176-4e83-4cd1-c04b-3b55a9c4cf66"
      },
      "source": [
        "SentimentAnalysis(\"خیلی همه چیز کثیف بود و رفتار کارکنان واقعا بد بود.\")"
      ],
      "execution_count": null,
      "outputs": [
        {
          "output_type": "stream",
          "name": "stdout",
          "text": [
            "The sentiment of this sentence is 61% negative & 38% positive!\n"
          ]
        }
      ]
    },
    {
      "cell_type": "code",
      "metadata": {
        "colab": {
          "base_uri": "https://localhost:8080/"
        },
        "id": "-CubdOK65_Ti",
        "outputId": "6ef4efb3-3ad3-4597-bc46-42672febfd7d"
      },
      "source": [
        "SentimentAnalysis(\"فوق العاده بود، دلم می خواد بازم برم\")"
      ],
      "execution_count": null,
      "outputs": [
        {
          "output_type": "stream",
          "name": "stdout",
          "text": [
            "The sentiment of this sentence is 84% positive & 15% negative!\n"
          ]
        }
      ]
    },
    {
      "cell_type": "code",
      "metadata": {
        "colab": {
          "base_uri": "https://localhost:8080/"
        },
        "id": "IVr6dWh16ExY",
        "outputId": "2dcc715b-231d-468e-b846-8c8d0c9a1485"
      },
      "source": [
        "SentimentAnalysis(\"نه خوب بود و نه بد\")"
      ],
      "execution_count": null,
      "outputs": [
        {
          "output_type": "stream",
          "name": "stdout",
          "text": [
            "The sentiment of this sentence is 93% negative & 6% positive!\n"
          ]
        }
      ]
    },
    {
      "cell_type": "code",
      "metadata": {
        "colab": {
          "base_uri": "https://localhost:8080/"
        },
        "id": "rFOupXma6Jk_",
        "outputId": "de1310dc-890c-4181-f1d5-1cbed92b4da6"
      },
      "source": [
        "SentimentAnalysis(\"شاید برم باز\")"
      ],
      "execution_count": null,
      "outputs": [
        {
          "output_type": "stream",
          "name": "stdout",
          "text": [
            "The sentiment of this sentence is 52% positive & 47% negative!\n"
          ]
        }
      ]
    },
    {
      "cell_type": "code",
      "metadata": {
        "colab": {
          "base_uri": "https://localhost:8080/"
        },
        "id": "EfolEiPO_EZs",
        "outputId": "6d9e52c8-d8ea-4724-de7c-a91baa637db8"
      },
      "source": [
        "SentimentAnalysis(\"عالی بود، حتما میرم باز\")"
      ],
      "execution_count": null,
      "outputs": [
        {
          "output_type": "stream",
          "name": "stdout",
          "text": [
            "The sentiment of this sentence is 81% positive & 18% negative!\n"
          ]
        }
      ]
    },
    {
      "cell_type": "code",
      "metadata": {
        "colab": {
          "base_uri": "https://localhost:8080/"
        },
        "id": "KayZdCqM_hkS",
        "outputId": "b5a3328f-c25a-49d4-82e5-047db5f7855c"
      },
      "source": [
        "SentimentAnalysis(\"نزدیک حرمه\")"
      ],
      "execution_count": null,
      "outputs": [
        {
          "output_type": "stream",
          "name": "stdout",
          "text": [
            "The sentiment of this sentence is 71% positive & 28% negative!\n"
          ]
        }
      ]
    },
    {
      "cell_type": "code",
      "source": [
        "SentimentAnalysis(\"نزدیک پاساژه\")"
      ],
      "metadata": {
        "colab": {
          "base_uri": "https://localhost:8080/"
        },
        "id": "22j0MjCXfYZX",
        "outputId": "1cff6745-595f-47fa-f4eb-445c52a360fd"
      },
      "execution_count": null,
      "outputs": [
        {
          "output_type": "stream",
          "name": "stdout",
          "text": [
            "The sentiment of this sentence is 70% positive & 29% negative!\n"
          ]
        }
      ]
    },
    {
      "cell_type": "code",
      "source": [
        "SentimentAnalysis(\"نزدیک دریاست\")"
      ],
      "metadata": {
        "colab": {
          "base_uri": "https://localhost:8080/"
        },
        "id": "PDGIFaWRfcYi",
        "outputId": "810c6211-1ea9-4ada-8bed-fc2c54a1a51f"
      },
      "execution_count": null,
      "outputs": [
        {
          "output_type": "stream",
          "name": "stdout",
          "text": [
            "The sentiment of this sentence is 70% positive & 29% negative!\n"
          ]
        }
      ]
    },
    {
      "cell_type": "code",
      "metadata": {
        "colab": {
          "base_uri": "https://localhost:8080/"
        },
        "id": "GKiwJjc5_PU9",
        "outputId": "1009701f-27ec-4929-d8db-ea9e3156a187"
      },
      "source": [
        "SentimentAnalysis(\"به دریا نزدیک نبود\")"
      ],
      "execution_count": null,
      "outputs": [
        {
          "output_type": "stream",
          "name": "stdout",
          "text": [
            "The sentiment of this sentence is 54% positive & 45% negative!\n"
          ]
        }
      ]
    },
    {
      "cell_type": "code",
      "source": [
        "SentimentAnalysis(\"به دریا نزدیک نبود و این یه ویژگی خوب به حساب نمیاد\")"
      ],
      "metadata": {
        "colab": {
          "base_uri": "https://localhost:8080/"
        },
        "id": "DxmDeU2if8p3",
        "outputId": "35ec431c-84b2-42fa-a683-1ca1f2123da5"
      },
      "execution_count": null,
      "outputs": [
        {
          "output_type": "stream",
          "name": "stdout",
          "text": [
            "The sentiment of this sentence is 85% negative & 14% positive!\n"
          ]
        }
      ]
    }
  ],
  "metadata": {
    "colab": {
      "name": "Sentiment Analysis - SBU NLP Lab (1401).ipynb",
      "provenance": [],
      "collapsed_sections": [
        "xrPMGfaSr9mU",
        "biritBdgPqnt",
        "oB3PY5fePw_Z",
        "tx_fbYGnobyK",
        "Wav38304Q0oU",
        "Y4eRtqh0Q6pS",
        "FbJU0T0ORgqy",
        "oFEGMtqYS1bI",
        "yZgnrUwISnFs",
        "quU1y07UTKlr",
        "-EMu0NJYUhpM",
        "TiUCnVh0UnOL",
        "gY2ANAAFUzjt",
        "eOwMXh2QfKhB",
        "tpUHObjofen5",
        "5u2i0AmXD4F_",
        "iXpx2rWfG_rH",
        "ZVUIe99nVpW0",
        "0qakpDpTVxPL",
        "C-DFiksXpnpV",
        "-_P0XoDXVy8k"
      ]
    },
    "gpuClass": "standard",
    "kernelspec": {
      "display_name": "Python 3",
      "name": "python3"
    },
    "language_info": {
      "name": "python"
    }
  },
  "nbformat": 4,
  "nbformat_minor": 0
}